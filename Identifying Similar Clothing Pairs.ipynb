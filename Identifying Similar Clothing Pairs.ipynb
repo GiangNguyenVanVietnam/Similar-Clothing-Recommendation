{
 "cells": [
  {
   "cell_type": "code",
   "execution_count": 1,
   "metadata": {},
   "outputs": [
    {
     "name": "stderr",
     "output_type": "stream",
     "text": [
      "C:\\Anaconda2\\lib\\site-packages\\sklearn\\lda.py:4: DeprecationWarning: lda.LDA has been moved to discriminant_analysis.LinearDiscriminantAnalysis in 0.17 and will be removed in 0.19\n",
      "  \"in 0.17 and will be removed in 0.19\", DeprecationWarning)\n"
     ]
    }
   ],
   "source": [
    "import pandas as pd\n",
    "import numpy as np\n",
    "import math\n",
    "import os\n",
    "import tqdm\n",
    "import random\n",
    "from scipy.spatial.distance import *\n",
    "import matplotlib.pyplot as plt\n",
    "import seaborn as sns\n",
    "%matplotlib inline\n",
    "\n",
    "from sklearn.linear_model import LogisticRegression\n",
    "from sklearn.ensemble import RandomForestClassifier, GradientBoostingClassifier\n",
    "from sklearn.ensemble import AdaBoostClassifier\n",
    "from sklearn.svm import SVC\n",
    "from sklearn.naive_bayes import GaussianNB\n",
    "from sklearn.neighbors import KNeighborsClassifier\n",
    "\n",
    "from sklearn.grid_search import RandomizedSearchCV, GridSearchCV\n",
    "from sklearn.feature_selection import RFECV\n",
    "from sklearn.cross_validation import train_test_split, cross_val_score\n",
    "from sklearn.learning_curve import learning_curve\n",
    "from sklearn.metrics import classification_report, precision_recall_curve, average_precision_score \n",
    "from sklearn.metrics import f1_score, auc, recall_score, precision_score, r2_score, mean_squared_error, mean_absolute_error\n",
    "\n",
    "import os\n",
    "mingw_path = 'C:\\\\Program Files\\\\mingw-w64\\\\x86_64-6.2.0-posix-seh-rt_v5-rev1\\\\mingw64\\\\bin'\n",
    "os.environ['PATH'] = mingw_path + ';' + os.environ['PATH']\n",
    "import xgboost as xgb"
   ]
  },
  {
   "cell_type": "markdown",
   "metadata": {},
   "source": [
    "## Get word vectors"
   ]
  },
  {
   "cell_type": "code",
   "execution_count": 4,
   "metadata": {
    "collapsed": true
   },
   "outputs": [],
   "source": [
    "os.chdir('D:\\workspace\\preprocess\\competition_finder\\data_with_ID')"
   ]
  },
  {
   "cell_type": "code",
   "execution_count": 5,
   "metadata": {
    "collapsed": true
   },
   "outputs": [],
   "source": [
    "SIZE = 100\n",
    "# Word2Vec\n",
    "wordID_file = open('wordid')\n",
    "wordID = wordID_file.read().split('\\n')[0:100000]\n",
    "wordID = pd.Series(wordID).str.split('\\t') # Row: 的   1\n",
    "# 去除多餘index 留下文字\n",
    "wordID = list(wordID.str[0])\n",
    "wordID_file.close()\n",
    "wordID = [word.decode('utf-8') for word in wordID]\n",
    "\n",
    "word_vectors_file = open('WordVectors.txt')\n",
    "word_vectors = word_vectors_file.read().split('\\n')[:100000]\n",
    "word_vectors_file.close()\n",
    "word_vectors = [pd.Series(vec.split('\\t')) for vec in word_vectors]\n",
    "word_vectors = [x.astype(float) for x in word_vectors]"
   ]
  },
  {
   "cell_type": "markdown",
   "metadata": {},
   "source": [
    "## Feature Extraction"
   ]
  },
  {
   "cell_type": "code",
   "execution_count": 6,
   "metadata": {
    "collapsed": true
   },
   "outputs": [],
   "source": [
    "def get_column_word_vector(columns_list, word_vectors, wordID, word_vector_dict, size=SIZE):\n",
    "    \"\"\"\n",
    "    遍例欄名,取出相應word vector,若無則賦值0向量,可保證之後index時不出error\n",
    "    \"\"\"\n",
    "    mew_word_vector_dict = word_vector_dict.copy()\n",
    "    for i, col in enumerate(columns_list):\n",
    "        \n",
    "        if col not in word_vector_dict.keys():\n",
    "            try:\n",
    "                mew_word_vector_dict[col] = list(word_vectors[wordID.index(col)])\n",
    "            except:\n",
    "                mew_word_vector_dict[col] = np.zeros(size)\n",
    "                pass\n",
    "    return mew_word_vector_dict"
   ]
  },
  {
   "cell_type": "code",
   "execution_count": 7,
   "metadata": {
    "collapsed": true
   },
   "outputs": [],
   "source": [
    "def all_average_word_vector(row, column_word_vector_dict, full_column_list, size=SIZE):\n",
    "    \"\"\"\n",
    "    取所有单字的word vector平均\n",
    "    \n",
    "    Params:\n",
    "        row: attributes of an item, Pandas Series\n",
    "        column_word_vector_dict: the dictionary stores the corresponding word vector of words that appear in columns\n",
    "        column_list: list of words in columns\n",
    "        \n",
    "    Return:\n",
    "        row: row with averaged word vectors appended\n",
    "    \"\"\"\n",
    "    # Double Check whether we skipped the ItemID in column_list or not \n",
    "    if len(full_column_list) == len(row):\n",
    "        return 'Use df.columns[1:] to skip ItemID'\n",
    "\n",
    "    # filter the cols that has 0 value, exclude ItemID\n",
    "    full_column_list = full_column_list[row[2:] != 0]\n",
    "    \n",
    "    vector = np.zeros(size)\n",
    "    for col in full_column_list:\n",
    "        vector += column_word_vector_dict[col]\n",
    "    \n",
    "    vector = vector / len(full_column_list)\n",
    "    row['word_vec_average_all'] = vector\n",
    "    \n",
    "    return row"
   ]
  },
  {
   "cell_type": "code",
   "execution_count": 8,
   "metadata": {
    "collapsed": true
   },
   "outputs": [],
   "source": [
    "def column_average_word_vector(row, column_word_vector_dict, full_column_list, size=SIZE):\n",
    "    \"\"\"\n",
    "    取每格内所有单字的word vector平均\n",
    "    \n",
    "    Params:\n",
    "        row: attribute of an item, Pandas Series\n",
    "        column_word_vector_dict: the dictionary stores the corresponding word vector of words that appear in columns\n",
    "        column_list: list of words in columns\n",
    "        \n",
    "    Return:\n",
    "        row: row with averaged word vectors \n",
    "    \"\"\"\n",
    "    # Double Check whether we skipped the ItemID in column_list or not \n",
    "    if len(full_column_list) == len(row):\n",
    "        return 'Use df.columns[1:] to skip ItemID'\n",
    "    # filter the cols that equak NaN, exclude ItemID & itemDesc\n",
    "    column_list = full_column_list[row[2:].notnull() == 1]\n",
    "\n",
    "    vector = []    \n",
    "    for col in full_column_list:\n",
    "        if col in column_list:\n",
    "            temp = np.zeros(size)\n",
    "            i = 0\n",
    "            for value in row[col].split(',')[:-1]:  # -1: 去除空格\n",
    "                try:\n",
    "                    temp += column_word_vector_dict[value]\n",
    "                    i+=1.\n",
    "                except:\n",
    "                    pass\n",
    "\n",
    "            if i == 0:\n",
    "                i = 1\n",
    "            row[col] = temp / i\n",
    "    return row"
   ]
  },
  {
   "cell_type": "code",
   "execution_count": 9,
   "metadata": {
    "collapsed": true
   },
   "outputs": [],
   "source": [
    "def calculate_distance(row, item_word_vector, column, size=SIZE):\n",
    "    \"\"\"\n",
    "    Params:\n",
    "        item_word_vector: col_avg, connect, all_avg\n",
    "    \"\"\"\n",
    "    # select the item & its word vector \n",
    "    item1 = item_word_vector[item_word_vector[u'ItemID'].values == row[1]]\n",
    "    item2 = item_word_vector[item_word_vector[u'ItemID'].values == row[2]]\n",
    "\n",
    "    # select the word vector of the column and turn Pandas Series into ndarray\n",
    "    vector1 = item1[column].values[0]\n",
    "    vector2 = item2[column].values[0]\n",
    "    \n",
    "    #df = row[1:3] # ID pairs\n",
    "    df = pd.Series()\n",
    "    try:\n",
    "        df[column + u'_cosine'] = cosine(vector1, vector2)\n",
    "        df[column + u'_cityblock'] = cityblock(vector1, vector2)\n",
    "        df[column + u'_euclidean'] = euclidean(vector1, vector2)\n",
    "        df[column + u'_chebyshev'] = chebyshev(vector1, vector2)\n",
    "        df[column + u'_canberra'] = canberra(vector1, vector2)\n",
    "        df[column + u'_braycurtis'] = braycurtis(vector1, vector2)\n",
    "            \n",
    "    except:\n",
    "        df[column + u'_cosine'] = np.nan\n",
    "        df[column + u'_cityblock'] = np.nan\n",
    "        df[column + u'_euclidean'] = np.nan\n",
    "        df[column + u'_chebyshev'] = np.nan\n",
    "        df[column + u'_canberra'] = np.nan\n",
    "        df[column + u'_braycurtis'] = np.nan\n",
    "        pass\n",
    "    \n",
    "    \n",
    "    return df"
   ]
  },
  {
   "cell_type": "code",
   "execution_count": 10,
   "metadata": {
    "collapsed": true
   },
   "outputs": [],
   "source": [
    "def generate_distance_df(category, attr, dummy, data_set, column_word_vector_dict, is_training_set=True):\n",
    "    \"\"\"\n",
    "    生成distance metric\n",
    "    \n",
    "    Params:\n",
    "        category: 品類, int\n",
    "        attr: attr_train/test_full/tagged, DataFrame\n",
    "        dummy: attr_train/test_full/tagged_dummy, DataFrame\n",
    "        data_set: train/test_categoryID, , DataFrame\n",
    "        column_word_vector_dict: 儲存所有features的 word vector, dict\n",
    "        is_training_set: if it is training data, append label, boolean\n",
    "    Return:\n",
    "    \n",
    "    \"\"\"\n",
    "    \n",
    "    column_word_vector_dict = get_column_word_vector(dummy.columns[1:], word_vectors, wordID, column_word_vector_dict)\n",
    "    word_vec = pd.DataFrame(dummy.ix[:, 1]) #initiate with itemID\n",
    "\n",
    "    col_name = 'column_avg'\n",
    "    word_vec[col_name] = dummy.apply(\n",
    "        all_average_word_vector, column_word_vector_dict=column_word_vector_dict, full_column_list=dummy.columns[2:], axis=1).ix[:, -1]\n",
    "\n",
    "    word_vec = pd.concat([word_vec, attr.apply(\n",
    "         column_average_word_vector, column_word_vector_dict=column_word_vector_dict, full_column_list=attr.columns[2:], axis=1).ix[:, 2:]],axis=1)\n",
    "\n",
    "    \n",
    "    for col in word_vec:\n",
    "        if sum(word_vec[col].notnull()) / float(len(word_vec)) < 0.01:\n",
    "            word_vec.drop(col, inplace=True, axis=1)\n",
    "    \n",
    "    distance = pd.DataFrame()\n",
    "    for col in tqdm.tqdm(word_vec.columns[1:]):\n",
    "        distance = pd.concat([distance, data_set.apply(calculate_distance, item_word_vector = word_vec, column=col, axis=1)], axis=1)\n",
    "\n",
    "    distance = pd.concat([data_set.ix[:, 1:3], distance], axis=1) # Insert ItemID pair \n",
    "    \n",
    "    # Skip columns without valid values\n",
    "    for col in distance.columns:\n",
    "        if sum(distance[col].notnull())==0 or sum(distance[col])==0:\n",
    "            distance.drop(col, inplace=True, axis=1)\n",
    "    \n",
    "    if is_training_set:\n",
    "        distance = pd.concat([distance, data_set.ix[:, -1]], axis=1) # Append Label\n",
    "    \n",
    "    return distance"
   ]
  },
  {
   "cell_type": "code",
   "execution_count": 11,
   "metadata": {
    "collapsed": true
   },
   "outputs": [],
   "source": [
    "def read_csv_data(is_training_set, is_full, category):\n",
    "    \n",
    "    if is_training_set: \n",
    "        attr_name = 'attr_train_'\n",
    "        data = pd.read_csv('train_' + str(category) + '.csv', encoding='utf8')\n",
    "    else:\n",
    "        attr_name = 'attr_test_'\n",
    "        data = pd.read_csv('test_' + str(category) + '.csv', encoding='utf8')\n",
    "        data['Label'] = 0.0\n",
    "        \n",
    "    if is_full:\n",
    "        attr_name += 'full_'\n",
    "    else:\n",
    "        attr_name += 'tagged_'\n",
    "\n",
    "        \n",
    "    attr = pd.read_csv(attr_name + str(category) + '.csv', encoding='utf-8-sig')\n",
    "    dummy = pd.read_csv(attr_name + str(category) + '_dummy.csv', encoding='utf-8-sig')\n",
    "\n",
    "\n",
    "    return attr, dummy, data"
   ]
  },
  {
   "cell_type": "code",
   "execution_count": 12,
   "metadata": {
    "collapsed": true
   },
   "outputs": [],
   "source": [
    "# model fitting part\n",
    "def separate_positive_negative(train, threshold=0.5):\n",
    "    \"\"\"\n",
    "    classification: thresold=0.5\n",
    "    regression: threhold= 0\n",
    "    \"\"\"\n",
    "    train_positive = train[train['Label'] > threshold]\n",
    "    train_negative = train[train['Label'] <= threshold]\n",
    "    return train_positive , train_negative"
   ]
  },
  {
   "cell_type": "code",
   "execution_count": 13,
   "metadata": {
    "collapsed": true
   },
   "outputs": [],
   "source": [
    "# down sample test set to use as negative training set\n",
    "# Size of the test set= ratio* size of train set\n",
    "def down_sample_testset(train_positive, test, ratio, is_random=False):\n",
    "    if is_random:\n",
    "        print 'Random Under Sampling'\n",
    "    else:\n",
    "        np.random.seed(2016)\n",
    "    random_index = np.random.randint(0, len(test), ratio * len(train_positive))\n",
    "    sampled_test = test.ix[random_index, :]\n",
    "    sampled_test = sampled_test.reset_index(drop=True)\n",
    "    \n",
    "    return sampled_test"
   ]
  },
  {
   "cell_type": "code",
   "execution_count": 14,
   "metadata": {
    "collapsed": true
   },
   "outputs": [],
   "source": [
    "def generate_model_input(train_positive, sampled_test, train_distance_positive, test_distance, input_type=2, random_state=2016):\n",
    "    \n",
    "    if input_type == 1: #BOW\n",
    "        data = train_positive.iloc[:, 1:].append(sampled_test.iloc[:, 1:], ignore_index=True)\n",
    "    elif input_type == 2: # word vector distance\n",
    "        data = train_distance_positive.append(test_distance, ignore_index=True)\n",
    "    else: # BOW + word vectot\n",
    "        data = train_positive.iloc[:, 1:-1].append(sampled_test.iloc[:, 1:-1], ignore_index=True) # skip labels first\n",
    "        word_vec = train_distance_positive.append(test_distance, ignore_index=True).iloc[2:] # skip customer & competitor ID\n",
    "        data = pd.concat([data, word_vec], axis = 1)\n",
    "    \n",
    "    data = data.fillna(0)\n",
    "    \n",
    "    X = data.drop(['Label', 'ID_competitor', 'ID_customer'], axis=1) # skipped ID, label\n",
    "    y = data['Label']\n",
    "    \n",
    "    X_train, X_test, y_train, y_test = train_test_split(X, y, test_size = 0.2, random_state=random_state)\n",
    "    \n",
    "    return X_train, X_test, y_train, y_test"
   ]
  },
  {
   "cell_type": "code",
   "execution_count": 15,
   "metadata": {
    "collapsed": true
   },
   "outputs": [],
   "source": [
    "def select_features_rfe(X, y, estimator, step=1, cv=5, scoring=None, verbose=True):\n",
    "    # The \"accuracy\" scoring is proportional to the number of correct\n",
    "    # classifications\n",
    "    rfecv = RFECV(estimator, step, cv, scoring)\n",
    "    rfecv.fit(X, y)\n",
    "\n",
    "    if verbose:\n",
    "        print(\"Optimal number of features : %d\" % rfecv.n_features_)\n",
    "        if scoring == None:\n",
    "            scoring= 'CV score of default metric:'\n",
    "        print 'Optimal {0}: {1}'.format(scoring, np.max(rfecv.grid_scores_))\n",
    "        r2 = np.max(rfecv.grid_scores_)\n",
    "        # Plot number of features VS. cross-validation scores\n",
    "        plt.figure()\n",
    "        plt.xlabel(\"Number of features selected\")\n",
    "        plt.ylabel(\"Cross validation score (nb of correct classifications)\")\n",
    "        plt.plot(range(1, len(rfecv.grid_scores_) + 1), rfecv.grid_scores_)\n",
    "        plt.show()\n",
    "    \n",
    "    X_transform = rfecv.transform(X)\n",
    "    \n",
    "    return X_transform, rfecv.support_"
   ]
  },
  {
   "cell_type": "code",
   "execution_count": 18,
   "metadata": {
    "collapsed": true
   },
   "outputs": [],
   "source": [
    "def tune_model(estimator, X_train, y_train, param, cv=5, scoring = None, verbose = True):\n",
    "    \n",
    "#     gridCV_model = RandomizedSearchCV(estimator, param, cv=cv,  n_jobs=-1, scoring=scoring)\n",
    "    gridCV_model = GridSearchCV(estimator, param, cv=cv,  n_jobs=-1, scoring=scoring)\n",
    "    \n",
    "    gridCV_model.fit(X_train, y_train)\n",
    "    \n",
    "    if verbose:\n",
    "        print 'Best Training Score:', gridCV_model.best_score_\n",
    "        print 'Param of the best estimator:', gridCV_model.best_params_, '\\n'\n",
    "        \n",
    "    return gridCV_model.best_estimator_, gridCV_model.best_score_"
   ]
  },
  {
   "cell_type": "code",
   "execution_count": 21,
   "metadata": {
    "collapsed": true
   },
   "outputs": [],
   "source": [
    "#parameters\n",
    "\n",
    "KNN_param = {'n_neighbors': range(2, 20, 2),\n",
    "           'weights': ['uniform', 'distance']}\n",
    "\n",
    "RF_param = {'n_estimators': range(40, 61, 5),\n",
    "           'criterion': ['gini', 'entropy'],\n",
    "           'max_depth': range(3, 7),\n",
    "           'min_samples_split': range(4, 12, 2),\n",
    "           'min_samples_leaf': range(3, 11, 2)}\n",
    "\n",
    "GBDT_param = {'loss': ['deviance', 'exponential'], \n",
    "              'max_depth': range(3, 7), \n",
    "              'min_samples_split': range(4, 12, 2), \n",
    "              'min_samples_leaf': range(4, 8, 2), \n",
    "              'n_estimators': range(40, 81, 10)}\n",
    "\n",
    "SVM_param = {'kernel': ['linear', 'poly', 'rbf'],\n",
    "            'C': np.linspace(0.1, 10, 30),\n",
    "            'degree': [2, 3, 4]}\n",
    "\n",
    "Ada_param = {'n_estimators': range(60, 86, 5),\n",
    "            'learning_rate': np.linspace(0.1, 3, 10)}\n",
    "\n",
    "NB_param = {}\n",
    "\n",
    "LR_param = {'penalty': ['l1', 'l2'], \n",
    "            'C': np.linspace(0.01, 8, 30)}\n",
    "\n",
    "XGB_param = {}\n",
    "\n",
    "model_dict = {'LR': {'model':LogisticRegression(), 'param':LR_param}, 'GBDT': {'model':GradientBoostingClassifier(), 'param':GBDT_param},\n",
    "             'KNN': {'model':KNeighborsClassifier(), 'param':KNN_param}, 'RF':{'model':RandomForestClassifier(), 'param':RF_param},\n",
    "             'NB':{'model':GaussianNB(), 'param':NB_param}, 'Ada':{'model':AdaBoostClassifier(), 'param':Ada_param},\n",
    "             'SVM':{'model':SVC(), 'param':SVM_param}, 'XGB':{'model': xgb.sklearn.XGBClassifier(), 'param': XGB_param}}"
   ]
  },
  {
   "cell_type": "code",
   "execution_count": 22,
   "metadata": {
    "collapsed": true
   },
   "outputs": [],
   "source": [
    "categoryID_list = [50000671, 162116, 1623, 121412004, 162104, 162103, 50008901, 50011277]\n",
    "category_dict = {162116: '蕾絲', 1623: '半身裙', 121412004: '背心吊帶', 162104: '村杉', \n",
    "                 50000671:'T恤', 162103:'毛衣', 50008901:'風衣', 50011277:'短外套'}"
   ]
  },
  {
   "cell_type": "markdown",
   "metadata": {},
   "source": [
    "# Model Fitting"
   ]
  },
  {
   "cell_type": "code",
   "execution_count": 32,
   "metadata": {
    "scrolled": true
   },
   "outputs": [
    {
     "name": "stdout",
     "output_type": "stream",
     "text": [
      "T恤 50000671\n"
     ]
    },
    {
     "name": "stderr",
     "output_type": "stream",
     "text": [
      "100%|██████████████████████████████████████████| 18/18 [03:40<00:00, 12.17s/it]\n"
     ]
    },
    {
     "name": "stdout",
     "output_type": "stream",
     "text": [
      "Positive training sample size: 1003 \n",
      "\n"
     ]
    },
    {
     "name": "stderr",
     "output_type": "stream",
     "text": [
      "C:\\Anaconda2\\lib\\site-packages\\ipykernel\\__main__.py:8: VisibleDeprecationWarning: using a non-integer number instead of an integer will result in an error in the future\n",
      "100%|██████████████████████████████████████████| 18/18 [00:55<00:00,  3.06s/it]\n"
     ]
    },
    {
     "name": "stdout",
     "output_type": "stream",
     "text": [
      "Positive testing sample size: 1003 \n",
      "\n"
     ]
    },
    {
     "name": "stderr",
     "output_type": "stream",
     "text": [
      "C:\\Anaconda2\\lib\\site-packages\\ipykernel\\__main__.py:34: SettingWithCopyWarning: \n",
      "A value is trying to be set on a copy of a slice from a DataFrame.\n",
      "Try using .loc[row_indexer,col_indexer] = value instead\n",
      "\n",
      "See the caveats in the documentation: http://pandas.pydata.org/pandas-docs/stable/indexing.html#indexing-view-versus-copy\n",
      "C:\\Anaconda2\\lib\\site-packages\\ipykernel\\__main__.py:35: SettingWithCopyWarning: \n",
      "A value is trying to be set on a copy of a slice from a DataFrame.\n",
      "Try using .loc[row_indexer,col_indexer] = value instead\n",
      "\n",
      "See the caveats in the documentation: http://pandas.pydata.org/pandas-docs/stable/indexing.html#indexing-view-versus-copy\n"
     ]
    },
    {
     "name": "stdout",
     "output_type": "stream",
     "text": [
      "50000671_precision\n",
      "        KNN        RF      GBDT        LR       Ada        NB       XGB  \\\n",
      "0  0.746544  0.800568  0.846535  0.835821  0.818182  0.928571  0.826087   \n",
      "1  0.744493  0.845697  0.830704  0.879397  0.838384  1.000000  0.928934   \n",
      "2  0.726027  0.861281  0.892941  0.900498  0.871287  0.900000  0.964286   \n",
      "\n",
      "        SVM  \n",
      "0  0.742105  \n",
      "1  0.820312  \n",
      "2  0.824000   \n",
      "\n",
      "\n",
      "50000671_recal\n",
      "        KNN        RF      GBDT        LR       Ada        NB       XGB  \\\n",
      "0  0.857143  0.815291  0.814286  0.823529  0.814286  0.065657  0.838235   \n",
      "1  0.793427  0.812963  0.890625  0.849515  0.882979  0.049751  0.928934   \n",
      "2  0.819588  0.831931  0.893812  0.882927  0.880000  0.045455  0.935644   \n",
      "\n",
      "        SVM  \n",
      "0  0.738220  \n",
      "1  0.504808  \n",
      "2  0.507389   \n",
      "\n",
      "\n",
      "50000671_f1\n",
      "        KNN        RF      GBDT        LR       Ada        NB       XGB  \\\n",
      "0  0.798030  0.807770  0.830097  0.829630  0.816229  0.122642  0.832117   \n",
      "1  0.768182  0.828826  0.859621  0.864198  0.860104  0.094787  0.928934   \n",
      "2  0.769976  0.846164  0.893346  0.891626  0.875622  0.086538  0.949749   \n",
      "\n",
      "        SVM  \n",
      "0  0.740157  \n",
      "1  0.625000  \n",
      "2  0.628049   \n",
      "\n",
      "\n",
      "蕾絲 162116\n"
     ]
    },
    {
     "name": "stderr",
     "output_type": "stream",
     "text": [
      "100%|██████████████████████████████████████████| 19/19 [03:21<00:00, 10.49s/it]\n"
     ]
    },
    {
     "name": "stdout",
     "output_type": "stream",
     "text": [
      "Positive training sample size: 182 \n",
      "\n"
     ]
    },
    {
     "name": "stderr",
     "output_type": "stream",
     "text": [
      "100%|██████████████████████████████████████████| 19/19 [00:11<00:00,  1.63it/s]\n"
     ]
    },
    {
     "name": "stdout",
     "output_type": "stream",
     "text": [
      "Positive testing sample size: 182 \n",
      "\n",
      "162116_precision\n",
      "        KNN        RF      GBDT        LR       Ada        NB       XGB  \\\n",
      "0  0.850000  0.909177  0.875000  0.916667  0.914286  1.000000  0.861111   \n",
      "1  0.809524  0.839340  0.859967  0.891892  0.879791  0.904762  0.914286   \n",
      "2  0.861111  0.845285  1.000000  0.914286  0.945946  0.842105  0.972973   \n",
      "\n",
      "        SVM  \n",
      "0  0.787879  \n",
      "1  0.857143  \n",
      "2  0.581818   \n",
      "\n",
      "\n",
      "162116_recal\n",
      "        KNN        RF      GBDT        LR       Ada        NB       XGB  \\\n",
      "0  0.894737  0.880556  0.853659  0.891892  0.864865  0.090909  0.911765   \n",
      "1  0.829268  0.866667  0.898780  0.891892  0.813333  0.593750  0.941176   \n",
      "2  0.861111  0.838571  0.974359  0.941176  0.972222  0.484848  0.923077   \n",
      "\n",
      "        SVM  \n",
      "0  0.764706  \n",
      "1  0.157895  \n",
      "2  0.941176   \n",
      "\n",
      "\n",
      "162116_f1\n",
      "        KNN        RF      GBDT        LR       Ada        NB       XGB  \\\n",
      "0  0.871795  0.894098  0.864198  0.904110  0.888889  0.166667  0.885714   \n",
      "1  0.819277  0.852334  0.878930  0.891892  0.845229  0.716981  0.927536   \n",
      "2  0.861111  0.840055  0.987013  0.927536  0.958904  0.615385  0.947368   \n",
      "\n",
      "        SVM  \n",
      "0  0.776119  \n",
      "1  0.266667  \n",
      "2  0.719101   \n",
      "\n",
      "\n",
      "半身裙 1623\n"
     ]
    },
    {
     "name": "stderr",
     "output_type": "stream",
     "text": [
      "100%|██████████████████████████████████████████| 17/17 [03:09<00:00, 11.08s/it]\n"
     ]
    },
    {
     "name": "stdout",
     "output_type": "stream",
     "text": [
      "Positive training sample size: 823 \n",
      "\n"
     ]
    },
    {
     "name": "stderr",
     "output_type": "stream",
     "text": [
      "100%|██████████████████████████████████████████| 17/17 [00:43<00:00,  2.53s/it]\n"
     ]
    },
    {
     "name": "stdout",
     "output_type": "stream",
     "text": [
      "Positive testing sample size: 823 \n",
      "\n",
      "1623_precision\n",
      "        KNN        RF      GBDT        LR       Ada        NB       XGB  \\\n",
      "0  0.738095  0.802826  0.805080  0.766467  0.858896  0.703883  0.840000   \n",
      "1  0.781818  0.766962  0.767353  0.792553  0.798942  0.690476  0.815642   \n",
      "2  0.788043  0.905924  0.872840  0.923077  0.908108  0.650980  0.890244   \n",
      "\n",
      "        SVM  \n",
      "0  0.833333  \n",
      "1  0.827586  \n",
      "2  0.784173   \n",
      "\n",
      "\n",
      "1623_recal\n",
      "        KNN        RF      GBDT        LR       Ada        NB       XGB  \\\n",
      "0  0.756098  0.813125  0.750974  0.785276  0.786517  0.843023  0.792453   \n",
      "1  0.801242  0.823701  0.881250  0.908537  0.862857  0.966667  0.906832   \n",
      "2  0.788043  0.902903  0.929240  0.949153  0.954545  0.982249  0.941935   \n",
      "\n",
      "        SVM  \n",
      "0  0.773810  \n",
      "1  0.701754  \n",
      "2  0.698718   \n",
      "\n",
      "\n",
      "1623_f1\n",
      "        KNN        RF      GBDT        LR       Ada        NB       XGB  \\\n",
      "0  0.746988  0.807866  0.777084  0.775758  0.821114  0.767196  0.815534   \n",
      "1  0.791411  0.794223  0.820366  0.846591  0.829670  0.805556  0.858824   \n",
      "2  0.788043  0.904252  0.900156  0.935933  0.930748  0.783019  0.915361   \n",
      "\n",
      "        SVM  \n",
      "0  0.802469  \n",
      "1  0.759494  \n",
      "2  0.738983   \n",
      "\n",
      "\n",
      "背心吊帶 121412004\n"
     ]
    },
    {
     "name": "stderr",
     "output_type": "stream",
     "text": [
      "100%|██████████████████████████████████████████| 13/13 [02:10<00:00,  9.91s/it]\n"
     ]
    },
    {
     "name": "stdout",
     "output_type": "stream",
     "text": [
      "Positive training sample size: 556 \n",
      "\n"
     ]
    },
    {
     "name": "stderr",
     "output_type": "stream",
     "text": [
      "100%|██████████████████████████████████████████| 13/13 [00:21<00:00,  1.68s/it]\n"
     ]
    },
    {
     "name": "stdout",
     "output_type": "stream",
     "text": [
      "Positive testing sample size: 556 \n",
      "\n",
      "121412004_precision\n",
      "        KNN        RF      GBDT        LR       Ada        NB       XGB  \\\n",
      "0  0.774194  0.634409  0.740404  0.695238  0.695238  0.797872  0.722222   \n",
      "1  0.710744  0.766404  0.843066  0.696000  0.834951  0.625850  0.821138   \n",
      "2  0.718750  0.860105  0.829766  0.776786  0.807018  0.645390  0.900000   \n",
      "\n",
      "        SVM  \n",
      "0  0.797468  \n",
      "1  0.713043  \n",
      "2  0.692308   \n",
      "\n",
      "\n",
      "121412004_recal\n",
      "        KNN        RF      GBDT        LR       Ada        NB       XGB  \\\n",
      "0  0.699029  0.685238  0.690265  0.646018  0.715686  0.688073  0.601852   \n",
      "1  0.774775  0.714865  0.824561  0.887755  0.788991  0.844037  0.870690   \n",
      "2  0.793103  0.760744  0.820755  0.798165  0.773109  0.858491  0.811475   \n",
      "\n",
      "        SVM  \n",
      "0  0.538462  \n",
      "1  0.694915  \n",
      "2  0.685714   \n",
      "\n",
      "\n",
      "121412004_f1\n",
      "        KNN        RF      GBDT        LR       Ada        NB       XGB  \\\n",
      "0  0.734694  0.658701  0.714453  0.669725  0.705314  0.738916  0.656566   \n",
      "1  0.741379  0.739386  0.833707  0.780269  0.811321  0.718750  0.845188   \n",
      "2  0.754098  0.807054  0.825234  0.787330  0.789700  0.736842  0.853448   \n",
      "\n",
      "        SVM  \n",
      "0  0.642857  \n",
      "1  0.703863  \n",
      "2  0.688995   \n",
      "\n",
      "\n",
      "村杉 162104\n"
     ]
    },
    {
     "name": "stderr",
     "output_type": "stream",
     "text": [
      "100%|██████████████████████████████████████████| 18/18 [03:15<00:00, 10.91s/it]\n"
     ]
    },
    {
     "name": "stdout",
     "output_type": "stream",
     "text": [
      "Positive training sample size: 450 \n",
      "\n"
     ]
    },
    {
     "name": "stderr",
     "output_type": "stream",
     "text": [
      "100%|██████████████████████████████████████████| 18/18 [00:24<00:00,  1.37s/it]\n"
     ]
    },
    {
     "name": "stdout",
     "output_type": "stream",
     "text": [
      "Positive testing sample size: 450 \n",
      "\n",
      "162104_precision\n",
      "        KNN        RF      GBDT        LR       Ada        NB       XGB  \\\n",
      "0  0.647727  0.759040  0.820225  0.680851  0.747368  0.568966  0.750000   \n",
      "1  0.685393  0.778018  0.768178  0.800000  0.758621  0.870130  0.786408   \n",
      "2  0.758621  0.794157  0.868610  0.773196  0.843373  0.773196  0.784946   \n",
      "\n",
      "        SVM  \n",
      "0  0.750000  \n",
      "1  0.693878  \n",
      "2  0.489209   \n",
      "\n",
      "\n",
      "162104_recal\n",
      "        KNN        RF      GBDT        LR       Ada        NB       XGB  \\\n",
      "0  0.626374  0.707303  0.752577  0.761905  0.755319  0.990000  0.731707   \n",
      "1  0.753086  0.783721  0.754167  0.723404  0.725275  0.676768  0.810000   \n",
      "2  0.687500  0.684615  0.777778  0.862069  0.795455  0.833333  0.848837   \n",
      "\n",
      "        SVM  \n",
      "0  0.677419  \n",
      "1  0.386364  \n",
      "2  0.860759   \n",
      "\n",
      "\n",
      "162104_f1\n",
      "        KNN        RF      GBDT        LR       Ada        NB       XGB  \\\n",
      "0  0.636872  0.731963  0.784946  0.719101  0.751323  0.722628  0.740741   \n",
      "1  0.717647  0.780216  0.761098  0.759777  0.741573  0.761364  0.798030   \n",
      "2  0.721311  0.734916  0.820682  0.815217  0.818713  0.802139  0.815642   \n",
      "\n",
      "        SVM  \n",
      "0  0.711864  \n",
      "1  0.496350  \n",
      "2  0.623853   \n",
      "\n",
      "\n",
      "毛衣 162103\n"
     ]
    },
    {
     "name": "stderr",
     "output_type": "stream",
     "text": [
      "100%|██████████████████████████████████████████| 21/21 [03:49<00:00, 11.04s/it]\n"
     ]
    },
    {
     "name": "stdout",
     "output_type": "stream",
     "text": [
      "Positive training sample size: 363 \n",
      "\n"
     ]
    },
    {
     "name": "stderr",
     "output_type": "stream",
     "text": [
      "100%|██████████████████████████████████████████| 22/22 [00:24<00:00,  1.12s/it]\n"
     ]
    },
    {
     "name": "stdout",
     "output_type": "stream",
     "text": [
      "Positive testing sample size: 363 \n",
      "\n",
      "162103_precision\n",
      "        KNN        RF      GBDT      LR       Ada        NB       XGB  \\\n",
      "0  0.940476  0.915729  0.965517  0.9125  0.950000  0.937500  0.972603   \n",
      "1  0.819277  0.923640  0.925926  0.8800  0.855263  0.817073  0.840000   \n",
      "2  0.827586  0.934600  0.972973  1.0000  0.982143  0.927536  0.958904   \n",
      "\n",
      "        SVM  \n",
      "0  0.847059  \n",
      "1  0.942308  \n",
      "2  0.906250   \n",
      "\n",
      "\n",
      "162103_recal\n",
      "        KNN        RF      GBDT        LR       Ada        NB       XGB  \\\n",
      "0  0.975309  0.916667  0.954545  0.948052  0.950000  0.197368  0.934211   \n",
      "1  0.894737  0.830556  0.903614  0.868421  0.928571  0.917808  0.984375   \n",
      "2  0.923077  0.952857  1.000000  0.935897  0.964912  0.888889  0.985915   \n",
      "\n",
      "        SVM  \n",
      "0  0.923077  \n",
      "1  0.680556  \n",
      "2  0.743590   \n",
      "\n",
      "\n",
      "162103_f1\n",
      "        KNN        RF      GBDT        LR       Ada        NB       XGB  \\\n",
      "0  0.957576  0.916034  0.960000  0.929936  0.950000  0.326087  0.953020   \n",
      "1  0.855346  0.874285  0.914634  0.874172  0.890411  0.864516  0.906475   \n",
      "2  0.872727  0.943445  0.986301  0.966887  0.973451  0.907801  0.972222   \n",
      "\n",
      "        SVM  \n",
      "0  0.883436  \n",
      "1  0.790323  \n",
      "2  0.816901   \n",
      "\n",
      "\n",
      "風衣 50008901\n"
     ]
    },
    {
     "name": "stderr",
     "output_type": "stream",
     "text": [
      "100%|██████████████████████████████████████████| 20/20 [03:41<00:00, 11.13s/it]\n"
     ]
    },
    {
     "name": "stdout",
     "output_type": "stream",
     "text": [
      "Positive training sample size: 587 \n",
      "\n"
     ]
    },
    {
     "name": "stderr",
     "output_type": "stream",
     "text": [
      "100%|██████████████████████████████████████████| 20/20 [00:37<00:00,  1.85s/it]\n"
     ]
    },
    {
     "name": "stdout",
     "output_type": "stream",
     "text": [
      "Positive testing sample size: 587 \n",
      "\n",
      "50008901_precision\n",
      "        KNN        RF      GBDT        LR       Ada        NB       XGB  \\\n",
      "0  0.764228  0.802317  0.798561  0.886957  0.833333  0.740741  0.824427   \n",
      "1  0.635036  0.795628  0.800076  0.793103  0.705036  0.605911  0.760684   \n",
      "2  0.686131  0.811016  0.813081  0.809524  0.833333  0.544118  0.803279   \n",
      "\n",
      "        SVM  \n",
      "0  0.812500  \n",
      "1  0.766234  \n",
      "2  0.734940   \n",
      "\n",
      "\n",
      "50008901_recal\n",
      "        KNN        RF      GBDT        LR       Ada        NB       XGB  \\\n",
      "0  0.803419  0.798333  0.895161  0.836066  0.779817  0.877193  0.900000   \n",
      "1  0.828571  0.747222  0.874370  0.766667  0.859649  1.000000  0.855769   \n",
      "2  0.783333  0.782500  0.877982  0.910714  0.869565  0.991071  0.899083   \n",
      "\n",
      "        SVM  \n",
      "0  0.881356  \n",
      "1  0.472000  \n",
      "2  0.469231   \n",
      "\n",
      "\n",
      "50008901_f1\n",
      "        KNN        RF      GBDT        LR       Ada        NB       XGB  \\\n",
      "0  0.783333  0.799953  0.844106  0.860759  0.805687  0.803213  0.860558   \n",
      "1  0.719008  0.770376  0.835574  0.779661  0.774704  0.754601  0.805430   \n",
      "2  0.731518  0.796353  0.844283  0.857143  0.851064  0.702532  0.848485   \n",
      "\n",
      "        SVM  \n",
      "0  0.845528  \n",
      "1  0.584158  \n",
      "2  0.572770   \n",
      "\n",
      "\n",
      "短外套 50011277\n"
     ]
    },
    {
     "name": "stderr",
     "output_type": "stream",
     "text": [
      "100%|██████████████████████████████████████████| 17/17 [03:07<00:00, 10.98s/it]\n"
     ]
    },
    {
     "name": "stdout",
     "output_type": "stream",
     "text": [
      "Positive training sample size: 370 \n",
      "\n"
     ]
    },
    {
     "name": "stderr",
     "output_type": "stream",
     "text": [
      "100%|██████████████████████████████████████████| 18/18 [00:20<00:00,  1.21s/it]\n"
     ]
    },
    {
     "name": "stdout",
     "output_type": "stream",
     "text": [
      "Positive testing sample size: 370 \n",
      "\n",
      "50011277_precision\n",
      "        KNN        RF      GBDT        LR       Ada        NB       XGB  \\\n",
      "0  0.786885  0.767153  0.753425  0.818182  0.783784  0.850000  0.772727   \n",
      "1  0.642857  0.753095  0.842514  0.716049  0.794118  0.517483  0.835443   \n",
      "2  0.578947  0.791417  0.816350  0.859155  0.772152  0.465753  0.839286   \n",
      "\n",
      "        SVM  \n",
      "0  0.810127  \n",
      "1  0.714286  \n",
      "2  0.750000   \n",
      "\n",
      "\n",
      "50011277_recal\n",
      "        KNN        RF      GBDT        LR       Ada        NB       XGB  \\\n",
      "0  0.592593  0.670149  0.743243  0.750000  0.698795  0.708333  0.718310   \n",
      "1  0.729730  0.757143  0.825000  0.828571  0.771429  1.000000  0.868421   \n",
      "2  0.676923  0.752941  0.835000  0.782051  0.802632  1.000000  0.712121   \n",
      "\n",
      "        SVM  \n",
      "0  0.876712  \n",
      "1  0.277778  \n",
      "2  0.308824   \n",
      "\n",
      "\n",
      "50011277_f1\n",
      "        KNN        RF      GBDT        LR       Ada        NB       XGB  \\\n",
      "0  0.676056  0.714598  0.748299  0.782609  0.738854  0.772727  0.744526   \n",
      "1  0.683544  0.754852  0.833636  0.768212  0.782609  0.682028  0.851613   \n",
      "2  0.624113  0.771287  0.825556  0.818792  0.787097  0.635514  0.770492   \n",
      "\n",
      "        SVM  \n",
      "0  0.842105  \n",
      "1  0.400000  \n",
      "2  0.437500   \n",
      "\n",
      "\n"
     ]
    }
   ],
   "source": [
    "RATIO = 1.0\n",
    "is_classification = True\n",
    "is_random = False\n",
    "\n",
    "column_word_vector_dict = {}\n",
    "performance_dict = {}\n",
    "\n",
    "for category in categoryID_list:\n",
    "    print category_dict[category], category \n",
    "    \n",
    "    #Construct training distance mectrics\n",
    "    attr, dummy, train = read_csv_data(is_training_set=True, is_full=True, category=category)\n",
    "    train_distance = generate_distance_df(category, attr, dummy, train, column_word_vector_dict, is_training_set=True)\n",
    "    \n",
    "    # Define problem type\n",
    "    if is_classification:\n",
    "        #threshold = 0.5\n",
    "        train_distance_positive, train_distance_negative = separate_positive_negative(train_distance, threshold=0.5)\n",
    "        train_positive, train_megative = separate_positive_negative(train, threshold=0.5)\n",
    "    else:\n",
    "        #threshold = 0.0\n",
    "        train_distance_positive, train_distance_negative = separate_positive_negative(train_distance, threshold=0)\n",
    "        train_positive, train_megative = separate_positive_negative(train, threshold=0)\n",
    "    print 'Positive trainning sample size:', len(train_positive), '\\n'\n",
    "    \n",
    "    #Construct testing distance mectrics\n",
    "    attr, dummy, test = read_csv_data(is_training_set=False, is_full=True, category=category)\n",
    "    sampled_test = down_sample_testset(train_distance_positive, test, RATIO, is_random)\n",
    "    test_distance = generate_distance_df(category, attr, dummy, sampled_test, column_word_vector_dict, is_training_set=False)\n",
    "    print 'Negative trainning sample size:', len(test_distance), '\\n'\n",
    "        \n",
    "        \n",
    "    if is_classification:\n",
    "        train_positive['Label'] = 1.0\n",
    "        train_distance_positive['Label'] = 1.0\n",
    "    test_distance['Label'] = 0.0\n",
    "    \n",
    "    p_df, r_df, f_df = pd.DataFrame(columns=model_dict.keys()), pd.DataFrame(columns=model_dict.keys()), pd.DataFrame(columns=model_dict.keys())\n",
    "    \n",
    "    for key in model_dict.keys():\n",
    "        model = model_dict[key]['model']\n",
    "        p_list, r_list, f_list, index = [], [], [], []\n",
    "\n",
    "        for input_type in range(1, 4):\n",
    "            # Construct features\n",
    "            X_train, X_test, y_train, y_test = generate_model_input(\n",
    "                train_positive, sampled_test, train_distance_positive, test_distance, input_type=input_type)\n",
    "\n",
    "            # Evaluation\n",
    "            if is_classification:\n",
    "                p, r, f =  clf_model_evaluation(model, X_train, y_train, X_test, y_test, iteration=20, verbose=False)\n",
    "            else:\n",
    "                mse, mae, r2, p, r, f =  reg_model_evaluation(model, X_train, y_train, X_test, y_test, iteration=20, threshold=0.50, verbose=False)\n",
    "\n",
    "            p_list.append(p)\n",
    "            r_list.append(r)\n",
    "            f_list.append(f)\n",
    " \n",
    "        p_df[key] = pd.Series(p_list)\n",
    "        r_df[key] = pd.Series(r_list)\n",
    "        f_df[key] = pd.Series(f_list)\n",
    "\n",
    "    for metrics, df in zip(['precision', 'recal', 'f1'], [p_df, r_df, f_df]): \n",
    "        item = str(category) + '_' + metrics\n",
    "        performance_dict[item] = df\n",
    "        print item\n",
    "        print df, '\\n\\n'"
   ]
  },
  {
   "cell_type": "markdown",
   "metadata": {},
   "source": [
    "## EasyEnsemble + Model Ensemble"
   ]
  },
  {
   "cell_type": "code",
   "execution_count": 24,
   "metadata": {},
   "outputs": [
    {
     "name": "stdout",
     "output_type": "stream",
     "text": [
      "T恤 50000671\n",
      "0\n"
     ]
    },
    {
     "name": "stderr",
     "output_type": "stream",
     "text": [
      "100%|██████████████████████████████████████████| 18/18 [03:41<00:00, 12.39s/it]\n"
     ]
    },
    {
     "name": "stdout",
     "output_type": "stream",
     "text": [
      "Positive trainning sample size: 1003 \n",
      "\n",
      "Random Under Sampling\n"
     ]
    },
    {
     "name": "stderr",
     "output_type": "stream",
     "text": [
      "C:\\Anaconda2\\lib\\site-packages\\ipykernel\\__main__.py:8: VisibleDeprecationWarning: using a non-integer number instead of an integer will result in an error in the future\n",
      "100%|██████████████████████████████████████████| 18/18 [00:54<00:00,  3.01s/it]\n"
     ]
    },
    {
     "name": "stdout",
     "output_type": "stream",
     "text": [
      "Negative trainning sample size: 1003 \n",
      "\n"
     ]
    },
    {
     "name": "stderr",
     "output_type": "stream",
     "text": [
      "C:\\Anaconda2\\lib\\site-packages\\ipykernel\\__main__.py:43: SettingWithCopyWarning: \n",
      "A value is trying to be set on a copy of a slice from a DataFrame.\n",
      "Try using .loc[row_indexer,col_indexer] = value instead\n",
      "\n",
      "See the caveats in the documentation: http://pandas.pydata.org/pandas-docs/stable/indexing.html#indexing-view-versus-copy\n",
      "C:\\Anaconda2\\lib\\site-packages\\ipykernel\\__main__.py:44: SettingWithCopyWarning: \n",
      "A value is trying to be set on a copy of a slice from a DataFrame.\n",
      "Try using .loc[row_indexer,col_indexer] = value instead\n",
      "\n",
      "See the caveats in the documentation: http://pandas.pydata.org/pandas-docs/stable/indexing.html#indexing-view-versus-copy\n",
      "  0%|                                                    | 0/8 [00:00<?, ?it/s]"
     ]
    },
    {
     "name": "stdout",
     "output_type": "stream",
     "text": [
      "KNN , Precision: 0.780952380952\n"
     ]
    },
    {
     "name": "stderr",
     "output_type": "stream",
     "text": [
      "\r",
      " 12%|█████▌                                      | 1/8 [00:02<00:15,  2.17s/it]"
     ]
    },
    {
     "name": "stdout",
     "output_type": "stream",
     "text": [
      "RF , Precision: 0.863414634146\n"
     ]
    },
    {
     "name": "stderr",
     "output_type": "stream",
     "text": [
      "\r",
      " 25%|███████████                                 | 2/8 [00:02<00:09,  1.64s/it]"
     ]
    },
    {
     "name": "stdout",
     "output_type": "stream",
     "text": [
      "GBDT , Precision: 0.87962962963\n"
     ]
    },
    {
     "name": "stderr",
     "output_type": "stream",
     "text": [
      "\r",
      " 38%|████████████████▌                           | 3/8 [00:07<00:13,  2.75s/it]"
     ]
    },
    {
     "name": "stdout",
     "output_type": "stream",
     "text": [
      "LR , Precision: 0.891509433962\n"
     ]
    },
    {
     "name": "stderr",
     "output_type": "stream",
     "text": [
      "\r",
      " 50%|██████████████████████                      | 4/8 [00:09<00:09,  2.28s/it]"
     ]
    },
    {
     "name": "stdout",
     "output_type": "stream",
     "text": [
      "Ada , Precision: 0.882352941176\n"
     ]
    },
    {
     "name": "stderr",
     "output_type": "stream",
     "text": [
      "\r",
      " 62%|███████████████████████████▌                | 5/8 [00:11<00:07,  2.38s/it]"
     ]
    },
    {
     "name": "stdout",
     "output_type": "stream",
     "text": [
      "NB , Precision: 0.8\n"
     ]
    },
    {
     "name": "stderr",
     "output_type": "stream",
     "text": [
      "\r",
      " 75%|█████████████████████████████████           | 6/8 [00:11<00:03,  1.70s/it]"
     ]
    },
    {
     "name": "stdout",
     "output_type": "stream",
     "text": [
      "XGB , Precision: 0.960975609756\n"
     ]
    },
    {
     "name": "stderr",
     "output_type": "stream",
     "text": [
      "\r",
      " 88%|██████████████████████████████████████▌     | 7/8 [00:13<00:01,  1.63s/it]"
     ]
    },
    {
     "name": "stdout",
     "output_type": "stream",
     "text": [
      "SVM , Precision: 0.868055555556\n"
     ]
    },
    {
     "name": "stderr",
     "output_type": "stream",
     "text": [
      "100%|████████████████████████████████████████████| 8/8 [00:19<00:00,  2.90s/it]\n"
     ]
    },
    {
     "name": "stdout",
     "output_type": "stream",
     "text": [
      "1\n"
     ]
    },
    {
     "name": "stderr",
     "output_type": "stream",
     "text": [
      "100%|██████████████████████████████████████████| 18/18 [03:42<00:00, 12.52s/it]\n"
     ]
    },
    {
     "name": "stdout",
     "output_type": "stream",
     "text": [
      "Positive trainning sample size: 1003 \n",
      "\n",
      "Random Under Sampling\n"
     ]
    },
    {
     "name": "stderr",
     "output_type": "stream",
     "text": [
      "100%|██████████████████████████████████████████| 18/18 [00:57<00:00,  3.18s/it]\n"
     ]
    },
    {
     "name": "stdout",
     "output_type": "stream",
     "text": [
      "Negative trainning sample size: 1003 \n",
      "\n"
     ]
    },
    {
     "name": "stderr",
     "output_type": "stream",
     "text": [
      "\r",
      "  0%|                                                    | 0/8 [00:00<?, ?it/s]"
     ]
    },
    {
     "name": "stdout",
     "output_type": "stream",
     "text": [
      "KNN , Precision: 0.742358078603\n"
     ]
    },
    {
     "name": "stderr",
     "output_type": "stream",
     "text": [
      "\r",
      " 12%|█████▌                                      | 1/8 [00:02<00:15,  2.18s/it]"
     ]
    },
    {
     "name": "stdout",
     "output_type": "stream",
     "text": [
      "RF , Precision: 0.855769230769\n"
     ]
    },
    {
     "name": "stderr",
     "output_type": "stream",
     "text": [
      "\r",
      " 25%|███████████                                 | 2/8 [00:02<00:09,  1.65s/it]"
     ]
    },
    {
     "name": "stdout",
     "output_type": "stream",
     "text": [
      "GBDT , Precision: 0.876712328767\n"
     ]
    },
    {
     "name": "stderr",
     "output_type": "stream",
     "text": [
      "\r",
      " 38%|████████████████▌                           | 3/8 [00:08<00:14,  2.92s/it]"
     ]
    },
    {
     "name": "stdout",
     "output_type": "stream",
     "text": [
      "LR , Precision: 0.880952380952\n"
     ]
    },
    {
     "name": "stderr",
     "output_type": "stream",
     "text": [
      "\r",
      " 50%|██████████████████████                      | 4/8 [00:10<00:10,  2.56s/it]"
     ]
    },
    {
     "name": "stdout",
     "output_type": "stream",
     "text": [
      "Ada , Precision: 0.890476190476\n"
     ]
    },
    {
     "name": "stderr",
     "output_type": "stream",
     "text": [
      "\r",
      " 62%|███████████████████████████▌                | 5/8 [00:12<00:07,  2.58s/it]"
     ]
    },
    {
     "name": "stdout",
     "output_type": "stream",
     "text": [
      "NB , Precision: 0.857142857143\n",
      "XGB , Precision: 0.974874371859\n"
     ]
    },
    {
     "name": "stderr",
     "output_type": "stream",
     "text": [
      "\r",
      " 88%|██████████████████████████████████████▌     | 7/8 [00:14<00:02,  2.04s/it]"
     ]
    },
    {
     "name": "stdout",
     "output_type": "stream",
     "text": [
      "SVM , Precision: 0.876811594203\n"
     ]
    },
    {
     "name": "stderr",
     "output_type": "stream",
     "text": [
      "100%|████████████████████████████████████████████| 8/8 [00:20<00:00,  3.20s/it]\n"
     ]
    },
    {
     "name": "stdout",
     "output_type": "stream",
     "text": [
      "2\n"
     ]
    },
    {
     "name": "stderr",
     "output_type": "stream",
     "text": [
      "100%|██████████████████████████████████████████| 18/18 [03:34<00:00, 11.98s/it]\n"
     ]
    },
    {
     "name": "stdout",
     "output_type": "stream",
     "text": [
      "Positive trainning sample size: 1003 \n",
      "\n",
      "Random Under Sampling\n"
     ]
    },
    {
     "name": "stderr",
     "output_type": "stream",
     "text": [
      "100%|██████████████████████████████████████████| 18/18 [00:54<00:00,  3.00s/it]\n"
     ]
    },
    {
     "name": "stdout",
     "output_type": "stream",
     "text": [
      "Negative trainning sample size: 1003 \n",
      "\n"
     ]
    },
    {
     "name": "stderr",
     "output_type": "stream",
     "text": [
      "\r",
      "  0%|                                                    | 0/8 [00:00<?, ?it/s]"
     ]
    },
    {
     "name": "stdout",
     "output_type": "stream",
     "text": [
      "KNN , Precision: 0.742081447964\n"
     ]
    },
    {
     "name": "stderr",
     "output_type": "stream",
     "text": [
      "\r",
      " 12%|█████▌                                      | 1/8 [00:02<00:15,  2.15s/it]"
     ]
    },
    {
     "name": "stdout",
     "output_type": "stream",
     "text": [
      "RF , Precision: 0.871921182266\n"
     ]
    },
    {
     "name": "stderr",
     "output_type": "stream",
     "text": [
      "\r",
      " 25%|███████████                                 | 2/8 [00:02<00:09,  1.62s/it]"
     ]
    },
    {
     "name": "stdout",
     "output_type": "stream",
     "text": [
      "GBDT , Precision: 0.895734597156\n"
     ]
    },
    {
     "name": "stderr",
     "output_type": "stream",
     "text": [
      "\r",
      " 38%|████████████████▌                           | 3/8 [00:07<00:13,  2.70s/it]"
     ]
    },
    {
     "name": "stdout",
     "output_type": "stream",
     "text": [
      "LR , Precision: 0.912621359223\n"
     ]
    },
    {
     "name": "stderr",
     "output_type": "stream",
     "text": [
      "\r",
      " 50%|██████████████████████                      | 4/8 [00:08<00:08,  2.14s/it]"
     ]
    },
    {
     "name": "stdout",
     "output_type": "stream",
     "text": [
      "Ada , Precision: 0.902912621359\n"
     ]
    },
    {
     "name": "stderr",
     "output_type": "stream",
     "text": [
      "\r",
      " 62%|███████████████████████████▌                | 5/8 [00:11<00:06,  2.28s/it]"
     ]
    },
    {
     "name": "stdout",
     "output_type": "stream",
     "text": [
      "NB , Precision: 1.0\n"
     ]
    },
    {
     "name": "stderr",
     "output_type": "stream",
     "text": [
      "\r",
      " 75%|█████████████████████████████████           | 6/8 [00:11<00:03,  1.63s/it]"
     ]
    },
    {
     "name": "stdout",
     "output_type": "stream",
     "text": [
      "XGB , Precision: 0.943127962085\n"
     ]
    },
    {
     "name": "stderr",
     "output_type": "stream",
     "text": [
      "\r",
      " 88%|██████████████████████████████████████▌     | 7/8 [00:12<00:01,  1.60s/it]"
     ]
    },
    {
     "name": "stdout",
     "output_type": "stream",
     "text": [
      "SVM , Precision: 0.852112676056\n"
     ]
    },
    {
     "name": "stderr",
     "output_type": "stream",
     "text": [
      "100%|████████████████████████████████████████████| 8/8 [00:18<00:00,  2.88s/it]\n"
     ]
    },
    {
     "name": "stdout",
     "output_type": "stream",
     "text": [
      "3\n"
     ]
    },
    {
     "name": "stderr",
     "output_type": "stream",
     "text": [
      "100%|██████████████████████████████████████████| 18/18 [03:34<00:00, 11.96s/it]\n"
     ]
    },
    {
     "name": "stdout",
     "output_type": "stream",
     "text": [
      "Positive trainning sample size: 1003 \n",
      "\n",
      "Random Under Sampling\n"
     ]
    },
    {
     "name": "stderr",
     "output_type": "stream",
     "text": [
      "100%|██████████████████████████████████████████| 18/18 [00:54<00:00,  3.00s/it]\n"
     ]
    },
    {
     "name": "stdout",
     "output_type": "stream",
     "text": [
      "Negative trainning sample size: 1003 \n",
      "\n"
     ]
    },
    {
     "name": "stderr",
     "output_type": "stream",
     "text": [
      "\r",
      "  0%|                                                    | 0/8 [00:00<?, ?it/s]"
     ]
    },
    {
     "name": "stdout",
     "output_type": "stream",
     "text": [
      "KNN , Precision: 0.766519823789\n"
     ]
    },
    {
     "name": "stderr",
     "output_type": "stream",
     "text": [
      "\r",
      " 12%|█████▌                                      | 1/8 [00:02<00:14,  2.09s/it]"
     ]
    },
    {
     "name": "stdout",
     "output_type": "stream",
     "text": [
      "RF , Precision: 0.886138613861\n"
     ]
    },
    {
     "name": "stderr",
     "output_type": "stream",
     "text": [
      "\r",
      " 25%|███████████                                 | 2/8 [00:02<00:09,  1.58s/it]"
     ]
    },
    {
     "name": "stdout",
     "output_type": "stream",
     "text": [
      "GBDT , Precision: 0.93\n"
     ]
    },
    {
     "name": "stderr",
     "output_type": "stream",
     "text": [
      "\r",
      " 38%|████████████████▌                           | 3/8 [00:07<00:13,  2.74s/it]"
     ]
    },
    {
     "name": "stdout",
     "output_type": "stream",
     "text": [
      "LR , Precision: 0.90243902439\n"
     ]
    },
    {
     "name": "stderr",
     "output_type": "stream",
     "text": [
      "\r",
      " 50%|██████████████████████                      | 4/8 [00:10<00:10,  2.62s/it]"
     ]
    },
    {
     "name": "stdout",
     "output_type": "stream",
     "text": [
      "Ada , Precision: 0.88995215311\n"
     ]
    },
    {
     "name": "stderr",
     "output_type": "stream",
     "text": [
      "\r",
      " 62%|███████████████████████████▌                | 5/8 [00:12<00:07,  2.62s/it]"
     ]
    },
    {
     "name": "stdout",
     "output_type": "stream",
     "text": [
      "NB , Precision: 0.891719745223\n",
      "XGB , Precision: 0.929245283019\n"
     ]
    },
    {
     "name": "stderr",
     "output_type": "stream",
     "text": [
      "\r",
      " 88%|██████████████████████████████████████▌     | 7/8 [00:14<00:02,  2.06s/it]"
     ]
    },
    {
     "name": "stdout",
     "output_type": "stream",
     "text": [
      "SVM , Precision: 0.827814569536\n"
     ]
    },
    {
     "name": "stderr",
     "output_type": "stream",
     "text": [
      "100%|████████████████████████████████████████████| 8/8 [00:20<00:00,  3.21s/it]\n"
     ]
    },
    {
     "name": "stdout",
     "output_type": "stream",
     "text": [
      "4\n"
     ]
    },
    {
     "name": "stderr",
     "output_type": "stream",
     "text": [
      "100%|██████████████████████████████████████████| 18/18 [03:33<00:00, 11.95s/it]\n"
     ]
    },
    {
     "name": "stdout",
     "output_type": "stream",
     "text": [
      "Positive trainning sample size: 1003 \n",
      "\n",
      "Random Under Sampling\n"
     ]
    },
    {
     "name": "stderr",
     "output_type": "stream",
     "text": [
      "100%|██████████████████████████████████████████| 18/18 [00:53<00:00,  2.99s/it]\n"
     ]
    },
    {
     "name": "stdout",
     "output_type": "stream",
     "text": [
      "Negative trainning sample size: 1003 \n",
      "\n"
     ]
    },
    {
     "name": "stderr",
     "output_type": "stream",
     "text": [
      "\r",
      "  0%|                                                    | 0/8 [00:00<?, ?it/s]"
     ]
    },
    {
     "name": "stdout",
     "output_type": "stream",
     "text": [
      "KNN , Precision: 0.779816513761\n"
     ]
    },
    {
     "name": "stderr",
     "output_type": "stream",
     "text": [
      "\r",
      " 12%|█████▌                                      | 1/8 [00:02<00:14,  2.04s/it]"
     ]
    },
    {
     "name": "stdout",
     "output_type": "stream",
     "text": [
      "RF , Precision: 0.876237623762\n"
     ]
    },
    {
     "name": "stderr",
     "output_type": "stream",
     "text": [
      "\r",
      " 25%|███████████                                 | 2/8 [00:02<00:09,  1.54s/it]"
     ]
    },
    {
     "name": "stdout",
     "output_type": "stream",
     "text": [
      "GBDT , Precision: 0.88785046729\n"
     ]
    },
    {
     "name": "stderr",
     "output_type": "stream",
     "text": [
      "\r",
      " 38%|████████████████▌                           | 3/8 [00:07<00:13,  2.65s/it]"
     ]
    },
    {
     "name": "stdout",
     "output_type": "stream",
     "text": [
      "LR , Precision: 0.873831775701\n"
     ]
    },
    {
     "name": "stderr",
     "output_type": "stream",
     "text": [
      "\r",
      " 50%|██████████████████████                      | 4/8 [00:09<00:09,  2.36s/it]"
     ]
    },
    {
     "name": "stdout",
     "output_type": "stream",
     "text": [
      "Ada , Precision: 0.874418604651\n"
     ]
    },
    {
     "name": "stderr",
     "output_type": "stream",
     "text": [
      "\r",
      " 62%|███████████████████████████▌                | 5/8 [00:11<00:07,  2.43s/it]"
     ]
    },
    {
     "name": "stdout",
     "output_type": "stream",
     "text": [
      "NB , Precision: 0.923076923077\n",
      "XGB , Precision: 0.961352657005\n"
     ]
    },
    {
     "name": "stderr",
     "output_type": "stream",
     "text": [
      "\r",
      " 88%|██████████████████████████████████████▌     | 7/8 [00:13<00:01,  1.92s/it]"
     ]
    },
    {
     "name": "stdout",
     "output_type": "stream",
     "text": [
      "SVM , Precision: 0.815789473684\n"
     ]
    },
    {
     "name": "stderr",
     "output_type": "stream",
     "text": [
      "100%|████████████████████████████████████████████| 8/8 [00:19<00:00,  3.11s/it]\n"
     ]
    },
    {
     "name": "stdout",
     "output_type": "stream",
     "text": [
      "5\n"
     ]
    },
    {
     "name": "stderr",
     "output_type": "stream",
     "text": [
      "100%|██████████████████████████████████████████| 18/18 [03:33<00:00, 11.97s/it]\n"
     ]
    },
    {
     "name": "stdout",
     "output_type": "stream",
     "text": [
      "Positive trainning sample size: 1003 \n",
      "\n",
      "Random Under Sampling\n"
     ]
    },
    {
     "name": "stderr",
     "output_type": "stream",
     "text": [
      "100%|██████████████████████████████████████████| 18/18 [00:54<00:00,  3.01s/it]\n"
     ]
    },
    {
     "name": "stdout",
     "output_type": "stream",
     "text": [
      "Negative trainning sample size: 1003 \n",
      "\n"
     ]
    },
    {
     "name": "stderr",
     "output_type": "stream",
     "text": [
      "\r",
      "  0%|                                                    | 0/8 [00:00<?, ?it/s]"
     ]
    },
    {
     "name": "stdout",
     "output_type": "stream",
     "text": [
      "KNN , Precision: 0.780269058296\n"
     ]
    },
    {
     "name": "stderr",
     "output_type": "stream",
     "text": [
      "\r",
      " 12%|█████▌                                      | 1/8 [00:02<00:14,  2.09s/it]"
     ]
    },
    {
     "name": "stdout",
     "output_type": "stream",
     "text": [
      "RF , Precision: 0.87684729064\n"
     ]
    },
    {
     "name": "stderr",
     "output_type": "stream",
     "text": [
      "\r",
      " 25%|███████████                                 | 2/8 [00:02<00:09,  1.58s/it]"
     ]
    },
    {
     "name": "stdout",
     "output_type": "stream",
     "text": [
      "GBDT , Precision: 0.887323943662\n"
     ]
    },
    {
     "name": "stderr",
     "output_type": "stream",
     "text": [
      "\r",
      " 38%|████████████████▌                           | 3/8 [00:07<00:13,  2.70s/it]"
     ]
    },
    {
     "name": "stdout",
     "output_type": "stream",
     "text": [
      "LR , Precision: 0.875\n"
     ]
    },
    {
     "name": "stderr",
     "output_type": "stream",
     "text": [
      "\r",
      " 50%|██████████████████████                      | 4/8 [00:09<00:09,  2.41s/it]"
     ]
    },
    {
     "name": "stdout",
     "output_type": "stream",
     "text": [
      "Ada , Precision: 0.868544600939\n"
     ]
    },
    {
     "name": "stderr",
     "output_type": "stream",
     "text": [
      "\r",
      " 62%|███████████████████████████▌                | 5/8 [00:12<00:07,  2.47s/it]"
     ]
    },
    {
     "name": "stdout",
     "output_type": "stream",
     "text": [
      "NB , Precision: 0.878612716763\n",
      "XGB , Precision: 0.960591133005\n"
     ]
    },
    {
     "name": "stderr",
     "output_type": "stream",
     "text": [
      "\r",
      " 88%|██████████████████████████████████████▌     | 7/8 [00:13<00:01,  1.95s/it]"
     ]
    },
    {
     "name": "stdout",
     "output_type": "stream",
     "text": [
      "SVM , Precision: 0.849315068493\n"
     ]
    },
    {
     "name": "stderr",
     "output_type": "stream",
     "text": [
      "100%|████████████████████████████████████████████| 8/8 [00:19<00:00,  3.12s/it]\n"
     ]
    },
    {
     "name": "stdout",
     "output_type": "stream",
     "text": [
      "6\n"
     ]
    },
    {
     "name": "stderr",
     "output_type": "stream",
     "text": [
      "100%|██████████████████████████████████████████| 18/18 [03:34<00:00, 11.97s/it]\n"
     ]
    },
    {
     "name": "stdout",
     "output_type": "stream",
     "text": [
      "Positive trainning sample size: 1003 \n",
      "\n",
      "Random Under Sampling\n"
     ]
    },
    {
     "name": "stderr",
     "output_type": "stream",
     "text": [
      "100%|██████████████████████████████████████████| 18/18 [00:54<00:00,  3.00s/it]\n"
     ]
    },
    {
     "name": "stdout",
     "output_type": "stream",
     "text": [
      "Negative trainning sample size: 1003 \n",
      "\n"
     ]
    },
    {
     "name": "stderr",
     "output_type": "stream",
     "text": [
      "\r",
      "  0%|                                                    | 0/8 [00:00<?, ?it/s]"
     ]
    },
    {
     "name": "stdout",
     "output_type": "stream",
     "text": [
      "KNN , Precision: 0.74672489083\n"
     ]
    },
    {
     "name": "stderr",
     "output_type": "stream",
     "text": [
      "\r",
      " 12%|█████▌                                      | 1/8 [00:02<00:14,  2.11s/it]"
     ]
    },
    {
     "name": "stdout",
     "output_type": "stream",
     "text": [
      "RF , Precision: 0.857142857143\n"
     ]
    },
    {
     "name": "stderr",
     "output_type": "stream",
     "text": [
      "\r",
      " 25%|███████████                                 | 2/8 [00:02<00:09,  1.59s/it]"
     ]
    },
    {
     "name": "stdout",
     "output_type": "stream",
     "text": [
      "GBDT , Precision: 0.877272727273\n"
     ]
    },
    {
     "name": "stderr",
     "output_type": "stream",
     "text": [
      "\r",
      " 38%|████████████████▌                           | 3/8 [00:07<00:13,  2.72s/it]"
     ]
    },
    {
     "name": "stdout",
     "output_type": "stream",
     "text": [
      "LR , Precision: 0.877358490566\n"
     ]
    },
    {
     "name": "stderr",
     "output_type": "stream",
     "text": [
      "\r",
      " 50%|██████████████████████                      | 4/8 [00:09<00:10,  2.55s/it]"
     ]
    },
    {
     "name": "stdout",
     "output_type": "stream",
     "text": [
      "Ada , Precision: 0.867579908676\n"
     ]
    },
    {
     "name": "stderr",
     "output_type": "stream",
     "text": [
      "\r",
      " 62%|███████████████████████████▌                | 5/8 [00:12<00:07,  2.56s/it]"
     ]
    },
    {
     "name": "stdout",
     "output_type": "stream",
     "text": [
      "NB , Precision: 0.878571428571\n",
      "XGB , Precision: 0.951923076923\n"
     ]
    },
    {
     "name": "stderr",
     "output_type": "stream",
     "text": [
      "\r",
      " 88%|██████████████████████████████████████▌     | 7/8 [00:14<00:02,  2.01s/it]"
     ]
    },
    {
     "name": "stdout",
     "output_type": "stream",
     "text": [
      "SVM , Precision: 0.849673202614\n"
     ]
    },
    {
     "name": "stderr",
     "output_type": "stream",
     "text": [
      "100%|████████████████████████████████████████████| 8/8 [00:19<00:00,  3.17s/it]\n"
     ]
    },
    {
     "name": "stdout",
     "output_type": "stream",
     "text": [
      "7\n"
     ]
    },
    {
     "name": "stderr",
     "output_type": "stream",
     "text": [
      "100%|█████████████████████████████████████████| 18/18 [14:08<00:00, 105.54s/it]\n"
     ]
    },
    {
     "name": "stdout",
     "output_type": "stream",
     "text": [
      "Positive trainning sample size: 1003 \n",
      "\n",
      "Random Under Sampling\n"
     ]
    },
    {
     "name": "stderr",
     "output_type": "stream",
     "text": [
      "100%|██████████████████████████████████████████| 18/18 [00:57<00:00,  3.08s/it]\n"
     ]
    },
    {
     "name": "stdout",
     "output_type": "stream",
     "text": [
      "Negative trainning sample size: 1003 \n",
      "\n"
     ]
    },
    {
     "name": "stderr",
     "output_type": "stream",
     "text": [
      "\r",
      "  0%|                                                    | 0/8 [00:00<?, ?it/s]"
     ]
    },
    {
     "name": "stdout",
     "output_type": "stream",
     "text": [
      "KNN , Precision: 0.745535714286\n"
     ]
    },
    {
     "name": "stderr",
     "output_type": "stream",
     "text": [
      "\r",
      " 12%|█████▌                                      | 1/8 [00:02<00:17,  2.44s/it]"
     ]
    },
    {
     "name": "stdout",
     "output_type": "stream",
     "text": [
      "RF , Precision: 0.866336633663\n"
     ]
    },
    {
     "name": "stderr",
     "output_type": "stream",
     "text": [
      "\r",
      " 25%|███████████                                 | 2/8 [00:02<00:10,  1.83s/it]"
     ]
    },
    {
     "name": "stdout",
     "output_type": "stream",
     "text": [
      "GBDT , Precision: 0.875\n"
     ]
    },
    {
     "name": "stderr",
     "output_type": "stream",
     "text": [
      "\r",
      " 38%|████████████████▌                           | 3/8 [00:08<00:14,  2.95s/it]"
     ]
    },
    {
     "name": "stdout",
     "output_type": "stream",
     "text": [
      "LR , Precision: 0.860465116279\n"
     ]
    },
    {
     "name": "stderr",
     "output_type": "stream",
     "text": [
      "\r",
      " 50%|██████████████████████                      | 4/8 [00:11<00:11,  2.89s/it]"
     ]
    },
    {
     "name": "stdout",
     "output_type": "stream",
     "text": [
      "Ada , Precision: 0.896226415094\n"
     ]
    },
    {
     "name": "stderr",
     "output_type": "stream",
     "text": [
      "\r",
      " 62%|███████████████████████████▌                | 5/8 [00:13<00:08,  2.87s/it]"
     ]
    },
    {
     "name": "stdout",
     "output_type": "stream",
     "text": [
      "NB , Precision: 0.954545454545\n"
     ]
    },
    {
     "name": "stderr",
     "output_type": "stream",
     "text": [
      "\r",
      " 75%|█████████████████████████████████           | 6/8 [00:14<00:04,  2.04s/it]"
     ]
    },
    {
     "name": "stdout",
     "output_type": "stream",
     "text": [
      "XGB , Precision: 0.960784313725\n"
     ]
    },
    {
     "name": "stderr",
     "output_type": "stream",
     "text": [
      "\r",
      " 88%|██████████████████████████████████████▌     | 7/8 [00:15<00:01,  1.97s/it]"
     ]
    },
    {
     "name": "stdout",
     "output_type": "stream",
     "text": [
      "SVM , Precision: 0.840277777778\n"
     ]
    },
    {
     "name": "stderr",
     "output_type": "stream",
     "text": [
      "100%|████████████████████████████████████████████| 8/8 [00:22<00:00,  3.25s/it]\n"
     ]
    },
    {
     "name": "stdout",
     "output_type": "stream",
     "text": [
      "8\n"
     ]
    },
    {
     "name": "stderr",
     "output_type": "stream",
     "text": [
      "100%|██████████████████████████████████████████| 18/18 [03:43<00:00, 12.44s/it]\n"
     ]
    },
    {
     "name": "stdout",
     "output_type": "stream",
     "text": [
      "Positive trainning sample size: 1003 \n",
      "\n",
      "Random Under Sampling\n"
     ]
    },
    {
     "name": "stderr",
     "output_type": "stream",
     "text": [
      "100%|██████████████████████████████████████████| 18/18 [00:55<00:00,  3.09s/it]\n"
     ]
    },
    {
     "name": "stdout",
     "output_type": "stream",
     "text": [
      "Negative trainning sample size: 1003 \n",
      "\n"
     ]
    },
    {
     "name": "stderr",
     "output_type": "stream",
     "text": [
      "\r",
      "  0%|                                                    | 0/8 [00:00<?, ?it/s]"
     ]
    },
    {
     "name": "stdout",
     "output_type": "stream",
     "text": [
      "KNN , Precision: 0.75\n"
     ]
    },
    {
     "name": "stderr",
     "output_type": "stream",
     "text": [
      "\r",
      " 12%|█████▌                                      | 1/8 [00:02<00:14,  2.14s/it]"
     ]
    },
    {
     "name": "stdout",
     "output_type": "stream",
     "text": [
      "RF , Precision: 0.810426540284\n"
     ]
    },
    {
     "name": "stderr",
     "output_type": "stream",
     "text": [
      "\r",
      " 25%|███████████                                 | 2/8 [00:02<00:09,  1.62s/it]"
     ]
    },
    {
     "name": "stdout",
     "output_type": "stream",
     "text": [
      "GBDT , Precision: 0.871559633028\n"
     ]
    },
    {
     "name": "stderr",
     "output_type": "stream",
     "text": [
      "\r",
      " 38%|████████████████▌                           | 3/8 [00:08<00:13,  2.79s/it]"
     ]
    },
    {
     "name": "stdout",
     "output_type": "stream",
     "text": [
      "LR , Precision: 0.887323943662\n"
     ]
    },
    {
     "name": "stderr",
     "output_type": "stream",
     "text": [
      "\r",
      " 50%|██████████████████████                      | 4/8 [00:09<00:09,  2.46s/it]"
     ]
    },
    {
     "name": "stdout",
     "output_type": "stream",
     "text": [
      "Ada , Precision: 0.866972477064\n"
     ]
    },
    {
     "name": "stderr",
     "output_type": "stream",
     "text": [
      "\r",
      " 62%|███████████████████████████▌                | 5/8 [00:12<00:07,  2.54s/it]"
     ]
    },
    {
     "name": "stdout",
     "output_type": "stream",
     "text": [
      "NB , Precision: 0.914473684211\n",
      "XGB , Precision: 0.951690821256\n"
     ]
    },
    {
     "name": "stderr",
     "output_type": "stream",
     "text": [
      "\r",
      " 88%|██████████████████████████████████████▌     | 7/8 [00:14<00:02,  2.00s/it]"
     ]
    },
    {
     "name": "stdout",
     "output_type": "stream",
     "text": [
      "SVM , Precision: 0.81935483871\n"
     ]
    },
    {
     "name": "stderr",
     "output_type": "stream",
     "text": [
      "100%|████████████████████████████████████████████| 8/8 [00:19<00:00,  3.20s/it]\n"
     ]
    },
    {
     "name": "stdout",
     "output_type": "stream",
     "text": [
      "9\n"
     ]
    },
    {
     "name": "stderr",
     "output_type": "stream",
     "text": [
      "100%|██████████████████████████████████████████| 18/18 [03:40<00:00, 12.04s/it]\n"
     ]
    },
    {
     "name": "stdout",
     "output_type": "stream",
     "text": [
      "Positive trainning sample size: 1003 \n",
      "\n",
      "Random Under Sampling\n"
     ]
    },
    {
     "name": "stderr",
     "output_type": "stream",
     "text": [
      "100%|██████████████████████████████████████████| 18/18 [00:54<00:00,  3.01s/it]\n"
     ]
    },
    {
     "name": "stdout",
     "output_type": "stream",
     "text": [
      "Negative trainning sample size: 1003 \n",
      "\n"
     ]
    },
    {
     "name": "stderr",
     "output_type": "stream",
     "text": [
      "\r",
      "  0%|                                                    | 0/8 [00:00<?, ?it/s]"
     ]
    },
    {
     "name": "stdout",
     "output_type": "stream",
     "text": [
      "KNN , Precision: 0.726872246696\n"
     ]
    },
    {
     "name": "stderr",
     "output_type": "stream",
     "text": [
      "\r",
      " 12%|█████▌                                      | 1/8 [00:02<00:17,  2.45s/it]"
     ]
    },
    {
     "name": "stdout",
     "output_type": "stream",
     "text": [
      "RF , Precision: 0.862944162437\n"
     ]
    },
    {
     "name": "stderr",
     "output_type": "stream",
     "text": [
      "\r",
      " 25%|███████████                                 | 2/8 [00:02<00:10,  1.83s/it]"
     ]
    },
    {
     "name": "stdout",
     "output_type": "stream",
     "text": [
      "GBDT , Precision: 0.875576036866\n"
     ]
    },
    {
     "name": "stderr",
     "output_type": "stream",
     "text": [
      "\r",
      " 38%|████████████████▌                           | 3/8 [00:08<00:14,  2.90s/it]"
     ]
    },
    {
     "name": "stdout",
     "output_type": "stream",
     "text": [
      "LR , Precision: 0.8779342723\n"
     ]
    },
    {
     "name": "stderr",
     "output_type": "stream",
     "text": [
      "\r",
      " 50%|██████████████████████                      | 4/8 [00:09<00:09,  2.46s/it]"
     ]
    },
    {
     "name": "stdout",
     "output_type": "stream",
     "text": [
      "Ada , Precision: 0.874418604651\n"
     ]
    },
    {
     "name": "stderr",
     "output_type": "stream",
     "text": [
      "\r",
      " 62%|███████████████████████████▌                | 5/8 [00:12<00:07,  2.50s/it]"
     ]
    },
    {
     "name": "stdout",
     "output_type": "stream",
     "text": [
      "NB , Precision: 0.736\n",
      "XGB , Precision: 0.960591133005\n"
     ]
    },
    {
     "name": "stderr",
     "output_type": "stream",
     "text": [
      "\r",
      " 88%|██████████████████████████████████████▌     | 7/8 [00:13<00:01,  1.98s/it]"
     ]
    },
    {
     "name": "stdout",
     "output_type": "stream",
     "text": [
      "SVM , Precision: 0.787096774194\n"
     ]
    },
    {
     "name": "stderr",
     "output_type": "stream",
     "text": [
      "100%|████████████████████████████████████████████| 8/8 [00:19<00:00,  3.17s/it]\n"
     ]
    },
    {
     "name": "stdout",
     "output_type": "stream",
     "text": [
      "10\n"
     ]
    },
    {
     "name": "stderr",
     "output_type": "stream",
     "text": [
      "100%|██████████████████████████████████████████| 18/18 [03:46<00:00, 12.86s/it]\n"
     ]
    },
    {
     "name": "stdout",
     "output_type": "stream",
     "text": [
      "Positive trainning sample size: 1003 \n",
      "\n",
      "Random Under Sampling\n"
     ]
    },
    {
     "name": "stderr",
     "output_type": "stream",
     "text": [
      "100%|██████████████████████████████████████████| 18/18 [00:56<00:00,  3.13s/it]\n"
     ]
    },
    {
     "name": "stdout",
     "output_type": "stream",
     "text": [
      "Negative trainning sample size: 1003 \n",
      "\n"
     ]
    },
    {
     "name": "stderr",
     "output_type": "stream",
     "text": [
      "\r",
      "  0%|                                                    | 0/8 [00:00<?, ?it/s]"
     ]
    },
    {
     "name": "stdout",
     "output_type": "stream",
     "text": [
      "KNN , Precision: 0.756756756757\n"
     ]
    },
    {
     "name": "stderr",
     "output_type": "stream",
     "text": [
      "\r",
      " 12%|█████▌                                      | 1/8 [00:02<00:15,  2.17s/it]"
     ]
    },
    {
     "name": "stdout",
     "output_type": "stream",
     "text": [
      "RF , Precision: 0.853658536585\n"
     ]
    },
    {
     "name": "stderr",
     "output_type": "stream",
     "text": [
      "\r",
      " 25%|███████████                                 | 2/8 [00:02<00:09,  1.64s/it]"
     ]
    },
    {
     "name": "stdout",
     "output_type": "stream",
     "text": [
      "GBDT , Precision: 0.917874396135\n"
     ]
    },
    {
     "name": "stderr",
     "output_type": "stream",
     "text": [
      "\r",
      " 38%|████████████████▌                           | 3/8 [00:08<00:14,  2.82s/it]"
     ]
    },
    {
     "name": "stdout",
     "output_type": "stream",
     "text": [
      "LR , Precision: 0.894736842105\n"
     ]
    },
    {
     "name": "stderr",
     "output_type": "stream",
     "text": [
      "\r",
      " 50%|██████████████████████                      | 4/8 [00:09<00:09,  2.40s/it]"
     ]
    },
    {
     "name": "stdout",
     "output_type": "stream",
     "text": [
      "Ada , Precision: 0.90099009901\n"
     ]
    },
    {
     "name": "stderr",
     "output_type": "stream",
     "text": [
      "\r",
      " 62%|███████████████████████████▌                | 5/8 [00:12<00:07,  2.47s/it]"
     ]
    },
    {
     "name": "stdout",
     "output_type": "stream",
     "text": [
      "NB , Precision: 0.928571428571\n",
      "XGB , Precision: 0.956097560976\n"
     ]
    },
    {
     "name": "stderr",
     "output_type": "stream",
     "text": [
      "\r",
      " 88%|██████████████████████████████████████▌     | 7/8 [00:13<00:01,  1.98s/it]"
     ]
    },
    {
     "name": "stdout",
     "output_type": "stream",
     "text": [
      "SVM , Precision: 0.854166666667\n"
     ]
    },
    {
     "name": "stderr",
     "output_type": "stream",
     "text": [
      "100%|████████████████████████████████████████████| 8/8 [00:20<00:00,  3.25s/it]\n"
     ]
    },
    {
     "name": "stdout",
     "output_type": "stream",
     "text": [
      "11\n"
     ]
    },
    {
     "name": "stderr",
     "output_type": "stream",
     "text": [
      "100%|██████████████████████████████████████████| 18/18 [03:50<00:00, 12.86s/it]\n"
     ]
    },
    {
     "name": "stdout",
     "output_type": "stream",
     "text": [
      "Positive trainning sample size: 1003 \n",
      "\n",
      "Random Under Sampling\n"
     ]
    },
    {
     "name": "stderr",
     "output_type": "stream",
     "text": [
      "100%|██████████████████████████████████████████| 18/18 [00:57<00:00,  3.22s/it]\n"
     ]
    },
    {
     "name": "stdout",
     "output_type": "stream",
     "text": [
      "Negative trainning sample size: 1003 \n",
      "\n"
     ]
    },
    {
     "name": "stderr",
     "output_type": "stream",
     "text": [
      "\r",
      "  0%|                                                    | 0/8 [00:00<?, ?it/s]"
     ]
    },
    {
     "name": "stdout",
     "output_type": "stream",
     "text": [
      "KNN , Precision: 0.78354978355\n"
     ]
    },
    {
     "name": "stderr",
     "output_type": "stream",
     "text": [
      "\r",
      " 12%|█████▌                                      | 1/8 [00:02<00:15,  2.19s/it]"
     ]
    },
    {
     "name": "stdout",
     "output_type": "stream",
     "text": [
      "RF , Precision: 0.845410628019\n"
     ]
    },
    {
     "name": "stderr",
     "output_type": "stream",
     "text": [
      "\r",
      " 25%|███████████                                 | 2/8 [00:02<00:09,  1.66s/it]"
     ]
    },
    {
     "name": "stdout",
     "output_type": "stream",
     "text": [
      "GBDT , Precision: 0.887323943662\n"
     ]
    },
    {
     "name": "stderr",
     "output_type": "stream",
     "text": [
      "\r",
      " 38%|████████████████▌                           | 3/8 [00:08<00:14,  2.86s/it]"
     ]
    },
    {
     "name": "stdout",
     "output_type": "stream",
     "text": [
      "LR , Precision: 0.880952380952\n"
     ]
    },
    {
     "name": "stderr",
     "output_type": "stream",
     "text": [
      "\r",
      " 50%|██████████████████████                      | 4/8 [00:09<00:09,  2.48s/it]"
     ]
    },
    {
     "name": "stdout",
     "output_type": "stream",
     "text": [
      "Ada , Precision: 0.869565217391\n"
     ]
    },
    {
     "name": "stderr",
     "output_type": "stream",
     "text": [
      "\r",
      " 62%|███████████████████████████▌                | 5/8 [00:12<00:07,  2.55s/it]"
     ]
    },
    {
     "name": "stdout",
     "output_type": "stream",
     "text": [
      "NB , Precision: 0.90625\n"
     ]
    },
    {
     "name": "stderr",
     "output_type": "stream",
     "text": [
      "\r",
      " 75%|█████████████████████████████████           | 6/8 [00:12<00:03,  1.82s/it]"
     ]
    },
    {
     "name": "stdout",
     "output_type": "stream",
     "text": [
      "XGB , Precision: 0.933333333333\n"
     ]
    },
    {
     "name": "stderr",
     "output_type": "stream",
     "text": [
      "\r",
      " 88%|██████████████████████████████████████▌     | 7/8 [00:14<00:01,  1.74s/it]"
     ]
    },
    {
     "name": "stdout",
     "output_type": "stream",
     "text": [
      "SVM , Precision: 0.837837837838\n"
     ]
    },
    {
     "name": "stderr",
     "output_type": "stream",
     "text": [
      "100%|████████████████████████████████████████████| 8/8 [00:20<00:00,  3.09s/it]\n"
     ]
    },
    {
     "name": "stdout",
     "output_type": "stream",
     "text": [
      "12\n"
     ]
    },
    {
     "name": "stderr",
     "output_type": "stream",
     "text": [
      "100%|██████████████████████████████████████████| 18/18 [03:46<00:00, 12.70s/it]\n"
     ]
    },
    {
     "name": "stdout",
     "output_type": "stream",
     "text": [
      "Positive trainning sample size: 1003 \n",
      "\n",
      "Random Under Sampling\n"
     ]
    },
    {
     "name": "stderr",
     "output_type": "stream",
     "text": [
      "100%|██████████████████████████████████████████| 18/18 [00:56<00:00,  3.14s/it]\n"
     ]
    },
    {
     "name": "stdout",
     "output_type": "stream",
     "text": [
      "Negative trainning sample size: 1003 \n",
      "\n"
     ]
    },
    {
     "name": "stderr",
     "output_type": "stream",
     "text": [
      "\r",
      "  0%|                                                    | 0/8 [00:00<?, ?it/s]"
     ]
    },
    {
     "name": "stdout",
     "output_type": "stream",
     "text": [
      "KNN , Precision: 0.754385964912\n"
     ]
    },
    {
     "name": "stderr",
     "output_type": "stream",
     "text": [
      "\r",
      " 12%|█████▌                                      | 1/8 [00:02<00:15,  2.23s/it]"
     ]
    },
    {
     "name": "stdout",
     "output_type": "stream",
     "text": [
      "RF , Precision: 0.892857142857\n"
     ]
    },
    {
     "name": "stderr",
     "output_type": "stream",
     "text": [
      "\r",
      " 25%|███████████                                 | 2/8 [00:02<00:10,  1.70s/it]"
     ]
    },
    {
     "name": "stdout",
     "output_type": "stream",
     "text": [
      "GBDT , Precision: 0.900473933649\n"
     ]
    },
    {
     "name": "stderr",
     "output_type": "stream",
     "text": [
      "\r",
      " 38%|████████████████▌                           | 3/8 [00:08<00:14,  2.94s/it]"
     ]
    },
    {
     "name": "stdout",
     "output_type": "stream",
     "text": [
      "LR , Precision: 0.867924528302\n"
     ]
    },
    {
     "name": "stderr",
     "output_type": "stream",
     "text": [
      "\r",
      " 50%|██████████████████████                      | 4/8 [00:09<00:09,  2.40s/it]"
     ]
    },
    {
     "name": "stdout",
     "output_type": "stream",
     "text": [
      "Ada , Precision: 0.88038277512\n"
     ]
    },
    {
     "name": "stderr",
     "output_type": "stream",
     "text": [
      "\r",
      " 62%|███████████████████████████▌                | 5/8 [00:12<00:07,  2.49s/it]"
     ]
    },
    {
     "name": "stdout",
     "output_type": "stream",
     "text": [
      "NB , Precision: 0.909090909091\n"
     ]
    },
    {
     "name": "stderr",
     "output_type": "stream",
     "text": [
      "\r",
      " 75%|█████████████████████████████████           | 6/8 [00:12<00:03,  1.78s/it]"
     ]
    },
    {
     "name": "stdout",
     "output_type": "stream",
     "text": [
      "XGB , Precision: 0.946601941748\n"
     ]
    },
    {
     "name": "stderr",
     "output_type": "stream",
     "text": [
      "\r",
      " 88%|██████████████████████████████████████▌     | 7/8 [00:13<00:01,  1.69s/it]"
     ]
    },
    {
     "name": "stdout",
     "output_type": "stream",
     "text": [
      "SVM , Precision: 0.848684210526\n"
     ]
    },
    {
     "name": "stderr",
     "output_type": "stream",
     "text": [
      "100%|████████████████████████████████████████████| 8/8 [00:20<00:00,  3.05s/it]\n"
     ]
    },
    {
     "name": "stdout",
     "output_type": "stream",
     "text": [
      "13\n"
     ]
    },
    {
     "name": "stderr",
     "output_type": "stream",
     "text": [
      "100%|██████████████████████████████████████████| 18/18 [03:43<00:00, 12.46s/it]\n"
     ]
    },
    {
     "name": "stdout",
     "output_type": "stream",
     "text": [
      "Positive trainning sample size: 1003 \n",
      "\n",
      "Random Under Sampling\n"
     ]
    },
    {
     "name": "stderr",
     "output_type": "stream",
     "text": [
      "100%|██████████████████████████████████████████| 18/18 [00:56<00:00,  3.11s/it]\n"
     ]
    },
    {
     "name": "stdout",
     "output_type": "stream",
     "text": [
      "Negative trainning sample size: 1003 \n",
      "\n"
     ]
    },
    {
     "name": "stderr",
     "output_type": "stream",
     "text": [
      "\r",
      "  0%|                                                    | 0/8 [00:00<?, ?it/s]"
     ]
    },
    {
     "name": "stdout",
     "output_type": "stream",
     "text": [
      "KNN , Precision: 0.799043062201\n"
     ]
    },
    {
     "name": "stderr",
     "output_type": "stream",
     "text": [
      "\r",
      " 12%|█████▌                                      | 1/8 [00:02<00:15,  2.14s/it]"
     ]
    },
    {
     "name": "stdout",
     "output_type": "stream",
     "text": [
      "RF , Precision: 0.910052910053\n"
     ]
    },
    {
     "name": "stderr",
     "output_type": "stream",
     "text": [
      "\r",
      " 25%|███████████                                 | 2/8 [00:02<00:09,  1.62s/it]"
     ]
    },
    {
     "name": "stdout",
     "output_type": "stream",
     "text": [
      "GBDT , Precision: 0.913875598086\n"
     ]
    },
    {
     "name": "stderr",
     "output_type": "stream",
     "text": [
      "\r",
      " 38%|████████████████▌                           | 3/8 [00:08<00:14,  2.82s/it]"
     ]
    },
    {
     "name": "stdout",
     "output_type": "stream",
     "text": [
      "LR , Precision: 0.911764705882\n"
     ]
    },
    {
     "name": "stderr",
     "output_type": "stream",
     "text": [
      "\r",
      " 50%|██████████████████████                      | 4/8 [00:10<00:10,  2.55s/it]"
     ]
    },
    {
     "name": "stdout",
     "output_type": "stream",
     "text": [
      "Ada , Precision: 0.88038277512\n"
     ]
    },
    {
     "name": "stderr",
     "output_type": "stream",
     "text": [
      "\r",
      " 62%|███████████████████████████▌                | 5/8 [00:12<00:07,  2.62s/it]"
     ]
    },
    {
     "name": "stdout",
     "output_type": "stream",
     "text": [
      "NB , Precision: 0.920863309353\n",
      "XGB , Precision: 0.960591133005\n"
     ]
    },
    {
     "name": "stderr",
     "output_type": "stream",
     "text": [
      "\r",
      " 88%|██████████████████████████████████████▌     | 7/8 [00:14<00:02,  2.07s/it]"
     ]
    },
    {
     "name": "stdout",
     "output_type": "stream",
     "text": [
      "SVM , Precision: 0.897810218978\n"
     ]
    },
    {
     "name": "stderr",
     "output_type": "stream",
     "text": [
      "100%|████████████████████████████████████████████| 8/8 [00:20<00:00,  3.28s/it]\n"
     ]
    },
    {
     "name": "stdout",
     "output_type": "stream",
     "text": [
      "14\n"
     ]
    },
    {
     "name": "stderr",
     "output_type": "stream",
     "text": [
      "100%|██████████████████████████████████████████| 18/18 [03:46<00:00, 12.75s/it]\n"
     ]
    },
    {
     "name": "stdout",
     "output_type": "stream",
     "text": [
      "Positive trainning sample size: 1003 \n",
      "\n",
      "Random Under Sampling\n"
     ]
    },
    {
     "name": "stderr",
     "output_type": "stream",
     "text": [
      "100%|██████████████████████████████████████████| 18/18 [00:56<00:00,  3.10s/it]\n"
     ]
    },
    {
     "name": "stdout",
     "output_type": "stream",
     "text": [
      "Negative trainning sample size: 1003 \n",
      "\n"
     ]
    },
    {
     "name": "stderr",
     "output_type": "stream",
     "text": [
      "\r",
      "  0%|                                                    | 0/8 [00:00<?, ?it/s]"
     ]
    },
    {
     "name": "stdout",
     "output_type": "stream",
     "text": [
      "KNN , Precision: 0.758620689655\n"
     ]
    },
    {
     "name": "stderr",
     "output_type": "stream",
     "text": [
      "\r",
      " 12%|█████▌                                      | 1/8 [00:02<00:15,  2.24s/it]"
     ]
    },
    {
     "name": "stdout",
     "output_type": "stream",
     "text": [
      "RF , Precision: 0.848484848485\n"
     ]
    },
    {
     "name": "stderr",
     "output_type": "stream",
     "text": [
      "\r",
      " 25%|███████████                                 | 2/8 [00:02<00:10,  1.68s/it]"
     ]
    },
    {
     "name": "stdout",
     "output_type": "stream",
     "text": [
      "GBDT , Precision: 0.889423076923\n"
     ]
    },
    {
     "name": "stderr",
     "output_type": "stream",
     "text": [
      "\r",
      " 38%|████████████████▌                           | 3/8 [00:08<00:14,  2.85s/it]"
     ]
    },
    {
     "name": "stdout",
     "output_type": "stream",
     "text": [
      "LR , Precision: 0.894230769231\n"
     ]
    },
    {
     "name": "stderr",
     "output_type": "stream",
     "text": [
      "\r",
      " 50%|██████████████████████                      | 4/8 [00:09<00:09,  2.37s/it]"
     ]
    },
    {
     "name": "stdout",
     "output_type": "stream",
     "text": [
      "Ada , Precision: 0.889423076923\n"
     ]
    },
    {
     "name": "stderr",
     "output_type": "stream",
     "text": [
      "\r",
      " 62%|███████████████████████████▌                | 5/8 [00:12<00:07,  2.47s/it]"
     ]
    },
    {
     "name": "stdout",
     "output_type": "stream",
     "text": [
      "NB , Precision: 0.917355371901\n",
      "XGB , Precision: 0.951923076923\n"
     ]
    },
    {
     "name": "stderr",
     "output_type": "stream",
     "text": [
      "\r",
      " 88%|██████████████████████████████████████▌     | 7/8 [00:13<00:01,  1.96s/it]"
     ]
    },
    {
     "name": "stdout",
     "output_type": "stream",
     "text": [
      "SVM , Precision: 0.872340425532\n"
     ]
    },
    {
     "name": "stderr",
     "output_type": "stream",
     "text": [
      "100%|████████████████████████████████████████████| 8/8 [00:19<00:00,  3.21s/it]\n"
     ]
    },
    {
     "name": "stdout",
     "output_type": "stream",
     "text": [
      "蕾絲 162116\n",
      "0\n"
     ]
    },
    {
     "name": "stderr",
     "output_type": "stream",
     "text": [
      "100%|██████████████████████████████████████████| 19/19 [03:22<00:00, 10.66s/it]\n"
     ]
    },
    {
     "name": "stdout",
     "output_type": "stream",
     "text": [
      "Positive trainning sample size: 182 \n",
      "\n",
      "Random Under Sampling\n"
     ]
    },
    {
     "name": "stderr",
     "output_type": "stream",
     "text": [
      "100%|██████████████████████████████████████████| 19/19 [00:11<00:00,  1.74it/s]\n"
     ]
    },
    {
     "name": "stdout",
     "output_type": "stream",
     "text": [
      "Negative trainning sample size: 182 \n",
      "\n"
     ]
    },
    {
     "name": "stderr",
     "output_type": "stream",
     "text": [
      "\r",
      "  0%|                                                    | 0/8 [00:00<?, ?it/s]"
     ]
    },
    {
     "name": "stdout",
     "output_type": "stream",
     "text": [
      "KNN , Precision: 0.805555555556\n"
     ]
    },
    {
     "name": "stderr",
     "output_type": "stream",
     "text": [
      "\r",
      " 12%|█████▌                                      | 1/8 [00:00<00:01,  6.02it/s]"
     ]
    },
    {
     "name": "stdout",
     "output_type": "stream",
     "text": [
      "RF , Precision: 0.969696969697\n"
     ]
    },
    {
     "name": "stderr",
     "output_type": "stream",
     "text": [
      "\r",
      " 25%|███████████                                 | 2/8 [00:00<00:01,  5.39it/s]"
     ]
    },
    {
     "name": "stdout",
     "output_type": "stream",
     "text": [
      "GBDT , Precision: 0.942857142857\n"
     ]
    },
    {
     "name": "stderr",
     "output_type": "stream",
     "text": [
      "\r",
      " 38%|████████████████▌                           | 3/8 [00:01<00:02,  1.91it/s]"
     ]
    },
    {
     "name": "stdout",
     "output_type": "stream",
     "text": [
      "LR , Precision: 0.918918918919\n"
     ]
    },
    {
     "name": "stderr",
     "output_type": "stream",
     "text": [
      "\r",
      " 50%|██████████████████████                      | 4/8 [00:01<00:01,  2.31it/s]"
     ]
    },
    {
     "name": "stdout",
     "output_type": "stream",
     "text": [
      "Ada , Precision: 1.0\n"
     ]
    },
    {
     "name": "stderr",
     "output_type": "stream",
     "text": [
      "\r",
      " 62%|███████████████████████████▌                | 5/8 [00:03<00:01,  1.56it/s]"
     ]
    },
    {
     "name": "stdout",
     "output_type": "stream",
     "text": [
      "NB , Precision: 0.914285714286\n",
      "XGB , Precision: 0.918918918919\n"
     ]
    },
    {
     "name": "stderr",
     "output_type": "stream",
     "text": [
      "\r",
      " 88%|██████████████████████████████████████▌     | 7/8 [00:03<00:00,  1.83it/s]"
     ]
    },
    {
     "name": "stdout",
     "output_type": "stream",
     "text": [
      "SVM , Precision: 0.543859649123\n"
     ]
    },
    {
     "name": "stderr",
     "output_type": "stream",
     "text": [
      "100%|████████████████████████████████████████████| 8/8 [00:03<00:00,  2.17it/s]\n"
     ]
    },
    {
     "name": "stdout",
     "output_type": "stream",
     "text": [
      "1\n"
     ]
    },
    {
     "name": "stderr",
     "output_type": "stream",
     "text": [
      "100%|██████████████████████████████████████████| 19/19 [03:21<00:00, 10.70s/it]\n"
     ]
    },
    {
     "name": "stdout",
     "output_type": "stream",
     "text": [
      "Positive trainning sample size: 182 \n",
      "\n",
      "Random Under Sampling\n"
     ]
    },
    {
     "name": "stderr",
     "output_type": "stream",
     "text": [
      "100%|██████████████████████████████████████████| 19/19 [00:11<00:00,  1.74it/s]\n"
     ]
    },
    {
     "name": "stdout",
     "output_type": "stream",
     "text": [
      "Negative trainning sample size: 182 \n",
      "\n"
     ]
    },
    {
     "name": "stderr",
     "output_type": "stream",
     "text": [
      "\r",
      "  0%|                                                    | 0/8 [00:00<?, ?it/s]"
     ]
    },
    {
     "name": "stdout",
     "output_type": "stream",
     "text": [
      "KNN , Precision: 0.763157894737\n"
     ]
    },
    {
     "name": "stderr",
     "output_type": "stream",
     "text": [
      "\r",
      " 12%|█████▌                                      | 1/8 [00:00<00:01,  5.85it/s]"
     ]
    },
    {
     "name": "stdout",
     "output_type": "stream",
     "text": [
      "RF , Precision: 0.939393939394\n"
     ]
    },
    {
     "name": "stderr",
     "output_type": "stream",
     "text": [
      "\r",
      " 25%|███████████                                 | 2/8 [00:00<00:01,  5.58it/s]"
     ]
    },
    {
     "name": "stdout",
     "output_type": "stream",
     "text": [
      "GBDT , Precision: 0.942857142857\n"
     ]
    },
    {
     "name": "stderr",
     "output_type": "stream",
     "text": [
      "\r",
      " 38%|████████████████▌                           | 3/8 [00:01<00:02,  1.98it/s]"
     ]
    },
    {
     "name": "stdout",
     "output_type": "stream",
     "text": [
      "LR , Precision: 0.894736842105\n"
     ]
    },
    {
     "name": "stderr",
     "output_type": "stream",
     "text": [
      "\r",
      " 50%|██████████████████████                      | 4/8 [00:01<00:01,  2.47it/s]"
     ]
    },
    {
     "name": "stdout",
     "output_type": "stream",
     "text": [
      "Ada , Precision: 0.918918918919\n"
     ]
    },
    {
     "name": "stderr",
     "output_type": "stream",
     "text": [
      "\r",
      " 62%|███████████████████████████▌                | 5/8 [00:02<00:01,  1.59it/s]"
     ]
    },
    {
     "name": "stdout",
     "output_type": "stream",
     "text": [
      "NB , Precision: 0.851851851852\n",
      "XGB , Precision: 0.918918918919\n"
     ]
    },
    {
     "name": "stderr",
     "output_type": "stream",
     "text": [
      "\r",
      " 88%|██████████████████████████████████████▌     | 7/8 [00:03<00:00,  1.83it/s]"
     ]
    },
    {
     "name": "stdout",
     "output_type": "stream",
     "text": [
      "SVM , Precision: 0.516129032258\n"
     ]
    },
    {
     "name": "stderr",
     "output_type": "stream",
     "text": [
      "100%|████████████████████████████████████████████| 8/8 [00:03<00:00,  2.15it/s]\n"
     ]
    },
    {
     "name": "stdout",
     "output_type": "stream",
     "text": [
      "2\n"
     ]
    },
    {
     "name": "stderr",
     "output_type": "stream",
     "text": [
      "100%|██████████████████████████████████████████| 19/19 [03:23<00:00, 10.75s/it]\n"
     ]
    },
    {
     "name": "stdout",
     "output_type": "stream",
     "text": [
      "Positive trainning sample size: 182 \n",
      "\n",
      "Random Under Sampling\n"
     ]
    },
    {
     "name": "stderr",
     "output_type": "stream",
     "text": [
      "100%|██████████████████████████████████████████| 19/19 [00:10<00:00,  1.74it/s]\n"
     ]
    },
    {
     "name": "stdout",
     "output_type": "stream",
     "text": [
      "Negative trainning sample size: 182 \n",
      "\n"
     ]
    },
    {
     "name": "stderr",
     "output_type": "stream",
     "text": [
      "\r",
      "  0%|                                                    | 0/8 [00:00<?, ?it/s]"
     ]
    },
    {
     "name": "stdout",
     "output_type": "stream",
     "text": [
      "KNN , Precision: 0.857142857143\n"
     ]
    },
    {
     "name": "stderr",
     "output_type": "stream",
     "text": [
      "\r",
      " 12%|█████▌                                      | 1/8 [00:00<00:01,  6.37it/s]"
     ]
    },
    {
     "name": "stdout",
     "output_type": "stream",
     "text": [
      "RF , Precision: 1.0\n"
     ]
    },
    {
     "name": "stderr",
     "output_type": "stream",
     "text": [
      "\r",
      " 25%|███████████                                 | 2/8 [00:00<00:01,  5.59it/s]"
     ]
    },
    {
     "name": "stdout",
     "output_type": "stream",
     "text": [
      "GBDT , Precision: 0.970588235294\n"
     ]
    },
    {
     "name": "stderr",
     "output_type": "stream",
     "text": [
      "\r",
      " 38%|████████████████▌                           | 3/8 [00:01<00:02,  1.98it/s]"
     ]
    },
    {
     "name": "stdout",
     "output_type": "stream",
     "text": [
      "LR , Precision: 0.970588235294\n"
     ]
    },
    {
     "name": "stderr",
     "output_type": "stream",
     "text": [
      "\r",
      " 50%|██████████████████████                      | 4/8 [00:01<00:01,  2.40it/s]"
     ]
    },
    {
     "name": "stdout",
     "output_type": "stream",
     "text": [
      "Ada , Precision: 0.941176470588\n"
     ]
    },
    {
     "name": "stderr",
     "output_type": "stream",
     "text": [
      "\r",
      " 62%|███████████████████████████▌                | 5/8 [00:02<00:01,  1.61it/s]"
     ]
    },
    {
     "name": "stdout",
     "output_type": "stream",
     "text": [
      "NB , Precision: 0.952380952381\n",
      "XGB , Precision: 0.971428571429\n"
     ]
    },
    {
     "name": "stderr",
     "output_type": "stream",
     "text": [
      "\r",
      " 88%|██████████████████████████████████████▌     | 7/8 [00:03<00:00,  1.89it/s]"
     ]
    },
    {
     "name": "stdout",
     "output_type": "stream",
     "text": [
      "SVM , Precision: 0.596153846154\n"
     ]
    },
    {
     "name": "stderr",
     "output_type": "stream",
     "text": [
      "100%|████████████████████████████████████████████| 8/8 [00:03<00:00,  2.24it/s]\n"
     ]
    },
    {
     "name": "stdout",
     "output_type": "stream",
     "text": [
      "3\n"
     ]
    },
    {
     "name": "stderr",
     "output_type": "stream",
     "text": [
      "100%|██████████████████████████████████████████| 19/19 [03:30<00:00, 10.98s/it]\n"
     ]
    },
    {
     "name": "stdout",
     "output_type": "stream",
     "text": [
      "Positive trainning sample size: 182 \n",
      "\n",
      "Random Under Sampling\n"
     ]
    },
    {
     "name": "stderr",
     "output_type": "stream",
     "text": [
      "100%|██████████████████████████████████████████| 19/19 [00:11<00:00,  1.71it/s]\n"
     ]
    },
    {
     "name": "stdout",
     "output_type": "stream",
     "text": [
      "Negative trainning sample size: 182 \n",
      "\n"
     ]
    },
    {
     "name": "stderr",
     "output_type": "stream",
     "text": [
      "\r",
      "  0%|                                                    | 0/8 [00:00<?, ?it/s]"
     ]
    },
    {
     "name": "stdout",
     "output_type": "stream",
     "text": [
      "KNN , Precision: 0.848484848485\n"
     ]
    },
    {
     "name": "stderr",
     "output_type": "stream",
     "text": [
      "\r",
      " 12%|█████▌                                      | 1/8 [00:00<00:01,  4.98it/s]"
     ]
    },
    {
     "name": "stdout",
     "output_type": "stream",
     "text": [
      "RF , Precision: 0.882352941176\n"
     ]
    },
    {
     "name": "stderr",
     "output_type": "stream",
     "text": [
      "\r",
      " 25%|███████████                                 | 2/8 [00:00<00:01,  4.65it/s]"
     ]
    },
    {
     "name": "stdout",
     "output_type": "stream",
     "text": [
      "GBDT , Precision: 0.891891891892\n"
     ]
    },
    {
     "name": "stderr",
     "output_type": "stream",
     "text": [
      "\r",
      " 38%|████████████████▌                           | 3/8 [00:01<00:02,  1.90it/s]"
     ]
    },
    {
     "name": "stdout",
     "output_type": "stream",
     "text": [
      "LR , Precision: 0.918918918919\n"
     ]
    },
    {
     "name": "stderr",
     "output_type": "stream",
     "text": [
      "\r",
      " 50%|██████████████████████                      | 4/8 [00:01<00:01,  2.30it/s]"
     ]
    },
    {
     "name": "stdout",
     "output_type": "stream",
     "text": [
      "Ada , Precision: 0.891891891892\n"
     ]
    },
    {
     "name": "stderr",
     "output_type": "stream",
     "text": [
      "\r",
      " 62%|███████████████████████████▌                | 5/8 [00:03<00:01,  1.57it/s]"
     ]
    },
    {
     "name": "stdout",
     "output_type": "stream",
     "text": [
      "NB , Precision: 0.954545454545\n",
      "XGB , Precision: 0.918918918919\n"
     ]
    },
    {
     "name": "stderr",
     "output_type": "stream",
     "text": [
      "\r",
      " 88%|██████████████████████████████████████▌     | 7/8 [00:03<00:00,  1.83it/s]"
     ]
    },
    {
     "name": "stdout",
     "output_type": "stream",
     "text": [
      "SVM , Precision: 0.627450980392\n"
     ]
    },
    {
     "name": "stderr",
     "output_type": "stream",
     "text": [
      "100%|████████████████████████████████████████████| 8/8 [00:03<00:00,  2.17it/s]\n"
     ]
    },
    {
     "name": "stdout",
     "output_type": "stream",
     "text": [
      "4\n"
     ]
    },
    {
     "name": "stderr",
     "output_type": "stream",
     "text": [
      "100%|██████████████████████████████████████████| 19/19 [03:20<00:00, 10.47s/it]\n"
     ]
    },
    {
     "name": "stdout",
     "output_type": "stream",
     "text": [
      "Positive trainning sample size: 182 \n",
      "\n",
      "Random Under Sampling\n"
     ]
    },
    {
     "name": "stderr",
     "output_type": "stream",
     "text": [
      "100%|██████████████████████████████████████████| 19/19 [00:10<00:00,  1.79it/s]\n"
     ]
    },
    {
     "name": "stdout",
     "output_type": "stream",
     "text": [
      "Negative trainning sample size: 182 \n",
      "\n"
     ]
    },
    {
     "name": "stderr",
     "output_type": "stream",
     "text": [
      "\r",
      "  0%|                                                    | 0/8 [00:00<?, ?it/s]"
     ]
    },
    {
     "name": "stdout",
     "output_type": "stream",
     "text": [
      "KNN , Precision: 0.722222222222\n"
     ]
    },
    {
     "name": "stderr",
     "output_type": "stream",
     "text": [
      "\r",
      " 12%|█████▌                                      | 1/8 [00:00<00:01,  6.21it/s]"
     ]
    },
    {
     "name": "stdout",
     "output_type": "stream",
     "text": [
      "RF , Precision: 0.891891891892\n"
     ]
    },
    {
     "name": "stderr",
     "output_type": "stream",
     "text": [
      "\r",
      " 25%|███████████                                 | 2/8 [00:00<00:01,  5.76it/s]"
     ]
    },
    {
     "name": "stdout",
     "output_type": "stream",
     "text": [
      "GBDT , Precision: 0.914285714286\n"
     ]
    },
    {
     "name": "stderr",
     "output_type": "stream",
     "text": [
      "\r",
      " 38%|████████████████▌                           | 3/8 [00:01<00:02,  2.03it/s]"
     ]
    },
    {
     "name": "stdout",
     "output_type": "stream",
     "text": [
      "LR , Precision: 0.891891891892\n"
     ]
    },
    {
     "name": "stderr",
     "output_type": "stream",
     "text": [
      "\r",
      " 50%|██████████████████████                      | 4/8 [00:01<00:01,  2.62it/s]"
     ]
    },
    {
     "name": "stdout",
     "output_type": "stream",
     "text": [
      "Ada , Precision: 0.891891891892\n"
     ]
    },
    {
     "name": "stderr",
     "output_type": "stream",
     "text": [
      "\r",
      " 62%|███████████████████████████▌                | 5/8 [00:02<00:01,  1.69it/s]"
     ]
    },
    {
     "name": "stdout",
     "output_type": "stream",
     "text": [
      "NB , Precision: 0.888888888889\n",
      "XGB , Precision: 0.944444444444\n"
     ]
    },
    {
     "name": "stderr",
     "output_type": "stream",
     "text": [
      "\r",
      " 88%|██████████████████████████████████████▌     | 7/8 [00:03<00:00,  1.90it/s]"
     ]
    },
    {
     "name": "stdout",
     "output_type": "stream",
     "text": [
      "SVM , Precision: 0.492063492063\n"
     ]
    },
    {
     "name": "stderr",
     "output_type": "stream",
     "text": [
      "100%|████████████████████████████████████████████| 8/8 [00:03<00:00,  2.28it/s]\n"
     ]
    },
    {
     "name": "stdout",
     "output_type": "stream",
     "text": [
      "5\n"
     ]
    },
    {
     "name": "stderr",
     "output_type": "stream",
     "text": [
      "100%|██████████████████████████████████████████| 19/19 [03:23<00:00, 11.00s/it]\n"
     ]
    },
    {
     "name": "stdout",
     "output_type": "stream",
     "text": [
      "Positive trainning sample size: 182 \n",
      "\n",
      "Random Under Sampling\n"
     ]
    },
    {
     "name": "stderr",
     "output_type": "stream",
     "text": [
      "100%|██████████████████████████████████████████| 19/19 [00:10<00:00,  1.71it/s]\n"
     ]
    },
    {
     "name": "stdout",
     "output_type": "stream",
     "text": [
      "Negative trainning sample size: 182 \n",
      "\n"
     ]
    },
    {
     "name": "stderr",
     "output_type": "stream",
     "text": [
      "\r",
      "  0%|                                                    | 0/8 [00:00<?, ?it/s]"
     ]
    },
    {
     "name": "stdout",
     "output_type": "stream",
     "text": [
      "KNN , Precision: 0.710526315789\n"
     ]
    },
    {
     "name": "stderr",
     "output_type": "stream",
     "text": [
      "\r",
      " 12%|█████▌                                      | 1/8 [00:00<00:01,  6.33it/s]"
     ]
    },
    {
     "name": "stdout",
     "output_type": "stream",
     "text": [
      "RF , Precision: 0.916666666667\n"
     ]
    },
    {
     "name": "stderr",
     "output_type": "stream",
     "text": [
      "\r",
      " 25%|███████████                                 | 2/8 [00:00<00:01,  5.67it/s]"
     ]
    },
    {
     "name": "stdout",
     "output_type": "stream",
     "text": [
      "GBDT , Precision: 0.918918918919\n"
     ]
    },
    {
     "name": "stderr",
     "output_type": "stream",
     "text": [
      "\r",
      " 38%|████████████████▌                           | 3/8 [00:01<00:02,  2.06it/s]"
     ]
    },
    {
     "name": "stdout",
     "output_type": "stream",
     "text": [
      "LR , Precision: 0.918918918919\n"
     ]
    },
    {
     "name": "stderr",
     "output_type": "stream",
     "text": [
      "\r",
      " 50%|██████████████████████                      | 4/8 [00:01<00:01,  2.58it/s]"
     ]
    },
    {
     "name": "stdout",
     "output_type": "stream",
     "text": [
      "Ada , Precision: 0.942857142857\n"
     ]
    },
    {
     "name": "stderr",
     "output_type": "stream",
     "text": [
      "\r",
      " 62%|███████████████████████████▌                | 5/8 [00:02<00:01,  1.67it/s]"
     ]
    },
    {
     "name": "stdout",
     "output_type": "stream",
     "text": [
      "NB , Precision: 1.0\n",
      "XGB , Precision: 0.971428571429\n"
     ]
    },
    {
     "name": "stderr",
     "output_type": "stream",
     "text": [
      "\r",
      " 88%|██████████████████████████████████████▌     | 7/8 [00:03<00:00,  1.87it/s]"
     ]
    },
    {
     "name": "stdout",
     "output_type": "stream",
     "text": [
      "SVM , Precision: 0.566666666667\n"
     ]
    },
    {
     "name": "stderr",
     "output_type": "stream",
     "text": [
      "100%|████████████████████████████████████████████| 8/8 [00:03<00:00,  2.18it/s]\n"
     ]
    },
    {
     "name": "stdout",
     "output_type": "stream",
     "text": [
      "6\n"
     ]
    },
    {
     "name": "stderr",
     "output_type": "stream",
     "text": [
      "100%|██████████████████████████████████████████| 19/19 [03:15<00:00, 10.32s/it]\n"
     ]
    },
    {
     "name": "stdout",
     "output_type": "stream",
     "text": [
      "Positive trainning sample size: 182 \n",
      "\n",
      "Random Under Sampling\n"
     ]
    },
    {
     "name": "stderr",
     "output_type": "stream",
     "text": [
      "100%|██████████████████████████████████████████| 19/19 [00:10<00:00,  1.71it/s]\n"
     ]
    },
    {
     "name": "stdout",
     "output_type": "stream",
     "text": [
      "Negative trainning sample size: 182 \n",
      "\n"
     ]
    },
    {
     "name": "stderr",
     "output_type": "stream",
     "text": [
      "\r",
      "  0%|                                                    | 0/8 [00:00<?, ?it/s]"
     ]
    },
    {
     "name": "stdout",
     "output_type": "stream",
     "text": [
      "KNN , Precision: 0.775\n"
     ]
    },
    {
     "name": "stderr",
     "output_type": "stream",
     "text": [
      "\r",
      " 12%|█████▌                                      | 1/8 [00:00<00:01,  5.78it/s]"
     ]
    },
    {
     "name": "stdout",
     "output_type": "stream",
     "text": [
      "RF , Precision: 0.871794871795\n"
     ]
    },
    {
     "name": "stderr",
     "output_type": "stream",
     "text": [
      "\r",
      " 25%|███████████                                 | 2/8 [00:00<00:01,  5.48it/s]"
     ]
    },
    {
     "name": "stdout",
     "output_type": "stream",
     "text": [
      "GBDT , Precision: 0.916666666667\n"
     ]
    },
    {
     "name": "stderr",
     "output_type": "stream",
     "text": [
      "\r",
      " 38%|████████████████▌                           | 3/8 [00:01<00:02,  1.95it/s]"
     ]
    },
    {
     "name": "stdout",
     "output_type": "stream",
     "text": [
      "LR , Precision: 0.891891891892\n"
     ]
    },
    {
     "name": "stderr",
     "output_type": "stream",
     "text": [
      "\r",
      " 50%|██████████████████████                      | 4/8 [00:01<00:01,  2.47it/s]"
     ]
    },
    {
     "name": "stdout",
     "output_type": "stream",
     "text": [
      "Ada , Precision: 0.871794871795\n"
     ]
    },
    {
     "name": "stderr",
     "output_type": "stream",
     "text": [
      "\r",
      " 62%|███████████████████████████▌                | 5/8 [00:02<00:01,  1.62it/s]"
     ]
    },
    {
     "name": "stdout",
     "output_type": "stream",
     "text": [
      "NB , Precision: 0.904761904762\n",
      "XGB , Precision: 0.918918918919\n"
     ]
    },
    {
     "name": "stderr",
     "output_type": "stream",
     "text": [
      "\r",
      " 88%|██████████████████████████████████████▌     | 7/8 [00:03<00:00,  1.90it/s]"
     ]
    },
    {
     "name": "stdout",
     "output_type": "stream",
     "text": [
      "SVM , Precision: 0.584905660377\n"
     ]
    },
    {
     "name": "stderr",
     "output_type": "stream",
     "text": [
      "100%|████████████████████████████████████████████| 8/8 [00:03<00:00,  2.25it/s]\n"
     ]
    },
    {
     "name": "stdout",
     "output_type": "stream",
     "text": [
      "7\n"
     ]
    },
    {
     "name": "stderr",
     "output_type": "stream",
     "text": [
      "100%|██████████████████████████████████████████| 19/19 [03:15<00:00, 10.39s/it]\n"
     ]
    },
    {
     "name": "stdout",
     "output_type": "stream",
     "text": [
      "Positive trainning sample size: 182 \n",
      "\n",
      "Random Under Sampling\n"
     ]
    },
    {
     "name": "stderr",
     "output_type": "stream",
     "text": [
      "100%|██████████████████████████████████████████| 19/19 [00:11<00:00,  1.67it/s]\n"
     ]
    },
    {
     "name": "stdout",
     "output_type": "stream",
     "text": [
      "Negative trainning sample size: 182 \n",
      "\n"
     ]
    },
    {
     "name": "stderr",
     "output_type": "stream",
     "text": [
      "\r",
      "  0%|                                                    | 0/8 [00:00<?, ?it/s]"
     ]
    },
    {
     "name": "stdout",
     "output_type": "stream",
     "text": [
      "KNN , Precision: 0.848484848485\n"
     ]
    },
    {
     "name": "stderr",
     "output_type": "stream",
     "text": [
      "\r",
      " 12%|█████▌                                      | 1/8 [00:00<00:01,  5.75it/s]"
     ]
    },
    {
     "name": "stdout",
     "output_type": "stream",
     "text": [
      "RF , Precision: 0.939393939394\n"
     ]
    },
    {
     "name": "stderr",
     "output_type": "stream",
     "text": [
      "\r",
      " 25%|███████████                                 | 2/8 [00:00<00:01,  5.33it/s]"
     ]
    },
    {
     "name": "stdout",
     "output_type": "stream",
     "text": [
      "GBDT , Precision: 0.916666666667\n"
     ]
    },
    {
     "name": "stderr",
     "output_type": "stream",
     "text": [
      "\r",
      " 38%|████████████████▌                           | 3/8 [00:01<00:02,  2.03it/s]"
     ]
    },
    {
     "name": "stdout",
     "output_type": "stream",
     "text": [
      "LR , Precision: 0.85\n"
     ]
    },
    {
     "name": "stderr",
     "output_type": "stream",
     "text": [
      "\r",
      " 50%|██████████████████████                      | 4/8 [00:01<00:01,  2.55it/s]"
     ]
    },
    {
     "name": "stdout",
     "output_type": "stream",
     "text": [
      "Ada , Precision: 0.971428571429\n"
     ]
    },
    {
     "name": "stderr",
     "output_type": "stream",
     "text": [
      "\r",
      " 62%|███████████████████████████▌                | 5/8 [00:02<00:01,  1.67it/s]"
     ]
    },
    {
     "name": "stdout",
     "output_type": "stream",
     "text": [
      "NB , Precision: 1.0\n",
      "XGB , Precision: 0.918918918919\n"
     ]
    },
    {
     "name": "stderr",
     "output_type": "stream",
     "text": [
      "\r",
      " 88%|██████████████████████████████████████▌     | 7/8 [00:03<00:00,  1.96it/s]"
     ]
    },
    {
     "name": "stdout",
     "output_type": "stream",
     "text": [
      "SVM , Precision: 0.62962962963\n"
     ]
    },
    {
     "name": "stderr",
     "output_type": "stream",
     "text": [
      "100%|████████████████████████████████████████████| 8/8 [00:03<00:00,  2.31it/s]\n"
     ]
    },
    {
     "name": "stdout",
     "output_type": "stream",
     "text": [
      "8\n"
     ]
    },
    {
     "name": "stderr",
     "output_type": "stream",
     "text": [
      "100%|██████████████████████████████████████████| 19/19 [03:20<00:00, 10.37s/it]\n"
     ]
    },
    {
     "name": "stdout",
     "output_type": "stream",
     "text": [
      "Positive trainning sample size: 182 \n",
      "\n",
      "Random Under Sampling\n"
     ]
    },
    {
     "name": "stderr",
     "output_type": "stream",
     "text": [
      "100%|██████████████████████████████████████████| 19/19 [00:10<00:00,  1.79it/s]\n"
     ]
    },
    {
     "name": "stdout",
     "output_type": "stream",
     "text": [
      "Negative trainning sample size: 182 \n",
      "\n"
     ]
    },
    {
     "name": "stderr",
     "output_type": "stream",
     "text": [
      "\r",
      "  0%|                                                    | 0/8 [00:00<?, ?it/s]"
     ]
    },
    {
     "name": "stdout",
     "output_type": "stream",
     "text": [
      "KNN , Precision: 0.714285714286\n"
     ]
    },
    {
     "name": "stderr",
     "output_type": "stream",
     "text": [
      "\r",
      " 12%|█████▌                                      | 1/8 [00:00<00:01,  6.67it/s]"
     ]
    },
    {
     "name": "stdout",
     "output_type": "stream",
     "text": [
      "RF , Precision: 0.916666666667\n"
     ]
    },
    {
     "name": "stderr",
     "output_type": "stream",
     "text": [
      "\r",
      " 25%|███████████                                 | 2/8 [00:00<00:00,  6.03it/s]"
     ]
    },
    {
     "name": "stdout",
     "output_type": "stream",
     "text": [
      "GBDT , Precision: 0.891891891892\n"
     ]
    },
    {
     "name": "stderr",
     "output_type": "stream",
     "text": [
      "\r",
      " 38%|████████████████▌                           | 3/8 [00:01<00:02,  2.06it/s]"
     ]
    },
    {
     "name": "stdout",
     "output_type": "stream",
     "text": [
      "LR , Precision: 0.868421052632\n"
     ]
    },
    {
     "name": "stderr",
     "output_type": "stream",
     "text": [
      "\r",
      " 50%|██████████████████████                      | 4/8 [00:01<00:01,  2.65it/s]"
     ]
    },
    {
     "name": "stdout",
     "output_type": "stream",
     "text": [
      "Ada , Precision: 0.969696969697\n"
     ]
    },
    {
     "name": "stderr",
     "output_type": "stream",
     "text": [
      "\r",
      " 62%|███████████████████████████▌                | 5/8 [00:02<00:01,  1.72it/s]"
     ]
    },
    {
     "name": "stdout",
     "output_type": "stream",
     "text": [
      "NB , Precision: 0.857142857143\n",
      "XGB , Precision: 0.916666666667\n"
     ]
    },
    {
     "name": "stderr",
     "output_type": "stream",
     "text": [
      "\r",
      " 88%|██████████████████████████████████████▌     | 7/8 [00:03<00:00,  1.99it/s]"
     ]
    },
    {
     "name": "stdout",
     "output_type": "stream",
     "text": [
      "SVM , Precision: 0.516129032258\n"
     ]
    },
    {
     "name": "stderr",
     "output_type": "stream",
     "text": [
      "100%|████████████████████████████████████████████| 8/8 [00:03<00:00,  2.37it/s]\n"
     ]
    },
    {
     "name": "stdout",
     "output_type": "stream",
     "text": [
      "9\n"
     ]
    },
    {
     "name": "stderr",
     "output_type": "stream",
     "text": [
      "100%|██████████████████████████████████████████| 19/19 [03:15<00:00, 10.54s/it]\n"
     ]
    },
    {
     "name": "stdout",
     "output_type": "stream",
     "text": [
      "Positive trainning sample size: 182 \n",
      "\n",
      "Random Under Sampling\n"
     ]
    },
    {
     "name": "stderr",
     "output_type": "stream",
     "text": [
      "100%|██████████████████████████████████████████| 19/19 [00:10<00:00,  1.76it/s]\n"
     ]
    },
    {
     "name": "stdout",
     "output_type": "stream",
     "text": [
      "Negative trainning sample size: 182 \n",
      "\n"
     ]
    },
    {
     "name": "stderr",
     "output_type": "stream",
     "text": [
      "\r",
      "  0%|                                                    | 0/8 [00:00<?, ?it/s]"
     ]
    },
    {
     "name": "stdout",
     "output_type": "stream",
     "text": [
      "KNN , Precision: 0.848484848485\n"
     ]
    },
    {
     "name": "stderr",
     "output_type": "stream",
     "text": [
      "\r",
      " 12%|█████▌                                      | 1/8 [00:00<00:01,  6.33it/s]"
     ]
    },
    {
     "name": "stdout",
     "output_type": "stream",
     "text": [
      "RF , Precision: 0.942857142857\n"
     ]
    },
    {
     "name": "stderr",
     "output_type": "stream",
     "text": [
      "\r",
      " 25%|███████████                                 | 2/8 [00:00<00:01,  5.82it/s]"
     ]
    },
    {
     "name": "stdout",
     "output_type": "stream",
     "text": [
      "GBDT , Precision: 1.0\n"
     ]
    },
    {
     "name": "stderr",
     "output_type": "stream",
     "text": [
      "\r",
      " 38%|████████████████▌                           | 3/8 [00:01<00:02,  2.14it/s]"
     ]
    },
    {
     "name": "stdout",
     "output_type": "stream",
     "text": [
      "LR , Precision: 0.888888888889\n"
     ]
    },
    {
     "name": "stderr",
     "output_type": "stream",
     "text": [
      "\r",
      " 50%|██████████████████████                      | 4/8 [00:01<00:01,  2.74it/s]"
     ]
    },
    {
     "name": "stdout",
     "output_type": "stream",
     "text": [
      "Ada , Precision: 1.0\n"
     ]
    },
    {
     "name": "stderr",
     "output_type": "stream",
     "text": [
      "\r",
      " 62%|███████████████████████████▌                | 5/8 [00:02<00:01,  1.73it/s]"
     ]
    },
    {
     "name": "stdout",
     "output_type": "stream",
     "text": [
      "NB , Precision: 0.916666666667\n",
      "XGB , Precision: 0.971428571429\n"
     ]
    },
    {
     "name": "stderr",
     "output_type": "stream",
     "text": [
      "\r",
      " 88%|██████████████████████████████████████▌     | 7/8 [00:03<00:00,  1.95it/s]"
     ]
    },
    {
     "name": "stdout",
     "output_type": "stream",
     "text": [
      "SVM , Precision: 0.571428571429\n"
     ]
    },
    {
     "name": "stderr",
     "output_type": "stream",
     "text": [
      "100%|████████████████████████████████████████████| 8/8 [00:03<00:00,  2.30it/s]\n"
     ]
    },
    {
     "name": "stdout",
     "output_type": "stream",
     "text": [
      "10\n"
     ]
    },
    {
     "name": "stderr",
     "output_type": "stream",
     "text": [
      "100%|██████████████████████████████████████████| 19/19 [03:15<00:00, 10.35s/it]\n"
     ]
    },
    {
     "name": "stdout",
     "output_type": "stream",
     "text": [
      "Positive trainning sample size: 182 \n",
      "\n",
      "Random Under Sampling\n"
     ]
    },
    {
     "name": "stderr",
     "output_type": "stream",
     "text": [
      "100%|██████████████████████████████████████████| 19/19 [00:10<00:00,  1.80it/s]\n"
     ]
    },
    {
     "name": "stdout",
     "output_type": "stream",
     "text": [
      "Negative trainning sample size: 182 \n",
      "\n"
     ]
    },
    {
     "name": "stderr",
     "output_type": "stream",
     "text": [
      "\r",
      "  0%|                                                    | 0/8 [00:00<?, ?it/s]"
     ]
    },
    {
     "name": "stdout",
     "output_type": "stream",
     "text": [
      "KNN , Precision: 0.717948717949\n"
     ]
    },
    {
     "name": "stderr",
     "output_type": "stream",
     "text": [
      "\r",
      " 12%|█████▌                                      | 1/8 [00:00<00:01,  6.33it/s]"
     ]
    },
    {
     "name": "stdout",
     "output_type": "stream",
     "text": [
      "RF , Precision: 0.918918918919\n"
     ]
    },
    {
     "name": "stderr",
     "output_type": "stream",
     "text": [
      "\r",
      " 25%|███████████                                 | 2/8 [00:00<00:01,  5.86it/s]"
     ]
    },
    {
     "name": "stdout",
     "output_type": "stream",
     "text": [
      "GBDT , Precision: 1.0\n"
     ]
    },
    {
     "name": "stderr",
     "output_type": "stream",
     "text": [
      "\r",
      " 38%|████████████████▌                           | 3/8 [00:01<00:02,  2.08it/s]"
     ]
    },
    {
     "name": "stdout",
     "output_type": "stream",
     "text": [
      "LR , Precision: 0.969696969697\n"
     ]
    },
    {
     "name": "stderr",
     "output_type": "stream",
     "text": [
      "\r",
      " 50%|██████████████████████                      | 4/8 [00:01<00:01,  2.54it/s]"
     ]
    },
    {
     "name": "stdout",
     "output_type": "stream",
     "text": [
      "Ada , Precision: 1.0\n"
     ]
    },
    {
     "name": "stderr",
     "output_type": "stream",
     "text": [
      "\r",
      " 62%|███████████████████████████▌                | 5/8 [00:02<00:01,  1.68it/s]"
     ]
    },
    {
     "name": "stdout",
     "output_type": "stream",
     "text": [
      "NB , Precision: 1.0\n",
      "XGB , Precision: 0.942857142857\n"
     ]
    },
    {
     "name": "stderr",
     "output_type": "stream",
     "text": [
      "\r",
      " 88%|██████████████████████████████████████▌     | 7/8 [00:03<00:00,  1.91it/s]"
     ]
    },
    {
     "name": "stdout",
     "output_type": "stream",
     "text": [
      "SVM , Precision: 0.5\n"
     ]
    },
    {
     "name": "stderr",
     "output_type": "stream",
     "text": [
      "100%|████████████████████████████████████████████| 8/8 [00:03<00:00,  2.30it/s]\n"
     ]
    },
    {
     "name": "stdout",
     "output_type": "stream",
     "text": [
      "11\n"
     ]
    },
    {
     "name": "stderr",
     "output_type": "stream",
     "text": [
      "100%|██████████████████████████████████████████| 19/19 [03:15<00:00, 10.40s/it]\n"
     ]
    },
    {
     "name": "stdout",
     "output_type": "stream",
     "text": [
      "Positive trainning sample size: 182 \n",
      "\n",
      "Random Under Sampling\n"
     ]
    },
    {
     "name": "stderr",
     "output_type": "stream",
     "text": [
      "100%|██████████████████████████████████████████| 19/19 [00:10<00:00,  1.79it/s]\n"
     ]
    },
    {
     "name": "stdout",
     "output_type": "stream",
     "text": [
      "Negative trainning sample size: 182 \n",
      "\n"
     ]
    },
    {
     "name": "stderr",
     "output_type": "stream",
     "text": [
      "\r",
      "  0%|                                                    | 0/8 [00:00<?, ?it/s]"
     ]
    },
    {
     "name": "stdout",
     "output_type": "stream",
     "text": [
      "KNN , Precision: 0.777777777778\n"
     ]
    },
    {
     "name": "stderr",
     "output_type": "stream",
     "text": [
      "\r",
      " 12%|█████▌                                      | 1/8 [00:00<00:01,  6.33it/s]"
     ]
    },
    {
     "name": "stdout",
     "output_type": "stream",
     "text": [
      "RF , Precision: 0.941176470588\n"
     ]
    },
    {
     "name": "stderr",
     "output_type": "stream",
     "text": [
      "\r",
      " 25%|███████████                                 | 2/8 [00:00<00:01,  5.83it/s]"
     ]
    },
    {
     "name": "stdout",
     "output_type": "stream",
     "text": [
      "GBDT , Precision: 0.914285714286\n"
     ]
    },
    {
     "name": "stderr",
     "output_type": "stream",
     "text": [
      "\r",
      " 38%|████████████████▌                           | 3/8 [00:01<00:02,  2.00it/s]"
     ]
    },
    {
     "name": "stdout",
     "output_type": "stream",
     "text": [
      "LR , Precision: 0.914285714286\n"
     ]
    },
    {
     "name": "stderr",
     "output_type": "stream",
     "text": [
      "\r",
      " 50%|██████████████████████                      | 4/8 [00:01<00:01,  2.55it/s]"
     ]
    },
    {
     "name": "stdout",
     "output_type": "stream",
     "text": [
      "Ada , Precision: 0.969696969697\n"
     ]
    },
    {
     "name": "stderr",
     "output_type": "stream",
     "text": [
      "\r",
      " 62%|███████████████████████████▌                | 5/8 [00:02<00:01,  1.67it/s]"
     ]
    },
    {
     "name": "stdout",
     "output_type": "stream",
     "text": [
      "NB , Precision: 0.88\n",
      "XGB , Precision: 0.918918918919\n"
     ]
    },
    {
     "name": "stderr",
     "output_type": "stream",
     "text": [
      "\r",
      " 88%|██████████████████████████████████████▌     | 7/8 [00:03<00:00,  1.87it/s]"
     ]
    },
    {
     "name": "stdout",
     "output_type": "stream",
     "text": [
      "SVM , Precision: 0.525423728814\n"
     ]
    },
    {
     "name": "stderr",
     "output_type": "stream",
     "text": [
      "100%|████████████████████████████████████████████| 8/8 [00:03<00:00,  2.22it/s]\n"
     ]
    },
    {
     "name": "stdout",
     "output_type": "stream",
     "text": [
      "12\n"
     ]
    },
    {
     "name": "stderr",
     "output_type": "stream",
     "text": [
      "100%|██████████████████████████████████████████| 19/19 [03:14<00:00, 10.31s/it]\n"
     ]
    },
    {
     "name": "stdout",
     "output_type": "stream",
     "text": [
      "Positive trainning sample size: 182 \n",
      "\n",
      "Random Under Sampling\n"
     ]
    },
    {
     "name": "stderr",
     "output_type": "stream",
     "text": [
      "100%|██████████████████████████████████████████| 19/19 [00:10<00:00,  1.78it/s]\n"
     ]
    },
    {
     "name": "stdout",
     "output_type": "stream",
     "text": [
      "Negative trainning sample size: 182 \n",
      "\n"
     ]
    },
    {
     "name": "stderr",
     "output_type": "stream",
     "text": [
      "\r",
      "  0%|                                                    | 0/8 [00:00<?, ?it/s]"
     ]
    },
    {
     "name": "stdout",
     "output_type": "stream",
     "text": [
      "KNN , Precision: 0.852941176471\n"
     ]
    },
    {
     "name": "stderr",
     "output_type": "stream",
     "text": [
      "\r",
      " 12%|█████▌                                      | 1/8 [00:00<00:01,  6.33it/s]"
     ]
    },
    {
     "name": "stdout",
     "output_type": "stream",
     "text": [
      "RF , Precision: 0.941176470588\n"
     ]
    },
    {
     "name": "stderr",
     "output_type": "stream",
     "text": [
      "\r",
      " 25%|███████████                                 | 2/8 [00:00<00:01,  5.99it/s]"
     ]
    },
    {
     "name": "stdout",
     "output_type": "stream",
     "text": [
      "GBDT , Precision: 0.942857142857\n"
     ]
    },
    {
     "name": "stderr",
     "output_type": "stream",
     "text": [
      "\r",
      " 38%|████████████████▌                           | 3/8 [00:01<00:02,  2.09it/s]"
     ]
    },
    {
     "name": "stdout",
     "output_type": "stream",
     "text": [
      "LR , Precision: 0.970588235294\n"
     ]
    },
    {
     "name": "stderr",
     "output_type": "stream",
     "text": [
      "\r",
      " 50%|██████████████████████                      | 4/8 [00:01<00:01,  2.57it/s]"
     ]
    },
    {
     "name": "stdout",
     "output_type": "stream",
     "text": [
      "Ada , Precision: 0.942857142857\n"
     ]
    },
    {
     "name": "stderr",
     "output_type": "stream",
     "text": [
      "\r",
      " 62%|███████████████████████████▌                | 5/8 [00:02<00:01,  1.69it/s]"
     ]
    },
    {
     "name": "stdout",
     "output_type": "stream",
     "text": [
      "NB , Precision: 0.952380952381\n",
      "XGB , Precision: 0.971428571429\n"
     ]
    },
    {
     "name": "stderr",
     "output_type": "stream",
     "text": [
      "\r",
      " 88%|██████████████████████████████████████▌     | 7/8 [00:03<00:00,  1.96it/s]"
     ]
    },
    {
     "name": "stdout",
     "output_type": "stream",
     "text": [
      "SVM , Precision: 0.603773584906\n"
     ]
    },
    {
     "name": "stderr",
     "output_type": "stream",
     "text": [
      "100%|████████████████████████████████████████████| 8/8 [00:03<00:00,  2.31it/s]\n"
     ]
    },
    {
     "name": "stdout",
     "output_type": "stream",
     "text": [
      "13\n"
     ]
    },
    {
     "name": "stderr",
     "output_type": "stream",
     "text": [
      "100%|██████████████████████████████████████████| 19/19 [03:15<00:00, 10.34s/it]\n"
     ]
    },
    {
     "name": "stdout",
     "output_type": "stream",
     "text": [
      "Positive trainning sample size: 182 \n",
      "\n",
      "Random Under Sampling\n"
     ]
    },
    {
     "name": "stderr",
     "output_type": "stream",
     "text": [
      "100%|██████████████████████████████████████████| 19/19 [00:10<00:00,  1.79it/s]\n"
     ]
    },
    {
     "name": "stdout",
     "output_type": "stream",
     "text": [
      "Negative trainning sample size: 182 \n",
      "\n"
     ]
    },
    {
     "name": "stderr",
     "output_type": "stream",
     "text": [
      "\r",
      "  0%|                                                    | 0/8 [00:00<?, ?it/s]"
     ]
    },
    {
     "name": "stdout",
     "output_type": "stream",
     "text": [
      "KNN , Precision: 0.783783783784\n"
     ]
    },
    {
     "name": "stderr",
     "output_type": "stream",
     "text": [
      "\r",
      " 12%|█████▌                                      | 1/8 [00:00<00:01,  6.33it/s]"
     ]
    },
    {
     "name": "stdout",
     "output_type": "stream",
     "text": [
      "RF , Precision: 0.941176470588\n"
     ]
    },
    {
     "name": "stderr",
     "output_type": "stream",
     "text": [
      "\r",
      " 25%|███████████                                 | 2/8 [00:00<00:01,  5.99it/s]"
     ]
    },
    {
     "name": "stdout",
     "output_type": "stream",
     "text": [
      "GBDT , Precision: 0.970588235294\n"
     ]
    },
    {
     "name": "stderr",
     "output_type": "stream",
     "text": [
      "\r",
      " 38%|████████████████▌                           | 3/8 [00:01<00:02,  2.07it/s]"
     ]
    },
    {
     "name": "stdout",
     "output_type": "stream",
     "text": [
      "LR , Precision: 0.918918918919\n"
     ]
    },
    {
     "name": "stderr",
     "output_type": "stream",
     "text": [
      "\r",
      " 50%|██████████████████████                      | 4/8 [00:01<00:01,  2.57it/s]"
     ]
    },
    {
     "name": "stdout",
     "output_type": "stream",
     "text": [
      "Ada , Precision: 0.969696969697\n"
     ]
    },
    {
     "name": "stderr",
     "output_type": "stream",
     "text": [
      "\r",
      " 62%|███████████████████████████▌                | 5/8 [00:02<00:01,  1.71it/s]"
     ]
    },
    {
     "name": "stdout",
     "output_type": "stream",
     "text": [
      "NB , Precision: 1.0\n",
      "XGB , Precision: 0.918918918919\n"
     ]
    },
    {
     "name": "stderr",
     "output_type": "stream",
     "text": [
      "\r",
      " 88%|██████████████████████████████████████▌     | 7/8 [00:03<00:00,  1.93it/s]"
     ]
    },
    {
     "name": "stdout",
     "output_type": "stream",
     "text": [
      "SVM , Precision: 0.543859649123\n"
     ]
    },
    {
     "name": "stderr",
     "output_type": "stream",
     "text": [
      "100%|████████████████████████████████████████████| 8/8 [00:03<00:00,  2.28it/s]\n"
     ]
    },
    {
     "name": "stdout",
     "output_type": "stream",
     "text": [
      "14\n"
     ]
    },
    {
     "name": "stderr",
     "output_type": "stream",
     "text": [
      "100%|██████████████████████████████████████████| 19/19 [03:15<00:00, 10.34s/it]\n"
     ]
    },
    {
     "name": "stdout",
     "output_type": "stream",
     "text": [
      "Positive trainning sample size: 182 \n",
      "\n",
      "Random Under Sampling\n"
     ]
    },
    {
     "name": "stderr",
     "output_type": "stream",
     "text": [
      "100%|██████████████████████████████████████████| 19/19 [00:10<00:00,  1.78it/s]\n"
     ]
    },
    {
     "name": "stdout",
     "output_type": "stream",
     "text": [
      "Negative trainning sample size: 182 \n",
      "\n"
     ]
    },
    {
     "name": "stderr",
     "output_type": "stream",
     "text": [
      "\r",
      "  0%|                                                    | 0/8 [00:00<?, ?it/s]"
     ]
    },
    {
     "name": "stdout",
     "output_type": "stream",
     "text": [
      "KNN , Precision: 0.878787878788\n"
     ]
    },
    {
     "name": "stderr",
     "output_type": "stream",
     "text": [
      "\r",
      " 12%|█████▌                                      | 1/8 [00:00<00:00,  7.04it/s]"
     ]
    },
    {
     "name": "stdout",
     "output_type": "stream",
     "text": [
      "RF , Precision: 0.891891891892\n"
     ]
    },
    {
     "name": "stderr",
     "output_type": "stream",
     "text": [
      "\r",
      " 25%|███████████                                 | 2/8 [00:00<00:00,  6.23it/s]"
     ]
    },
    {
     "name": "stdout",
     "output_type": "stream",
     "text": [
      "GBDT , Precision: 0.916666666667\n"
     ]
    },
    {
     "name": "stderr",
     "output_type": "stream",
     "text": [
      "\r",
      " 38%|████████████████▌                           | 3/8 [00:01<00:02,  2.03it/s]"
     ]
    },
    {
     "name": "stdout",
     "output_type": "stream",
     "text": [
      "LR , Precision: 0.941176470588\n"
     ]
    },
    {
     "name": "stderr",
     "output_type": "stream",
     "text": [
      "\r",
      " 50%|██████████████████████                      | 4/8 [00:01<00:01,  2.49it/s]"
     ]
    },
    {
     "name": "stdout",
     "output_type": "stream",
     "text": [
      "Ada , Precision: 0.941176470588\n"
     ]
    },
    {
     "name": "stderr",
     "output_type": "stream",
     "text": [
      "\r",
      " 62%|███████████████████████████▌                | 5/8 [00:02<00:01,  1.63it/s]"
     ]
    },
    {
     "name": "stdout",
     "output_type": "stream",
     "text": [
      "NB , Precision: 1.0\n",
      "XGB , Precision: 0.941176470588\n"
     ]
    },
    {
     "name": "stderr",
     "output_type": "stream",
     "text": [
      "\r",
      " 88%|██████████████████████████████████████▌     | 7/8 [00:03<00:00,  1.90it/s]"
     ]
    },
    {
     "name": "stdout",
     "output_type": "stream",
     "text": [
      "SVM , Precision: 0.563636363636\n"
     ]
    },
    {
     "name": "stderr",
     "output_type": "stream",
     "text": [
      "100%|████████████████████████████████████████████| 8/8 [00:03<00:00,  2.25it/s]\n"
     ]
    },
    {
     "name": "stdout",
     "output_type": "stream",
     "text": [
      "半身裙 1623\n",
      "0\n"
     ]
    },
    {
     "name": "stderr",
     "output_type": "stream",
     "text": [
      "100%|██████████████████████████████████████████| 17/17 [03:02<00:00, 10.75s/it]\n"
     ]
    },
    {
     "name": "stdout",
     "output_type": "stream",
     "text": [
      "Positive trainning sample size: 823 \n",
      "\n",
      "Random Under Sampling\n"
     ]
    },
    {
     "name": "stderr",
     "output_type": "stream",
     "text": [
      "100%|██████████████████████████████████████████| 17/17 [00:41<00:00,  2.46s/it]\n"
     ]
    },
    {
     "name": "stdout",
     "output_type": "stream",
     "text": [
      "Negative trainning sample size: 823 \n",
      "\n"
     ]
    },
    {
     "name": "stderr",
     "output_type": "stream",
     "text": [
      "\r",
      "  0%|                                                    | 0/8 [00:00<?, ?it/s]"
     ]
    },
    {
     "name": "stdout",
     "output_type": "stream",
     "text": [
      "KNN , Precision: 0.719101123596\n"
     ]
    },
    {
     "name": "stderr",
     "output_type": "stream",
     "text": [
      "\r",
      " 12%|█████▌                                      | 1/8 [00:01<00:10,  1.56s/it]"
     ]
    },
    {
     "name": "stdout",
     "output_type": "stream",
     "text": [
      "RF , Precision: 0.906832298137\n"
     ]
    },
    {
     "name": "stderr",
     "output_type": "stream",
     "text": [
      "\r",
      " 25%|███████████                                 | 2/8 [00:01<00:07,  1.19s/it]"
     ]
    },
    {
     "name": "stdout",
     "output_type": "stream",
     "text": [
      "GBDT , Precision: 0.895348837209\n"
     ]
    },
    {
     "name": "stderr",
     "output_type": "stream",
     "text": [
      "\r",
      " 38%|████████████████▌                           | 3/8 [00:05<00:10,  2.04s/it]"
     ]
    },
    {
     "name": "stdout",
     "output_type": "stream",
     "text": [
      "LR , Precision: 0.917159763314\n"
     ]
    },
    {
     "name": "stderr",
     "output_type": "stream",
     "text": [
      "\r",
      " 50%|██████████████████████                      | 4/8 [00:06<00:06,  1.74s/it]"
     ]
    },
    {
     "name": "stdout",
     "output_type": "stream",
     "text": [
      "Ada , Precision: 0.912280701754\n"
     ]
    },
    {
     "name": "stderr",
     "output_type": "stream",
     "text": [
      "\r",
      " 62%|███████████████████████████▌                | 5/8 [00:09<00:05,  1.85s/it]"
     ]
    },
    {
     "name": "stdout",
     "output_type": "stream",
     "text": [
      "NB , Precision: 0.655870445344\n",
      "XGB , Precision: 0.905325443787\n"
     ]
    },
    {
     "name": "stderr",
     "output_type": "stream",
     "text": [
      "\r",
      " 88%|██████████████████████████████████████▌     | 7/8 [00:10<00:01,  1.48s/it]"
     ]
    },
    {
     "name": "stdout",
     "output_type": "stream",
     "text": [
      "SVM , Precision: 0.758169934641\n"
     ]
    },
    {
     "name": "stderr",
     "output_type": "stream",
     "text": [
      "100%|████████████████████████████████████████████| 8/8 [00:13<00:00,  2.09s/it]\n"
     ]
    },
    {
     "name": "stdout",
     "output_type": "stream",
     "text": [
      "1\n"
     ]
    },
    {
     "name": "stderr",
     "output_type": "stream",
     "text": [
      "100%|██████████████████████████████████████████| 17/17 [03:02<00:00, 10.73s/it]\n"
     ]
    },
    {
     "name": "stdout",
     "output_type": "stream",
     "text": [
      "Positive trainning sample size: 823 \n",
      "\n",
      "Random Under Sampling\n"
     ]
    },
    {
     "name": "stderr",
     "output_type": "stream",
     "text": [
      "100%|██████████████████████████████████████████| 17/17 [00:41<00:00,  2.46s/it]\n"
     ]
    },
    {
     "name": "stdout",
     "output_type": "stream",
     "text": [
      "Negative trainning sample size: 823 \n",
      "\n"
     ]
    },
    {
     "name": "stderr",
     "output_type": "stream",
     "text": [
      "\r",
      "  0%|                                                    | 0/8 [00:00<?, ?it/s]"
     ]
    },
    {
     "name": "stdout",
     "output_type": "stream",
     "text": [
      "KNN , Precision: 0.766081871345\n"
     ]
    },
    {
     "name": "stderr",
     "output_type": "stream",
     "text": [
      "\r",
      " 12%|█████▌                                      | 1/8 [00:01<00:10,  1.57s/it]"
     ]
    },
    {
     "name": "stdout",
     "output_type": "stream",
     "text": [
      "RF , Precision: 0.915151515152\n"
     ]
    },
    {
     "name": "stderr",
     "output_type": "stream",
     "text": [
      "\r",
      " 25%|███████████                                 | 2/8 [00:01<00:07,  1.20s/it]"
     ]
    },
    {
     "name": "stdout",
     "output_type": "stream",
     "text": [
      "GBDT , Precision: 0.944444444444\n"
     ]
    },
    {
     "name": "stderr",
     "output_type": "stream",
     "text": [
      "\r",
      " 38%|████████████████▌                           | 3/8 [00:05<00:10,  2.04s/it]"
     ]
    },
    {
     "name": "stdout",
     "output_type": "stream",
     "text": [
      "LR , Precision: 0.913294797688\n"
     ]
    },
    {
     "name": "stderr",
     "output_type": "stream",
     "text": [
      "\r",
      " 50%|██████████████████████                      | 4/8 [00:07<00:07,  1.76s/it]"
     ]
    },
    {
     "name": "stdout",
     "output_type": "stream",
     "text": [
      "Ada , Precision: 0.928571428571\n"
     ]
    },
    {
     "name": "stderr",
     "output_type": "stream",
     "text": [
      "\r",
      " 62%|███████████████████████████▌                | 5/8 [00:09<00:05,  1.86s/it]"
     ]
    },
    {
     "name": "stdout",
     "output_type": "stream",
     "text": [
      "NB , Precision: 0.676724137931\n",
      "XGB , Precision: 0.934131736527\n"
     ]
    },
    {
     "name": "stderr",
     "output_type": "stream",
     "text": [
      "\r",
      " 88%|██████████████████████████████████████▌     | 7/8 [00:10<00:01,  1.49s/it]"
     ]
    },
    {
     "name": "stdout",
     "output_type": "stream",
     "text": [
      "SVM , Precision: 0.80985915493\n"
     ]
    },
    {
     "name": "stderr",
     "output_type": "stream",
     "text": [
      "100%|████████████████████████████████████████████| 8/8 [00:13<00:00,  2.12s/it]\n"
     ]
    },
    {
     "name": "stdout",
     "output_type": "stream",
     "text": [
      "2\n"
     ]
    },
    {
     "name": "stderr",
     "output_type": "stream",
     "text": [
      "100%|██████████████████████████████████████████| 17/17 [03:02<00:00, 10.74s/it]\n"
     ]
    },
    {
     "name": "stdout",
     "output_type": "stream",
     "text": [
      "Positive trainning sample size: 823 \n",
      "\n",
      "Random Under Sampling\n"
     ]
    },
    {
     "name": "stderr",
     "output_type": "stream",
     "text": [
      "100%|██████████████████████████████████████████| 17/17 [00:41<00:00,  2.46s/it]\n"
     ]
    },
    {
     "name": "stdout",
     "output_type": "stream",
     "text": [
      "Negative trainning sample size: 823 \n",
      "\n"
     ]
    },
    {
     "name": "stderr",
     "output_type": "stream",
     "text": [
      "\r",
      "  0%|                                                    | 0/8 [00:00<?, ?it/s]"
     ]
    },
    {
     "name": "stdout",
     "output_type": "stream",
     "text": [
      "KNN , Precision: 0.732558139535\n"
     ]
    },
    {
     "name": "stderr",
     "output_type": "stream",
     "text": [
      "\r",
      " 12%|█████▌                                      | 1/8 [00:01<00:11,  1.59s/it]"
     ]
    },
    {
     "name": "stdout",
     "output_type": "stream",
     "text": [
      "RF , Precision: 0.907975460123\n"
     ]
    },
    {
     "name": "stderr",
     "output_type": "stream",
     "text": [
      "\r",
      " 25%|███████████                                 | 2/8 [00:01<00:07,  1.21s/it]"
     ]
    },
    {
     "name": "stdout",
     "output_type": "stream",
     "text": [
      "GBDT , Precision: 0.88\n"
     ]
    },
    {
     "name": "stderr",
     "output_type": "stream",
     "text": [
      "\r",
      " 38%|████████████████▌                           | 3/8 [00:05<00:10,  2.01s/it]"
     ]
    },
    {
     "name": "stdout",
     "output_type": "stream",
     "text": [
      "LR , Precision: 0.895953757225\n"
     ]
    },
    {
     "name": "stderr",
     "output_type": "stream",
     "text": [
      "\r",
      " 50%|██████████████████████                      | 4/8 [00:06<00:06,  1.70s/it]"
     ]
    },
    {
     "name": "stdout",
     "output_type": "stream",
     "text": [
      "Ada , Precision: 0.888268156425\n"
     ]
    },
    {
     "name": "stderr",
     "output_type": "stream",
     "text": [
      "\r",
      " 62%|███████████████████████████▌                | 5/8 [00:08<00:05,  1.81s/it]"
     ]
    },
    {
     "name": "stdout",
     "output_type": "stream",
     "text": [
      "NB , Precision: 0.654008438819\n",
      "XGB , Precision: 0.883333333333\n"
     ]
    },
    {
     "name": "stderr",
     "output_type": "stream",
     "text": [
      "\r",
      " 88%|██████████████████████████████████████▌     | 7/8 [00:10<00:01,  1.46s/it]"
     ]
    },
    {
     "name": "stdout",
     "output_type": "stream",
     "text": [
      "SVM , Precision: 0.761904761905\n"
     ]
    },
    {
     "name": "stderr",
     "output_type": "stream",
     "text": [
      "100%|████████████████████████████████████████████| 8/8 [00:13<00:00,  2.15s/it]\n"
     ]
    },
    {
     "name": "stdout",
     "output_type": "stream",
     "text": [
      "3\n"
     ]
    },
    {
     "name": "stderr",
     "output_type": "stream",
     "text": [
      "100%|██████████████████████████████████████████| 17/17 [03:02<00:00, 10.75s/it]\n"
     ]
    },
    {
     "name": "stdout",
     "output_type": "stream",
     "text": [
      "Positive trainning sample size: 823 \n",
      "\n",
      "Random Under Sampling\n"
     ]
    },
    {
     "name": "stderr",
     "output_type": "stream",
     "text": [
      "100%|██████████████████████████████████████████| 17/17 [00:41<00:00,  2.46s/it]\n"
     ]
    },
    {
     "name": "stdout",
     "output_type": "stream",
     "text": [
      "Negative trainning sample size: 823 \n",
      "\n"
     ]
    },
    {
     "name": "stderr",
     "output_type": "stream",
     "text": [
      "\r",
      "  0%|                                                    | 0/8 [00:00<?, ?it/s]"
     ]
    },
    {
     "name": "stdout",
     "output_type": "stream",
     "text": [
      "KNN , Precision: 0.761363636364\n"
     ]
    },
    {
     "name": "stderr",
     "output_type": "stream",
     "text": [
      "\r",
      " 12%|█████▌                                      | 1/8 [00:01<00:11,  1.62s/it]"
     ]
    },
    {
     "name": "stdout",
     "output_type": "stream",
     "text": [
      "RF , Precision: 0.924050632911\n"
     ]
    },
    {
     "name": "stderr",
     "output_type": "stream",
     "text": [
      "\r",
      " 25%|███████████                                 | 2/8 [00:01<00:07,  1.23s/it]"
     ]
    },
    {
     "name": "stdout",
     "output_type": "stream",
     "text": [
      "GBDT , Precision: 0.940476190476\n"
     ]
    },
    {
     "name": "stderr",
     "output_type": "stream",
     "text": [
      "\r",
      " 38%|████████████████▌                           | 3/8 [00:05<00:10,  2.06s/it]"
     ]
    },
    {
     "name": "stdout",
     "output_type": "stream",
     "text": [
      "LR , Precision: 0.950617283951\n"
     ]
    },
    {
     "name": "stderr",
     "output_type": "stream",
     "text": [
      "\r",
      " 50%|██████████████████████                      | 4/8 [00:06<00:06,  1.70s/it]"
     ]
    },
    {
     "name": "stdout",
     "output_type": "stream",
     "text": [
      "Ada , Precision: 0.94512195122\n"
     ]
    },
    {
     "name": "stderr",
     "output_type": "stream",
     "text": [
      "\r",
      " 62%|███████████████████████████▌                | 5/8 [00:08<00:05,  1.83s/it]"
     ]
    },
    {
     "name": "stdout",
     "output_type": "stream",
     "text": [
      "NB , Precision: 0.67094017094\n",
      "XGB , Precision: 0.957055214724\n"
     ]
    },
    {
     "name": "stderr",
     "output_type": "stream",
     "text": [
      "\r",
      " 88%|██████████████████████████████████████▌     | 7/8 [00:10<00:01,  1.47s/it]"
     ]
    },
    {
     "name": "stdout",
     "output_type": "stream",
     "text": [
      "SVM , Precision: 0.795918367347\n"
     ]
    },
    {
     "name": "stderr",
     "output_type": "stream",
     "text": [
      "100%|████████████████████████████████████████████| 8/8 [00:13<00:00,  2.15s/it]\n"
     ]
    },
    {
     "name": "stdout",
     "output_type": "stream",
     "text": [
      "4\n"
     ]
    },
    {
     "name": "stderr",
     "output_type": "stream",
     "text": [
      "100%|██████████████████████████████████████████| 17/17 [03:02<00:00, 10.76s/it]\n"
     ]
    },
    {
     "name": "stdout",
     "output_type": "stream",
     "text": [
      "Positive trainning sample size: 823 \n",
      "\n",
      "Random Under Sampling\n"
     ]
    },
    {
     "name": "stderr",
     "output_type": "stream",
     "text": [
      "100%|██████████████████████████████████████████| 17/17 [00:41<00:00,  2.45s/it]\n"
     ]
    },
    {
     "name": "stdout",
     "output_type": "stream",
     "text": [
      "Negative trainning sample size: 823 \n",
      "\n"
     ]
    },
    {
     "name": "stderr",
     "output_type": "stream",
     "text": [
      "\r",
      "  0%|                                                    | 0/8 [00:00<?, ?it/s]"
     ]
    },
    {
     "name": "stdout",
     "output_type": "stream",
     "text": [
      "KNN , Precision: 0.68085106383\n"
     ]
    },
    {
     "name": "stderr",
     "output_type": "stream",
     "text": [
      "\r",
      " 12%|█████▌                                      | 1/8 [00:01<00:10,  1.53s/it]"
     ]
    },
    {
     "name": "stdout",
     "output_type": "stream",
     "text": [
      "RF , Precision: 0.928104575163\n"
     ]
    },
    {
     "name": "stderr",
     "output_type": "stream",
     "text": [
      "\r",
      " 25%|███████████                                 | 2/8 [00:01<00:07,  1.18s/it]"
     ]
    },
    {
     "name": "stdout",
     "output_type": "stream",
     "text": [
      "GBDT , Precision: 0.932926829268\n"
     ]
    },
    {
     "name": "stderr",
     "output_type": "stream",
     "text": [
      "\r",
      " 38%|████████████████▌                           | 3/8 [00:05<00:09,  2.00s/it]"
     ]
    },
    {
     "name": "stdout",
     "output_type": "stream",
     "text": [
      "LR , Precision: 0.929411764706\n"
     ]
    },
    {
     "name": "stderr",
     "output_type": "stream",
     "text": [
      "\r",
      " 50%|██████████████████████                      | 4/8 [00:06<00:07,  1.75s/it]"
     ]
    },
    {
     "name": "stdout",
     "output_type": "stream",
     "text": [
      "Ada , Precision: 0.920731707317\n"
     ]
    },
    {
     "name": "stderr",
     "output_type": "stream",
     "text": [
      "\r",
      " 62%|███████████████████████████▌                | 5/8 [00:09<00:05,  1.85s/it]"
     ]
    },
    {
     "name": "stdout",
     "output_type": "stream",
     "text": [
      "NB , Precision: 0.637795275591\n",
      "XGB , Precision: 0.944444444444\n"
     ]
    },
    {
     "name": "stderr",
     "output_type": "stream",
     "text": [
      "\r",
      " 88%|██████████████████████████████████████▌     | 7/8 [00:10<00:01,  1.48s/it]"
     ]
    },
    {
     "name": "stdout",
     "output_type": "stream",
     "text": [
      "SVM , Precision: 0.75641025641\n"
     ]
    },
    {
     "name": "stderr",
     "output_type": "stream",
     "text": [
      "100%|████████████████████████████████████████████| 8/8 [00:13<00:00,  2.12s/it]\n"
     ]
    },
    {
     "name": "stdout",
     "output_type": "stream",
     "text": [
      "5\n"
     ]
    },
    {
     "name": "stderr",
     "output_type": "stream",
     "text": [
      "100%|██████████████████████████████████████████| 17/17 [03:02<00:00, 10.77s/it]\n"
     ]
    },
    {
     "name": "stdout",
     "output_type": "stream",
     "text": [
      "Positive trainning sample size: 823 \n",
      "\n",
      "Random Under Sampling\n"
     ]
    },
    {
     "name": "stderr",
     "output_type": "stream",
     "text": [
      "100%|██████████████████████████████████████████| 17/17 [00:41<00:00,  2.47s/it]\n"
     ]
    },
    {
     "name": "stdout",
     "output_type": "stream",
     "text": [
      "Negative trainning sample size: 823 \n",
      "\n"
     ]
    },
    {
     "name": "stderr",
     "output_type": "stream",
     "text": [
      "\r",
      "  0%|                                                    | 0/8 [00:00<?, ?it/s]"
     ]
    },
    {
     "name": "stdout",
     "output_type": "stream",
     "text": [
      "KNN , Precision: 0.77245508982\n"
     ]
    },
    {
     "name": "stderr",
     "output_type": "stream",
     "text": [
      "\r",
      " 12%|█████▌                                      | 1/8 [00:01<00:11,  1.71s/it]"
     ]
    },
    {
     "name": "stdout",
     "output_type": "stream",
     "text": [
      "RF , Precision: 0.897590361446\n"
     ]
    },
    {
     "name": "stderr",
     "output_type": "stream",
     "text": [
      "\r",
      " 25%|███████████                                 | 2/8 [00:02<00:07,  1.31s/it]"
     ]
    },
    {
     "name": "stdout",
     "output_type": "stream",
     "text": [
      "GBDT , Precision: 0.912280701754\n"
     ]
    },
    {
     "name": "stderr",
     "output_type": "stream",
     "text": [
      "\r",
      " 38%|████████████████▌                           | 3/8 [00:06<00:10,  2.13s/it]"
     ]
    },
    {
     "name": "stdout",
     "output_type": "stream",
     "text": [
      "LR , Precision: 0.888888888889\n"
     ]
    },
    {
     "name": "stderr",
     "output_type": "stream",
     "text": [
      "\r",
      " 50%|██████████████████████                      | 4/8 [00:07<00:07,  1.83s/it]"
     ]
    },
    {
     "name": "stdout",
     "output_type": "stream",
     "text": [
      "Ada , Precision: 0.892857142857\n"
     ]
    },
    {
     "name": "stderr",
     "output_type": "stream",
     "text": [
      "\r",
      " 62%|███████████████████████████▌                | 5/8 [00:09<00:05,  1.95s/it]"
     ]
    },
    {
     "name": "stdout",
     "output_type": "stream",
     "text": [
      "NB , Precision: 0.676855895197\n",
      "XGB , Precision: 0.913793103448\n"
     ]
    },
    {
     "name": "stderr",
     "output_type": "stream",
     "text": [
      "\r",
      " 88%|██████████████████████████████████████▌     | 7/8 [00:10<00:01,  1.56s/it]"
     ]
    },
    {
     "name": "stdout",
     "output_type": "stream",
     "text": [
      "SVM , Precision: 0.801369863014\n"
     ]
    },
    {
     "name": "stderr",
     "output_type": "stream",
     "text": [
      "100%|████████████████████████████████████████████| 8/8 [00:14<00:00,  2.23s/it]\n"
     ]
    },
    {
     "name": "stdout",
     "output_type": "stream",
     "text": [
      "6\n"
     ]
    },
    {
     "name": "stderr",
     "output_type": "stream",
     "text": [
      "100%|██████████████████████████████████████████| 17/17 [03:12<00:00, 11.26s/it]\n"
     ]
    },
    {
     "name": "stdout",
     "output_type": "stream",
     "text": [
      "Positive trainning sample size: 823 \n",
      "\n",
      "Random Under Sampling\n"
     ]
    },
    {
     "name": "stderr",
     "output_type": "stream",
     "text": [
      "100%|██████████████████████████████████████████| 17/17 [00:43<00:00,  2.53s/it]\n"
     ]
    },
    {
     "name": "stdout",
     "output_type": "stream",
     "text": [
      "Negative trainning sample size: 823 \n",
      "\n"
     ]
    },
    {
     "name": "stderr",
     "output_type": "stream",
     "text": [
      "\r",
      "  0%|                                                    | 0/8 [00:00<?, ?it/s]"
     ]
    },
    {
     "name": "stdout",
     "output_type": "stream",
     "text": [
      "KNN , Precision: 0.738636363636\n"
     ]
    },
    {
     "name": "stderr",
     "output_type": "stream",
     "text": [
      "\r",
      " 12%|█████▌                                      | 1/8 [00:01<00:11,  1.64s/it]"
     ]
    },
    {
     "name": "stdout",
     "output_type": "stream",
     "text": [
      "RF , Precision: 0.885542168675\n"
     ]
    },
    {
     "name": "stderr",
     "output_type": "stream",
     "text": [
      "\r",
      " 25%|███████████                                 | 2/8 [00:01<00:07,  1.25s/it]"
     ]
    },
    {
     "name": "stdout",
     "output_type": "stream",
     "text": [
      "GBDT , Precision: 0.897727272727\n"
     ]
    },
    {
     "name": "stderr",
     "output_type": "stream",
     "text": [
      "\r",
      " 38%|████████████████▌                           | 3/8 [00:06<00:10,  2.10s/it]"
     ]
    },
    {
     "name": "stdout",
     "output_type": "stream",
     "text": [
      "LR , Precision: 0.874316939891\n"
     ]
    },
    {
     "name": "stderr",
     "output_type": "stream",
     "text": [
      "\r",
      " 50%|██████████████████████                      | 4/8 [00:06<00:06,  1.69s/it]"
     ]
    },
    {
     "name": "stdout",
     "output_type": "stream",
     "text": [
      "Ada , Precision: 0.859550561798\n"
     ]
    },
    {
     "name": "stderr",
     "output_type": "stream",
     "text": [
      "\r",
      " 62%|███████████████████████████▌                | 5/8 [00:08<00:05,  1.82s/it]"
     ]
    },
    {
     "name": "stdout",
     "output_type": "stream",
     "text": [
      "NB , Precision: 0.701357466063\n",
      "XGB , Precision: 0.898876404494\n"
     ]
    },
    {
     "name": "stderr",
     "output_type": "stream",
     "text": [
      "\r",
      " 88%|██████████████████████████████████████▌     | 7/8 [00:10<00:01,  1.47s/it]"
     ]
    },
    {
     "name": "stdout",
     "output_type": "stream",
     "text": [
      "SVM , Precision: 0.743421052632\n"
     ]
    },
    {
     "name": "stderr",
     "output_type": "stream",
     "text": [
      "100%|████████████████████████████████████████████| 8/8 [00:14<00:00,  2.19s/it]\n"
     ]
    },
    {
     "name": "stdout",
     "output_type": "stream",
     "text": [
      "7\n"
     ]
    },
    {
     "name": "stderr",
     "output_type": "stream",
     "text": [
      "100%|██████████████████████████████████████████| 17/17 [03:12<00:00, 11.13s/it]\n"
     ]
    },
    {
     "name": "stdout",
     "output_type": "stream",
     "text": [
      "Positive trainning sample size: 823 \n",
      "\n",
      "Random Under Sampling\n"
     ]
    },
    {
     "name": "stderr",
     "output_type": "stream",
     "text": [
      "100%|██████████████████████████████████████████| 17/17 [00:41<00:00,  2.46s/it]\n"
     ]
    },
    {
     "name": "stdout",
     "output_type": "stream",
     "text": [
      "Negative trainning sample size: 823 \n",
      "\n"
     ]
    },
    {
     "name": "stderr",
     "output_type": "stream",
     "text": [
      "\r",
      "  0%|                                                    | 0/8 [00:00<?, ?it/s]"
     ]
    },
    {
     "name": "stdout",
     "output_type": "stream",
     "text": [
      "KNN , Precision: 0.744186046512\n"
     ]
    },
    {
     "name": "stderr",
     "output_type": "stream",
     "text": [
      "\r",
      " 12%|█████▌                                      | 1/8 [00:01<00:11,  1.59s/it]"
     ]
    },
    {
     "name": "stdout",
     "output_type": "stream",
     "text": [
      "RF , Precision: 0.87573964497\n"
     ]
    },
    {
     "name": "stderr",
     "output_type": "stream",
     "text": [
      "\r",
      " 25%|███████████                                 | 2/8 [00:01<00:07,  1.21s/it]"
     ]
    },
    {
     "name": "stdout",
     "output_type": "stream",
     "text": [
      "GBDT , Precision: 0.877094972067\n"
     ]
    },
    {
     "name": "stderr",
     "output_type": "stream",
     "text": [
      "\r",
      " 38%|████████████████▌                           | 3/8 [00:05<00:10,  2.01s/it]"
     ]
    },
    {
     "name": "stdout",
     "output_type": "stream",
     "text": [
      "LR , Precision: 0.891428571429\n"
     ]
    },
    {
     "name": "stderr",
     "output_type": "stream",
     "text": [
      "\r",
      " 50%|██████████████████████                      | 4/8 [00:06<00:06,  1.72s/it]"
     ]
    },
    {
     "name": "stdout",
     "output_type": "stream",
     "text": [
      "Ada , Precision: 0.902298850575\n"
     ]
    },
    {
     "name": "stderr",
     "output_type": "stream",
     "text": [
      "\r",
      " 62%|███████████████████████████▌                | 5/8 [00:08<00:05,  1.83s/it]"
     ]
    },
    {
     "name": "stdout",
     "output_type": "stream",
     "text": [
      "NB , Precision: 0.663793103448\n",
      "XGB , Precision: 0.880681818182\n"
     ]
    },
    {
     "name": "stderr",
     "output_type": "stream",
     "text": [
      "\r",
      " 88%|██████████████████████████████████████▌     | 7/8 [00:10<00:01,  1.47s/it]"
     ]
    },
    {
     "name": "stdout",
     "output_type": "stream",
     "text": [
      "SVM , Precision: 0.789115646259\n"
     ]
    },
    {
     "name": "stderr",
     "output_type": "stream",
     "text": [
      "100%|████████████████████████████████████████████| 8/8 [00:13<00:00,  2.10s/it]\n"
     ]
    },
    {
     "name": "stdout",
     "output_type": "stream",
     "text": [
      "8\n"
     ]
    },
    {
     "name": "stderr",
     "output_type": "stream",
     "text": [
      "100%|██████████████████████████████████████████| 17/17 [03:05<00:00, 11.02s/it]\n"
     ]
    },
    {
     "name": "stdout",
     "output_type": "stream",
     "text": [
      "Positive trainning sample size: 823 \n",
      "\n",
      "Random Under Sampling\n"
     ]
    },
    {
     "name": "stderr",
     "output_type": "stream",
     "text": [
      "100%|██████████████████████████████████████████| 17/17 [00:41<00:00,  2.47s/it]\n"
     ]
    },
    {
     "name": "stdout",
     "output_type": "stream",
     "text": [
      "Negative trainning sample size: 823 \n",
      "\n"
     ]
    },
    {
     "name": "stderr",
     "output_type": "stream",
     "text": [
      "\r",
      "  0%|                                                    | 0/8 [00:00<?, ?it/s]"
     ]
    },
    {
     "name": "stdout",
     "output_type": "stream",
     "text": [
      "KNN , Precision: 0.766467065868\n"
     ]
    },
    {
     "name": "stderr",
     "output_type": "stream",
     "text": [
      "\r",
      " 12%|█████▌                                      | 1/8 [00:01<00:11,  1.62s/it]"
     ]
    },
    {
     "name": "stdout",
     "output_type": "stream",
     "text": [
      "RF , Precision: 0.905660377358\n"
     ]
    },
    {
     "name": "stderr",
     "output_type": "stream",
     "text": [
      "\r",
      " 25%|███████████                                 | 2/8 [00:01<00:07,  1.23s/it]"
     ]
    },
    {
     "name": "stdout",
     "output_type": "stream",
     "text": [
      "GBDT , Precision: 0.932515337423\n"
     ]
    },
    {
     "name": "stderr",
     "output_type": "stream",
     "text": [
      "\r",
      " 38%|████████████████▌                           | 3/8 [00:05<00:10,  2.06s/it]"
     ]
    },
    {
     "name": "stdout",
     "output_type": "stream",
     "text": [
      "LR , Precision: 0.946428571429\n"
     ]
    },
    {
     "name": "stderr",
     "output_type": "stream",
     "text": [
      "\r",
      " 50%|██████████████████████                      | 4/8 [00:06<00:06,  1.70s/it]"
     ]
    },
    {
     "name": "stdout",
     "output_type": "stream",
     "text": [
      "Ada , Precision: 0.934523809524\n"
     ]
    },
    {
     "name": "stderr",
     "output_type": "stream",
     "text": [
      "\r",
      " 62%|███████████████████████████▌                | 5/8 [00:08<00:05,  1.81s/it]"
     ]
    },
    {
     "name": "stdout",
     "output_type": "stream",
     "text": [
      "NB , Precision: 0.696581196581\n",
      "XGB , Precision: 0.939024390244\n"
     ]
    },
    {
     "name": "stderr",
     "output_type": "stream",
     "text": [
      "\r",
      " 88%|██████████████████████████████████████▌     | 7/8 [00:10<00:01,  1.46s/it]"
     ]
    },
    {
     "name": "stdout",
     "output_type": "stream",
     "text": [
      "SVM , Precision: 0.797202797203\n"
     ]
    },
    {
     "name": "stderr",
     "output_type": "stream",
     "text": [
      "100%|████████████████████████████████████████████| 8/8 [00:13<00:00,  2.15s/it]\n"
     ]
    },
    {
     "name": "stdout",
     "output_type": "stream",
     "text": [
      "9\n"
     ]
    },
    {
     "name": "stderr",
     "output_type": "stream",
     "text": [
      "100%|██████████████████████████████████████████| 17/17 [03:08<00:00, 11.06s/it]\n"
     ]
    },
    {
     "name": "stdout",
     "output_type": "stream",
     "text": [
      "Positive trainning sample size: 823 \n",
      "\n",
      "Random Under Sampling\n"
     ]
    },
    {
     "name": "stderr",
     "output_type": "stream",
     "text": [
      "100%|██████████████████████████████████████████| 17/17 [00:42<00:00,  2.47s/it]\n"
     ]
    },
    {
     "name": "stdout",
     "output_type": "stream",
     "text": [
      "Negative trainning sample size: 823 \n",
      "\n"
     ]
    },
    {
     "name": "stderr",
     "output_type": "stream",
     "text": [
      "\r",
      "  0%|                                                    | 0/8 [00:00<?, ?it/s]"
     ]
    },
    {
     "name": "stdout",
     "output_type": "stream",
     "text": [
      "KNN , Precision: 0.72972972973\n"
     ]
    },
    {
     "name": "stderr",
     "output_type": "stream",
     "text": [
      "\r",
      " 12%|█████▌                                      | 1/8 [00:01<00:11,  1.65s/it]"
     ]
    },
    {
     "name": "stdout",
     "output_type": "stream",
     "text": [
      "RF , Precision: 0.913580246914\n"
     ]
    },
    {
     "name": "stderr",
     "output_type": "stream",
     "text": [
      "\r",
      " 25%|███████████                                 | 2/8 [00:01<00:07,  1.25s/it]"
     ]
    },
    {
     "name": "stdout",
     "output_type": "stream",
     "text": [
      "GBDT , Precision: 0.922155688623\n"
     ]
    },
    {
     "name": "stderr",
     "output_type": "stream",
     "text": [
      "\r",
      " 38%|████████████████▌                           | 3/8 [00:05<00:10,  2.08s/it]"
     ]
    },
    {
     "name": "stdout",
     "output_type": "stream",
     "text": [
      "LR , Precision: 0.896551724138\n"
     ]
    },
    {
     "name": "stderr",
     "output_type": "stream",
     "text": [
      "\r",
      " 50%|██████████████████████                      | 4/8 [00:06<00:06,  1.71s/it]"
     ]
    },
    {
     "name": "stdout",
     "output_type": "stream",
     "text": [
      "Ada , Precision: 0.926829268293\n"
     ]
    },
    {
     "name": "stderr",
     "output_type": "stream",
     "text": [
      "\r",
      " 62%|███████████████████████████▌                | 5/8 [00:08<00:05,  1.83s/it]"
     ]
    },
    {
     "name": "stdout",
     "output_type": "stream",
     "text": [
      "NB , Precision: 0.658536585366\n",
      "XGB , Precision: 0.91124260355\n"
     ]
    },
    {
     "name": "stderr",
     "output_type": "stream",
     "text": [
      "\r",
      " 88%|██████████████████████████████████████▌     | 7/8 [00:10<00:01,  1.47s/it]"
     ]
    },
    {
     "name": "stdout",
     "output_type": "stream",
     "text": [
      "SVM , Precision: 0.768707482993\n"
     ]
    },
    {
     "name": "stderr",
     "output_type": "stream",
     "text": [
      "100%|████████████████████████████████████████████| 8/8 [00:13<00:00,  2.13s/it]\n"
     ]
    },
    {
     "name": "stdout",
     "output_type": "stream",
     "text": [
      "10\n"
     ]
    },
    {
     "name": "stderr",
     "output_type": "stream",
     "text": [
      "100%|██████████████████████████████████████████| 17/17 [03:05<00:00, 10.94s/it]\n"
     ]
    },
    {
     "name": "stdout",
     "output_type": "stream",
     "text": [
      "Positive trainning sample size: 823 \n",
      "\n",
      "Random Under Sampling\n"
     ]
    },
    {
     "name": "stderr",
     "output_type": "stream",
     "text": [
      "100%|██████████████████████████████████████████| 17/17 [00:41<00:00,  2.46s/it]\n"
     ]
    },
    {
     "name": "stdout",
     "output_type": "stream",
     "text": [
      "Negative trainning sample size: 823 \n",
      "\n"
     ]
    },
    {
     "name": "stderr",
     "output_type": "stream",
     "text": [
      "\r",
      "  0%|                                                    | 0/8 [00:00<?, ?it/s]"
     ]
    },
    {
     "name": "stdout",
     "output_type": "stream",
     "text": [
      "KNN , Precision: 0.713513513514\n"
     ]
    },
    {
     "name": "stderr",
     "output_type": "stream",
     "text": [
      "\r",
      " 12%|█████▌                                      | 1/8 [00:01<00:10,  1.50s/it]"
     ]
    },
    {
     "name": "stdout",
     "output_type": "stream",
     "text": [
      "RF , Precision: 0.860465116279\n"
     ]
    },
    {
     "name": "stderr",
     "output_type": "stream",
     "text": [
      "\r",
      " 25%|███████████                                 | 2/8 [00:01<00:06,  1.15s/it]"
     ]
    },
    {
     "name": "stdout",
     "output_type": "stream",
     "text": [
      "GBDT , Precision: 0.844919786096\n"
     ]
    },
    {
     "name": "stderr",
     "output_type": "stream",
     "text": [
      "\r",
      " 38%|████████████████▌                           | 3/8 [00:05<00:09,  1.97s/it]"
     ]
    },
    {
     "name": "stdout",
     "output_type": "stream",
     "text": [
      "LR , Precision: 0.852631578947\n"
     ]
    },
    {
     "name": "stderr",
     "output_type": "stream",
     "text": [
      "\r",
      " 50%|██████████████████████                      | 4/8 [00:06<00:06,  1.69s/it]"
     ]
    },
    {
     "name": "stdout",
     "output_type": "stream",
     "text": [
      "Ada , Precision: 0.821621621622\n"
     ]
    },
    {
     "name": "stderr",
     "output_type": "stream",
     "text": [
      "\r",
      " 62%|███████████████████████████▌                | 5/8 [00:08<00:05,  1.81s/it]"
     ]
    },
    {
     "name": "stdout",
     "output_type": "stream",
     "text": [
      "NB , Precision: 0.650602409639\n",
      "XGB , Precision: 0.851851851852\n"
     ]
    },
    {
     "name": "stderr",
     "output_type": "stream",
     "text": [
      "\r",
      " 88%|██████████████████████████████████████▌     | 7/8 [00:10<00:01,  1.46s/it]"
     ]
    },
    {
     "name": "stdout",
     "output_type": "stream",
     "text": [
      "SVM , Precision: 0.758169934641\n"
     ]
    },
    {
     "name": "stderr",
     "output_type": "stream",
     "text": [
      "100%|████████████████████████████████████████████| 8/8 [00:13<00:00,  2.15s/it]\n"
     ]
    },
    {
     "name": "stdout",
     "output_type": "stream",
     "text": [
      "11\n"
     ]
    },
    {
     "name": "stderr",
     "output_type": "stream",
     "text": [
      "100%|██████████████████████████████████████████| 17/17 [03:02<00:00, 10.74s/it]\n"
     ]
    },
    {
     "name": "stdout",
     "output_type": "stream",
     "text": [
      "Positive trainning sample size: 823 \n",
      "\n",
      "Random Under Sampling\n"
     ]
    },
    {
     "name": "stderr",
     "output_type": "stream",
     "text": [
      "100%|██████████████████████████████████████████| 17/17 [00:41<00:00,  2.46s/it]\n"
     ]
    },
    {
     "name": "stdout",
     "output_type": "stream",
     "text": [
      "Negative trainning sample size: 823 \n",
      "\n"
     ]
    },
    {
     "name": "stderr",
     "output_type": "stream",
     "text": [
      "\r",
      "  0%|                                                    | 0/8 [00:00<?, ?it/s]"
     ]
    },
    {
     "name": "stdout",
     "output_type": "stream",
     "text": [
      "KNN , Precision: 0.762711864407\n"
     ]
    },
    {
     "name": "stderr",
     "output_type": "stream",
     "text": [
      "\r",
      " 12%|█████▌                                      | 1/8 [00:01<00:11,  1.62s/it]"
     ]
    },
    {
     "name": "stdout",
     "output_type": "stream",
     "text": [
      "RF , Precision: 0.904191616766\n"
     ]
    },
    {
     "name": "stderr",
     "output_type": "stream",
     "text": [
      "\r",
      " 25%|███████████                                 | 2/8 [00:01<00:07,  1.23s/it]"
     ]
    },
    {
     "name": "stdout",
     "output_type": "stream",
     "text": [
      "GBDT , Precision: 0.896551724138\n"
     ]
    },
    {
     "name": "stderr",
     "output_type": "stream",
     "text": [
      "\r",
      " 38%|████████████████▌                           | 3/8 [00:05<00:10,  2.05s/it]"
     ]
    },
    {
     "name": "stdout",
     "output_type": "stream",
     "text": [
      "LR , Precision: 0.905027932961\n"
     ]
    },
    {
     "name": "stderr",
     "output_type": "stream",
     "text": [
      "\r",
      " 50%|██████████████████████                      | 4/8 [00:06<00:06,  1.71s/it]"
     ]
    },
    {
     "name": "stdout",
     "output_type": "stream",
     "text": [
      "Ada , Precision: 0.916666666667\n"
     ]
    },
    {
     "name": "stderr",
     "output_type": "stream",
     "text": [
      "\r",
      " 62%|███████████████████████████▌                | 5/8 [00:08<00:05,  1.83s/it]"
     ]
    },
    {
     "name": "stdout",
     "output_type": "stream",
     "text": [
      "NB , Precision: 0.662393162393\n",
      "XGB , Precision: 0.904494382022\n"
     ]
    },
    {
     "name": "stderr",
     "output_type": "stream",
     "text": [
      "\r",
      " 88%|██████████████████████████████████████▌     | 7/8 [00:10<00:01,  1.47s/it]"
     ]
    },
    {
     "name": "stdout",
     "output_type": "stream",
     "text": [
      "SVM , Precision: 0.772413793103\n"
     ]
    },
    {
     "name": "stderr",
     "output_type": "stream",
     "text": [
      "100%|████████████████████████████████████████████| 8/8 [00:13<00:00,  2.13s/it]\n"
     ]
    },
    {
     "name": "stdout",
     "output_type": "stream",
     "text": [
      "12\n"
     ]
    },
    {
     "name": "stderr",
     "output_type": "stream",
     "text": [
      "100%|██████████████████████████████████████████| 17/17 [03:02<00:00, 10.75s/it]\n"
     ]
    },
    {
     "name": "stdout",
     "output_type": "stream",
     "text": [
      "Positive trainning sample size: 823 \n",
      "\n",
      "Random Under Sampling\n"
     ]
    },
    {
     "name": "stderr",
     "output_type": "stream",
     "text": [
      "100%|██████████████████████████████████████████| 17/17 [00:41<00:00,  2.46s/it]\n"
     ]
    },
    {
     "name": "stdout",
     "output_type": "stream",
     "text": [
      "Negative trainning sample size: 823 \n",
      "\n"
     ]
    },
    {
     "name": "stderr",
     "output_type": "stream",
     "text": [
      "\r",
      "  0%|                                                    | 0/8 [00:00<?, ?it/s]"
     ]
    },
    {
     "name": "stdout",
     "output_type": "stream",
     "text": [
      "KNN , Precision: 0.764705882353\n"
     ]
    },
    {
     "name": "stderr",
     "output_type": "stream",
     "text": [
      "\r",
      " 12%|█████▌                                      | 1/8 [00:01<00:11,  1.58s/it]"
     ]
    },
    {
     "name": "stdout",
     "output_type": "stream",
     "text": [
      "RF , Precision: 0.892405063291\n"
     ]
    },
    {
     "name": "stderr",
     "output_type": "stream",
     "text": [
      "\r",
      " 25%|███████████                                 | 2/8 [00:01<00:07,  1.20s/it]"
     ]
    },
    {
     "name": "stdout",
     "output_type": "stream",
     "text": [
      "GBDT , Precision: 0.896551724138\n"
     ]
    },
    {
     "name": "stderr",
     "output_type": "stream",
     "text": [
      "\r",
      " 38%|████████████████▌                           | 3/8 [00:05<00:10,  2.01s/it]"
     ]
    },
    {
     "name": "stdout",
     "output_type": "stream",
     "text": [
      "LR , Precision: 0.923076923077\n"
     ]
    },
    {
     "name": "stderr",
     "output_type": "stream",
     "text": [
      "\r",
      " 50%|██████████████████████                      | 4/8 [00:06<00:06,  1.70s/it]"
     ]
    },
    {
     "name": "stdout",
     "output_type": "stream",
     "text": [
      "Ada , Precision: 0.882352941176\n"
     ]
    },
    {
     "name": "stderr",
     "output_type": "stream",
     "text": [
      "\r",
      " 62%|███████████████████████████▌                | 5/8 [00:08<00:05,  1.82s/it]"
     ]
    },
    {
     "name": "stdout",
     "output_type": "stream",
     "text": [
      "NB , Precision: 0.665289256198\n",
      "XGB , Precision: 0.897142857143\n"
     ]
    },
    {
     "name": "stderr",
     "output_type": "stream",
     "text": [
      "\r",
      " 88%|██████████████████████████████████████▌     | 7/8 [00:10<00:01,  1.46s/it]"
     ]
    },
    {
     "name": "stdout",
     "output_type": "stream",
     "text": [
      "SVM , Precision: 0.78231292517\n"
     ]
    },
    {
     "name": "stderr",
     "output_type": "stream",
     "text": [
      "100%|████████████████████████████████████████████| 8/8 [00:13<00:00,  2.08s/it]\n"
     ]
    },
    {
     "name": "stdout",
     "output_type": "stream",
     "text": [
      "13\n"
     ]
    },
    {
     "name": "stderr",
     "output_type": "stream",
     "text": [
      "100%|██████████████████████████████████████████| 17/17 [03:02<00:00, 10.74s/it]\n"
     ]
    },
    {
     "name": "stdout",
     "output_type": "stream",
     "text": [
      "Positive trainning sample size: 823 \n",
      "\n",
      "Random Under Sampling\n"
     ]
    },
    {
     "name": "stderr",
     "output_type": "stream",
     "text": [
      "100%|██████████████████████████████████████████| 17/17 [00:41<00:00,  2.46s/it]\n"
     ]
    },
    {
     "name": "stdout",
     "output_type": "stream",
     "text": [
      "Negative trainning sample size: 823 \n",
      "\n"
     ]
    },
    {
     "name": "stderr",
     "output_type": "stream",
     "text": [
      "\r",
      "  0%|                                                    | 0/8 [00:00<?, ?it/s]"
     ]
    },
    {
     "name": "stdout",
     "output_type": "stream",
     "text": [
      "KNN , Precision: 0.661538461538\n"
     ]
    },
    {
     "name": "stderr",
     "output_type": "stream",
     "text": [
      "\r",
      " 12%|█████▌                                      | 1/8 [00:01<00:10,  1.52s/it]"
     ]
    },
    {
     "name": "stdout",
     "output_type": "stream",
     "text": [
      "RF , Precision: 0.897590361446\n"
     ]
    },
    {
     "name": "stderr",
     "output_type": "stream",
     "text": [
      "\r",
      " 25%|███████████                                 | 2/8 [00:01<00:06,  1.16s/it]"
     ]
    },
    {
     "name": "stdout",
     "output_type": "stream",
     "text": [
      "GBDT , Precision: 0.898876404494\n"
     ]
    },
    {
     "name": "stderr",
     "output_type": "stream",
     "text": [
      "\r",
      " 38%|████████████████▌                           | 3/8 [00:05<00:09,  1.96s/it]"
     ]
    },
    {
     "name": "stdout",
     "output_type": "stream",
     "text": [
      "LR , Precision: 0.905882352941\n"
     ]
    },
    {
     "name": "stderr",
     "output_type": "stream",
     "text": [
      "\r",
      " 50%|██████████████████████                      | 4/8 [00:06<00:06,  1.68s/it]"
     ]
    },
    {
     "name": "stdout",
     "output_type": "stream",
     "text": [
      "Ada , Precision: 0.897590361446\n"
     ]
    },
    {
     "name": "stderr",
     "output_type": "stream",
     "text": [
      "\r",
      " 62%|███████████████████████████▌                | 5/8 [00:08<00:05,  1.80s/it]"
     ]
    },
    {
     "name": "stdout",
     "output_type": "stream",
     "text": [
      "NB , Precision: 0.631147540984\n",
      "XGB , Precision: 0.886363636364\n"
     ]
    },
    {
     "name": "stderr",
     "output_type": "stream",
     "text": [
      "\r",
      " 88%|██████████████████████████████████████▌     | 7/8 [00:10<00:01,  1.45s/it]"
     ]
    },
    {
     "name": "stdout",
     "output_type": "stream",
     "text": [
      "SVM , Precision: 0.716981132075\n"
     ]
    },
    {
     "name": "stderr",
     "output_type": "stream",
     "text": [
      "100%|████████████████████████████████████████████| 8/8 [00:13<00:00,  2.12s/it]\n"
     ]
    },
    {
     "name": "stdout",
     "output_type": "stream",
     "text": [
      "14\n"
     ]
    },
    {
     "name": "stderr",
     "output_type": "stream",
     "text": [
      "100%|██████████████████████████████████████████| 17/17 [03:08<00:00, 11.18s/it]\n"
     ]
    },
    {
     "name": "stdout",
     "output_type": "stream",
     "text": [
      "Positive trainning sample size: 823 \n",
      "\n",
      "Random Under Sampling\n"
     ]
    },
    {
     "name": "stderr",
     "output_type": "stream",
     "text": [
      "100%|██████████████████████████████████████████| 17/17 [00:42<00:00,  2.47s/it]\n"
     ]
    },
    {
     "name": "stdout",
     "output_type": "stream",
     "text": [
      "Negative trainning sample size: 823 \n",
      "\n"
     ]
    },
    {
     "name": "stderr",
     "output_type": "stream",
     "text": [
      "\r",
      "  0%|                                                    | 0/8 [00:00<?, ?it/s]"
     ]
    },
    {
     "name": "stdout",
     "output_type": "stream",
     "text": [
      "KNN , Precision: 0.745856353591\n"
     ]
    },
    {
     "name": "stderr",
     "output_type": "stream",
     "text": [
      "\r",
      " 12%|█████▌                                      | 1/8 [00:01<00:10,  1.55s/it]"
     ]
    },
    {
     "name": "stdout",
     "output_type": "stream",
     "text": [
      "RF , Precision: 0.892405063291\n"
     ]
    },
    {
     "name": "stderr",
     "output_type": "stream",
     "text": [
      "\r",
      " 25%|███████████                                 | 2/8 [00:01<00:07,  1.18s/it]"
     ]
    },
    {
     "name": "stdout",
     "output_type": "stream",
     "text": [
      "GBDT , Precision: 0.912790697674\n"
     ]
    },
    {
     "name": "stderr",
     "output_type": "stream",
     "text": [
      "\r",
      " 38%|████████████████▌                           | 3/8 [00:06<00:10,  2.07s/it]"
     ]
    },
    {
     "name": "stdout",
     "output_type": "stream",
     "text": [
      "LR , Precision: 0.908045977011\n"
     ]
    },
    {
     "name": "stderr",
     "output_type": "stream",
     "text": [
      "\r",
      " 50%|██████████████████████                      | 4/8 [00:07<00:07,  1.77s/it]"
     ]
    },
    {
     "name": "stdout",
     "output_type": "stream",
     "text": [
      "Ada , Precision: 0.912280701754\n"
     ]
    },
    {
     "name": "stderr",
     "output_type": "stream",
     "text": [
      "\r",
      " 62%|███████████████████████████▌                | 5/8 [00:09<00:05,  1.91s/it]"
     ]
    },
    {
     "name": "stdout",
     "output_type": "stream",
     "text": [
      "NB , Precision: 0.655870445344\n",
      "XGB , Precision: 0.923976608187\n"
     ]
    },
    {
     "name": "stderr",
     "output_type": "stream",
     "text": [
      "\r",
      " 88%|██████████████████████████████████████▌     | 7/8 [00:10<00:01,  1.53s/it]"
     ]
    },
    {
     "name": "stdout",
     "output_type": "stream",
     "text": [
      "SVM , Precision: 0.8\n"
     ]
    },
    {
     "name": "stderr",
     "output_type": "stream",
     "text": [
      "100%|████████████████████████████████████████████| 8/8 [00:14<00:00,  2.25s/it]\n"
     ]
    },
    {
     "name": "stdout",
     "output_type": "stream",
     "text": [
      "背心吊帶 121412004\n",
      "0\n"
     ]
    },
    {
     "name": "stderr",
     "output_type": "stream",
     "text": [
      "100%|██████████████████████████████████████████| 13/13 [02:12<00:00, 10.20s/it]\n"
     ]
    },
    {
     "name": "stdout",
     "output_type": "stream",
     "text": [
      "Positive trainning sample size: 556 \n",
      "\n",
      "Random Under Sampling\n"
     ]
    },
    {
     "name": "stderr",
     "output_type": "stream",
     "text": [
      "100%|██████████████████████████████████████████| 13/13 [00:22<00:00,  1.71s/it]\n"
     ]
    },
    {
     "name": "stdout",
     "output_type": "stream",
     "text": [
      "Negative trainning sample size: 556 \n",
      "\n"
     ]
    },
    {
     "name": "stderr",
     "output_type": "stream",
     "text": [
      "\r",
      "  0%|                                                    | 0/8 [00:00<?, ?it/s]"
     ]
    },
    {
     "name": "stdout",
     "output_type": "stream",
     "text": [
      "KNN , Precision: 0.669172932331\n"
     ]
    },
    {
     "name": "stderr",
     "output_type": "stream",
     "text": [
      "\r",
      " 12%|█████▌                                      | 1/8 [00:00<00:03,  2.19it/s]"
     ]
    },
    {
     "name": "stdout",
     "output_type": "stream",
     "text": [
      "RF , Precision: 0.805084745763\n"
     ]
    },
    {
     "name": "stderr",
     "output_type": "stream",
     "text": [
      "\r",
      " 25%|███████████                                 | 2/8 [00:00<00:02,  2.48it/s]"
     ]
    },
    {
     "name": "stdout",
     "output_type": "stream",
     "text": [
      "GBDT , Precision: 0.81512605042\n"
     ]
    },
    {
     "name": "stderr",
     "output_type": "stream",
     "text": [
      "\r",
      " 38%|████████████████▌                           | 3/8 [00:02<00:04,  1.05it/s]"
     ]
    },
    {
     "name": "stdout",
     "output_type": "stream",
     "text": [
      "LR , Precision: 0.844036697248\n"
     ]
    },
    {
     "name": "stderr",
     "output_type": "stream",
     "text": [
      "\r",
      " 50%|██████████████████████                      | 4/8 [00:03<00:03,  1.33it/s]"
     ]
    },
    {
     "name": "stdout",
     "output_type": "stream",
     "text": [
      "Ada , Precision: 0.83185840708\n"
     ]
    },
    {
     "name": "stderr",
     "output_type": "stream",
     "text": [
      "\r",
      " 62%|███████████████████████████▌                | 5/8 [00:04<00:03,  1.00s/it]"
     ]
    },
    {
     "name": "stdout",
     "output_type": "stream",
     "text": [
      "NB , Precision: 0.655629139073\n",
      "XGB , Precision: 0.849557522124\n"
     ]
    },
    {
     "name": "stderr",
     "output_type": "stream",
     "text": [
      "\r",
      " 88%|██████████████████████████████████████▌     | 7/8 [00:05<00:00,  1.19it/s]"
     ]
    },
    {
     "name": "stdout",
     "output_type": "stream",
     "text": [
      "SVM , Precision: 0.718181818182\n"
     ]
    },
    {
     "name": "stderr",
     "output_type": "stream",
     "text": [
      "100%|████████████████████████████████████████████| 8/8 [00:07<00:00,  1.01it/s]\n"
     ]
    },
    {
     "name": "stdout",
     "output_type": "stream",
     "text": [
      "1\n"
     ]
    },
    {
     "name": "stderr",
     "output_type": "stream",
     "text": [
      "100%|██████████████████████████████████████████| 13/13 [02:11<00:00, 10.26s/it]\n"
     ]
    },
    {
     "name": "stdout",
     "output_type": "stream",
     "text": [
      "Positive trainning sample size: 556 \n",
      "\n",
      "Random Under Sampling\n"
     ]
    },
    {
     "name": "stderr",
     "output_type": "stream",
     "text": [
      "100%|██████████████████████████████████████████| 13/13 [00:23<00:00,  1.73s/it]\n"
     ]
    },
    {
     "name": "stdout",
     "output_type": "stream",
     "text": [
      "Negative trainning sample size: 556 \n",
      "\n"
     ]
    },
    {
     "name": "stderr",
     "output_type": "stream",
     "text": [
      "\r",
      "  0%|                                                    | 0/8 [00:00<?, ?it/s]"
     ]
    },
    {
     "name": "stdout",
     "output_type": "stream",
     "text": [
      "KNN , Precision: 0.731707317073\n"
     ]
    },
    {
     "name": "stderr",
     "output_type": "stream",
     "text": [
      "\r",
      " 12%|█████▌                                      | 1/8 [00:00<00:03,  2.13it/s]"
     ]
    },
    {
     "name": "stdout",
     "output_type": "stream",
     "text": [
      "RF , Precision: 0.808695652174\n"
     ]
    },
    {
     "name": "stderr",
     "output_type": "stream",
     "text": [
      "\r",
      " 25%|███████████                                 | 2/8 [00:00<00:02,  2.39it/s]"
     ]
    },
    {
     "name": "stdout",
     "output_type": "stream",
     "text": [
      "GBDT , Precision: 0.825\n"
     ]
    },
    {
     "name": "stderr",
     "output_type": "stream",
     "text": [
      "\r",
      " 38%|████████████████▌                           | 3/8 [00:03<00:04,  1.01it/s]"
     ]
    },
    {
     "name": "stdout",
     "output_type": "stream",
     "text": [
      "LR , Precision: 0.808695652174\n"
     ]
    },
    {
     "name": "stderr",
     "output_type": "stream",
     "text": [
      "\r",
      " 50%|██████████████████████                      | 4/8 [00:03<00:03,  1.31it/s]"
     ]
    },
    {
     "name": "stdout",
     "output_type": "stream",
     "text": [
      "Ada , Precision: 0.786324786325\n"
     ]
    },
    {
     "name": "stderr",
     "output_type": "stream",
     "text": [
      "\r",
      " 62%|███████████████████████████▌                | 5/8 [00:04<00:03,  1.01s/it]"
     ]
    },
    {
     "name": "stdout",
     "output_type": "stream",
     "text": [
      "NB , Precision: 0.662068965517\n",
      "XGB , Precision: 0.822033898305\n"
     ]
    },
    {
     "name": "stderr",
     "output_type": "stream",
     "text": [
      "\r",
      " 88%|██████████████████████████████████████▌     | 7/8 [00:05<00:00,  1.18it/s]"
     ]
    },
    {
     "name": "stdout",
     "output_type": "stream",
     "text": [
      "SVM , Precision: 0.81914893617\n"
     ]
    },
    {
     "name": "stderr",
     "output_type": "stream",
     "text": [
      "100%|████████████████████████████████████████████| 8/8 [00:07<00:00,  1.02it/s]\n"
     ]
    },
    {
     "name": "stdout",
     "output_type": "stream",
     "text": [
      "2\n"
     ]
    },
    {
     "name": "stderr",
     "output_type": "stream",
     "text": [
      "100%|██████████████████████████████████████████| 13/13 [02:09<00:00,  9.94s/it]\n"
     ]
    },
    {
     "name": "stdout",
     "output_type": "stream",
     "text": [
      "Positive trainning sample size: 556 \n",
      "\n",
      "Random Under Sampling\n"
     ]
    },
    {
     "name": "stderr",
     "output_type": "stream",
     "text": [
      "100%|██████████████████████████████████████████| 13/13 [00:22<00:00,  1.73s/it]\n"
     ]
    },
    {
     "name": "stdout",
     "output_type": "stream",
     "text": [
      "Negative trainning sample size: 556 \n",
      "\n"
     ]
    },
    {
     "name": "stderr",
     "output_type": "stream",
     "text": [
      "\r",
      "  0%|                                                    | 0/8 [00:00<?, ?it/s]"
     ]
    },
    {
     "name": "stdout",
     "output_type": "stream",
     "text": [
      "KNN , Precision: 0.736434108527\n"
     ]
    },
    {
     "name": "stderr",
     "output_type": "stream",
     "text": [
      "\r",
      " 12%|█████▌                                      | 1/8 [00:00<00:03,  2.28it/s]"
     ]
    },
    {
     "name": "stdout",
     "output_type": "stream",
     "text": [
      "RF , Precision: 0.875\n"
     ]
    },
    {
     "name": "stderr",
     "output_type": "stream",
     "text": [
      "\r",
      " 25%|███████████                                 | 2/8 [00:00<00:02,  2.53it/s]"
     ]
    },
    {
     "name": "stdout",
     "output_type": "stream",
     "text": [
      "GBDT , Precision: 0.854545454545\n"
     ]
    },
    {
     "name": "stderr",
     "output_type": "stream",
     "text": [
      "\r",
      " 38%|████████████████▌                           | 3/8 [00:03<00:04,  1.03it/s]"
     ]
    },
    {
     "name": "stdout",
     "output_type": "stream",
     "text": [
      "LR , Precision: 0.776859504132\n"
     ]
    },
    {
     "name": "stderr",
     "output_type": "stream",
     "text": [
      "\r",
      " 50%|██████████████████████                      | 4/8 [00:03<00:02,  1.34it/s]"
     ]
    },
    {
     "name": "stdout",
     "output_type": "stream",
     "text": [
      "Ada , Precision: 0.855769230769\n"
     ]
    },
    {
     "name": "stderr",
     "output_type": "stream",
     "text": [
      "\r",
      " 62%|███████████████████████████▌                | 5/8 [00:04<00:03,  1.01s/it]"
     ]
    },
    {
     "name": "stdout",
     "output_type": "stream",
     "text": [
      "NB , Precision: 0.698529411765\n",
      "XGB , Precision: 0.877358490566\n"
     ]
    },
    {
     "name": "stderr",
     "output_type": "stream",
     "text": [
      "\r",
      " 88%|██████████████████████████████████████▌     | 7/8 [00:05<00:00,  1.19it/s]"
     ]
    },
    {
     "name": "stdout",
     "output_type": "stream",
     "text": [
      "SVM , Precision: 0.720720720721\n"
     ]
    },
    {
     "name": "stderr",
     "output_type": "stream",
     "text": [
      "100%|████████████████████████████████████████████| 8/8 [00:07<00:00,  1.01it/s]\n"
     ]
    },
    {
     "name": "stdout",
     "output_type": "stream",
     "text": [
      "3\n"
     ]
    },
    {
     "name": "stderr",
     "output_type": "stream",
     "text": [
      "100%|██████████████████████████████████████████| 13/13 [02:09<00:00,  9.86s/it]\n"
     ]
    },
    {
     "name": "stdout",
     "output_type": "stream",
     "text": [
      "Positive trainning sample size: 556 \n",
      "\n",
      "Random Under Sampling\n"
     ]
    },
    {
     "name": "stderr",
     "output_type": "stream",
     "text": [
      "100%|██████████████████████████████████████████| 13/13 [00:21<00:00,  1.66s/it]\n"
     ]
    },
    {
     "name": "stdout",
     "output_type": "stream",
     "text": [
      "Negative trainning sample size: 556 \n",
      "\n"
     ]
    },
    {
     "name": "stderr",
     "output_type": "stream",
     "text": [
      "\r",
      "  0%|                                                    | 0/8 [00:00<?, ?it/s]"
     ]
    },
    {
     "name": "stdout",
     "output_type": "stream",
     "text": [
      "KNN , Precision: 0.72\n"
     ]
    },
    {
     "name": "stderr",
     "output_type": "stream",
     "text": [
      "\r",
      " 12%|█████▌                                      | 1/8 [00:00<00:03,  2.16it/s]"
     ]
    },
    {
     "name": "stdout",
     "output_type": "stream",
     "text": [
      "RF , Precision: 0.846153846154\n"
     ]
    },
    {
     "name": "stderr",
     "output_type": "stream",
     "text": [
      "\r",
      " 25%|███████████                                 | 2/8 [00:00<00:02,  2.45it/s]"
     ]
    },
    {
     "name": "stdout",
     "output_type": "stream",
     "text": [
      "GBDT , Precision: 0.869158878505\n"
     ]
    },
    {
     "name": "stderr",
     "output_type": "stream",
     "text": [
      "\r",
      " 38%|████████████████▌                           | 3/8 [00:03<00:04,  1.03it/s]"
     ]
    },
    {
     "name": "stdout",
     "output_type": "stream",
     "text": [
      "LR , Precision: 0.828828828829\n"
     ]
    },
    {
     "name": "stderr",
     "output_type": "stream",
     "text": [
      "\r",
      " 50%|██████████████████████                      | 4/8 [00:03<00:03,  1.31it/s]"
     ]
    },
    {
     "name": "stdout",
     "output_type": "stream",
     "text": [
      "Ada , Precision: 0.837837837838\n"
     ]
    },
    {
     "name": "stderr",
     "output_type": "stream",
     "text": [
      "\r",
      " 62%|███████████████████████████▌                | 5/8 [00:04<00:02,  1.00it/s]"
     ]
    },
    {
     "name": "stdout",
     "output_type": "stream",
     "text": [
      "NB , Precision: 0.753968253968\n",
      "XGB , Precision: 0.855855855856\n"
     ]
    },
    {
     "name": "stderr",
     "output_type": "stream",
     "text": [
      "\r",
      " 88%|██████████████████████████████████████▌     | 7/8 [00:05<00:00,  1.20it/s]"
     ]
    },
    {
     "name": "stdout",
     "output_type": "stream",
     "text": [
      "SVM , Precision: 0.84375\n"
     ]
    },
    {
     "name": "stderr",
     "output_type": "stream",
     "text": [
      "100%|████████████████████████████████████████████| 8/8 [00:07<00:00,  1.02it/s]\n"
     ]
    },
    {
     "name": "stdout",
     "output_type": "stream",
     "text": [
      "4\n"
     ]
    },
    {
     "name": "stderr",
     "output_type": "stream",
     "text": [
      "100%|██████████████████████████████████████████| 13/13 [02:11<00:00, 10.16s/it]\n"
     ]
    },
    {
     "name": "stdout",
     "output_type": "stream",
     "text": [
      "Positive trainning sample size: 556 \n",
      "\n",
      "Random Under Sampling\n"
     ]
    },
    {
     "name": "stderr",
     "output_type": "stream",
     "text": [
      "100%|██████████████████████████████████████████| 13/13 [00:23<00:00,  1.87s/it]\n"
     ]
    },
    {
     "name": "stdout",
     "output_type": "stream",
     "text": [
      "Negative trainning sample size: 556 \n",
      "\n"
     ]
    },
    {
     "name": "stderr",
     "output_type": "stream",
     "text": [
      "\r",
      "  0%|                                                    | 0/8 [00:00<?, ?it/s]"
     ]
    },
    {
     "name": "stdout",
     "output_type": "stream",
     "text": [
      "KNN , Precision: 0.684615384615\n"
     ]
    },
    {
     "name": "stderr",
     "output_type": "stream",
     "text": [
      "\r",
      " 12%|█████▌                                      | 1/8 [00:00<00:03,  2.03it/s]"
     ]
    },
    {
     "name": "stdout",
     "output_type": "stream",
     "text": [
      "RF , Precision: 0.833333333333\n"
     ]
    },
    {
     "name": "stderr",
     "output_type": "stream",
     "text": [
      "\r",
      " 25%|███████████                                 | 2/8 [00:00<00:02,  2.25it/s]"
     ]
    },
    {
     "name": "stdout",
     "output_type": "stream",
     "text": [
      "GBDT , Precision: 0.853211009174\n"
     ]
    },
    {
     "name": "stderr",
     "output_type": "stream",
     "text": [
      "\r",
      " 38%|████████████████▌                           | 3/8 [00:03<00:05,  1.03s/it]"
     ]
    },
    {
     "name": "stdout",
     "output_type": "stream",
     "text": [
      "LR , Precision: 0.827272727273\n"
     ]
    },
    {
     "name": "stderr",
     "output_type": "stream",
     "text": [
      "\r",
      " 50%|██████████████████████                      | 4/8 [00:03<00:03,  1.13it/s]"
     ]
    },
    {
     "name": "stdout",
     "output_type": "stream",
     "text": [
      "Ada , Precision: 0.825688073394\n"
     ]
    },
    {
     "name": "stderr",
     "output_type": "stream",
     "text": [
      "\r",
      " 62%|███████████████████████████▌                | 5/8 [00:05<00:03,  1.13s/it]"
     ]
    },
    {
     "name": "stdout",
     "output_type": "stream",
     "text": [
      "NB , Precision: 0.720930232558\n",
      "XGB , Precision: 0.87619047619\n"
     ]
    },
    {
     "name": "stderr",
     "output_type": "stream",
     "text": [
      "\r",
      " 88%|██████████████████████████████████████▌     | 7/8 [00:06<00:00,  1.06it/s]"
     ]
    },
    {
     "name": "stdout",
     "output_type": "stream",
     "text": [
      "SVM , Precision: 0.772727272727\n"
     ]
    },
    {
     "name": "stderr",
     "output_type": "stream",
     "text": [
      "100%|████████████████████████████████████████████| 8/8 [00:07<00:00,  1.08s/it]\n"
     ]
    },
    {
     "name": "stdout",
     "output_type": "stream",
     "text": [
      "5\n"
     ]
    },
    {
     "name": "stderr",
     "output_type": "stream",
     "text": [
      "100%|██████████████████████████████████████████| 13/13 [02:15<00:00, 10.21s/it]\n"
     ]
    },
    {
     "name": "stdout",
     "output_type": "stream",
     "text": [
      "Positive trainning sample size: 556 \n",
      "\n",
      "Random Under Sampling\n"
     ]
    },
    {
     "name": "stderr",
     "output_type": "stream",
     "text": [
      "100%|██████████████████████████████████████████| 13/13 [00:23<00:00,  1.75s/it]\n"
     ]
    },
    {
     "name": "stdout",
     "output_type": "stream",
     "text": [
      "Negative trainning sample size: 556 \n",
      "\n"
     ]
    },
    {
     "name": "stderr",
     "output_type": "stream",
     "text": [
      "\r",
      "  0%|                                                    | 0/8 [00:00<?, ?it/s]"
     ]
    },
    {
     "name": "stdout",
     "output_type": "stream",
     "text": [
      "KNN , Precision: 0.737288135593\n"
     ]
    },
    {
     "name": "stderr",
     "output_type": "stream",
     "text": [
      "\r",
      " 12%|█████▌                                      | 1/8 [00:00<00:03,  2.16it/s]"
     ]
    },
    {
     "name": "stdout",
     "output_type": "stream",
     "text": [
      "RF , Precision: 0.877551020408\n"
     ]
    },
    {
     "name": "stderr",
     "output_type": "stream",
     "text": [
      "\r",
      " 25%|███████████                                 | 2/8 [00:00<00:02,  2.45it/s]"
     ]
    },
    {
     "name": "stdout",
     "output_type": "stream",
     "text": [
      "GBDT , Precision: 0.813559322034\n"
     ]
    },
    {
     "name": "stderr",
     "output_type": "stream",
     "text": [
      "\r",
      " 38%|████████████████▌                           | 3/8 [00:02<00:04,  1.05it/s]"
     ]
    },
    {
     "name": "stdout",
     "output_type": "stream",
     "text": [
      "LR , Precision: 0.826086956522\n"
     ]
    },
    {
     "name": "stderr",
     "output_type": "stream",
     "text": [
      "\r",
      " 50%|██████████████████████                      | 4/8 [00:03<00:03,  1.33it/s]"
     ]
    },
    {
     "name": "stdout",
     "output_type": "stream",
     "text": [
      "Ada , Precision: 0.801724137931\n"
     ]
    },
    {
     "name": "stderr",
     "output_type": "stream",
     "text": [
      "\r",
      " 62%|███████████████████████████▌                | 5/8 [00:04<00:03,  1.02s/it]"
     ]
    },
    {
     "name": "stdout",
     "output_type": "stream",
     "text": [
      "NB , Precision: 0.675496688742\n",
      "XGB , Precision: 0.837606837607\n"
     ]
    },
    {
     "name": "stderr",
     "output_type": "stream",
     "text": [
      "\r",
      " 88%|██████████████████████████████████████▌     | 7/8 [00:05<00:00,  1.18it/s]"
     ]
    },
    {
     "name": "stdout",
     "output_type": "stream",
     "text": [
      "SVM , Precision: 0.772277227723\n"
     ]
    },
    {
     "name": "stderr",
     "output_type": "stream",
     "text": [
      "100%|████████████████████████████████████████████| 8/8 [00:07<00:00,  1.01s/it]\n"
     ]
    },
    {
     "name": "stdout",
     "output_type": "stream",
     "text": [
      "6\n"
     ]
    },
    {
     "name": "stderr",
     "output_type": "stream",
     "text": [
      "100%|██████████████████████████████████████████| 13/13 [02:12<00:00, 10.05s/it]\n"
     ]
    },
    {
     "name": "stdout",
     "output_type": "stream",
     "text": [
      "Positive trainning sample size: 556 \n",
      "\n",
      "Random Under Sampling\n"
     ]
    },
    {
     "name": "stderr",
     "output_type": "stream",
     "text": [
      "100%|██████████████████████████████████████████| 13/13 [00:21<00:00,  1.67s/it]\n"
     ]
    },
    {
     "name": "stdout",
     "output_type": "stream",
     "text": [
      "Negative trainning sample size: 556 \n",
      "\n"
     ]
    },
    {
     "name": "stderr",
     "output_type": "stream",
     "text": [
      "\r",
      "  0%|                                                    | 0/8 [00:00<?, ?it/s]"
     ]
    },
    {
     "name": "stdout",
     "output_type": "stream",
     "text": [
      "KNN , Precision: 0.713114754098\n"
     ]
    },
    {
     "name": "stderr",
     "output_type": "stream",
     "text": [
      "\r",
      " 12%|█████▌                                      | 1/8 [00:00<00:03,  2.17it/s]"
     ]
    },
    {
     "name": "stdout",
     "output_type": "stream",
     "text": [
      "RF , Precision: 0.833333333333\n"
     ]
    },
    {
     "name": "stderr",
     "output_type": "stream",
     "text": [
      "\r",
      " 25%|███████████                                 | 2/8 [00:00<00:02,  2.46it/s]"
     ]
    },
    {
     "name": "stdout",
     "output_type": "stream",
     "text": [
      "GBDT , Precision: 0.833333333333\n"
     ]
    },
    {
     "name": "stderr",
     "output_type": "stream",
     "text": [
      "\r",
      " 38%|████████████████▌                           | 3/8 [00:02<00:04,  1.06it/s]"
     ]
    },
    {
     "name": "stdout",
     "output_type": "stream",
     "text": [
      "LR , Precision: 0.794642857143\n"
     ]
    },
    {
     "name": "stderr",
     "output_type": "stream",
     "text": [
      "\r",
      " 50%|██████████████████████                      | 4/8 [00:03<00:02,  1.36it/s]"
     ]
    },
    {
     "name": "stdout",
     "output_type": "stream",
     "text": [
      "Ada , Precision: 0.805555555556\n"
     ]
    },
    {
     "name": "stderr",
     "output_type": "stream",
     "text": [
      "\r",
      " 62%|███████████████████████████▌                | 5/8 [00:04<00:02,  1.02it/s]"
     ]
    },
    {
     "name": "stdout",
     "output_type": "stream",
     "text": [
      "NB , Precision: 0.687943262411\n",
      "XGB , Precision: 0.855855855856\n"
     ]
    },
    {
     "name": "stderr",
     "output_type": "stream",
     "text": [
      "\r",
      " 88%|██████████████████████████████████████▌     | 7/8 [00:05<00:00,  1.22it/s]"
     ]
    },
    {
     "name": "stdout",
     "output_type": "stream",
     "text": [
      "SVM , Precision: 0.766355140187\n"
     ]
    },
    {
     "name": "stderr",
     "output_type": "stream",
     "text": [
      "100%|████████████████████████████████████████████| 8/8 [00:06<00:00,  1.03it/s]\n"
     ]
    },
    {
     "name": "stdout",
     "output_type": "stream",
     "text": [
      "7\n"
     ]
    },
    {
     "name": "stderr",
     "output_type": "stream",
     "text": [
      "100%|██████████████████████████████████████████| 13/13 [02:14<00:00, 10.23s/it]\n"
     ]
    },
    {
     "name": "stdout",
     "output_type": "stream",
     "text": [
      "Positive trainning sample size: 556 \n",
      "\n",
      "Random Under Sampling\n"
     ]
    },
    {
     "name": "stderr",
     "output_type": "stream",
     "text": [
      "100%|██████████████████████████████████████████| 13/13 [00:23<00:00,  1.74s/it]\n"
     ]
    },
    {
     "name": "stdout",
     "output_type": "stream",
     "text": [
      "Negative trainning sample size: 556 \n",
      "\n"
     ]
    },
    {
     "name": "stderr",
     "output_type": "stream",
     "text": [
      "\r",
      "  0%|                                                    | 0/8 [00:00<?, ?it/s]"
     ]
    },
    {
     "name": "stdout",
     "output_type": "stream",
     "text": [
      "KNN , Precision: 0.729508196721\n"
     ]
    },
    {
     "name": "stderr",
     "output_type": "stream",
     "text": [
      "\r",
      " 12%|█████▌                                      | 1/8 [00:00<00:03,  2.24it/s]"
     ]
    },
    {
     "name": "stdout",
     "output_type": "stream",
     "text": [
      "RF , Precision: 0.84\n"
     ]
    },
    {
     "name": "stderr",
     "output_type": "stream",
     "text": [
      "\r",
      " 25%|███████████                                 | 2/8 [00:00<00:02,  2.49it/s]"
     ]
    },
    {
     "name": "stdout",
     "output_type": "stream",
     "text": [
      "GBDT , Precision: 0.850877192982\n"
     ]
    },
    {
     "name": "stderr",
     "output_type": "stream",
     "text": [
      "\r",
      " 38%|████████████████▌                           | 3/8 [00:03<00:04,  1.03it/s]"
     ]
    },
    {
     "name": "stdout",
     "output_type": "stream",
     "text": [
      "LR , Precision: 0.8\n"
     ]
    },
    {
     "name": "stderr",
     "output_type": "stream",
     "text": [
      "\r",
      " 50%|██████████████████████                      | 4/8 [00:03<00:03,  1.31it/s]"
     ]
    },
    {
     "name": "stdout",
     "output_type": "stream",
     "text": [
      "Ada , Precision: 0.809090909091\n"
     ]
    },
    {
     "name": "stderr",
     "output_type": "stream",
     "text": [
      "\r",
      " 62%|███████████████████████████▌                | 5/8 [00:04<00:03,  1.02s/it]"
     ]
    },
    {
     "name": "stdout",
     "output_type": "stream",
     "text": [
      "NB , Precision: 0.664335664336\n",
      "XGB , Precision: 0.839285714286\n"
     ]
    },
    {
     "name": "stderr",
     "output_type": "stream",
     "text": [
      "\r",
      " 88%|██████████████████████████████████████▌     | 7/8 [00:05<00:00,  1.17it/s]"
     ]
    },
    {
     "name": "stdout",
     "output_type": "stream",
     "text": [
      "SVM , Precision: 0.75\n"
     ]
    },
    {
     "name": "stderr",
     "output_type": "stream",
     "text": [
      "100%|████████████████████████████████████████████| 8/8 [00:07<00:00,  1.01it/s]\n"
     ]
    },
    {
     "name": "stdout",
     "output_type": "stream",
     "text": [
      "8\n"
     ]
    },
    {
     "name": "stderr",
     "output_type": "stream",
     "text": [
      "100%|██████████████████████████████████████████| 13/13 [02:09<00:00,  9.84s/it]\n"
     ]
    },
    {
     "name": "stdout",
     "output_type": "stream",
     "text": [
      "Positive trainning sample size: 556 \n",
      "\n",
      "Random Under Sampling\n"
     ]
    },
    {
     "name": "stderr",
     "output_type": "stream",
     "text": [
      "100%|██████████████████████████████████████████| 13/13 [00:21<00:00,  1.66s/it]\n"
     ]
    },
    {
     "name": "stdout",
     "output_type": "stream",
     "text": [
      "Negative trainning sample size: 556 \n",
      "\n"
     ]
    },
    {
     "name": "stderr",
     "output_type": "stream",
     "text": [
      "\r",
      "  0%|                                                    | 0/8 [00:00<?, ?it/s]"
     ]
    },
    {
     "name": "stdout",
     "output_type": "stream",
     "text": [
      "KNN , Precision: 0.656934306569\n"
     ]
    },
    {
     "name": "stderr",
     "output_type": "stream",
     "text": [
      "\r",
      " 12%|█████▌                                      | 1/8 [00:00<00:03,  2.11it/s]"
     ]
    },
    {
     "name": "stdout",
     "output_type": "stream",
     "text": [
      "RF , Precision: 0.794642857143\n"
     ]
    },
    {
     "name": "stderr",
     "output_type": "stream",
     "text": [
      "\r",
      " 25%|███████████                                 | 2/8 [00:00<00:02,  2.40it/s]"
     ]
    },
    {
     "name": "stdout",
     "output_type": "stream",
     "text": [
      "GBDT , Precision: 0.768\n"
     ]
    },
    {
     "name": "stderr",
     "output_type": "stream",
     "text": [
      "\r",
      " 38%|████████████████▌                           | 3/8 [00:02<00:04,  1.04it/s]"
     ]
    },
    {
     "name": "stdout",
     "output_type": "stream",
     "text": [
      "LR , Precision: 0.762711864407\n"
     ]
    },
    {
     "name": "stderr",
     "output_type": "stream",
     "text": [
      "\r",
      " 50%|██████████████████████                      | 4/8 [00:03<00:02,  1.35it/s]"
     ]
    },
    {
     "name": "stdout",
     "output_type": "stream",
     "text": [
      "Ada , Precision: 0.785123966942\n"
     ]
    },
    {
     "name": "stderr",
     "output_type": "stream",
     "text": [
      "\r",
      " 62%|███████████████████████████▌                | 5/8 [00:04<00:02,  1.02it/s]"
     ]
    },
    {
     "name": "stdout",
     "output_type": "stream",
     "text": [
      "NB , Precision: 0.657894736842\n",
      "XGB , Precision: 0.801652892562\n"
     ]
    },
    {
     "name": "stderr",
     "output_type": "stream",
     "text": [
      "\r",
      " 88%|██████████████████████████████████████▌     | 7/8 [00:05<00:00,  1.22it/s]"
     ]
    },
    {
     "name": "stdout",
     "output_type": "stream",
     "text": [
      "SVM , Precision: 0.690909090909\n"
     ]
    },
    {
     "name": "stderr",
     "output_type": "stream",
     "text": [
      "100%|████████████████████████████████████████████| 8/8 [00:06<00:00,  1.04it/s]\n"
     ]
    },
    {
     "name": "stdout",
     "output_type": "stream",
     "text": [
      "9\n"
     ]
    },
    {
     "name": "stderr",
     "output_type": "stream",
     "text": [
      "100%|██████████████████████████████████████████| 13/13 [02:08<00:00,  9.84s/it]\n"
     ]
    },
    {
     "name": "stdout",
     "output_type": "stream",
     "text": [
      "Positive trainning sample size: 556 \n",
      "\n",
      "Random Under Sampling\n"
     ]
    },
    {
     "name": "stderr",
     "output_type": "stream",
     "text": [
      "100%|██████████████████████████████████████████| 13/13 [00:21<00:00,  1.66s/it]\n"
     ]
    },
    {
     "name": "stdout",
     "output_type": "stream",
     "text": [
      "Negative trainning sample size: 556 \n",
      "\n"
     ]
    },
    {
     "name": "stderr",
     "output_type": "stream",
     "text": [
      "\r",
      "  0%|                                                    | 0/8 [00:00<?, ?it/s]"
     ]
    },
    {
     "name": "stdout",
     "output_type": "stream",
     "text": [
      "KNN , Precision: 0.758620689655\n"
     ]
    },
    {
     "name": "stderr",
     "output_type": "stream",
     "text": [
      "\r",
      " 12%|█████▌                                      | 1/8 [00:00<00:03,  2.20it/s]"
     ]
    },
    {
     "name": "stdout",
     "output_type": "stream",
     "text": [
      "RF , Precision: 0.871287128713\n"
     ]
    },
    {
     "name": "stderr",
     "output_type": "stream",
     "text": [
      "\r",
      " 25%|███████████                                 | 2/8 [00:00<00:02,  2.51it/s]"
     ]
    },
    {
     "name": "stdout",
     "output_type": "stream",
     "text": [
      "GBDT , Precision: 0.853448275862\n"
     ]
    },
    {
     "name": "stderr",
     "output_type": "stream",
     "text": [
      "\r",
      " 38%|████████████████▌                           | 3/8 [00:02<00:04,  1.06it/s]"
     ]
    },
    {
     "name": "stdout",
     "output_type": "stream",
     "text": [
      "LR , Precision: 0.8\n"
     ]
    },
    {
     "name": "stderr",
     "output_type": "stream",
     "text": [
      "\r",
      " 50%|██████████████████████                      | 4/8 [00:03<00:03,  1.31it/s]"
     ]
    },
    {
     "name": "stdout",
     "output_type": "stream",
     "text": [
      "Ada , Precision: 0.891089108911\n"
     ]
    },
    {
     "name": "stderr",
     "output_type": "stream",
     "text": [
      "\r",
      " 62%|███████████████████████████▌                | 5/8 [00:04<00:02,  1.00it/s]"
     ]
    },
    {
     "name": "stdout",
     "output_type": "stream",
     "text": [
      "NB , Precision: 0.7\n",
      "XGB , Precision: 0.857142857143\n"
     ]
    },
    {
     "name": "stderr",
     "output_type": "stream",
     "text": [
      "\r",
      " 88%|██████████████████████████████████████▌     | 7/8 [00:05<00:00,  1.20it/s]"
     ]
    },
    {
     "name": "stdout",
     "output_type": "stream",
     "text": [
      "SVM , Precision: 0.787234042553\n"
     ]
    },
    {
     "name": "stderr",
     "output_type": "stream",
     "text": [
      "100%|████████████████████████████████████████████| 8/8 [00:06<00:00,  1.04it/s]\n"
     ]
    },
    {
     "name": "stdout",
     "output_type": "stream",
     "text": [
      "10\n"
     ]
    },
    {
     "name": "stderr",
     "output_type": "stream",
     "text": [
      "100%|██████████████████████████████████████████| 13/13 [02:08<00:00,  9.82s/it]\n"
     ]
    },
    {
     "name": "stdout",
     "output_type": "stream",
     "text": [
      "Positive trainning sample size: 556 \n",
      "\n",
      "Random Under Sampling\n"
     ]
    },
    {
     "name": "stderr",
     "output_type": "stream",
     "text": [
      "100%|██████████████████████████████████████████| 13/13 [00:21<00:00,  1.67s/it]\n"
     ]
    },
    {
     "name": "stdout",
     "output_type": "stream",
     "text": [
      "Negative trainning sample size: 556 \n",
      "\n"
     ]
    },
    {
     "name": "stderr",
     "output_type": "stream",
     "text": [
      "\r",
      "  0%|                                                    | 0/8 [00:00<?, ?it/s]"
     ]
    },
    {
     "name": "stdout",
     "output_type": "stream",
     "text": [
      "KNN , Precision: 0.715384615385\n"
     ]
    },
    {
     "name": "stderr",
     "output_type": "stream",
     "text": [
      "\r",
      " 12%|█████▌                                      | 1/8 [00:00<00:03,  2.26it/s]"
     ]
    },
    {
     "name": "stdout",
     "output_type": "stream",
     "text": [
      "RF , Precision: 0.883495145631\n"
     ]
    },
    {
     "name": "stderr",
     "output_type": "stream",
     "text": [
      "\r",
      " 25%|███████████                                 | 2/8 [00:00<00:02,  2.54it/s]"
     ]
    },
    {
     "name": "stdout",
     "output_type": "stream",
     "text": [
      "GBDT , Precision: 0.864864864865\n"
     ]
    },
    {
     "name": "stderr",
     "output_type": "stream",
     "text": [
      "\r",
      " 38%|████████████████▌                           | 3/8 [00:02<00:04,  1.05it/s]"
     ]
    },
    {
     "name": "stdout",
     "output_type": "stream",
     "text": [
      "LR , Precision: 0.791666666667\n"
     ]
    },
    {
     "name": "stderr",
     "output_type": "stream",
     "text": [
      "\r",
      " 50%|██████████████████████                      | 4/8 [00:03<00:03,  1.30it/s]"
     ]
    },
    {
     "name": "stdout",
     "output_type": "stream",
     "text": [
      "Ada , Precision: 0.820512820513\n"
     ]
    },
    {
     "name": "stderr",
     "output_type": "stream",
     "text": [
      "\r",
      " 62%|███████████████████████████▌                | 5/8 [00:04<00:03,  1.01s/it]"
     ]
    },
    {
     "name": "stdout",
     "output_type": "stream",
     "text": [
      "NB , Precision: 0.68345323741\n",
      "XGB , Precision: 0.850877192982\n"
     ]
    },
    {
     "name": "stderr",
     "output_type": "stream",
     "text": [
      "\r",
      " 88%|██████████████████████████████████████▌     | 7/8 [00:05<00:00,  1.19it/s]"
     ]
    },
    {
     "name": "stdout",
     "output_type": "stream",
     "text": [
      "SVM , Precision: 0.761904761905\n"
     ]
    },
    {
     "name": "stderr",
     "output_type": "stream",
     "text": [
      "100%|████████████████████████████████████████████| 8/8 [00:07<00:00,  1.03it/s]\n"
     ]
    },
    {
     "name": "stdout",
     "output_type": "stream",
     "text": [
      "11\n"
     ]
    },
    {
     "name": "stderr",
     "output_type": "stream",
     "text": [
      "100%|██████████████████████████████████████████| 13/13 [02:08<00:00,  9.85s/it]\n"
     ]
    },
    {
     "name": "stdout",
     "output_type": "stream",
     "text": [
      "Positive trainning sample size: 556 \n",
      "\n",
      "Random Under Sampling\n"
     ]
    },
    {
     "name": "stderr",
     "output_type": "stream",
     "text": [
      "100%|██████████████████████████████████████████| 13/13 [00:21<00:00,  1.67s/it]\n"
     ]
    },
    {
     "name": "stdout",
     "output_type": "stream",
     "text": [
      "Negative trainning sample size: 556 \n",
      "\n"
     ]
    },
    {
     "name": "stderr",
     "output_type": "stream",
     "text": [
      "\r",
      "  0%|                                                    | 0/8 [00:00<?, ?it/s]"
     ]
    },
    {
     "name": "stdout",
     "output_type": "stream",
     "text": [
      "KNN , Precision: 0.725\n"
     ]
    },
    {
     "name": "stderr",
     "output_type": "stream",
     "text": [
      "\r",
      " 12%|█████▌                                      | 1/8 [00:00<00:03,  2.18it/s]"
     ]
    },
    {
     "name": "stdout",
     "output_type": "stream",
     "text": [
      "RF , Precision: 0.801886792453\n"
     ]
    },
    {
     "name": "stderr",
     "output_type": "stream",
     "text": [
      "\r",
      " 25%|███████████                                 | 2/8 [00:00<00:02,  2.47it/s]"
     ]
    },
    {
     "name": "stdout",
     "output_type": "stream",
     "text": [
      "GBDT , Precision: 0.833333333333\n"
     ]
    },
    {
     "name": "stderr",
     "output_type": "stream",
     "text": [
      "\r",
      " 38%|████████████████▌                           | 3/8 [00:03<00:04,  1.02it/s]"
     ]
    },
    {
     "name": "stdout",
     "output_type": "stream",
     "text": [
      "LR , Precision: 0.810344827586\n"
     ]
    },
    {
     "name": "stderr",
     "output_type": "stream",
     "text": [
      "\r",
      " 50%|██████████████████████                      | 4/8 [00:03<00:03,  1.22it/s]"
     ]
    },
    {
     "name": "stdout",
     "output_type": "stream",
     "text": [
      "Ada , Precision: 0.816513761468\n"
     ]
    },
    {
     "name": "stderr",
     "output_type": "stream",
     "text": [
      "\r",
      " 62%|███████████████████████████▌                | 5/8 [00:05<00:03,  1.06s/it]"
     ]
    },
    {
     "name": "stdout",
     "output_type": "stream",
     "text": [
      "NB , Precision: 0.673469387755\n",
      "XGB , Precision: 0.844827586207\n"
     ]
    },
    {
     "name": "stderr",
     "output_type": "stream",
     "text": [
      "\r",
      " 88%|██████████████████████████████████████▌     | 7/8 [00:06<00:00,  1.13it/s]"
     ]
    },
    {
     "name": "stdout",
     "output_type": "stream",
     "text": [
      "SVM , Precision: 0.778846153846\n"
     ]
    },
    {
     "name": "stderr",
     "output_type": "stream",
     "text": [
      "100%|████████████████████████████████████████████| 8/8 [00:07<00:00,  1.02s/it]\n"
     ]
    },
    {
     "name": "stdout",
     "output_type": "stream",
     "text": [
      "12\n"
     ]
    },
    {
     "name": "stderr",
     "output_type": "stream",
     "text": [
      "100%|██████████████████████████████████████████| 13/13 [02:16<00:00, 10.63s/it]\n"
     ]
    },
    {
     "name": "stdout",
     "output_type": "stream",
     "text": [
      "Positive trainning sample size: 556 \n",
      "\n",
      "Random Under Sampling\n"
     ]
    },
    {
     "name": "stderr",
     "output_type": "stream",
     "text": [
      "100%|██████████████████████████████████████████| 13/13 [00:22<00:00,  1.69s/it]\n"
     ]
    },
    {
     "name": "stdout",
     "output_type": "stream",
     "text": [
      "Negative trainning sample size: 556 \n",
      "\n"
     ]
    },
    {
     "name": "stderr",
     "output_type": "stream",
     "text": [
      "\r",
      "  0%|                                                    | 0/8 [00:00<?, ?it/s]"
     ]
    },
    {
     "name": "stdout",
     "output_type": "stream",
     "text": [
      "KNN , Precision: 0.728070175439\n"
     ]
    },
    {
     "name": "stderr",
     "output_type": "stream",
     "text": [
      "\r",
      " 12%|█████▌                                      | 1/8 [00:00<00:03,  2.26it/s]"
     ]
    },
    {
     "name": "stdout",
     "output_type": "stream",
     "text": [
      "RF , Precision: 0.8125\n"
     ]
    },
    {
     "name": "stderr",
     "output_type": "stream",
     "text": [
      "\r",
      " 25%|███████████                                 | 2/8 [00:00<00:02,  2.54it/s]"
     ]
    },
    {
     "name": "stdout",
     "output_type": "stream",
     "text": [
      "GBDT , Precision: 0.840707964602\n"
     ]
    },
    {
     "name": "stderr",
     "output_type": "stream",
     "text": [
      "\r",
      " 38%|████████████████▌                           | 3/8 [00:02<00:04,  1.06it/s]"
     ]
    },
    {
     "name": "stdout",
     "output_type": "stream",
     "text": [
      "LR , Precision: 0.805309734513\n"
     ]
    },
    {
     "name": "stderr",
     "output_type": "stream",
     "text": [
      "\r",
      " 50%|██████████████████████                      | 4/8 [00:03<00:02,  1.35it/s]"
     ]
    },
    {
     "name": "stdout",
     "output_type": "stream",
     "text": [
      "Ada , Precision: 0.80701754386\n"
     ]
    },
    {
     "name": "stderr",
     "output_type": "stream",
     "text": [
      "\r",
      " 62%|███████████████████████████▌                | 5/8 [00:04<00:02,  1.02it/s]"
     ]
    },
    {
     "name": "stdout",
     "output_type": "stream",
     "text": [
      "NB , Precision: 0.657718120805\n",
      "XGB , Precision: 0.826086956522\n"
     ]
    },
    {
     "name": "stderr",
     "output_type": "stream",
     "text": [
      "\r",
      " 88%|██████████████████████████████████████▌     | 7/8 [00:05<00:00,  1.22it/s]"
     ]
    },
    {
     "name": "stdout",
     "output_type": "stream",
     "text": [
      "SVM , Precision: 0.769230769231\n"
     ]
    },
    {
     "name": "stderr",
     "output_type": "stream",
     "text": [
      "100%|████████████████████████████████████████████| 8/8 [00:06<00:00,  1.02it/s]\n"
     ]
    },
    {
     "name": "stdout",
     "output_type": "stream",
     "text": [
      "13\n"
     ]
    },
    {
     "name": "stderr",
     "output_type": "stream",
     "text": [
      "100%|██████████████████████████████████████████| 13/13 [02:09<00:00,  9.86s/it]\n"
     ]
    },
    {
     "name": "stdout",
     "output_type": "stream",
     "text": [
      "Positive trainning sample size: 556 \n",
      "\n",
      "Random Under Sampling\n"
     ]
    },
    {
     "name": "stderr",
     "output_type": "stream",
     "text": [
      "100%|██████████████████████████████████████████| 13/13 [00:21<00:00,  1.66s/it]\n"
     ]
    },
    {
     "name": "stdout",
     "output_type": "stream",
     "text": [
      "Negative trainning sample size: 556 \n",
      "\n"
     ]
    },
    {
     "name": "stderr",
     "output_type": "stream",
     "text": [
      "\r",
      "  0%|                                                    | 0/8 [00:00<?, ?it/s]"
     ]
    },
    {
     "name": "stdout",
     "output_type": "stream",
     "text": [
      "KNN , Precision: 0.81981981982\n"
     ]
    },
    {
     "name": "stderr",
     "output_type": "stream",
     "text": [
      "\r",
      " 12%|█████▌                                      | 1/8 [00:00<00:03,  2.04it/s]"
     ]
    },
    {
     "name": "stdout",
     "output_type": "stream",
     "text": [
      "RF , Precision: 0.872549019608\n"
     ]
    },
    {
     "name": "stderr",
     "output_type": "stream",
     "text": [
      "\r",
      " 25%|███████████                                 | 2/8 [00:00<00:02,  2.34it/s]"
     ]
    },
    {
     "name": "stdout",
     "output_type": "stream",
     "text": [
      "GBDT , Precision: 0.915887850467\n"
     ]
    },
    {
     "name": "stderr",
     "output_type": "stream",
     "text": [
      "\r",
      " 38%|████████████████▌                           | 3/8 [00:02<00:04,  1.04it/s]"
     ]
    },
    {
     "name": "stdout",
     "output_type": "stream",
     "text": [
      "LR , Precision: 0.865384615385\n"
     ]
    },
    {
     "name": "stderr",
     "output_type": "stream",
     "text": [
      "\r",
      " 50%|██████████████████████                      | 4/8 [00:03<00:03,  1.32it/s]"
     ]
    },
    {
     "name": "stdout",
     "output_type": "stream",
     "text": [
      "Ada , Precision: 0.894230769231\n"
     ]
    },
    {
     "name": "stderr",
     "output_type": "stream",
     "text": [
      "\r",
      " 62%|███████████████████████████▌                | 5/8 [00:04<00:02,  1.01it/s]"
     ]
    },
    {
     "name": "stdout",
     "output_type": "stream",
     "text": [
      "NB , Precision: 0.729323308271\n",
      "XGB , Precision: 0.916666666667\n"
     ]
    },
    {
     "name": "stderr",
     "output_type": "stream",
     "text": [
      "\r",
      " 88%|██████████████████████████████████████▌     | 7/8 [00:05<00:00,  1.21it/s]"
     ]
    },
    {
     "name": "stdout",
     "output_type": "stream",
     "text": [
      "SVM , Precision: 0.824742268041\n"
     ]
    },
    {
     "name": "stderr",
     "output_type": "stream",
     "text": [
      "100%|████████████████████████████████████████████| 8/8 [00:07<00:00,  1.02it/s]\n"
     ]
    },
    {
     "name": "stdout",
     "output_type": "stream",
     "text": [
      "14\n"
     ]
    },
    {
     "name": "stderr",
     "output_type": "stream",
     "text": [
      "100%|██████████████████████████████████████████| 13/13 [02:08<00:00,  9.83s/it]\n"
     ]
    },
    {
     "name": "stdout",
     "output_type": "stream",
     "text": [
      "Positive trainning sample size: 556 \n",
      "\n",
      "Random Under Sampling\n"
     ]
    },
    {
     "name": "stderr",
     "output_type": "stream",
     "text": [
      "100%|██████████████████████████████████████████| 13/13 [00:21<00:00,  1.67s/it]\n"
     ]
    },
    {
     "name": "stdout",
     "output_type": "stream",
     "text": [
      "Negative trainning sample size: 556 \n",
      "\n"
     ]
    },
    {
     "name": "stderr",
     "output_type": "stream",
     "text": [
      "\r",
      "  0%|                                                    | 0/8 [00:00<?, ?it/s]"
     ]
    },
    {
     "name": "stdout",
     "output_type": "stream",
     "text": [
      "KNN , Precision: 0.713043478261\n"
     ]
    },
    {
     "name": "stderr",
     "output_type": "stream",
     "text": [
      "\r",
      " 12%|█████▌                                      | 1/8 [00:00<00:03,  2.26it/s]"
     ]
    },
    {
     "name": "stdout",
     "output_type": "stream",
     "text": [
      "RF , Precision: 0.739130434783\n"
     ]
    },
    {
     "name": "stderr",
     "output_type": "stream",
     "text": [
      "\r",
      " 25%|███████████                                 | 2/8 [00:00<00:02,  2.54it/s]"
     ]
    },
    {
     "name": "stdout",
     "output_type": "stream",
     "text": [
      "GBDT , Precision: 0.790322580645\n"
     ]
    },
    {
     "name": "stderr",
     "output_type": "stream",
     "text": [
      "\r",
      " 38%|████████████████▌                           | 3/8 [00:02<00:04,  1.05it/s]"
     ]
    },
    {
     "name": "stdout",
     "output_type": "stream",
     "text": [
      "LR , Precision: 0.768\n"
     ]
    },
    {
     "name": "stderr",
     "output_type": "stream",
     "text": [
      "\r",
      " 50%|██████████████████████                      | 4/8 [00:03<00:02,  1.33it/s]"
     ]
    },
    {
     "name": "stdout",
     "output_type": "stream",
     "text": [
      "Ada , Precision: 0.777777777778\n"
     ]
    },
    {
     "name": "stderr",
     "output_type": "stream",
     "text": [
      "\r",
      " 62%|███████████████████████████▌                | 5/8 [00:04<00:02,  1.01it/s]"
     ]
    },
    {
     "name": "stdout",
     "output_type": "stream",
     "text": [
      "NB , Precision: 0.664429530201\n",
      "XGB , Precision: 0.8\n"
     ]
    },
    {
     "name": "stderr",
     "output_type": "stream",
     "text": [
      "\r",
      " 88%|██████████████████████████████████████▌     | 7/8 [00:05<00:00,  1.21it/s]"
     ]
    },
    {
     "name": "stdout",
     "output_type": "stream",
     "text": [
      "SVM , Precision: 0.75\n"
     ]
    },
    {
     "name": "stderr",
     "output_type": "stream",
     "text": [
      "100%|████████████████████████████████████████████| 8/8 [00:06<00:00,  1.05it/s]\n"
     ]
    },
    {
     "name": "stdout",
     "output_type": "stream",
     "text": [
      "村杉 162104\n",
      "0\n"
     ]
    },
    {
     "name": "stderr",
     "output_type": "stream",
     "text": [
      "100%|██████████████████████████████████████████| 18/18 [03:25<00:00, 11.70s/it]\n"
     ]
    },
    {
     "name": "stdout",
     "output_type": "stream",
     "text": [
      "Positive trainning sample size: 450 \n",
      "\n",
      "Random Under Sampling\n"
     ]
    },
    {
     "name": "stderr",
     "output_type": "stream",
     "text": [
      "100%|██████████████████████████████████████████| 18/18 [00:25<00:00,  1.42s/it]\n"
     ]
    },
    {
     "name": "stdout",
     "output_type": "stream",
     "text": [
      "Negative trainning sample size: 450 \n",
      "\n"
     ]
    },
    {
     "name": "stderr",
     "output_type": "stream",
     "text": [
      "\r",
      "  0%|                                                    | 0/8 [00:00<?, ?it/s]"
     ]
    },
    {
     "name": "stdout",
     "output_type": "stream",
     "text": [
      "KNN , Precision: 0.658823529412\n"
     ]
    },
    {
     "name": "stderr",
     "output_type": "stream",
     "text": [
      "\r",
      " 12%|█████▌                                      | 1/8 [00:00<00:04,  1.62it/s]"
     ]
    },
    {
     "name": "stdout",
     "output_type": "stream",
     "text": [
      "RF , Precision: 0.782608695652\n"
     ]
    },
    {
     "name": "stderr",
     "output_type": "stream",
     "text": [
      "\r",
      " 25%|███████████                                 | 2/8 [00:00<00:03,  1.92it/s]"
     ]
    },
    {
     "name": "stdout",
     "output_type": "stream",
     "text": [
      "GBDT , Precision: 0.813333333333\n"
     ]
    },
    {
     "name": "stderr",
     "output_type": "stream",
     "text": [
      "\r",
      " 38%|████████████████▌                           | 3/8 [00:03<00:05,  1.06s/it]"
     ]
    },
    {
     "name": "stdout",
     "output_type": "stream",
     "text": [
      "LR , Precision: 0.835294117647\n"
     ]
    },
    {
     "name": "stderr",
     "output_type": "stream",
     "text": [
      "\r",
      " 50%|██████████████████████                      | 4/8 [00:03<00:03,  1.17it/s]"
     ]
    },
    {
     "name": "stdout",
     "output_type": "stream",
     "text": [
      "Ada , Precision: 0.826086956522\n"
     ]
    },
    {
     "name": "stderr",
     "output_type": "stream",
     "text": [
      "\r",
      " 62%|███████████████████████████▌                | 5/8 [00:05<00:03,  1.08s/it]"
     ]
    },
    {
     "name": "stdout",
     "output_type": "stream",
     "text": [
      "NB , Precision: 0.851851851852\n",
      "XGB , Precision: 0.821428571429\n"
     ]
    },
    {
     "name": "stderr",
     "output_type": "stream",
     "text": [
      "\r",
      " 88%|██████████████████████████████████████▌     | 7/8 [00:06<00:00,  1.11it/s]"
     ]
    },
    {
     "name": "stdout",
     "output_type": "stream",
     "text": [
      "SVM , Precision: 0.6875\n"
     ]
    },
    {
     "name": "stderr",
     "output_type": "stream",
     "text": [
      "100%|████████████████████████████████████████████| 8/8 [00:07<00:00,  1.00s/it]\n"
     ]
    },
    {
     "name": "stdout",
     "output_type": "stream",
     "text": [
      "1\n"
     ]
    },
    {
     "name": "stderr",
     "output_type": "stream",
     "text": [
      "100%|██████████████████████████████████████████| 18/18 [03:19<00:00, 11.29s/it]\n"
     ]
    },
    {
     "name": "stdout",
     "output_type": "stream",
     "text": [
      "Positive trainning sample size: 450 \n",
      "\n",
      "Random Under Sampling\n"
     ]
    },
    {
     "name": "stderr",
     "output_type": "stream",
     "text": [
      "100%|██████████████████████████████████████████| 18/18 [00:25<00:00,  1.36s/it]\n"
     ]
    },
    {
     "name": "stdout",
     "output_type": "stream",
     "text": [
      "Negative trainning sample size: 450 \n",
      "\n"
     ]
    },
    {
     "name": "stderr",
     "output_type": "stream",
     "text": [
      "\r",
      "  0%|                                                    | 0/8 [00:00<?, ?it/s]"
     ]
    },
    {
     "name": "stdout",
     "output_type": "stream",
     "text": [
      "KNN , Precision: 0.634408602151\n"
     ]
    },
    {
     "name": "stderr",
     "output_type": "stream",
     "text": [
      "\r",
      " 12%|█████▌                                      | 1/8 [00:00<00:04,  1.53it/s]"
     ]
    },
    {
     "name": "stdout",
     "output_type": "stream",
     "text": [
      "RF , Precision: 0.722891566265\n"
     ]
    },
    {
     "name": "stderr",
     "output_type": "stream",
     "text": [
      "\r",
      " 25%|███████████                                 | 2/8 [00:00<00:03,  1.86it/s]"
     ]
    },
    {
     "name": "stdout",
     "output_type": "stream",
     "text": [
      "GBDT , Precision: 0.715909090909\n"
     ]
    },
    {
     "name": "stderr",
     "output_type": "stream",
     "text": [
      "\r",
      " 38%|████████████████▌                           | 3/8 [00:03<00:05,  1.08s/it]"
     ]
    },
    {
     "name": "stdout",
     "output_type": "stream",
     "text": [
      "LR , Precision: 0.728260869565\n"
     ]
    },
    {
     "name": "stderr",
     "output_type": "stream",
     "text": [
      "\r",
      " 50%|██████████████████████                      | 4/8 [00:03<00:03,  1.16it/s]"
     ]
    },
    {
     "name": "stdout",
     "output_type": "stream",
     "text": [
      "Ada , Precision: 0.722891566265\n"
     ]
    },
    {
     "name": "stderr",
     "output_type": "stream",
     "text": [
      "\r",
      " 62%|███████████████████████████▌                | 5/8 [00:05<00:03,  1.06s/it]"
     ]
    },
    {
     "name": "stdout",
     "output_type": "stream",
     "text": [
      "NB , Precision: 0.621848739496\n",
      "XGB , Precision: 0.747368421053\n"
     ]
    },
    {
     "name": "stderr",
     "output_type": "stream",
     "text": [
      "\r",
      " 88%|██████████████████████████████████████▌     | 7/8 [00:06<00:00,  1.14it/s]"
     ]
    },
    {
     "name": "stdout",
     "output_type": "stream",
     "text": [
      "SVM , Precision: 0.64\n"
     ]
    },
    {
     "name": "stderr",
     "output_type": "stream",
     "text": [
      "100%|████████████████████████████████████████████| 8/8 [00:07<00:00,  1.02it/s]\n"
     ]
    },
    {
     "name": "stdout",
     "output_type": "stream",
     "text": [
      "2\n"
     ]
    },
    {
     "name": "stderr",
     "output_type": "stream",
     "text": [
      "100%|██████████████████████████████████████████| 18/18 [03:18<00:00, 11.27s/it]\n"
     ]
    },
    {
     "name": "stdout",
     "output_type": "stream",
     "text": [
      "Positive trainning sample size: 450 \n",
      "\n",
      "Random Under Sampling\n"
     ]
    },
    {
     "name": "stderr",
     "output_type": "stream",
     "text": [
      "100%|██████████████████████████████████████████| 18/18 [00:24<00:00,  1.35s/it]\n"
     ]
    },
    {
     "name": "stdout",
     "output_type": "stream",
     "text": [
      "Negative trainning sample size: 450 \n",
      "\n"
     ]
    },
    {
     "name": "stderr",
     "output_type": "stream",
     "text": [
      "\r",
      "  0%|                                                    | 0/8 [00:00<?, ?it/s]"
     ]
    },
    {
     "name": "stdout",
     "output_type": "stream",
     "text": [
      "KNN , Precision: 0.693181818182\n"
     ]
    },
    {
     "name": "stderr",
     "output_type": "stream",
     "text": [
      "\r",
      " 12%|█████▌                                      | 1/8 [00:00<00:04,  1.55it/s]"
     ]
    },
    {
     "name": "stdout",
     "output_type": "stream",
     "text": [
      "RF , Precision: 0.714285714286\n"
     ]
    },
    {
     "name": "stderr",
     "output_type": "stream",
     "text": [
      "\r",
      " 25%|███████████                                 | 2/8 [00:00<00:03,  1.89it/s]"
     ]
    },
    {
     "name": "stdout",
     "output_type": "stream",
     "text": [
      "GBDT , Precision: 0.658823529412\n"
     ]
    },
    {
     "name": "stderr",
     "output_type": "stream",
     "text": [
      "\r",
      " 38%|████████████████▌                           | 3/8 [00:03<00:05,  1.06s/it]"
     ]
    },
    {
     "name": "stdout",
     "output_type": "stream",
     "text": [
      "LR , Precision: 0.758241758242\n"
     ]
    },
    {
     "name": "stderr",
     "output_type": "stream",
     "text": [
      "\r",
      " 50%|██████████████████████                      | 4/8 [00:03<00:03,  1.08it/s]"
     ]
    },
    {
     "name": "stdout",
     "output_type": "stream",
     "text": [
      "Ada , Precision: 0.678571428571\n"
     ]
    },
    {
     "name": "stderr",
     "output_type": "stream",
     "text": [
      "\r",
      " 62%|███████████████████████████▌                | 5/8 [00:05<00:03,  1.09s/it]"
     ]
    },
    {
     "name": "stdout",
     "output_type": "stream",
     "text": [
      "NB , Precision: 0.678899082569\n",
      "XGB , Precision: 0.719101123596\n"
     ]
    },
    {
     "name": "stderr",
     "output_type": "stream",
     "text": [
      "\r",
      " 88%|██████████████████████████████████████▌     | 7/8 [00:06<00:00,  1.11it/s]"
     ]
    },
    {
     "name": "stdout",
     "output_type": "stream",
     "text": [
      "SVM , Precision: 0.772727272727\n"
     ]
    },
    {
     "name": "stderr",
     "output_type": "stream",
     "text": [
      "100%|████████████████████████████████████████████| 8/8 [00:07<00:00,  1.00s/it]\n"
     ]
    },
    {
     "name": "stdout",
     "output_type": "stream",
     "text": [
      "3\n"
     ]
    },
    {
     "name": "stderr",
     "output_type": "stream",
     "text": [
      "100%|██████████████████████████████████████████| 18/18 [03:20<00:00, 11.06s/it]\n"
     ]
    },
    {
     "name": "stdout",
     "output_type": "stream",
     "text": [
      "Positive trainning sample size: 450 \n",
      "\n",
      "Random Under Sampling\n"
     ]
    },
    {
     "name": "stderr",
     "output_type": "stream",
     "text": [
      "100%|██████████████████████████████████████████| 18/18 [00:24<00:00,  1.36s/it]\n"
     ]
    },
    {
     "name": "stdout",
     "output_type": "stream",
     "text": [
      "Negative trainning sample size: 450 \n",
      "\n"
     ]
    },
    {
     "name": "stderr",
     "output_type": "stream",
     "text": [
      "\r",
      "  0%|                                                    | 0/8 [00:00<?, ?it/s]"
     ]
    },
    {
     "name": "stdout",
     "output_type": "stream",
     "text": [
      "KNN , Precision: 0.634408602151\n"
     ]
    },
    {
     "name": "stderr",
     "output_type": "stream",
     "text": [
      "\r",
      " 12%|█████▌                                      | 1/8 [00:00<00:04,  1.64it/s]"
     ]
    },
    {
     "name": "stdout",
     "output_type": "stream",
     "text": [
      "RF , Precision: 0.738095238095\n"
     ]
    },
    {
     "name": "stderr",
     "output_type": "stream",
     "text": [
      "\r",
      " 25%|███████████                                 | 2/8 [00:00<00:03,  1.97it/s]"
     ]
    },
    {
     "name": "stdout",
     "output_type": "stream",
     "text": [
      "GBDT , Precision: 0.782051282051\n"
     ]
    },
    {
     "name": "stderr",
     "output_type": "stream",
     "text": [
      "\r",
      " 38%|████████████████▌                           | 3/8 [00:03<00:05,  1.04s/it]"
     ]
    },
    {
     "name": "stdout",
     "output_type": "stream",
     "text": [
      "LR , Precision: 0.761363636364\n"
     ]
    },
    {
     "name": "stderr",
     "output_type": "stream",
     "text": [
      "\r",
      " 50%|██████████████████████                      | 4/8 [00:03<00:03,  1.09it/s]"
     ]
    },
    {
     "name": "stdout",
     "output_type": "stream",
     "text": [
      "Ada , Precision: 0.789473684211\n"
     ]
    },
    {
     "name": "stderr",
     "output_type": "stream",
     "text": [
      "\r",
      " 62%|███████████████████████████▌                | 5/8 [00:05<00:03,  1.09s/it]"
     ]
    },
    {
     "name": "stdout",
     "output_type": "stream",
     "text": [
      "NB , Precision: 0.663636363636\n",
      "XGB , Precision: 0.776470588235\n"
     ]
    },
    {
     "name": "stderr",
     "output_type": "stream",
     "text": [
      "\r",
      " 88%|██████████████████████████████████████▌     | 7/8 [00:06<00:00,  1.11it/s]"
     ]
    },
    {
     "name": "stdout",
     "output_type": "stream",
     "text": [
      "SVM , Precision: 0.772727272727\n"
     ]
    },
    {
     "name": "stderr",
     "output_type": "stream",
     "text": [
      "100%|████████████████████████████████████████████| 8/8 [00:07<00:00,  1.00it/s]\n"
     ]
    },
    {
     "name": "stdout",
     "output_type": "stream",
     "text": [
      "4\n"
     ]
    },
    {
     "name": "stderr",
     "output_type": "stream",
     "text": [
      "100%|██████████████████████████████████████████| 18/18 [03:13<00:00, 10.80s/it]\n"
     ]
    },
    {
     "name": "stdout",
     "output_type": "stream",
     "text": [
      "Positive trainning sample size: 450 \n",
      "\n",
      "Random Under Sampling\n"
     ]
    },
    {
     "name": "stderr",
     "output_type": "stream",
     "text": [
      "100%|██████████████████████████████████████████| 18/18 [00:24<00:00,  1.35s/it]\n"
     ]
    },
    {
     "name": "stdout",
     "output_type": "stream",
     "text": [
      "Negative trainning sample size: 450 \n",
      "\n"
     ]
    },
    {
     "name": "stderr",
     "output_type": "stream",
     "text": [
      "\r",
      "  0%|                                                    | 0/8 [00:00<?, ?it/s]"
     ]
    },
    {
     "name": "stdout",
     "output_type": "stream",
     "text": [
      "KNN , Precision: 0.626373626374\n"
     ]
    },
    {
     "name": "stderr",
     "output_type": "stream",
     "text": [
      "\r",
      " 12%|█████▌                                      | 1/8 [00:00<00:04,  1.68it/s]"
     ]
    },
    {
     "name": "stdout",
     "output_type": "stream",
     "text": [
      "RF , Precision: 0.74025974026\n"
     ]
    },
    {
     "name": "stderr",
     "output_type": "stream",
     "text": [
      "\r",
      " 25%|███████████                                 | 2/8 [00:00<00:02,  2.01it/s]"
     ]
    },
    {
     "name": "stdout",
     "output_type": "stream",
     "text": [
      "GBDT , Precision: 0.7125\n"
     ]
    },
    {
     "name": "stderr",
     "output_type": "stream",
     "text": [
      "\r",
      " 38%|████████████████▌                           | 3/8 [00:03<00:05,  1.02s/it]"
     ]
    },
    {
     "name": "stdout",
     "output_type": "stream",
     "text": [
      "LR , Precision: 0.70652173913\n"
     ]
    },
    {
     "name": "stderr",
     "output_type": "stream",
     "text": [
      "\r",
      " 50%|██████████████████████                      | 4/8 [00:03<00:03,  1.16it/s]"
     ]
    },
    {
     "name": "stdout",
     "output_type": "stream",
     "text": [
      "Ada , Precision: 0.654761904762\n"
     ]
    },
    {
     "name": "stderr",
     "output_type": "stream",
     "text": [
      "\r",
      " 62%|███████████████████████████▌                | 5/8 [00:05<00:03,  1.05s/it]"
     ]
    },
    {
     "name": "stdout",
     "output_type": "stream",
     "text": [
      "NB , Precision: 0.629310344828\n",
      "XGB , Precision: 0.728395061728\n"
     ]
    },
    {
     "name": "stderr",
     "output_type": "stream",
     "text": [
      "\r",
      " 88%|██████████████████████████████████████▌     | 7/8 [00:06<00:00,  1.15it/s]"
     ]
    },
    {
     "name": "stdout",
     "output_type": "stream",
     "text": [
      "SVM , Precision: 0.69387755102\n"
     ]
    },
    {
     "name": "stderr",
     "output_type": "stream",
     "text": [
      "100%|████████████████████████████████████████████| 8/8 [00:07<00:00,  1.03it/s]\n"
     ]
    },
    {
     "name": "stdout",
     "output_type": "stream",
     "text": [
      "5\n"
     ]
    },
    {
     "name": "stderr",
     "output_type": "stream",
     "text": [
      "100%|██████████████████████████████████████████| 18/18 [03:13<00:00, 10.80s/it]\n"
     ]
    },
    {
     "name": "stdout",
     "output_type": "stream",
     "text": [
      "Positive trainning sample size: 450 \n",
      "\n",
      "Random Under Sampling\n"
     ]
    },
    {
     "name": "stderr",
     "output_type": "stream",
     "text": [
      "100%|██████████████████████████████████████████| 18/18 [00:24<00:00,  1.35s/it]\n"
     ]
    },
    {
     "name": "stdout",
     "output_type": "stream",
     "text": [
      "Negative trainning sample size: 450 \n",
      "\n"
     ]
    },
    {
     "name": "stderr",
     "output_type": "stream",
     "text": [
      "\r",
      "  0%|                                                    | 0/8 [00:00<?, ?it/s]"
     ]
    },
    {
     "name": "stdout",
     "output_type": "stream",
     "text": [
      "KNN , Precision: 0.7\n"
     ]
    },
    {
     "name": "stderr",
     "output_type": "stream",
     "text": [
      "\r",
      " 12%|█████▌                                      | 1/8 [00:00<00:04,  1.68it/s]"
     ]
    },
    {
     "name": "stdout",
     "output_type": "stream",
     "text": [
      "RF , Precision: 0.769230769231\n"
     ]
    },
    {
     "name": "stderr",
     "output_type": "stream",
     "text": [
      "\r",
      " 25%|███████████                                 | 2/8 [00:00<00:02,  2.02it/s]"
     ]
    },
    {
     "name": "stdout",
     "output_type": "stream",
     "text": [
      "GBDT , Precision: 0.8\n"
     ]
    },
    {
     "name": "stderr",
     "output_type": "stream",
     "text": [
      "\r",
      " 38%|████████████████▌                           | 3/8 [00:03<00:05,  1.06s/it]"
     ]
    },
    {
     "name": "stdout",
     "output_type": "stream",
     "text": [
      "LR , Precision: 0.78021978022\n"
     ]
    },
    {
     "name": "stderr",
     "output_type": "stream",
     "text": [
      "\r",
      " 50%|██████████████████████                      | 4/8 [00:03<00:03,  1.20it/s]"
     ]
    },
    {
     "name": "stdout",
     "output_type": "stream",
     "text": [
      "Ada , Precision: 0.818181818182\n"
     ]
    },
    {
     "name": "stderr",
     "output_type": "stream",
     "text": [
      "\r",
      " 62%|███████████████████████████▌                | 5/8 [00:05<00:03,  1.02s/it]"
     ]
    },
    {
     "name": "stdout",
     "output_type": "stream",
     "text": [
      "NB , Precision: 0.777777777778\n",
      "XGB , Precision: 0.825\n"
     ]
    },
    {
     "name": "stderr",
     "output_type": "stream",
     "text": [
      "\r",
      " 88%|██████████████████████████████████████▌     | 7/8 [00:05<00:00,  1.18it/s]"
     ]
    },
    {
     "name": "stdout",
     "output_type": "stream",
     "text": [
      "SVM , Precision: 0.74358974359\n"
     ]
    },
    {
     "name": "stderr",
     "output_type": "stream",
     "text": [
      "100%|████████████████████████████████████████████| 8/8 [00:07<00:00,  1.04it/s]\n"
     ]
    },
    {
     "name": "stdout",
     "output_type": "stream",
     "text": [
      "6\n"
     ]
    },
    {
     "name": "stderr",
     "output_type": "stream",
     "text": [
      "100%|██████████████████████████████████████████| 18/18 [03:13<00:00, 10.81s/it]\n"
     ]
    },
    {
     "name": "stdout",
     "output_type": "stream",
     "text": [
      "Positive trainning sample size: 450 \n",
      "\n",
      "Random Under Sampling\n"
     ]
    },
    {
     "name": "stderr",
     "output_type": "stream",
     "text": [
      "100%|██████████████████████████████████████████| 18/18 [00:24<00:00,  1.35s/it]\n"
     ]
    },
    {
     "name": "stdout",
     "output_type": "stream",
     "text": [
      "Negative trainning sample size: 450 \n",
      "\n"
     ]
    },
    {
     "name": "stderr",
     "output_type": "stream",
     "text": [
      "\r",
      "  0%|                                                    | 0/8 [00:00<?, ?it/s]"
     ]
    },
    {
     "name": "stdout",
     "output_type": "stream",
     "text": [
      "KNN , Precision: 0.677777777778\n"
     ]
    },
    {
     "name": "stderr",
     "output_type": "stream",
     "text": [
      "\r",
      " 12%|█████▌                                      | 1/8 [00:00<00:04,  1.64it/s]"
     ]
    },
    {
     "name": "stdout",
     "output_type": "stream",
     "text": [
      "RF , Precision: 0.783783783784\n"
     ]
    },
    {
     "name": "stderr",
     "output_type": "stream",
     "text": [
      "\r",
      " 25%|███████████                                 | 2/8 [00:00<00:03,  1.97it/s]"
     ]
    },
    {
     "name": "stdout",
     "output_type": "stream",
     "text": [
      "GBDT , Precision: 0.75\n"
     ]
    },
    {
     "name": "stderr",
     "output_type": "stream",
     "text": [
      "\r",
      " 38%|████████████████▌                           | 3/8 [00:03<00:05,  1.03s/it]"
     ]
    },
    {
     "name": "stdout",
     "output_type": "stream",
     "text": [
      "LR , Precision: 0.75\n"
     ]
    },
    {
     "name": "stderr",
     "output_type": "stream",
     "text": [
      "\r",
      " 50%|██████████████████████                      | 4/8 [00:03<00:03,  1.14it/s]"
     ]
    },
    {
     "name": "stdout",
     "output_type": "stream",
     "text": [
      "Ada , Precision: 0.759493670886\n"
     ]
    },
    {
     "name": "stderr",
     "output_type": "stream",
     "text": [
      "\r",
      " 62%|███████████████████████████▌                | 5/8 [00:05<00:03,  1.06s/it]"
     ]
    },
    {
     "name": "stdout",
     "output_type": "stream",
     "text": [
      "NB , Precision: 0.717647058824\n",
      "XGB , Precision: 0.79746835443\n"
     ]
    },
    {
     "name": "stderr",
     "output_type": "stream",
     "text": [
      "\r",
      " 88%|██████████████████████████████████████▌     | 7/8 [00:06<00:00,  1.14it/s]"
     ]
    },
    {
     "name": "stdout",
     "output_type": "stream",
     "text": [
      "SVM , Precision: 0.760869565217\n"
     ]
    },
    {
     "name": "stderr",
     "output_type": "stream",
     "text": [
      "100%|████████████████████████████████████████████| 8/8 [00:07<00:00,  1.02it/s]\n"
     ]
    },
    {
     "name": "stdout",
     "output_type": "stream",
     "text": [
      "7\n"
     ]
    },
    {
     "name": "stderr",
     "output_type": "stream",
     "text": [
      "100%|██████████████████████████████████████████| 18/18 [03:13<00:00, 10.83s/it]\n"
     ]
    },
    {
     "name": "stdout",
     "output_type": "stream",
     "text": [
      "Positive trainning sample size: 450 \n",
      "\n",
      "Random Under Sampling\n"
     ]
    },
    {
     "name": "stderr",
     "output_type": "stream",
     "text": [
      "100%|██████████████████████████████████████████| 18/18 [00:24<00:00,  1.35s/it]\n"
     ]
    },
    {
     "name": "stdout",
     "output_type": "stream",
     "text": [
      "Negative trainning sample size: 450 \n",
      "\n"
     ]
    },
    {
     "name": "stderr",
     "output_type": "stream",
     "text": [
      "\r",
      "  0%|                                                    | 0/8 [00:00<?, ?it/s]"
     ]
    },
    {
     "name": "stdout",
     "output_type": "stream",
     "text": [
      "KNN , Precision: 0.690476190476\n"
     ]
    },
    {
     "name": "stderr",
     "output_type": "stream",
     "text": [
      "\r",
      " 12%|█████▌                                      | 1/8 [00:00<00:04,  1.67it/s]"
     ]
    },
    {
     "name": "stdout",
     "output_type": "stream",
     "text": [
      "RF , Precision: 0.686746987952\n"
     ]
    },
    {
     "name": "stderr",
     "output_type": "stream",
     "text": [
      "\r",
      " 25%|███████████                                 | 2/8 [00:00<00:02,  2.03it/s]"
     ]
    },
    {
     "name": "stdout",
     "output_type": "stream",
     "text": [
      "GBDT , Precision: 0.724137931034\n"
     ]
    },
    {
     "name": "stderr",
     "output_type": "stream",
     "text": [
      "\r",
      " 38%|████████████████▌                           | 3/8 [00:03<00:05,  1.03s/it]"
     ]
    },
    {
     "name": "stdout",
     "output_type": "stream",
     "text": [
      "LR , Precision: 0.769230769231\n"
     ]
    },
    {
     "name": "stderr",
     "output_type": "stream",
     "text": [
      "\r",
      " 50%|██████████████████████                      | 4/8 [00:03<00:03,  1.25it/s]"
     ]
    },
    {
     "name": "stdout",
     "output_type": "stream",
     "text": [
      "Ada , Precision: 0.717647058824\n"
     ]
    },
    {
     "name": "stderr",
     "output_type": "stream",
     "text": [
      "\r",
      " 62%|███████████████████████████▌                | 5/8 [00:04<00:03,  1.01s/it]"
     ]
    },
    {
     "name": "stdout",
     "output_type": "stream",
     "text": [
      "NB , Precision: 0.626086956522\n",
      "XGB , Precision: 0.744444444444\n"
     ]
    },
    {
     "name": "stderr",
     "output_type": "stream",
     "text": [
      "\r",
      " 88%|██████████████████████████████████████▌     | 7/8 [00:05<00:00,  1.20it/s]"
     ]
    },
    {
     "name": "stdout",
     "output_type": "stream",
     "text": [
      "SVM , Precision: 0.74358974359\n"
     ]
    },
    {
     "name": "stderr",
     "output_type": "stream",
     "text": [
      "100%|████████████████████████████████████████████| 8/8 [00:06<00:00,  1.05it/s]\n"
     ]
    },
    {
     "name": "stdout",
     "output_type": "stream",
     "text": [
      "8\n"
     ]
    },
    {
     "name": "stderr",
     "output_type": "stream",
     "text": [
      "100%|██████████████████████████████████████████| 18/18 [03:13<00:00, 10.81s/it]\n"
     ]
    },
    {
     "name": "stdout",
     "output_type": "stream",
     "text": [
      "Positive trainning sample size: 450 \n",
      "\n",
      "Random Under Sampling\n"
     ]
    },
    {
     "name": "stderr",
     "output_type": "stream",
     "text": [
      "100%|██████████████████████████████████████████| 18/18 [00:24<00:00,  1.35s/it]\n"
     ]
    },
    {
     "name": "stdout",
     "output_type": "stream",
     "text": [
      "Negative trainning sample size: 450 \n",
      "\n"
     ]
    },
    {
     "name": "stderr",
     "output_type": "stream",
     "text": [
      "\r",
      "  0%|                                                    | 0/8 [00:00<?, ?it/s]"
     ]
    },
    {
     "name": "stdout",
     "output_type": "stream",
     "text": [
      "KNN , Precision: 0.670454545455\n"
     ]
    },
    {
     "name": "stderr",
     "output_type": "stream",
     "text": [
      "\r",
      " 12%|█████▌                                      | 1/8 [00:00<00:04,  1.59it/s]"
     ]
    },
    {
     "name": "stdout",
     "output_type": "stream",
     "text": [
      "RF , Precision: 0.772151898734\n"
     ]
    },
    {
     "name": "stderr",
     "output_type": "stream",
     "text": [
      "\r",
      " 25%|███████████                                 | 2/8 [00:00<00:03,  1.92it/s]"
     ]
    },
    {
     "name": "stdout",
     "output_type": "stream",
     "text": [
      "GBDT , Precision: 0.841463414634\n"
     ]
    },
    {
     "name": "stderr",
     "output_type": "stream",
     "text": [
      "\r",
      " 38%|████████████████▌                           | 3/8 [00:03<00:05,  1.06s/it]"
     ]
    },
    {
     "name": "stdout",
     "output_type": "stream",
     "text": [
      "LR , Precision: 0.775280898876\n"
     ]
    },
    {
     "name": "stderr",
     "output_type": "stream",
     "text": [
      "\r",
      " 50%|██████████████████████                      | 4/8 [00:03<00:03,  1.21it/s]"
     ]
    },
    {
     "name": "stdout",
     "output_type": "stream",
     "text": [
      "Ada , Precision: 0.789473684211\n"
     ]
    },
    {
     "name": "stderr",
     "output_type": "stream",
     "text": [
      "\r",
      " 62%|███████████████████████████▌                | 5/8 [00:04<00:03,  1.02s/it]"
     ]
    },
    {
     "name": "stdout",
     "output_type": "stream",
     "text": [
      "NB , Precision: 0.74358974359\n",
      "XGB , Precision: 0.860465116279\n"
     ]
    },
    {
     "name": "stderr",
     "output_type": "stream",
     "text": [
      "\r",
      " 88%|██████████████████████████████████████▌     | 7/8 [00:05<00:00,  1.18it/s]"
     ]
    },
    {
     "name": "stdout",
     "output_type": "stream",
     "text": [
      "SVM , Precision: 0.729166666667\n"
     ]
    },
    {
     "name": "stderr",
     "output_type": "stream",
     "text": [
      "100%|████████████████████████████████████████████| 8/8 [00:07<00:00,  1.04it/s]\n"
     ]
    },
    {
     "name": "stdout",
     "output_type": "stream",
     "text": [
      "9\n"
     ]
    },
    {
     "name": "stderr",
     "output_type": "stream",
     "text": [
      "100%|██████████████████████████████████████████| 18/18 [03:13<00:00, 10.82s/it]\n"
     ]
    },
    {
     "name": "stdout",
     "output_type": "stream",
     "text": [
      "Positive trainning sample size: 450 \n",
      "\n",
      "Random Under Sampling\n"
     ]
    },
    {
     "name": "stderr",
     "output_type": "stream",
     "text": [
      "100%|██████████████████████████████████████████| 18/18 [00:24<00:00,  1.36s/it]\n"
     ]
    },
    {
     "name": "stdout",
     "output_type": "stream",
     "text": [
      "Negative trainning sample size: 450 \n",
      "\n"
     ]
    },
    {
     "name": "stderr",
     "output_type": "stream",
     "text": [
      "\r",
      "  0%|                                                    | 0/8 [00:00<?, ?it/s]"
     ]
    },
    {
     "name": "stdout",
     "output_type": "stream",
     "text": [
      "KNN , Precision: 0.613636363636\n"
     ]
    },
    {
     "name": "stderr",
     "output_type": "stream",
     "text": [
      "\r",
      " 12%|█████▌                                      | 1/8 [00:00<00:04,  1.68it/s]"
     ]
    },
    {
     "name": "stdout",
     "output_type": "stream",
     "text": [
      "RF , Precision: 0.753246753247\n"
     ]
    },
    {
     "name": "stderr",
     "output_type": "stream",
     "text": [
      "\r",
      " 25%|███████████                                 | 2/8 [00:00<00:02,  2.01it/s]"
     ]
    },
    {
     "name": "stdout",
     "output_type": "stream",
     "text": [
      "GBDT , Precision: 0.752941176471\n"
     ]
    },
    {
     "name": "stderr",
     "output_type": "stream",
     "text": [
      "\r",
      " 38%|████████████████▌                           | 3/8 [00:03<00:05,  1.04s/it]"
     ]
    },
    {
     "name": "stdout",
     "output_type": "stream",
     "text": [
      "LR , Precision: 0.782608695652\n"
     ]
    },
    {
     "name": "stderr",
     "output_type": "stream",
     "text": [
      "\r",
      " 50%|██████████████████████                      | 4/8 [00:03<00:03,  1.23it/s]"
     ]
    },
    {
     "name": "stdout",
     "output_type": "stream",
     "text": [
      "Ada , Precision: 0.729411764706\n"
     ]
    },
    {
     "name": "stderr",
     "output_type": "stream",
     "text": [
      "\r",
      " 62%|███████████████████████████▌                | 5/8 [00:04<00:03,  1.01s/it]"
     ]
    },
    {
     "name": "stdout",
     "output_type": "stream",
     "text": [
      "NB , Precision: 0.704545454545\n",
      "XGB , Precision: 0.776470588235\n"
     ]
    },
    {
     "name": "stderr",
     "output_type": "stream",
     "text": [
      "\r",
      " 88%|██████████████████████████████████████▌     | 7/8 [00:05<00:00,  1.19it/s]"
     ]
    },
    {
     "name": "stdout",
     "output_type": "stream",
     "text": [
      "SVM , Precision: 0.75\n"
     ]
    },
    {
     "name": "stderr",
     "output_type": "stream",
     "text": [
      "100%|████████████████████████████████████████████| 8/8 [00:07<00:00,  1.04it/s]\n"
     ]
    },
    {
     "name": "stdout",
     "output_type": "stream",
     "text": [
      "10\n"
     ]
    },
    {
     "name": "stderr",
     "output_type": "stream",
     "text": [
      "100%|██████████████████████████████████████████| 18/18 [03:13<00:00, 10.82s/it]\n"
     ]
    },
    {
     "name": "stdout",
     "output_type": "stream",
     "text": [
      "Positive trainning sample size: 450 \n",
      "\n",
      "Random Under Sampling\n"
     ]
    },
    {
     "name": "stderr",
     "output_type": "stream",
     "text": [
      "100%|██████████████████████████████████████████| 18/18 [00:24<00:00,  1.35s/it]\n"
     ]
    },
    {
     "name": "stdout",
     "output_type": "stream",
     "text": [
      "Negative trainning sample size: 450 \n",
      "\n"
     ]
    },
    {
     "name": "stderr",
     "output_type": "stream",
     "text": [
      "\r",
      "  0%|                                                    | 0/8 [00:00<?, ?it/s]"
     ]
    },
    {
     "name": "stdout",
     "output_type": "stream",
     "text": [
      "KNN , Precision: 0.69512195122\n"
     ]
    },
    {
     "name": "stderr",
     "output_type": "stream",
     "text": [
      "\r",
      " 12%|█████▌                                      | 1/8 [00:00<00:04,  1.64it/s]"
     ]
    },
    {
     "name": "stdout",
     "output_type": "stream",
     "text": [
      "RF , Precision: 0.73417721519\n"
     ]
    },
    {
     "name": "stderr",
     "output_type": "stream",
     "text": [
      "\r",
      " 25%|███████████                                 | 2/8 [00:00<00:03,  1.98it/s]"
     ]
    },
    {
     "name": "stdout",
     "output_type": "stream",
     "text": [
      "GBDT , Precision: 0.698924731183\n"
     ]
    },
    {
     "name": "stderr",
     "output_type": "stream",
     "text": [
      "\r",
      " 38%|████████████████▌                           | 3/8 [00:03<00:05,  1.04s/it]"
     ]
    },
    {
     "name": "stdout",
     "output_type": "stream",
     "text": [
      "LR , Precision: 0.712765957447\n"
     ]
    },
    {
     "name": "stderr",
     "output_type": "stream",
     "text": [
      "\r",
      " 50%|██████████████████████                      | 4/8 [00:03<00:03,  1.23it/s]"
     ]
    },
    {
     "name": "stdout",
     "output_type": "stream",
     "text": [
      "Ada , Precision: 0.677777777778\n"
     ]
    },
    {
     "name": "stderr",
     "output_type": "stream",
     "text": [
      "\r",
      " 62%|███████████████████████████▌                | 5/8 [00:04<00:03,  1.01s/it]"
     ]
    },
    {
     "name": "stdout",
     "output_type": "stream",
     "text": [
      "NB , Precision: 0.666666666667\n",
      "XGB , Precision: 0.707865168539\n"
     ]
    },
    {
     "name": "stderr",
     "output_type": "stream",
     "text": [
      "\r",
      " 88%|██████████████████████████████████████▌     | 7/8 [00:05<00:00,  1.19it/s]"
     ]
    },
    {
     "name": "stdout",
     "output_type": "stream",
     "text": [
      "SVM , Precision: 0.744186046512\n"
     ]
    },
    {
     "name": "stderr",
     "output_type": "stream",
     "text": [
      "100%|████████████████████████████████████████████| 8/8 [00:06<00:00,  1.06it/s]\n"
     ]
    },
    {
     "name": "stdout",
     "output_type": "stream",
     "text": [
      "11\n"
     ]
    },
    {
     "name": "stderr",
     "output_type": "stream",
     "text": [
      "100%|██████████████████████████████████████████| 18/18 [03:13<00:00, 10.83s/it]\n"
     ]
    },
    {
     "name": "stdout",
     "output_type": "stream",
     "text": [
      "Positive trainning sample size: 450 \n",
      "\n",
      "Random Under Sampling\n"
     ]
    },
    {
     "name": "stderr",
     "output_type": "stream",
     "text": [
      "100%|██████████████████████████████████████████| 18/18 [00:24<00:00,  1.36s/it]\n"
     ]
    },
    {
     "name": "stdout",
     "output_type": "stream",
     "text": [
      "Negative trainning sample size: 450 \n",
      "\n"
     ]
    },
    {
     "name": "stderr",
     "output_type": "stream",
     "text": [
      "\r",
      "  0%|                                                    | 0/8 [00:00<?, ?it/s]"
     ]
    },
    {
     "name": "stdout",
     "output_type": "stream",
     "text": [
      "KNN , Precision: 0.727272727273\n"
     ]
    },
    {
     "name": "stderr",
     "output_type": "stream",
     "text": [
      "\r",
      " 12%|█████▌                                      | 1/8 [00:00<00:04,  1.68it/s]"
     ]
    },
    {
     "name": "stdout",
     "output_type": "stream",
     "text": [
      "RF , Precision: 0.729411764706\n"
     ]
    },
    {
     "name": "stderr",
     "output_type": "stream",
     "text": [
      "\r",
      " 25%|███████████                                 | 2/8 [00:00<00:02,  2.01it/s]"
     ]
    },
    {
     "name": "stdout",
     "output_type": "stream",
     "text": [
      "GBDT , Precision: 0.701149425287\n"
     ]
    },
    {
     "name": "stderr",
     "output_type": "stream",
     "text": [
      "\r",
      " 38%|████████████████▌                           | 3/8 [00:03<00:05,  1.03s/it]"
     ]
    },
    {
     "name": "stdout",
     "output_type": "stream",
     "text": [
      "LR , Precision: 0.782608695652\n"
     ]
    },
    {
     "name": "stderr",
     "output_type": "stream",
     "text": [
      "\r",
      " 50%|██████████████████████                      | 4/8 [00:03<00:03,  1.16it/s]"
     ]
    },
    {
     "name": "stdout",
     "output_type": "stream",
     "text": [
      "Ada , Precision: 0.722891566265\n"
     ]
    },
    {
     "name": "stderr",
     "output_type": "stream",
     "text": [
      "\r",
      " 62%|███████████████████████████▌                | 5/8 [00:05<00:03,  1.05s/it]"
     ]
    },
    {
     "name": "stdout",
     "output_type": "stream",
     "text": [
      "NB , Precision: 0.735632183908\n",
      "XGB , Precision: 0.788235294118\n"
     ]
    },
    {
     "name": "stderr",
     "output_type": "stream",
     "text": [
      "\r",
      " 88%|██████████████████████████████████████▌     | 7/8 [00:05<00:00,  1.15it/s]"
     ]
    },
    {
     "name": "stdout",
     "output_type": "stream",
     "text": [
      "SVM , Precision: 0.795454545455\n"
     ]
    },
    {
     "name": "stderr",
     "output_type": "stream",
     "text": [
      "100%|████████████████████████████████████████████| 8/8 [00:07<00:00,  1.03it/s]\n"
     ]
    },
    {
     "name": "stdout",
     "output_type": "stream",
     "text": [
      "12\n"
     ]
    },
    {
     "name": "stderr",
     "output_type": "stream",
     "text": [
      "100%|██████████████████████████████████████████| 18/18 [03:13<00:00, 10.81s/it]\n"
     ]
    },
    {
     "name": "stdout",
     "output_type": "stream",
     "text": [
      "Positive trainning sample size: 450 \n",
      "\n",
      "Random Under Sampling\n"
     ]
    },
    {
     "name": "stderr",
     "output_type": "stream",
     "text": [
      "100%|██████████████████████████████████████████| 18/18 [00:24<00:00,  1.35s/it]\n"
     ]
    },
    {
     "name": "stdout",
     "output_type": "stream",
     "text": [
      "Negative trainning sample size: 450 \n",
      "\n"
     ]
    },
    {
     "name": "stderr",
     "output_type": "stream",
     "text": [
      "\r",
      "  0%|                                                    | 0/8 [00:00<?, ?it/s]"
     ]
    },
    {
     "name": "stdout",
     "output_type": "stream",
     "text": [
      "KNN , Precision: 0.756097560976\n"
     ]
    },
    {
     "name": "stderr",
     "output_type": "stream",
     "text": [
      "\r",
      " 12%|█████▌                                      | 1/8 [00:00<00:04,  1.63it/s]"
     ]
    },
    {
     "name": "stdout",
     "output_type": "stream",
     "text": [
      "RF , Precision: 0.769230769231\n"
     ]
    },
    {
     "name": "stderr",
     "output_type": "stream",
     "text": [
      "\r",
      " 25%|███████████                                 | 2/8 [00:00<00:03,  1.97it/s]"
     ]
    },
    {
     "name": "stdout",
     "output_type": "stream",
     "text": [
      "GBDT , Precision: 0.732558139535\n"
     ]
    },
    {
     "name": "stderr",
     "output_type": "stream",
     "text": [
      "\r",
      " 38%|████████████████▌                           | 3/8 [00:03<00:05,  1.04s/it]"
     ]
    },
    {
     "name": "stdout",
     "output_type": "stream",
     "text": [
      "LR , Precision: 0.739130434783\n"
     ]
    },
    {
     "name": "stderr",
     "output_type": "stream",
     "text": [
      "\r",
      " 50%|██████████████████████                      | 4/8 [00:03<00:03,  1.19it/s]"
     ]
    },
    {
     "name": "stdout",
     "output_type": "stream",
     "text": [
      "Ada , Precision: 0.707317073171\n"
     ]
    },
    {
     "name": "stderr",
     "output_type": "stream",
     "text": [
      "\r",
      " 62%|███████████████████████████▌                | 5/8 [00:05<00:03,  1.03s/it]"
     ]
    },
    {
     "name": "stdout",
     "output_type": "stream",
     "text": [
      "NB , Precision: 0.5\n",
      "XGB , Precision: 0.752808988764\n"
     ]
    },
    {
     "name": "stderr",
     "output_type": "stream",
     "text": [
      "\r",
      " 88%|██████████████████████████████████████▌     | 7/8 [00:05<00:00,  1.17it/s]"
     ]
    },
    {
     "name": "stdout",
     "output_type": "stream",
     "text": [
      "SVM , Precision: 0.861111111111\n"
     ]
    },
    {
     "name": "stderr",
     "output_type": "stream",
     "text": [
      "100%|████████████████████████████████████████████| 8/8 [00:07<00:00,  1.04it/s]\n"
     ]
    },
    {
     "name": "stdout",
     "output_type": "stream",
     "text": [
      "13\n"
     ]
    },
    {
     "name": "stderr",
     "output_type": "stream",
     "text": [
      "100%|██████████████████████████████████████████| 18/18 [03:13<00:00, 10.80s/it]\n"
     ]
    },
    {
     "name": "stdout",
     "output_type": "stream",
     "text": [
      "Positive trainning sample size: 450 \n",
      "\n",
      "Random Under Sampling\n"
     ]
    },
    {
     "name": "stderr",
     "output_type": "stream",
     "text": [
      "100%|██████████████████████████████████████████| 18/18 [00:24<00:00,  1.35s/it]\n"
     ]
    },
    {
     "name": "stdout",
     "output_type": "stream",
     "text": [
      "Negative trainning sample size: 450 \n",
      "\n"
     ]
    },
    {
     "name": "stderr",
     "output_type": "stream",
     "text": [
      "\r",
      "  0%|                                                    | 0/8 [00:00<?, ?it/s]"
     ]
    },
    {
     "name": "stdout",
     "output_type": "stream",
     "text": [
      "KNN , Precision: 0.653333333333\n"
     ]
    },
    {
     "name": "stderr",
     "output_type": "stream",
     "text": [
      "\r",
      " 12%|█████▌                                      | 1/8 [00:00<00:04,  1.56it/s]"
     ]
    },
    {
     "name": "stdout",
     "output_type": "stream",
     "text": [
      "RF , Precision: 0.794117647059\n"
     ]
    },
    {
     "name": "stderr",
     "output_type": "stream",
     "text": [
      "\r",
      " 25%|███████████                                 | 2/8 [00:00<00:03,  1.89it/s]"
     ]
    },
    {
     "name": "stdout",
     "output_type": "stream",
     "text": [
      "GBDT , Precision: 0.741176470588\n"
     ]
    },
    {
     "name": "stderr",
     "output_type": "stream",
     "text": [
      "\r",
      " 38%|████████████████▌                           | 3/8 [00:03<00:05,  1.08s/it]"
     ]
    },
    {
     "name": "stdout",
     "output_type": "stream",
     "text": [
      "LR , Precision: 0.733333333333\n"
     ]
    },
    {
     "name": "stderr",
     "output_type": "stream",
     "text": [
      "\r",
      " 50%|██████████████████████                      | 4/8 [00:03<00:03,  1.16it/s]"
     ]
    },
    {
     "name": "stdout",
     "output_type": "stream",
     "text": [
      "Ada , Precision: 0.731707317073\n"
     ]
    },
    {
     "name": "stderr",
     "output_type": "stream",
     "text": [
      "\r",
      " 62%|███████████████████████████▌                | 5/8 [00:05<00:03,  1.05s/it]"
     ]
    },
    {
     "name": "stdout",
     "output_type": "stream",
     "text": [
      "NB , Precision: 0.480446927374\n",
      "XGB , Precision: 0.761904761905\n"
     ]
    },
    {
     "name": "stderr",
     "output_type": "stream",
     "text": [
      "\r",
      " 88%|██████████████████████████████████████▌     | 7/8 [00:06<00:00,  1.15it/s]"
     ]
    },
    {
     "name": "stdout",
     "output_type": "stream",
     "text": [
      "SVM , Precision: 0.659090909091\n"
     ]
    },
    {
     "name": "stderr",
     "output_type": "stream",
     "text": [
      "100%|████████████████████████████████████████████| 8/8 [00:07<00:00,  1.02it/s]\n"
     ]
    },
    {
     "name": "stdout",
     "output_type": "stream",
     "text": [
      "14\n"
     ]
    },
    {
     "name": "stderr",
     "output_type": "stream",
     "text": [
      "100%|██████████████████████████████████████████| 18/18 [03:13<00:00, 10.80s/it]\n"
     ]
    },
    {
     "name": "stdout",
     "output_type": "stream",
     "text": [
      "Positive trainning sample size: 450 \n",
      "\n",
      "Random Under Sampling\n"
     ]
    },
    {
     "name": "stderr",
     "output_type": "stream",
     "text": [
      "100%|██████████████████████████████████████████| 18/18 [00:24<00:00,  1.35s/it]\n"
     ]
    },
    {
     "name": "stdout",
     "output_type": "stream",
     "text": [
      "Negative trainning sample size: 450 \n",
      "\n"
     ]
    },
    {
     "name": "stderr",
     "output_type": "stream",
     "text": [
      "\r",
      "  0%|                                                    | 0/8 [00:00<?, ?it/s]"
     ]
    },
    {
     "name": "stdout",
     "output_type": "stream",
     "text": [
      "KNN , Precision: 0.734939759036\n"
     ]
    },
    {
     "name": "stderr",
     "output_type": "stream",
     "text": [
      "\r",
      " 12%|█████▌                                      | 1/8 [00:00<00:04,  1.60it/s]"
     ]
    },
    {
     "name": "stdout",
     "output_type": "stream",
     "text": [
      "RF , Precision: 0.738095238095\n"
     ]
    },
    {
     "name": "stderr",
     "output_type": "stream",
     "text": [
      "\r",
      " 25%|███████████                                 | 2/8 [00:00<00:03,  1.93it/s]"
     ]
    },
    {
     "name": "stdout",
     "output_type": "stream",
     "text": [
      "GBDT , Precision: 0.695652173913\n"
     ]
    },
    {
     "name": "stderr",
     "output_type": "stream",
     "text": [
      "\r",
      " 38%|████████████████▌                           | 3/8 [00:03<00:05,  1.06s/it]"
     ]
    },
    {
     "name": "stdout",
     "output_type": "stream",
     "text": [
      "LR , Precision: 0.772727272727\n"
     ]
    },
    {
     "name": "stderr",
     "output_type": "stream",
     "text": [
      "\r",
      " 50%|██████████████████████                      | 4/8 [00:03<00:03,  1.10it/s]"
     ]
    },
    {
     "name": "stdout",
     "output_type": "stream",
     "text": [
      "Ada , Precision: 0.685393258427\n"
     ]
    },
    {
     "name": "stderr",
     "output_type": "stream",
     "text": [
      "\r",
      " 62%|███████████████████████████▌                | 5/8 [00:05<00:03,  1.08s/it]"
     ]
    },
    {
     "name": "stdout",
     "output_type": "stream",
     "text": [
      "NB , Precision: 0.694736842105\n",
      "XGB , Precision: 0.726315789474\n"
     ]
    },
    {
     "name": "stderr",
     "output_type": "stream",
     "text": [
      "\r",
      " 88%|██████████████████████████████████████▌     | 7/8 [00:06<00:00,  1.08it/s]"
     ]
    },
    {
     "name": "stdout",
     "output_type": "stream",
     "text": [
      "SVM , Precision: 0.708333333333\n"
     ]
    },
    {
     "name": "stderr",
     "output_type": "stream",
     "text": [
      "100%|████████████████████████████████████████████| 8/8 [00:07<00:00,  1.02s/it]\n"
     ]
    },
    {
     "name": "stdout",
     "output_type": "stream",
     "text": [
      "毛衣 162103\n",
      "0\n"
     ]
    },
    {
     "name": "stderr",
     "output_type": "stream",
     "text": [
      "100%|██████████████████████████████████████████| 21/21 [03:48<00:00, 10.99s/it]\n"
     ]
    },
    {
     "name": "stdout",
     "output_type": "stream",
     "text": [
      "Positive trainning sample size: 363 \n",
      "\n",
      "Random Under Sampling\n"
     ]
    },
    {
     "name": "stderr",
     "output_type": "stream",
     "text": [
      "100%|██████████████████████████████████████████| 22/22 [00:24<00:00,  1.10s/it]\n"
     ]
    },
    {
     "name": "stdout",
     "output_type": "stream",
     "text": [
      "Negative trainning sample size: 363 \n",
      "\n"
     ]
    },
    {
     "name": "stderr",
     "output_type": "stream",
     "text": [
      "\r",
      "  0%|                                                    | 0/8 [00:00<?, ?it/s]"
     ]
    },
    {
     "name": "stdout",
     "output_type": "stream",
     "text": [
      "KNN , Precision: 0.831325301205\n"
     ]
    },
    {
     "name": "stderr",
     "output_type": "stream",
     "text": [
      "\r",
      " 12%|█████▌                                      | 1/8 [00:00<00:03,  2.20it/s]"
     ]
    },
    {
     "name": "stdout",
     "output_type": "stream",
     "text": [
      "RF , Precision: 0.970149253731\n"
     ]
    },
    {
     "name": "stderr",
     "output_type": "stream",
     "text": [
      "\r",
      " 25%|███████████                                 | 2/8 [00:00<00:02,  2.60it/s]"
     ]
    },
    {
     "name": "stdout",
     "output_type": "stream",
     "text": [
      "GBDT , Precision: 0.96\n"
     ]
    },
    {
     "name": "stderr",
     "output_type": "stream",
     "text": [
      "\r",
      " 38%|████████████████▌                           | 3/8 [00:02<00:04,  1.16it/s]"
     ]
    },
    {
     "name": "stdout",
     "output_type": "stream",
     "text": [
      "LR , Precision: 0.960526315789\n"
     ]
    },
    {
     "name": "stderr",
     "output_type": "stream",
     "text": [
      "\r",
      " 50%|██████████████████████                      | 4/8 [00:02<00:02,  1.47it/s]"
     ]
    },
    {
     "name": "stdout",
     "output_type": "stream",
     "text": [
      "Ada , Precision: 0.945945945946\n"
     ]
    },
    {
     "name": "stderr",
     "output_type": "stream",
     "text": [
      "\r",
      " 62%|███████████████████████████▌                | 5/8 [00:04<00:02,  1.13it/s]"
     ]
    },
    {
     "name": "stdout",
     "output_type": "stream",
     "text": [
      "NB , Precision: 0.942857142857\n",
      "XGB , Precision: 0.961038961039\n"
     ]
    },
    {
     "name": "stderr",
     "output_type": "stream",
     "text": [
      "\r",
      " 88%|██████████████████████████████████████▌     | 7/8 [00:05<00:00,  1.34it/s]"
     ]
    },
    {
     "name": "stdout",
     "output_type": "stream",
     "text": [
      "SVM , Precision: 0.946428571429\n"
     ]
    },
    {
     "name": "stderr",
     "output_type": "stream",
     "text": [
      "100%|████████████████████████████████████████████| 8/8 [00:05<00:00,  1.30it/s]\n"
     ]
    },
    {
     "name": "stdout",
     "output_type": "stream",
     "text": [
      "1\n"
     ]
    },
    {
     "name": "stderr",
     "output_type": "stream",
     "text": [
      "100%|██████████████████████████████████████████| 21/21 [03:47<00:00, 10.98s/it]\n"
     ]
    },
    {
     "name": "stdout",
     "output_type": "stream",
     "text": [
      "Positive trainning sample size: 363 \n",
      "\n",
      "Random Under Sampling\n"
     ]
    },
    {
     "name": "stderr",
     "output_type": "stream",
     "text": [
      "100%|██████████████████████████████████████████| 22/22 [00:24<00:00,  1.10s/it]\n"
     ]
    },
    {
     "name": "stdout",
     "output_type": "stream",
     "text": [
      "Negative trainning sample size: 363 \n",
      "\n"
     ]
    },
    {
     "name": "stderr",
     "output_type": "stream",
     "text": [
      "\r",
      "  0%|                                                    | 0/8 [00:00<?, ?it/s]"
     ]
    },
    {
     "name": "stdout",
     "output_type": "stream",
     "text": [
      "KNN , Precision: 0.858974358974\n"
     ]
    },
    {
     "name": "stderr",
     "output_type": "stream",
     "text": [
      "\r",
      " 12%|█████▌                                      | 1/8 [00:00<00:03,  2.31it/s]"
     ]
    },
    {
     "name": "stdout",
     "output_type": "stream",
     "text": [
      "RF , Precision: 0.985714285714\n"
     ]
    },
    {
     "name": "stderr",
     "output_type": "stream",
     "text": [
      "\r",
      " 25%|███████████                                 | 2/8 [00:00<00:02,  2.68it/s]"
     ]
    },
    {
     "name": "stdout",
     "output_type": "stream",
     "text": [
      "GBDT , Precision: 0.959459459459\n"
     ]
    },
    {
     "name": "stderr",
     "output_type": "stream",
     "text": [
      "\r",
      " 38%|████████████████▌                           | 3/8 [00:02<00:04,  1.18it/s]"
     ]
    },
    {
     "name": "stdout",
     "output_type": "stream",
     "text": [
      "LR , Precision: 0.986486486486\n"
     ]
    },
    {
     "name": "stderr",
     "output_type": "stream",
     "text": [
      "\r",
      " 50%|██████████████████████                      | 4/8 [00:02<00:02,  1.47it/s]"
     ]
    },
    {
     "name": "stdout",
     "output_type": "stream",
     "text": [
      "Ada , Precision: 0.971830985915\n"
     ]
    },
    {
     "name": "stderr",
     "output_type": "stream",
     "text": [
      "\r",
      " 62%|███████████████████████████▌                | 5/8 [00:04<00:02,  1.12it/s]"
     ]
    },
    {
     "name": "stdout",
     "output_type": "stream",
     "text": [
      "NB , Precision: 1.0\n",
      "XGB , Precision: 0.973684210526\n"
     ]
    },
    {
     "name": "stderr",
     "output_type": "stream",
     "text": [
      "\r",
      " 88%|██████████████████████████████████████▌     | 7/8 [00:05<00:00,  1.33it/s]"
     ]
    },
    {
     "name": "stdout",
     "output_type": "stream",
     "text": [
      "SVM , Precision: 0.868852459016\n"
     ]
    },
    {
     "name": "stderr",
     "output_type": "stream",
     "text": [
      "100%|████████████████████████████████████████████| 8/8 [00:05<00:00,  1.30it/s]\n"
     ]
    },
    {
     "name": "stdout",
     "output_type": "stream",
     "text": [
      "2\n"
     ]
    },
    {
     "name": "stderr",
     "output_type": "stream",
     "text": [
      "100%|██████████████████████████████████████████| 21/21 [03:48<00:00, 10.99s/it]\n"
     ]
    },
    {
     "name": "stdout",
     "output_type": "stream",
     "text": [
      "Positive trainning sample size: 363 \n",
      "\n",
      "Random Under Sampling\n"
     ]
    },
    {
     "name": "stderr",
     "output_type": "stream",
     "text": [
      "100%|██████████████████████████████████████████| 22/22 [00:24<00:00,  1.10s/it]\n"
     ]
    },
    {
     "name": "stdout",
     "output_type": "stream",
     "text": [
      "Negative trainning sample size: 363 \n",
      "\n"
     ]
    },
    {
     "name": "stderr",
     "output_type": "stream",
     "text": [
      "\r",
      "  0%|                                                    | 0/8 [00:00<?, ?it/s]"
     ]
    },
    {
     "name": "stdout",
     "output_type": "stream",
     "text": [
      "KNN , Precision: 0.841463414634\n"
     ]
    },
    {
     "name": "stderr",
     "output_type": "stream",
     "text": [
      "\r",
      " 12%|█████▌                                      | 1/8 [00:00<00:03,  2.17it/s]"
     ]
    },
    {
     "name": "stdout",
     "output_type": "stream",
     "text": [
      "RF , Precision: 0.986301369863\n"
     ]
    },
    {
     "name": "stderr",
     "output_type": "stream",
     "text": [
      "\r",
      " 25%|███████████                                 | 2/8 [00:00<00:02,  2.57it/s]"
     ]
    },
    {
     "name": "stdout",
     "output_type": "stream",
     "text": [
      "GBDT , Precision: 0.961038961039\n"
     ]
    },
    {
     "name": "stderr",
     "output_type": "stream",
     "text": [
      "\r",
      " 38%|████████████████▌                           | 3/8 [00:02<00:04,  1.14it/s]"
     ]
    },
    {
     "name": "stdout",
     "output_type": "stream",
     "text": [
      "LR , Precision: 0.960526315789\n"
     ]
    },
    {
     "name": "stderr",
     "output_type": "stream",
     "text": [
      "\r",
      " 50%|██████████████████████                      | 4/8 [00:02<00:02,  1.45it/s]"
     ]
    },
    {
     "name": "stdout",
     "output_type": "stream",
     "text": [
      "Ada , Precision: 0.985915492958\n"
     ]
    },
    {
     "name": "stderr",
     "output_type": "stream",
     "text": [
      "\r",
      " 62%|███████████████████████████▌                | 5/8 [00:04<00:02,  1.13it/s]"
     ]
    },
    {
     "name": "stdout",
     "output_type": "stream",
     "text": [
      "NB , Precision: 0.943661971831\n",
      "XGB , Precision: 0.973333333333\n"
     ]
    },
    {
     "name": "stderr",
     "output_type": "stream",
     "text": [
      "\r",
      " 88%|██████████████████████████████████████▌     | 7/8 [00:05<00:00,  1.34it/s]"
     ]
    },
    {
     "name": "stdout",
     "output_type": "stream",
     "text": [
      "SVM , Precision: 0.932203389831\n"
     ]
    },
    {
     "name": "stderr",
     "output_type": "stream",
     "text": [
      "100%|████████████████████████████████████████████| 8/8 [00:06<00:00,  1.27it/s]\n"
     ]
    },
    {
     "name": "stdout",
     "output_type": "stream",
     "text": [
      "3\n"
     ]
    },
    {
     "name": "stderr",
     "output_type": "stream",
     "text": [
      "100%|██████████████████████████████████████████| 21/21 [03:48<00:00, 10.99s/it]\n"
     ]
    },
    {
     "name": "stdout",
     "output_type": "stream",
     "text": [
      "Positive trainning sample size: 363 \n",
      "\n",
      "Random Under Sampling\n"
     ]
    },
    {
     "name": "stderr",
     "output_type": "stream",
     "text": [
      "100%|██████████████████████████████████████████| 22/22 [00:24<00:00,  1.10s/it]\n"
     ]
    },
    {
     "name": "stdout",
     "output_type": "stream",
     "text": [
      "Negative trainning sample size: 363 \n",
      "\n"
     ]
    },
    {
     "name": "stderr",
     "output_type": "stream",
     "text": [
      "\r",
      "  0%|                                                    | 0/8 [00:00<?, ?it/s]"
     ]
    },
    {
     "name": "stdout",
     "output_type": "stream",
     "text": [
      "KNN , Precision: 0.8375\n"
     ]
    },
    {
     "name": "stderr",
     "output_type": "stream",
     "text": [
      "\r",
      " 12%|█████▌                                      | 1/8 [00:00<00:02,  2.34it/s]"
     ]
    },
    {
     "name": "stdout",
     "output_type": "stream",
     "text": [
      "RF , Precision: 1.0\n"
     ]
    },
    {
     "name": "stderr",
     "output_type": "stream",
     "text": [
      "\r",
      " 25%|███████████                                 | 2/8 [00:00<00:02,  2.74it/s]"
     ]
    },
    {
     "name": "stdout",
     "output_type": "stream",
     "text": [
      "GBDT , Precision: 1.0\n"
     ]
    },
    {
     "name": "stderr",
     "output_type": "stream",
     "text": [
      "\r",
      " 38%|████████████████▌                           | 3/8 [00:02<00:04,  1.17it/s]"
     ]
    },
    {
     "name": "stdout",
     "output_type": "stream",
     "text": [
      "LR , Precision: 0.973684210526\n"
     ]
    },
    {
     "name": "stderr",
     "output_type": "stream",
     "text": [
      "\r",
      " 50%|██████████████████████                      | 4/8 [00:02<00:02,  1.49it/s]"
     ]
    },
    {
     "name": "stdout",
     "output_type": "stream",
     "text": [
      "Ada , Precision: 1.0\n"
     ]
    },
    {
     "name": "stderr",
     "output_type": "stream",
     "text": [
      "\r",
      " 62%|███████████████████████████▌                | 5/8 [00:04<00:02,  1.15it/s]"
     ]
    },
    {
     "name": "stdout",
     "output_type": "stream",
     "text": [
      "NB , Precision: 0.971014492754\n",
      "XGB , Precision: 1.0\n"
     ]
    },
    {
     "name": "stderr",
     "output_type": "stream",
     "text": [
      "\r",
      " 88%|██████████████████████████████████████▌     | 7/8 [00:05<00:00,  1.30it/s]"
     ]
    },
    {
     "name": "stdout",
     "output_type": "stream",
     "text": [
      "SVM , Precision: 0.947368421053\n"
     ]
    },
    {
     "name": "stderr",
     "output_type": "stream",
     "text": [
      "100%|████████████████████████████████████████████| 8/8 [00:06<00:00,  1.26it/s]\n"
     ]
    },
    {
     "name": "stdout",
     "output_type": "stream",
     "text": [
      "4\n"
     ]
    },
    {
     "name": "stderr",
     "output_type": "stream",
     "text": [
      "100%|██████████████████████████████████████████| 21/21 [03:48<00:00, 10.97s/it]\n"
     ]
    },
    {
     "name": "stdout",
     "output_type": "stream",
     "text": [
      "Positive trainning sample size: 363 \n",
      "\n",
      "Random Under Sampling\n"
     ]
    },
    {
     "name": "stderr",
     "output_type": "stream",
     "text": [
      "100%|██████████████████████████████████████████| 22/22 [00:24<00:00,  1.10s/it]\n"
     ]
    },
    {
     "name": "stdout",
     "output_type": "stream",
     "text": [
      "Negative trainning sample size: 363 \n",
      "\n"
     ]
    },
    {
     "name": "stderr",
     "output_type": "stream",
     "text": [
      "\r",
      "  0%|                                                    | 0/8 [00:00<?, ?it/s]"
     ]
    },
    {
     "name": "stdout",
     "output_type": "stream",
     "text": [
      "KNN , Precision: 0.80487804878\n"
     ]
    },
    {
     "name": "stderr",
     "output_type": "stream",
     "text": [
      "\r",
      " 12%|█████▌                                      | 1/8 [00:00<00:03,  2.13it/s]"
     ]
    },
    {
     "name": "stdout",
     "output_type": "stream",
     "text": [
      "RF , Precision: 0.957142857143\n"
     ]
    },
    {
     "name": "stderr",
     "output_type": "stream",
     "text": [
      "\r",
      " 25%|███████████                                 | 2/8 [00:00<00:02,  2.53it/s]"
     ]
    },
    {
     "name": "stdout",
     "output_type": "stream",
     "text": [
      "GBDT , Precision: 0.973684210526\n"
     ]
    },
    {
     "name": "stderr",
     "output_type": "stream",
     "text": [
      "\r",
      " 38%|████████████████▌                           | 3/8 [00:02<00:04,  1.16it/s]"
     ]
    },
    {
     "name": "stdout",
     "output_type": "stream",
     "text": [
      "LR , Precision: 0.960526315789\n"
     ]
    },
    {
     "name": "stderr",
     "output_type": "stream",
     "text": [
      "\r",
      " 50%|██████████████████████                      | 4/8 [00:02<00:02,  1.48it/s]"
     ]
    },
    {
     "name": "stdout",
     "output_type": "stream",
     "text": [
      "Ada , Precision: 0.959459459459\n"
     ]
    },
    {
     "name": "stderr",
     "output_type": "stream",
     "text": [
      "\r",
      " 62%|███████████████████████████▌                | 5/8 [00:04<00:02,  1.14it/s]"
     ]
    },
    {
     "name": "stdout",
     "output_type": "stream",
     "text": [
      "NB , Precision: 0.967213114754\n",
      "XGB , Precision: 0.973684210526\n"
     ]
    },
    {
     "name": "stderr",
     "output_type": "stream",
     "text": [
      "\r",
      " 88%|██████████████████████████████████████▌     | 7/8 [00:05<00:00,  1.35it/s]"
     ]
    },
    {
     "name": "stdout",
     "output_type": "stream",
     "text": [
      "SVM , Precision: 0.838709677419\n"
     ]
    },
    {
     "name": "stderr",
     "output_type": "stream",
     "text": [
      "100%|████████████████████████████████████████████| 8/8 [00:05<00:00,  1.28it/s]\n"
     ]
    },
    {
     "name": "stdout",
     "output_type": "stream",
     "text": [
      "5\n"
     ]
    },
    {
     "name": "stderr",
     "output_type": "stream",
     "text": [
      "100%|██████████████████████████████████████████| 21/21 [03:48<00:00, 11.00s/it]\n"
     ]
    },
    {
     "name": "stdout",
     "output_type": "stream",
     "text": [
      "Positive trainning sample size: 363 \n",
      "\n",
      "Random Under Sampling\n"
     ]
    },
    {
     "name": "stderr",
     "output_type": "stream",
     "text": [
      "100%|██████████████████████████████████████████| 22/22 [00:24<00:00,  1.09s/it]\n"
     ]
    },
    {
     "name": "stdout",
     "output_type": "stream",
     "text": [
      "Negative trainning sample size: 363 \n",
      "\n"
     ]
    },
    {
     "name": "stderr",
     "output_type": "stream",
     "text": [
      "\r",
      "  0%|                                                    | 0/8 [00:00<?, ?it/s]"
     ]
    },
    {
     "name": "stdout",
     "output_type": "stream",
     "text": [
      "KNN , Precision: 0.851351351351\n"
     ]
    },
    {
     "name": "stderr",
     "output_type": "stream",
     "text": [
      "\r",
      " 12%|█████▌                                      | 1/8 [00:00<00:03,  2.28it/s]"
     ]
    },
    {
     "name": "stdout",
     "output_type": "stream",
     "text": [
      "RF , Precision: 0.957142857143\n"
     ]
    },
    {
     "name": "stderr",
     "output_type": "stream",
     "text": [
      "\r",
      " 25%|███████████                                 | 2/8 [00:00<00:02,  2.65it/s]"
     ]
    },
    {
     "name": "stdout",
     "output_type": "stream",
     "text": [
      "GBDT , Precision: 0.946666666667\n"
     ]
    },
    {
     "name": "stderr",
     "output_type": "stream",
     "text": [
      "\r",
      " 38%|████████████████▌                           | 3/8 [00:02<00:04,  1.20it/s]"
     ]
    },
    {
     "name": "stdout",
     "output_type": "stream",
     "text": [
      "LR , Precision: 0.960526315789\n"
     ]
    },
    {
     "name": "stderr",
     "output_type": "stream",
     "text": [
      "\r",
      " 50%|██████████████████████                      | 4/8 [00:02<00:02,  1.55it/s]"
     ]
    },
    {
     "name": "stdout",
     "output_type": "stream",
     "text": [
      "Ada , Precision: 0.945945945946\n"
     ]
    },
    {
     "name": "stderr",
     "output_type": "stream",
     "text": [
      "\r",
      " 62%|███████████████████████████▌                | 5/8 [00:04<00:02,  1.17it/s]"
     ]
    },
    {
     "name": "stdout",
     "output_type": "stream",
     "text": [
      "NB , Precision: 0.907894736842\n",
      "XGB , Precision: 0.961038961039\n"
     ]
    },
    {
     "name": "stderr",
     "output_type": "stream",
     "text": [
      "\r",
      " 88%|██████████████████████████████████████▌     | 7/8 [00:05<00:00,  1.36it/s]"
     ]
    },
    {
     "name": "stdout",
     "output_type": "stream",
     "text": [
      "SVM , Precision: 0.928571428571\n"
     ]
    },
    {
     "name": "stderr",
     "output_type": "stream",
     "text": [
      "100%|████████████████████████████████████████████| 8/8 [00:05<00:00,  1.29it/s]\n"
     ]
    },
    {
     "name": "stdout",
     "output_type": "stream",
     "text": [
      "6\n"
     ]
    },
    {
     "name": "stderr",
     "output_type": "stream",
     "text": [
      "100%|██████████████████████████████████████████| 21/21 [03:47<00:00, 10.99s/it]\n"
     ]
    },
    {
     "name": "stdout",
     "output_type": "stream",
     "text": [
      "Positive trainning sample size: 363 \n",
      "\n",
      "Random Under Sampling\n"
     ]
    },
    {
     "name": "stderr",
     "output_type": "stream",
     "text": [
      "100%|██████████████████████████████████████████| 22/22 [00:24<00:00,  1.09s/it]\n"
     ]
    },
    {
     "name": "stdout",
     "output_type": "stream",
     "text": [
      "Negative trainning sample size: 363 \n",
      "\n"
     ]
    },
    {
     "name": "stderr",
     "output_type": "stream",
     "text": [
      "\r",
      "  0%|                                                    | 0/8 [00:00<?, ?it/s]"
     ]
    },
    {
     "name": "stdout",
     "output_type": "stream",
     "text": [
      "KNN , Precision: 0.835443037975\n"
     ]
    },
    {
     "name": "stderr",
     "output_type": "stream",
     "text": [
      "\r",
      " 12%|█████▌                                      | 1/8 [00:00<00:03,  2.25it/s]"
     ]
    },
    {
     "name": "stdout",
     "output_type": "stream",
     "text": [
      "RF , Precision: 0.930555555556\n"
     ]
    },
    {
     "name": "stderr",
     "output_type": "stream",
     "text": [
      "\r",
      " 25%|███████████                                 | 2/8 [00:00<00:02,  2.66it/s]"
     ]
    },
    {
     "name": "stdout",
     "output_type": "stream",
     "text": [
      "GBDT , Precision: 0.960526315789\n"
     ]
    },
    {
     "name": "stderr",
     "output_type": "stream",
     "text": [
      "\r",
      " 38%|████████████████▌                           | 3/8 [00:02<00:04,  1.18it/s]"
     ]
    },
    {
     "name": "stdout",
     "output_type": "stream",
     "text": [
      "LR , Precision: 0.973333333333\n"
     ]
    },
    {
     "name": "stderr",
     "output_type": "stream",
     "text": [
      "\r",
      " 50%|██████████████████████                      | 4/8 [00:02<00:02,  1.49it/s]"
     ]
    },
    {
     "name": "stdout",
     "output_type": "stream",
     "text": [
      "Ada , Precision: 0.959459459459\n"
     ]
    },
    {
     "name": "stderr",
     "output_type": "stream",
     "text": [
      "\r",
      " 62%|███████████████████████████▌                | 5/8 [00:04<00:02,  1.15it/s]"
     ]
    },
    {
     "name": "stdout",
     "output_type": "stream",
     "text": [
      "NB , Precision: 0.929577464789\n",
      "XGB , Precision: 0.973684210526\n"
     ]
    },
    {
     "name": "stderr",
     "output_type": "stream",
     "text": [
      "\r",
      " 88%|██████████████████████████████████████▌     | 7/8 [00:05<00:00,  1.33it/s]"
     ]
    },
    {
     "name": "stdout",
     "output_type": "stream",
     "text": [
      "SVM , Precision: 0.896551724138\n"
     ]
    },
    {
     "name": "stderr",
     "output_type": "stream",
     "text": [
      "100%|████████████████████████████████████████████| 8/8 [00:05<00:00,  1.28it/s]\n"
     ]
    },
    {
     "name": "stdout",
     "output_type": "stream",
     "text": [
      "7\n"
     ]
    },
    {
     "name": "stderr",
     "output_type": "stream",
     "text": [
      "100%|██████████████████████████████████████████| 21/21 [03:47<00:00, 10.98s/it]\n"
     ]
    },
    {
     "name": "stdout",
     "output_type": "stream",
     "text": [
      "Positive trainning sample size: 363 \n",
      "\n",
      "Random Under Sampling\n"
     ]
    },
    {
     "name": "stderr",
     "output_type": "stream",
     "text": [
      "100%|██████████████████████████████████████████| 22/22 [00:24<00:00,  1.10s/it]\n"
     ]
    },
    {
     "name": "stdout",
     "output_type": "stream",
     "text": [
      "Negative trainning sample size: 363 \n",
      "\n"
     ]
    },
    {
     "name": "stderr",
     "output_type": "stream",
     "text": [
      "\r",
      "  0%|                                                    | 0/8 [00:00<?, ?it/s]"
     ]
    },
    {
     "name": "stdout",
     "output_type": "stream",
     "text": [
      "KNN , Precision: 0.833333333333\n"
     ]
    },
    {
     "name": "stderr",
     "output_type": "stream",
     "text": [
      "\r",
      " 12%|█████▌                                      | 1/8 [00:00<00:03,  2.28it/s]"
     ]
    },
    {
     "name": "stdout",
     "output_type": "stream",
     "text": [
      "RF , Precision: 0.985294117647\n"
     ]
    },
    {
     "name": "stderr",
     "output_type": "stream",
     "text": [
      "\r",
      " 25%|███████████                                 | 2/8 [00:00<00:02,  2.69it/s]"
     ]
    },
    {
     "name": "stdout",
     "output_type": "stream",
     "text": [
      "GBDT , Precision: 0.959459459459\n"
     ]
    },
    {
     "name": "stderr",
     "output_type": "stream",
     "text": [
      "\r",
      " 38%|████████████████▌                           | 3/8 [00:02<00:04,  1.20it/s]"
     ]
    },
    {
     "name": "stdout",
     "output_type": "stream",
     "text": [
      "LR , Precision: 0.961038961039\n"
     ]
    },
    {
     "name": "stderr",
     "output_type": "stream",
     "text": [
      "\r",
      " 50%|██████████████████████                      | 4/8 [00:02<00:02,  1.50it/s]"
     ]
    },
    {
     "name": "stdout",
     "output_type": "stream",
     "text": [
      "Ada , Precision: 0.945945945946\n"
     ]
    },
    {
     "name": "stderr",
     "output_type": "stream",
     "text": [
      "\r",
      " 62%|███████████████████████████▌                | 5/8 [00:04<00:02,  1.16it/s]"
     ]
    },
    {
     "name": "stdout",
     "output_type": "stream",
     "text": [
      "NB , Precision: 0.967741935484\n",
      "XGB , Precision: 0.960526315789\n"
     ]
    },
    {
     "name": "stderr",
     "output_type": "stream",
     "text": [
      "\r",
      " 88%|██████████████████████████████████████▌     | 7/8 [00:04<00:00,  1.37it/s]"
     ]
    },
    {
     "name": "stdout",
     "output_type": "stream",
     "text": [
      "SVM , Precision: 0.868852459016\n"
     ]
    },
    {
     "name": "stderr",
     "output_type": "stream",
     "text": [
      "100%|████████████████████████████████████████████| 8/8 [00:05<00:00,  1.34it/s]\n"
     ]
    },
    {
     "name": "stdout",
     "output_type": "stream",
     "text": [
      "8\n"
     ]
    },
    {
     "name": "stderr",
     "output_type": "stream",
     "text": [
      "100%|██████████████████████████████████████████| 21/21 [03:48<00:00, 10.97s/it]\n"
     ]
    },
    {
     "name": "stdout",
     "output_type": "stream",
     "text": [
      "Positive trainning sample size: 363 \n",
      "\n",
      "Random Under Sampling\n"
     ]
    },
    {
     "name": "stderr",
     "output_type": "stream",
     "text": [
      "100%|██████████████████████████████████████████| 22/22 [00:24<00:00,  1.10s/it]\n"
     ]
    },
    {
     "name": "stdout",
     "output_type": "stream",
     "text": [
      "Negative trainning sample size: 363 \n",
      "\n"
     ]
    },
    {
     "name": "stderr",
     "output_type": "stream",
     "text": [
      "\r",
      "  0%|                                                    | 0/8 [00:00<?, ?it/s]"
     ]
    },
    {
     "name": "stdout",
     "output_type": "stream",
     "text": [
      "KNN , Precision: 0.831325301205\n"
     ]
    },
    {
     "name": "stderr",
     "output_type": "stream",
     "text": [
      "\r",
      " 12%|█████▌                                      | 1/8 [00:00<00:03,  2.12it/s]"
     ]
    },
    {
     "name": "stdout",
     "output_type": "stream",
     "text": [
      "RF , Precision: 0.972602739726\n"
     ]
    },
    {
     "name": "stderr",
     "output_type": "stream",
     "text": [
      "\r",
      " 25%|███████████                                 | 2/8 [00:00<00:02,  2.53it/s]"
     ]
    },
    {
     "name": "stdout",
     "output_type": "stream",
     "text": [
      "GBDT , Precision: 0.986666666667\n"
     ]
    },
    {
     "name": "stderr",
     "output_type": "stream",
     "text": [
      "\r",
      " 38%|████████████████▌                           | 3/8 [00:02<00:04,  1.16it/s]"
     ]
    },
    {
     "name": "stdout",
     "output_type": "stream",
     "text": [
      "LR , Precision: 0.973333333333\n"
     ]
    },
    {
     "name": "stderr",
     "output_type": "stream",
     "text": [
      "\r",
      " 50%|██████████████████████                      | 4/8 [00:02<00:02,  1.45it/s]"
     ]
    },
    {
     "name": "stdout",
     "output_type": "stream",
     "text": [
      "Ada , Precision: 0.986301369863\n"
     ]
    },
    {
     "name": "stderr",
     "output_type": "stream",
     "text": [
      "\r",
      " 62%|███████████████████████████▌                | 5/8 [00:04<00:02,  1.12it/s]"
     ]
    },
    {
     "name": "stdout",
     "output_type": "stream",
     "text": [
      "NB , Precision: 0.942857142857\n",
      "XGB , Precision: 0.986842105263\n"
     ]
    },
    {
     "name": "stderr",
     "output_type": "stream",
     "text": [
      "\r",
      " 88%|██████████████████████████████████████▌     | 7/8 [00:05<00:00,  1.29it/s]"
     ]
    },
    {
     "name": "stdout",
     "output_type": "stream",
     "text": [
      "SVM , Precision: 0.918032786885\n"
     ]
    },
    {
     "name": "stderr",
     "output_type": "stream",
     "text": [
      "100%|████████████████████████████████████████████| 8/8 [00:06<00:00,  1.26it/s]\n"
     ]
    },
    {
     "name": "stdout",
     "output_type": "stream",
     "text": [
      "9\n"
     ]
    },
    {
     "name": "stderr",
     "output_type": "stream",
     "text": [
      "100%|██████████████████████████████████████████| 21/21 [03:49<00:00, 11.03s/it]\n"
     ]
    },
    {
     "name": "stdout",
     "output_type": "stream",
     "text": [
      "Positive trainning sample size: 363 \n",
      "\n",
      "Random Under Sampling\n"
     ]
    },
    {
     "name": "stderr",
     "output_type": "stream",
     "text": [
      "100%|██████████████████████████████████████████| 22/22 [00:24<00:00,  1.10s/it]\n"
     ]
    },
    {
     "name": "stdout",
     "output_type": "stream",
     "text": [
      "Negative trainning sample size: 363 \n",
      "\n"
     ]
    },
    {
     "name": "stderr",
     "output_type": "stream",
     "text": [
      "\r",
      "  0%|                                                    | 0/8 [00:00<?, ?it/s]"
     ]
    },
    {
     "name": "stdout",
     "output_type": "stream",
     "text": [
      "KNN , Precision: 0.80487804878\n"
     ]
    },
    {
     "name": "stderr",
     "output_type": "stream",
     "text": [
      "\r",
      " 12%|█████▌                                      | 1/8 [00:00<00:03,  2.13it/s]"
     ]
    },
    {
     "name": "stdout",
     "output_type": "stream",
     "text": [
      "RF , Precision: 0.972222222222\n"
     ]
    },
    {
     "name": "stderr",
     "output_type": "stream",
     "text": [
      "\r",
      " 25%|███████████                                 | 2/8 [00:00<00:02,  2.54it/s]"
     ]
    },
    {
     "name": "stdout",
     "output_type": "stream",
     "text": [
      "GBDT , Precision: 1.0\n"
     ]
    },
    {
     "name": "stderr",
     "output_type": "stream",
     "text": [
      "\r",
      " 38%|████████████████▌                           | 3/8 [00:02<00:04,  1.14it/s]"
     ]
    },
    {
     "name": "stdout",
     "output_type": "stream",
     "text": [
      "LR , Precision: 0.972602739726\n"
     ]
    },
    {
     "name": "stderr",
     "output_type": "stream",
     "text": [
      "\r",
      " 50%|██████████████████████                      | 4/8 [00:02<00:02,  1.46it/s]"
     ]
    },
    {
     "name": "stdout",
     "output_type": "stream",
     "text": [
      "Ada , Precision: 0.985714285714\n"
     ]
    },
    {
     "name": "stderr",
     "output_type": "stream",
     "text": [
      "\r",
      " 62%|███████████████████████████▌                | 5/8 [00:04<00:02,  1.13it/s]"
     ]
    },
    {
     "name": "stdout",
     "output_type": "stream",
     "text": [
      "NB , Precision: 0.930555555556\n",
      "XGB , Precision: 0.986666666667\n"
     ]
    },
    {
     "name": "stderr",
     "output_type": "stream",
     "text": [
      "\r",
      " 88%|██████████████████████████████████████▌     | 7/8 [00:05<00:00,  1.34it/s]"
     ]
    },
    {
     "name": "stdout",
     "output_type": "stream",
     "text": [
      "SVM , Precision: 0.84375\n"
     ]
    },
    {
     "name": "stderr",
     "output_type": "stream",
     "text": [
      "100%|████████████████████████████████████████████| 8/8 [00:05<00:00,  1.31it/s]\n"
     ]
    },
    {
     "name": "stdout",
     "output_type": "stream",
     "text": [
      "10\n"
     ]
    },
    {
     "name": "stderr",
     "output_type": "stream",
     "text": [
      "100%|██████████████████████████████████████████| 21/21 [03:48<00:00, 10.97s/it]\n"
     ]
    },
    {
     "name": "stdout",
     "output_type": "stream",
     "text": [
      "Positive trainning sample size: 363 \n",
      "\n",
      "Random Under Sampling\n"
     ]
    },
    {
     "name": "stderr",
     "output_type": "stream",
     "text": [
      "100%|██████████████████████████████████████████| 22/22 [00:24<00:00,  1.10s/it]\n"
     ]
    },
    {
     "name": "stdout",
     "output_type": "stream",
     "text": [
      "Negative trainning sample size: 363 \n",
      "\n"
     ]
    },
    {
     "name": "stderr",
     "output_type": "stream",
     "text": [
      "\r",
      "  0%|                                                    | 0/8 [00:00<?, ?it/s]"
     ]
    },
    {
     "name": "stdout",
     "output_type": "stream",
     "text": [
      "KNN , Precision: 0.810126582278\n"
     ]
    },
    {
     "name": "stderr",
     "output_type": "stream",
     "text": [
      "\r",
      " 12%|█████▌                                      | 1/8 [00:00<00:03,  2.13it/s]"
     ]
    },
    {
     "name": "stdout",
     "output_type": "stream",
     "text": [
      "RF , Precision: 0.970588235294\n"
     ]
    },
    {
     "name": "stderr",
     "output_type": "stream",
     "text": [
      "\r",
      " 25%|███████████                                 | 2/8 [00:00<00:02,  2.54it/s]"
     ]
    },
    {
     "name": "stdout",
     "output_type": "stream",
     "text": [
      "GBDT , Precision: 0.986486486486\n"
     ]
    },
    {
     "name": "stderr",
     "output_type": "stream",
     "text": [
      "\r",
      " 38%|████████████████▌                           | 3/8 [00:02<00:04,  1.15it/s]"
     ]
    },
    {
     "name": "stdout",
     "output_type": "stream",
     "text": [
      "LR , Precision: 0.960526315789\n"
     ]
    },
    {
     "name": "stderr",
     "output_type": "stream",
     "text": [
      "\r",
      " 50%|██████████████████████                      | 4/8 [00:02<00:02,  1.48it/s]"
     ]
    },
    {
     "name": "stdout",
     "output_type": "stream",
     "text": [
      "Ada , Precision: 0.958904109589\n"
     ]
    },
    {
     "name": "stderr",
     "output_type": "stream",
     "text": [
      "\r",
      " 62%|███████████████████████████▌                | 5/8 [00:04<00:02,  1.15it/s]"
     ]
    },
    {
     "name": "stdout",
     "output_type": "stream",
     "text": [
      "NB , Precision: 0.970588235294\n",
      "XGB , Precision: 0.986486486486\n"
     ]
    },
    {
     "name": "stderr",
     "output_type": "stream",
     "text": [
      "\r",
      " 88%|██████████████████████████████████████▌     | 7/8 [00:05<00:00,  1.35it/s]"
     ]
    },
    {
     "name": "stdout",
     "output_type": "stream",
     "text": [
      "SVM , Precision: 0.898305084746\n"
     ]
    },
    {
     "name": "stderr",
     "output_type": "stream",
     "text": [
      "100%|████████████████████████████████████████████| 8/8 [00:05<00:00,  1.29it/s]\n"
     ]
    },
    {
     "name": "stdout",
     "output_type": "stream",
     "text": [
      "11\n"
     ]
    },
    {
     "name": "stderr",
     "output_type": "stream",
     "text": [
      "100%|██████████████████████████████████████████| 21/21 [03:48<00:00, 10.99s/it]\n"
     ]
    },
    {
     "name": "stdout",
     "output_type": "stream",
     "text": [
      "Positive trainning sample size: 363 \n",
      "\n",
      "Random Under Sampling\n"
     ]
    },
    {
     "name": "stderr",
     "output_type": "stream",
     "text": [
      "100%|██████████████████████████████████████████| 22/22 [00:24<00:00,  1.09s/it]\n"
     ]
    },
    {
     "name": "stdout",
     "output_type": "stream",
     "text": [
      "Negative trainning sample size: 363 \n",
      "\n"
     ]
    },
    {
     "name": "stderr",
     "output_type": "stream",
     "text": [
      "\r",
      "  0%|                                                    | 0/8 [00:00<?, ?it/s]"
     ]
    },
    {
     "name": "stdout",
     "output_type": "stream",
     "text": [
      "KNN , Precision: 0.795454545455\n"
     ]
    },
    {
     "name": "stderr",
     "output_type": "stream",
     "text": [
      "\r",
      " 12%|█████▌                                      | 1/8 [00:00<00:03,  2.04it/s]"
     ]
    },
    {
     "name": "stdout",
     "output_type": "stream",
     "text": [
      "RF , Precision: 0.971830985915\n"
     ]
    },
    {
     "name": "stderr",
     "output_type": "stream",
     "text": [
      "\r",
      " 25%|███████████                                 | 2/8 [00:00<00:02,  2.45it/s]"
     ]
    },
    {
     "name": "stdout",
     "output_type": "stream",
     "text": [
      "GBDT , Precision: 0.96\n"
     ]
    },
    {
     "name": "stderr",
     "output_type": "stream",
     "text": [
      "\r",
      " 38%|████████████████▌                           | 3/8 [00:02<00:04,  1.14it/s]"
     ]
    },
    {
     "name": "stdout",
     "output_type": "stream",
     "text": [
      "LR , Precision: 0.948051948052\n"
     ]
    },
    {
     "name": "stderr",
     "output_type": "stream",
     "text": [
      "\r",
      " 50%|██████████████████████                      | 4/8 [00:02<00:02,  1.47it/s]"
     ]
    },
    {
     "name": "stdout",
     "output_type": "stream",
     "text": [
      "Ada , Precision: 0.946666666667\n"
     ]
    },
    {
     "name": "stderr",
     "output_type": "stream",
     "text": [
      "\r",
      " 62%|███████████████████████████▌                | 5/8 [00:04<00:02,  1.14it/s]"
     ]
    },
    {
     "name": "stdout",
     "output_type": "stream",
     "text": [
      "NB , Precision: 0.860759493671\n",
      "XGB , Precision: 0.948717948718\n"
     ]
    },
    {
     "name": "stderr",
     "output_type": "stream",
     "text": [
      "\r",
      " 88%|██████████████████████████████████████▌     | 7/8 [00:05<00:00,  1.31it/s]"
     ]
    },
    {
     "name": "stdout",
     "output_type": "stream",
     "text": [
      "SVM , Precision: 0.857142857143\n"
     ]
    },
    {
     "name": "stderr",
     "output_type": "stream",
     "text": [
      "100%|████████████████████████████████████████████| 8/8 [00:06<00:00,  1.26it/s]\n"
     ]
    },
    {
     "name": "stdout",
     "output_type": "stream",
     "text": [
      "12\n"
     ]
    },
    {
     "name": "stderr",
     "output_type": "stream",
     "text": [
      "100%|██████████████████████████████████████████| 21/21 [03:48<00:00, 11.00s/it]\n"
     ]
    },
    {
     "name": "stdout",
     "output_type": "stream",
     "text": [
      "Positive trainning sample size: 363 \n",
      "\n",
      "Random Under Sampling\n"
     ]
    },
    {
     "name": "stderr",
     "output_type": "stream",
     "text": [
      "100%|██████████████████████████████████████████| 22/22 [00:24<00:00,  1.10s/it]\n"
     ]
    },
    {
     "name": "stdout",
     "output_type": "stream",
     "text": [
      "Negative trainning sample size: 363 \n",
      "\n"
     ]
    },
    {
     "name": "stderr",
     "output_type": "stream",
     "text": [
      "\r",
      "  0%|                                                    | 0/8 [00:00<?, ?it/s]"
     ]
    },
    {
     "name": "stdout",
     "output_type": "stream",
     "text": [
      "KNN , Precision: 0.776470588235\n"
     ]
    },
    {
     "name": "stderr",
     "output_type": "stream",
     "text": [
      "\r",
      " 12%|█████▌                                      | 1/8 [00:00<00:03,  2.09it/s]"
     ]
    },
    {
     "name": "stdout",
     "output_type": "stream",
     "text": [
      "RF , Precision: 0.972222222222\n"
     ]
    },
    {
     "name": "stderr",
     "output_type": "stream",
     "text": [
      "\r",
      " 25%|███████████                                 | 2/8 [00:00<00:02,  2.47it/s]"
     ]
    },
    {
     "name": "stdout",
     "output_type": "stream",
     "text": [
      "GBDT , Precision: 0.948051948052\n"
     ]
    },
    {
     "name": "stderr",
     "output_type": "stream",
     "text": [
      "\r",
      " 38%|████████████████▌                           | 3/8 [00:02<00:04,  1.11it/s]"
     ]
    },
    {
     "name": "stdout",
     "output_type": "stream",
     "text": [
      "LR , Precision: 0.973333333333\n"
     ]
    },
    {
     "name": "stderr",
     "output_type": "stream",
     "text": [
      "\r",
      " 50%|██████████████████████                      | 4/8 [00:02<00:02,  1.43it/s]"
     ]
    },
    {
     "name": "stdout",
     "output_type": "stream",
     "text": [
      "Ada , Precision: 0.973333333333\n"
     ]
    },
    {
     "name": "stderr",
     "output_type": "stream",
     "text": [
      "\r",
      " 62%|███████████████████████████▌                | 5/8 [00:04<00:02,  1.12it/s]"
     ]
    },
    {
     "name": "stdout",
     "output_type": "stream",
     "text": [
      "NB , Precision: 0.884615384615\n",
      "XGB , Precision: 0.973684210526\n"
     ]
    },
    {
     "name": "stderr",
     "output_type": "stream",
     "text": [
      "\r",
      " 88%|██████████████████████████████████████▌     | 7/8 [00:05<00:00,  1.32it/s]"
     ]
    },
    {
     "name": "stdout",
     "output_type": "stream",
     "text": [
      "SVM , Precision: 0.805970149254\n"
     ]
    },
    {
     "name": "stderr",
     "output_type": "stream",
     "text": [
      "100%|████████████████████████████████████████████| 8/8 [00:06<00:00,  1.26it/s]\n"
     ]
    },
    {
     "name": "stdout",
     "output_type": "stream",
     "text": [
      "13\n"
     ]
    },
    {
     "name": "stderr",
     "output_type": "stream",
     "text": [
      "100%|██████████████████████████████████████████| 21/21 [03:48<00:00, 10.98s/it]\n"
     ]
    },
    {
     "name": "stdout",
     "output_type": "stream",
     "text": [
      "Positive trainning sample size: 363 \n",
      "\n",
      "Random Under Sampling\n"
     ]
    },
    {
     "name": "stderr",
     "output_type": "stream",
     "text": [
      "100%|██████████████████████████████████████████| 22/22 [00:24<00:00,  1.10s/it]\n"
     ]
    },
    {
     "name": "stdout",
     "output_type": "stream",
     "text": [
      "Negative trainning sample size: 363 \n",
      "\n"
     ]
    },
    {
     "name": "stderr",
     "output_type": "stream",
     "text": [
      "\r",
      "  0%|                                                    | 0/8 [00:00<?, ?it/s]"
     ]
    },
    {
     "name": "stdout",
     "output_type": "stream",
     "text": [
      "KNN , Precision: 0.88\n"
     ]
    },
    {
     "name": "stderr",
     "output_type": "stream",
     "text": [
      "\r",
      " 12%|█████▌                                      | 1/8 [00:00<00:03,  2.13it/s]"
     ]
    },
    {
     "name": "stdout",
     "output_type": "stream",
     "text": [
      "RF , Precision: 0.972972972973\n"
     ]
    },
    {
     "name": "stderr",
     "output_type": "stream",
     "text": [
      "\r",
      " 25%|███████████                                 | 2/8 [00:00<00:02,  2.54it/s]"
     ]
    },
    {
     "name": "stdout",
     "output_type": "stream",
     "text": [
      "GBDT , Precision: 0.949367088608\n"
     ]
    },
    {
     "name": "stderr",
     "output_type": "stream",
     "text": [
      "\r",
      " 38%|████████████████▌                           | 3/8 [00:02<00:04,  1.11it/s]"
     ]
    },
    {
     "name": "stdout",
     "output_type": "stream",
     "text": [
      "LR , Precision: 0.973333333333\n"
     ]
    },
    {
     "name": "stderr",
     "output_type": "stream",
     "text": [
      "\r",
      " 50%|██████████████████████                      | 4/8 [00:03<00:02,  1.37it/s]"
     ]
    },
    {
     "name": "stdout",
     "output_type": "stream",
     "text": [
      "Ada , Precision: 0.973333333333\n"
     ]
    },
    {
     "name": "stderr",
     "output_type": "stream",
     "text": [
      "\r",
      " 62%|███████████████████████████▌                | 5/8 [00:04<00:02,  1.10it/s]"
     ]
    },
    {
     "name": "stdout",
     "output_type": "stream",
     "text": [
      "NB , Precision: 0.957746478873\n",
      "XGB , Precision: 0.961538461538\n"
     ]
    },
    {
     "name": "stderr",
     "output_type": "stream",
     "text": [
      "\r",
      " 88%|██████████████████████████████████████▌     | 7/8 [00:05<00:00,  1.32it/s]"
     ]
    },
    {
     "name": "stdout",
     "output_type": "stream",
     "text": [
      "SVM , Precision: 0.915254237288\n"
     ]
    },
    {
     "name": "stderr",
     "output_type": "stream",
     "text": [
      "100%|████████████████████████████████████████████| 8/8 [00:06<00:00,  1.28it/s]\n"
     ]
    },
    {
     "name": "stdout",
     "output_type": "stream",
     "text": [
      "14\n"
     ]
    },
    {
     "name": "stderr",
     "output_type": "stream",
     "text": [
      "100%|██████████████████████████████████████████| 21/21 [03:47<00:00, 10.99s/it]\n"
     ]
    },
    {
     "name": "stdout",
     "output_type": "stream",
     "text": [
      "Positive trainning sample size: 363 \n",
      "\n",
      "Random Under Sampling\n"
     ]
    },
    {
     "name": "stderr",
     "output_type": "stream",
     "text": [
      "100%|██████████████████████████████████████████| 22/22 [00:27<00:00,  1.14s/it]\n"
     ]
    },
    {
     "name": "stdout",
     "output_type": "stream",
     "text": [
      "Negative trainning sample size: 363 \n",
      "\n"
     ]
    },
    {
     "name": "stderr",
     "output_type": "stream",
     "text": [
      "\r",
      "  0%|                                                    | 0/8 [00:00<?, ?it/s]"
     ]
    },
    {
     "name": "stdout",
     "output_type": "stream",
     "text": [
      "KNN , Precision: 0.814814814815\n"
     ]
    },
    {
     "name": "stderr",
     "output_type": "stream",
     "text": [
      "\r",
      " 12%|█████▌                                      | 1/8 [00:00<00:03,  2.13it/s]"
     ]
    },
    {
     "name": "stdout",
     "output_type": "stream",
     "text": [
      "RF , Precision: 0.943661971831\n"
     ]
    },
    {
     "name": "stderr",
     "output_type": "stream",
     "text": [
      "\r",
      " 25%|███████████                                 | 2/8 [00:00<00:02,  2.51it/s]"
     ]
    },
    {
     "name": "stdout",
     "output_type": "stream",
     "text": [
      "GBDT , Precision: 1.0\n"
     ]
    },
    {
     "name": "stderr",
     "output_type": "stream",
     "text": [
      "\r",
      " 38%|████████████████▌                           | 3/8 [00:02<00:04,  1.16it/s]"
     ]
    },
    {
     "name": "stdout",
     "output_type": "stream",
     "text": [
      "LR , Precision: 0.960526315789\n"
     ]
    },
    {
     "name": "stderr",
     "output_type": "stream",
     "text": [
      "\r",
      " 50%|██████████████████████                      | 4/8 [00:02<00:02,  1.47it/s]"
     ]
    },
    {
     "name": "stdout",
     "output_type": "stream",
     "text": [
      "Ada , Precision: 0.986301369863\n"
     ]
    },
    {
     "name": "stderr",
     "output_type": "stream",
     "text": [
      "\r",
      " 62%|███████████████████████████▌                | 5/8 [00:04<00:02,  1.14it/s]"
     ]
    },
    {
     "name": "stdout",
     "output_type": "stream",
     "text": [
      "NB , Precision: 0.933333333333\n",
      "XGB , Precision: 0.973333333333\n"
     ]
    },
    {
     "name": "stderr",
     "output_type": "stream",
     "text": [
      "\r",
      " 88%|██████████████████████████████████████▌     | 7/8 [00:05<00:00,  1.34it/s]"
     ]
    },
    {
     "name": "stdout",
     "output_type": "stream",
     "text": [
      "SVM , Precision: 0.873015873016\n"
     ]
    },
    {
     "name": "stderr",
     "output_type": "stream",
     "text": [
      "100%|████████████████████████████████████████████| 8/8 [00:05<00:00,  1.28it/s]\n"
     ]
    },
    {
     "name": "stdout",
     "output_type": "stream",
     "text": [
      "風衣 50008901\n",
      "0\n"
     ]
    },
    {
     "name": "stderr",
     "output_type": "stream",
     "text": [
      "100%|██████████████████████████████████████████| 20/20 [03:42<00:00, 11.17s/it]\n"
     ]
    },
    {
     "name": "stdout",
     "output_type": "stream",
     "text": [
      "Positive trainning sample size: 587 \n",
      "\n",
      "Random Under Sampling\n"
     ]
    },
    {
     "name": "stderr",
     "output_type": "stream",
     "text": [
      "100%|██████████████████████████████████████████| 20/20 [00:35<00:00,  1.77s/it]\n"
     ]
    },
    {
     "name": "stdout",
     "output_type": "stream",
     "text": [
      "Negative trainning sample size: 587 \n",
      "\n"
     ]
    },
    {
     "name": "stderr",
     "output_type": "stream",
     "text": [
      "\r",
      "  0%|                                                    | 0/8 [00:00<?, ?it/s]"
     ]
    },
    {
     "name": "stdout",
     "output_type": "stream",
     "text": [
      "KNN , Precision: 0.688888888889\n"
     ]
    },
    {
     "name": "stderr",
     "output_type": "stream",
     "text": [
      "\r",
      " 12%|█████▌                                      | 1/8 [00:01<00:07,  1.07s/it]"
     ]
    },
    {
     "name": "stdout",
     "output_type": "stream",
     "text": [
      "RF , Precision: 0.754237288136\n"
     ]
    },
    {
     "name": "stderr",
     "output_type": "stream",
     "text": [
      "\r",
      " 25%|███████████                                 | 2/8 [00:01<00:05,  1.19it/s]"
     ]
    },
    {
     "name": "stdout",
     "output_type": "stream",
     "text": [
      "GBDT , Precision: 0.785714285714\n"
     ]
    },
    {
     "name": "stderr",
     "output_type": "stream",
     "text": [
      "\r",
      " 38%|████████████████▌                           | 3/8 [00:04<00:08,  1.64s/it]"
     ]
    },
    {
     "name": "stdout",
     "output_type": "stream",
     "text": [
      "LR , Precision: 0.8\n"
     ]
    },
    {
     "name": "stderr",
     "output_type": "stream",
     "text": [
      "\r",
      " 50%|██████████████████████                      | 4/8 [00:05<00:05,  1.31s/it]"
     ]
    },
    {
     "name": "stdout",
     "output_type": "stream",
     "text": [
      "Ada , Precision: 0.813008130081\n"
     ]
    },
    {
     "name": "stderr",
     "output_type": "stream",
     "text": [
      "\r",
      " 62%|███████████████████████████▌                | 5/8 [00:07<00:04,  1.48s/it]"
     ]
    },
    {
     "name": "stdout",
     "output_type": "stream",
     "text": [
      "NB , Precision: 0.592783505155\n",
      "XGB , Precision: 0.822580645161\n"
     ]
    },
    {
     "name": "stderr",
     "output_type": "stream",
     "text": [
      "\r",
      " 88%|██████████████████████████████████████▌     | 7/8 [00:08<00:01,  1.21s/it]"
     ]
    },
    {
     "name": "stdout",
     "output_type": "stream",
     "text": [
      "SVM , Precision: 0.787878787879\n"
     ]
    },
    {
     "name": "stderr",
     "output_type": "stream",
     "text": [
      "100%|████████████████████████████████████████████| 8/8 [00:10<00:00,  1.53s/it]\n"
     ]
    },
    {
     "name": "stdout",
     "output_type": "stream",
     "text": [
      "1\n"
     ]
    },
    {
     "name": "stderr",
     "output_type": "stream",
     "text": [
      "100%|██████████████████████████████████████████| 20/20 [03:43<00:00, 11.21s/it]\n"
     ]
    },
    {
     "name": "stdout",
     "output_type": "stream",
     "text": [
      "Positive trainning sample size: 587 \n",
      "\n",
      "Random Under Sampling\n"
     ]
    },
    {
     "name": "stderr",
     "output_type": "stream",
     "text": [
      "100%|██████████████████████████████████████████| 20/20 [00:35<00:00,  1.76s/it]\n"
     ]
    },
    {
     "name": "stdout",
     "output_type": "stream",
     "text": [
      "Negative trainning sample size: 587 \n",
      "\n"
     ]
    },
    {
     "name": "stderr",
     "output_type": "stream",
     "text": [
      "\r",
      "  0%|                                                    | 0/8 [00:00<?, ?it/s]"
     ]
    },
    {
     "name": "stdout",
     "output_type": "stream",
     "text": [
      "KNN , Precision: 0.655844155844\n"
     ]
    },
    {
     "name": "stderr",
     "output_type": "stream",
     "text": [
      "\r",
      " 12%|█████▌                                      | 1/8 [00:01<00:07,  1.07s/it]"
     ]
    },
    {
     "name": "stdout",
     "output_type": "stream",
     "text": [
      "RF , Precision: 0.801801801802\n"
     ]
    },
    {
     "name": "stderr",
     "output_type": "stream",
     "text": [
      "\r",
      " 25%|███████████                                 | 2/8 [00:01<00:05,  1.19it/s]"
     ]
    },
    {
     "name": "stdout",
     "output_type": "stream",
     "text": [
      "GBDT , Precision: 0.795275590551\n"
     ]
    },
    {
     "name": "stderr",
     "output_type": "stream",
     "text": [
      "\r",
      " 38%|████████████████▌                           | 3/8 [00:04<00:08,  1.61s/it]"
     ]
    },
    {
     "name": "stdout",
     "output_type": "stream",
     "text": [
      "LR , Precision: 0.782945736434\n"
     ]
    },
    {
     "name": "stderr",
     "output_type": "stream",
     "text": [
      "\r",
      " 50%|██████████████████████                      | 4/8 [00:05<00:05,  1.34s/it]"
     ]
    },
    {
     "name": "stdout",
     "output_type": "stream",
     "text": [
      "Ada , Precision: 0.820512820513\n"
     ]
    },
    {
     "name": "stderr",
     "output_type": "stream",
     "text": [
      "\r",
      " 62%|███████████████████████████▌                | 5/8 [00:07<00:04,  1.49s/it]"
     ]
    },
    {
     "name": "stdout",
     "output_type": "stream",
     "text": [
      "NB , Precision: 0.575\n",
      "XGB , Precision: 0.806451612903\n"
     ]
    },
    {
     "name": "stderr",
     "output_type": "stream",
     "text": [
      "\r",
      " 88%|██████████████████████████████████████▌     | 7/8 [00:08<00:01,  1.21s/it]"
     ]
    },
    {
     "name": "stdout",
     "output_type": "stream",
     "text": [
      "SVM , Precision: 0.739130434783\n"
     ]
    },
    {
     "name": "stderr",
     "output_type": "stream",
     "text": [
      "100%|████████████████████████████████████████████| 8/8 [00:10<00:00,  1.52s/it]\n"
     ]
    },
    {
     "name": "stdout",
     "output_type": "stream",
     "text": [
      "2\n"
     ]
    },
    {
     "name": "stderr",
     "output_type": "stream",
     "text": [
      "100%|██████████████████████████████████████████| 20/20 [03:45<00:00, 11.20s/it]\n"
     ]
    },
    {
     "name": "stdout",
     "output_type": "stream",
     "text": [
      "Positive trainning sample size: 587 \n",
      "\n",
      "Random Under Sampling\n"
     ]
    },
    {
     "name": "stderr",
     "output_type": "stream",
     "text": [
      "100%|██████████████████████████████████████████| 20/20 [00:35<00:00,  1.76s/it]\n"
     ]
    },
    {
     "name": "stdout",
     "output_type": "stream",
     "text": [
      "Negative trainning sample size: 587 \n",
      "\n"
     ]
    },
    {
     "name": "stderr",
     "output_type": "stream",
     "text": [
      "\r",
      "  0%|                                                    | 0/8 [00:00<?, ?it/s]"
     ]
    },
    {
     "name": "stdout",
     "output_type": "stream",
     "text": [
      "KNN , Precision: 0.662162162162\n"
     ]
    },
    {
     "name": "stderr",
     "output_type": "stream",
     "text": [
      "\r",
      " 12%|█████▌                                      | 1/8 [00:01<00:07,  1.06s/it]"
     ]
    },
    {
     "name": "stdout",
     "output_type": "stream",
     "text": [
      "RF , Precision: 0.763157894737\n"
     ]
    },
    {
     "name": "stderr",
     "output_type": "stream",
     "text": [
      "\r",
      " 25%|███████████                                 | 2/8 [00:01<00:04,  1.21it/s]"
     ]
    },
    {
     "name": "stdout",
     "output_type": "stream",
     "text": [
      "GBDT , Precision: 0.83606557377\n"
     ]
    },
    {
     "name": "stderr",
     "output_type": "stream",
     "text": [
      "\r",
      " 38%|████████████████▌                           | 3/8 [00:04<00:08,  1.66s/it]"
     ]
    },
    {
     "name": "stdout",
     "output_type": "stream",
     "text": [
      "LR , Precision: 0.813008130081\n"
     ]
    },
    {
     "name": "stderr",
     "output_type": "stream",
     "text": [
      "\r",
      " 50%|██████████████████████                      | 4/8 [00:05<00:05,  1.36s/it]"
     ]
    },
    {
     "name": "stdout",
     "output_type": "stream",
     "text": [
      "Ada , Precision: 0.830508474576\n"
     ]
    },
    {
     "name": "stderr",
     "output_type": "stream",
     "text": [
      "\r",
      " 62%|███████████████████████████▌                | 5/8 [00:07<00:04,  1.51s/it]"
     ]
    },
    {
     "name": "stdout",
     "output_type": "stream",
     "text": [
      "NB , Precision: 0.552884615385\n",
      "XGB , Precision: 0.826446280992\n"
     ]
    },
    {
     "name": "stderr",
     "output_type": "stream",
     "text": [
      "\r",
      " 88%|██████████████████████████████████████▌     | 7/8 [00:08<00:01,  1.23s/it]"
     ]
    },
    {
     "name": "stdout",
     "output_type": "stream",
     "text": [
      "SVM , Precision: 0.675324675325\n"
     ]
    },
    {
     "name": "stderr",
     "output_type": "stream",
     "text": [
      "100%|████████████████████████████████████████████| 8/8 [00:10<00:00,  1.54s/it]\n"
     ]
    },
    {
     "name": "stdout",
     "output_type": "stream",
     "text": [
      "3\n"
     ]
    },
    {
     "name": "stderr",
     "output_type": "stream",
     "text": [
      "100%|██████████████████████████████████████████| 20/20 [03:40<00:00, 11.09s/it]\n"
     ]
    },
    {
     "name": "stdout",
     "output_type": "stream",
     "text": [
      "Positive trainning sample size: 587 \n",
      "\n",
      "Random Under Sampling\n"
     ]
    },
    {
     "name": "stderr",
     "output_type": "stream",
     "text": [
      "100%|██████████████████████████████████████████| 20/20 [00:36<00:00,  1.80s/it]\n"
     ]
    },
    {
     "name": "stdout",
     "output_type": "stream",
     "text": [
      "Negative trainning sample size: 587 \n",
      "\n"
     ]
    },
    {
     "name": "stderr",
     "output_type": "stream",
     "text": [
      "\r",
      "  0%|                                                    | 0/8 [00:00<?, ?it/s]"
     ]
    },
    {
     "name": "stdout",
     "output_type": "stream",
     "text": [
      "KNN , Precision: 0.68085106383\n"
     ]
    },
    {
     "name": "stderr",
     "output_type": "stream",
     "text": [
      "\r",
      " 12%|█████▌                                      | 1/8 [00:01<00:07,  1.02s/it]"
     ]
    },
    {
     "name": "stdout",
     "output_type": "stream",
     "text": [
      "RF , Precision: 0.844036697248\n"
     ]
    },
    {
     "name": "stderr",
     "output_type": "stream",
     "text": [
      "\r",
      " 25%|███████████                                 | 2/8 [00:01<00:04,  1.24it/s]"
     ]
    },
    {
     "name": "stdout",
     "output_type": "stream",
     "text": [
      "GBDT , Precision: 0.827868852459\n"
     ]
    },
    {
     "name": "stderr",
     "output_type": "stream",
     "text": [
      "\r",
      " 38%|████████████████▌                           | 3/8 [00:04<00:07,  1.57s/it]"
     ]
    },
    {
     "name": "stdout",
     "output_type": "stream",
     "text": [
      "LR , Precision: 0.841666666667\n"
     ]
    },
    {
     "name": "stderr",
     "output_type": "stream",
     "text": [
      "\r",
      " 50%|██████████████████████                      | 4/8 [00:05<00:05,  1.31s/it]"
     ]
    },
    {
     "name": "stdout",
     "output_type": "stream",
     "text": [
      "Ada , Precision: 0.837606837607\n"
     ]
    },
    {
     "name": "stderr",
     "output_type": "stream",
     "text": [
      "\r",
      " 62%|███████████████████████████▌                | 5/8 [00:07<00:04,  1.47s/it]"
     ]
    },
    {
     "name": "stdout",
     "output_type": "stream",
     "text": [
      "NB , Precision: 0.605405405405\n",
      "XGB , Precision: 0.828125\n"
     ]
    },
    {
     "name": "stderr",
     "output_type": "stream",
     "text": [
      "\r",
      " 88%|██████████████████████████████████████▌     | 7/8 [00:08<00:01,  1.20s/it]"
     ]
    },
    {
     "name": "stdout",
     "output_type": "stream",
     "text": [
      "SVM , Precision: 0.764705882353\n"
     ]
    },
    {
     "name": "stderr",
     "output_type": "stream",
     "text": [
      "100%|████████████████████████████████████████████| 8/8 [00:10<00:00,  1.50s/it]\n"
     ]
    },
    {
     "name": "stdout",
     "output_type": "stream",
     "text": [
      "4\n"
     ]
    },
    {
     "name": "stderr",
     "output_type": "stream",
     "text": [
      "100%|██████████████████████████████████████████| 20/20 [03:44<00:00, 11.35s/it]\n"
     ]
    },
    {
     "name": "stdout",
     "output_type": "stream",
     "text": [
      "Positive trainning sample size: 587 \n",
      "\n",
      "Random Under Sampling\n"
     ]
    },
    {
     "name": "stderr",
     "output_type": "stream",
     "text": [
      "100%|██████████████████████████████████████████| 20/20 [00:35<00:00,  1.78s/it]\n"
     ]
    },
    {
     "name": "stdout",
     "output_type": "stream",
     "text": [
      "Negative trainning sample size: 587 \n",
      "\n"
     ]
    },
    {
     "name": "stderr",
     "output_type": "stream",
     "text": [
      "\r",
      "  0%|                                                    | 0/8 [00:00<?, ?it/s]"
     ]
    },
    {
     "name": "stdout",
     "output_type": "stream",
     "text": [
      "KNN , Precision: 0.705882352941\n"
     ]
    },
    {
     "name": "stderr",
     "output_type": "stream",
     "text": [
      "\r",
      " 12%|█████▌                                      | 1/8 [00:01<00:07,  1.06s/it]"
     ]
    },
    {
     "name": "stdout",
     "output_type": "stream",
     "text": [
      "RF , Precision: 0.801801801802\n"
     ]
    },
    {
     "name": "stderr",
     "output_type": "stream",
     "text": [
      "\r",
      " 25%|███████████                                 | 2/8 [00:01<00:04,  1.21it/s]"
     ]
    },
    {
     "name": "stdout",
     "output_type": "stream",
     "text": [
      "GBDT , Precision: 0.813008130081\n"
     ]
    },
    {
     "name": "stderr",
     "output_type": "stream",
     "text": [
      "\r",
      " 38%|████████████████▌                           | 3/8 [00:04<00:08,  1.66s/it]"
     ]
    },
    {
     "name": "stdout",
     "output_type": "stream",
     "text": [
      "LR , Precision: 0.7890625\n"
     ]
    },
    {
     "name": "stderr",
     "output_type": "stream",
     "text": [
      "\r",
      " 50%|██████████████████████                      | 4/8 [00:05<00:05,  1.33s/it]"
     ]
    },
    {
     "name": "stdout",
     "output_type": "stream",
     "text": [
      "Ada , Precision: 0.81512605042\n"
     ]
    },
    {
     "name": "stderr",
     "output_type": "stream",
     "text": [
      "\r",
      " 62%|███████████████████████████▌                | 5/8 [00:07<00:04,  1.48s/it]"
     ]
    },
    {
     "name": "stdout",
     "output_type": "stream",
     "text": [
      "NB , Precision: 0.583756345178\n",
      "XGB , Precision: 0.822580645161\n"
     ]
    },
    {
     "name": "stderr",
     "output_type": "stream",
     "text": [
      "\r",
      " 88%|██████████████████████████████████████▌     | 7/8 [00:08<00:01,  1.21s/it]"
     ]
    },
    {
     "name": "stdout",
     "output_type": "stream",
     "text": [
      "SVM , Precision: 0.822580645161\n"
     ]
    },
    {
     "name": "stderr",
     "output_type": "stream",
     "text": [
      "100%|████████████████████████████████████████████| 8/8 [00:10<00:00,  1.53s/it]\n"
     ]
    },
    {
     "name": "stdout",
     "output_type": "stream",
     "text": [
      "5\n"
     ]
    },
    {
     "name": "stderr",
     "output_type": "stream",
     "text": [
      "100%|██████████████████████████████████████████| 20/20 [03:41<00:00, 11.13s/it]\n"
     ]
    },
    {
     "name": "stdout",
     "output_type": "stream",
     "text": [
      "Positive trainning sample size: 587 \n",
      "\n",
      "Random Under Sampling\n"
     ]
    },
    {
     "name": "stderr",
     "output_type": "stream",
     "text": [
      "100%|██████████████████████████████████████████| 20/20 [00:35<00:00,  1.76s/it]\n"
     ]
    },
    {
     "name": "stdout",
     "output_type": "stream",
     "text": [
      "Negative trainning sample size: 587 \n",
      "\n"
     ]
    },
    {
     "name": "stderr",
     "output_type": "stream",
     "text": [
      "\r",
      "  0%|                                                    | 0/8 [00:00<?, ?it/s]"
     ]
    },
    {
     "name": "stdout",
     "output_type": "stream",
     "text": [
      "KNN , Precision: 0.657534246575\n"
     ]
    },
    {
     "name": "stderr",
     "output_type": "stream",
     "text": [
      "\r",
      " 12%|█████▌                                      | 1/8 [00:01<00:07,  1.05s/it]"
     ]
    },
    {
     "name": "stdout",
     "output_type": "stream",
     "text": [
      "RF , Precision: 0.798165137615\n"
     ]
    },
    {
     "name": "stderr",
     "output_type": "stream",
     "text": [
      "\r",
      " 25%|███████████                                 | 2/8 [00:01<00:04,  1.22it/s]"
     ]
    },
    {
     "name": "stdout",
     "output_type": "stream",
     "text": [
      "GBDT , Precision: 0.813008130081\n"
     ]
    },
    {
     "name": "stderr",
     "output_type": "stream",
     "text": [
      "\r",
      " 38%|████████████████▌                           | 3/8 [00:04<00:08,  1.64s/it]"
     ]
    },
    {
     "name": "stdout",
     "output_type": "stream",
     "text": [
      "LR , Precision: 0.795081967213\n"
     ]
    },
    {
     "name": "stderr",
     "output_type": "stream",
     "text": [
      "\r",
      " 50%|██████████████████████                      | 4/8 [00:05<00:05,  1.31s/it]"
     ]
    },
    {
     "name": "stdout",
     "output_type": "stream",
     "text": [
      "Ada , Precision: 0.780487804878\n"
     ]
    },
    {
     "name": "stderr",
     "output_type": "stream",
     "text": [
      "\r",
      " 62%|███████████████████████████▌                | 5/8 [00:07<00:04,  1.47s/it]"
     ]
    },
    {
     "name": "stdout",
     "output_type": "stream",
     "text": [
      "NB , Precision: 0.563725490196\n",
      "XGB , Precision: 0.824\n"
     ]
    },
    {
     "name": "stderr",
     "output_type": "stream",
     "text": [
      "\r",
      " 88%|██████████████████████████████████████▌     | 7/8 [00:08<00:01,  1.20s/it]"
     ]
    },
    {
     "name": "stdout",
     "output_type": "stream",
     "text": [
      "SVM , Precision: 0.75\n"
     ]
    },
    {
     "name": "stderr",
     "output_type": "stream",
     "text": [
      "100%|████████████████████████████████████████████| 8/8 [00:10<00:00,  1.52s/it]\n"
     ]
    },
    {
     "name": "stdout",
     "output_type": "stream",
     "text": [
      "6\n"
     ]
    },
    {
     "name": "stderr",
     "output_type": "stream",
     "text": [
      "100%|██████████████████████████████████████████| 20/20 [03:41<00:00, 11.15s/it]\n"
     ]
    },
    {
     "name": "stdout",
     "output_type": "stream",
     "text": [
      "Positive trainning sample size: 587 \n",
      "\n",
      "Random Under Sampling\n"
     ]
    },
    {
     "name": "stderr",
     "output_type": "stream",
     "text": [
      "100%|██████████████████████████████████████████| 20/20 [00:35<00:00,  1.78s/it]\n"
     ]
    },
    {
     "name": "stdout",
     "output_type": "stream",
     "text": [
      "Negative trainning sample size: 587 \n",
      "\n"
     ]
    },
    {
     "name": "stderr",
     "output_type": "stream",
     "text": [
      "\r",
      "  0%|                                                    | 0/8 [00:00<?, ?it/s]"
     ]
    },
    {
     "name": "stdout",
     "output_type": "stream",
     "text": [
      "KNN , Precision: 0.735294117647\n"
     ]
    },
    {
     "name": "stderr",
     "output_type": "stream",
     "text": [
      "\r",
      " 12%|█████▌                                      | 1/8 [00:01<00:07,  1.05s/it]"
     ]
    },
    {
     "name": "stdout",
     "output_type": "stream",
     "text": [
      "RF , Precision: 0.848484848485\n"
     ]
    },
    {
     "name": "stderr",
     "output_type": "stream",
     "text": [
      "\r",
      " 25%|███████████                                 | 2/8 [00:01<00:04,  1.21it/s]"
     ]
    },
    {
     "name": "stdout",
     "output_type": "stream",
     "text": [
      "GBDT , Precision: 0.840336134454\n"
     ]
    },
    {
     "name": "stderr",
     "output_type": "stream",
     "text": [
      "\r",
      " 38%|████████████████▌                           | 3/8 [00:04<00:08,  1.60s/it]"
     ]
    },
    {
     "name": "stdout",
     "output_type": "stream",
     "text": [
      "LR , Precision: 0.857142857143\n"
     ]
    },
    {
     "name": "stderr",
     "output_type": "stream",
     "text": [
      "\r",
      " 50%|██████████████████████                      | 4/8 [00:05<00:05,  1.30s/it]"
     ]
    },
    {
     "name": "stdout",
     "output_type": "stream",
     "text": [
      "Ada , Precision: 0.866071428571\n"
     ]
    },
    {
     "name": "stderr",
     "output_type": "stream",
     "text": [
      "\r",
      " 62%|███████████████████████████▌                | 5/8 [00:07<00:04,  1.46s/it]"
     ]
    },
    {
     "name": "stdout",
     "output_type": "stream",
     "text": [
      "NB , Precision: 0.563725490196\n",
      "XGB , Precision: 0.83064516129\n"
     ]
    },
    {
     "name": "stderr",
     "output_type": "stream",
     "text": [
      "\r",
      " 88%|██████████████████████████████████████▌     | 7/8 [00:08<00:01,  1.20s/it]"
     ]
    },
    {
     "name": "stdout",
     "output_type": "stream",
     "text": [
      "SVM , Precision: 0.805970149254\n"
     ]
    },
    {
     "name": "stderr",
     "output_type": "stream",
     "text": [
      "100%|████████████████████████████████████████████| 8/8 [00:10<00:00,  1.52s/it]\n"
     ]
    },
    {
     "name": "stdout",
     "output_type": "stream",
     "text": [
      "7\n"
     ]
    },
    {
     "name": "stderr",
     "output_type": "stream",
     "text": [
      "100%|██████████████████████████████████████████| 20/20 [03:41<00:00, 11.16s/it]\n"
     ]
    },
    {
     "name": "stdout",
     "output_type": "stream",
     "text": [
      "Positive trainning sample size: 587 \n",
      "\n",
      "Random Under Sampling\n"
     ]
    },
    {
     "name": "stderr",
     "output_type": "stream",
     "text": [
      "100%|██████████████████████████████████████████| 20/20 [00:35<00:00,  1.76s/it]\n"
     ]
    },
    {
     "name": "stdout",
     "output_type": "stream",
     "text": [
      "Negative trainning sample size: 587 \n",
      "\n"
     ]
    },
    {
     "name": "stderr",
     "output_type": "stream",
     "text": [
      "\r",
      "  0%|                                                    | 0/8 [00:00<?, ?it/s]"
     ]
    },
    {
     "name": "stdout",
     "output_type": "stream",
     "text": [
      "KNN , Precision: 0.705035971223\n"
     ]
    },
    {
     "name": "stderr",
     "output_type": "stream",
     "text": [
      "\r",
      " 12%|█████▌                                      | 1/8 [00:01<00:07,  1.02s/it]"
     ]
    },
    {
     "name": "stdout",
     "output_type": "stream",
     "text": [
      "RF , Precision: 0.798245614035\n"
     ]
    },
    {
     "name": "stderr",
     "output_type": "stream",
     "text": [
      "\r",
      " 25%|███████████                                 | 2/8 [00:01<00:04,  1.25it/s]"
     ]
    },
    {
     "name": "stdout",
     "output_type": "stream",
     "text": [
      "GBDT , Precision: 0.795275590551\n"
     ]
    },
    {
     "name": "stderr",
     "output_type": "stream",
     "text": [
      "\r",
      " 38%|████████████████▌                           | 3/8 [00:04<00:08,  1.62s/it]"
     ]
    },
    {
     "name": "stdout",
     "output_type": "stream",
     "text": [
      "LR , Precision: 0.8\n"
     ]
    },
    {
     "name": "stderr",
     "output_type": "stream",
     "text": [
      "\r",
      " 50%|██████████████████████                      | 4/8 [00:05<00:05,  1.29s/it]"
     ]
    },
    {
     "name": "stdout",
     "output_type": "stream",
     "text": [
      "Ada , Precision: 0.834645669291\n"
     ]
    },
    {
     "name": "stderr",
     "output_type": "stream",
     "text": [
      "\r",
      " 62%|███████████████████████████▌                | 5/8 [00:07<00:04,  1.46s/it]"
     ]
    },
    {
     "name": "stdout",
     "output_type": "stream",
     "text": [
      "NB , Precision: 0.586734693878\n",
      "XGB , Precision: 0.814516129032\n"
     ]
    },
    {
     "name": "stderr",
     "output_type": "stream",
     "text": [
      "\r",
      " 88%|██████████████████████████████████████▌     | 7/8 [00:08<00:01,  1.19s/it]"
     ]
    },
    {
     "name": "stdout",
     "output_type": "stream",
     "text": [
      "SVM , Precision: 0.794117647059\n"
     ]
    },
    {
     "name": "stderr",
     "output_type": "stream",
     "text": [
      "100%|████████████████████████████████████████████| 8/8 [00:10<00:00,  1.49s/it]\n"
     ]
    },
    {
     "name": "stdout",
     "output_type": "stream",
     "text": [
      "8\n"
     ]
    },
    {
     "name": "stderr",
     "output_type": "stream",
     "text": [
      "100%|██████████████████████████████████████████| 20/20 [03:41<00:00, 11.15s/it]\n"
     ]
    },
    {
     "name": "stdout",
     "output_type": "stream",
     "text": [
      "Positive trainning sample size: 587 \n",
      "\n",
      "Random Under Sampling\n"
     ]
    },
    {
     "name": "stderr",
     "output_type": "stream",
     "text": [
      "100%|██████████████████████████████████████████| 20/20 [00:35<00:00,  1.77s/it]\n"
     ]
    },
    {
     "name": "stdout",
     "output_type": "stream",
     "text": [
      "Negative trainning sample size: 587 \n",
      "\n"
     ]
    },
    {
     "name": "stderr",
     "output_type": "stream",
     "text": [
      "\r",
      "  0%|                                                    | 0/8 [00:00<?, ?it/s]"
     ]
    },
    {
     "name": "stdout",
     "output_type": "stream",
     "text": [
      "KNN , Precision: 0.694444444444\n"
     ]
    },
    {
     "name": "stderr",
     "output_type": "stream",
     "text": [
      "\r",
      " 12%|█████▌                                      | 1/8 [00:01<00:07,  1.02s/it]"
     ]
    },
    {
     "name": "stdout",
     "output_type": "stream",
     "text": [
      "RF , Precision: 0.816513761468\n"
     ]
    },
    {
     "name": "stderr",
     "output_type": "stream",
     "text": [
      "\r",
      " 25%|███████████                                 | 2/8 [00:01<00:04,  1.24it/s]"
     ]
    },
    {
     "name": "stdout",
     "output_type": "stream",
     "text": [
      "GBDT , Precision: 0.841666666667\n"
     ]
    },
    {
     "name": "stderr",
     "output_type": "stream",
     "text": [
      "\r",
      " 38%|████████████████▌                           | 3/8 [00:04<00:08,  1.60s/it]"
     ]
    },
    {
     "name": "stdout",
     "output_type": "stream",
     "text": [
      "LR , Precision: 0.823529411765\n"
     ]
    },
    {
     "name": "stderr",
     "output_type": "stream",
     "text": [
      "\r",
      " 50%|██████████████████████                      | 4/8 [00:05<00:05,  1.27s/it]"
     ]
    },
    {
     "name": "stdout",
     "output_type": "stream",
     "text": [
      "Ada , Precision: 0.818181818182\n"
     ]
    },
    {
     "name": "stderr",
     "output_type": "stream",
     "text": [
      "\r",
      " 62%|███████████████████████████▌                | 5/8 [00:07<00:04,  1.43s/it]"
     ]
    },
    {
     "name": "stdout",
     "output_type": "stream",
     "text": [
      "NB , Precision: 0.580808080808\n",
      "XGB , Precision: 0.863247863248\n"
     ]
    },
    {
     "name": "stderr",
     "output_type": "stream",
     "text": [
      "\r",
      " 88%|██████████████████████████████████████▌     | 7/8 [00:08<00:01,  1.17s/it]"
     ]
    },
    {
     "name": "stdout",
     "output_type": "stream",
     "text": [
      "SVM , Precision: 0.772727272727\n"
     ]
    },
    {
     "name": "stderr",
     "output_type": "stream",
     "text": [
      "100%|████████████████████████████████████████████| 8/8 [00:10<00:00,  1.47s/it]\n"
     ]
    },
    {
     "name": "stdout",
     "output_type": "stream",
     "text": [
      "9\n"
     ]
    },
    {
     "name": "stderr",
     "output_type": "stream",
     "text": [
      "100%|██████████████████████████████████████████| 20/20 [03:41<00:00, 11.14s/it]\n"
     ]
    },
    {
     "name": "stdout",
     "output_type": "stream",
     "text": [
      "Positive trainning sample size: 587 \n",
      "\n",
      "Random Under Sampling\n"
     ]
    },
    {
     "name": "stderr",
     "output_type": "stream",
     "text": [
      "100%|██████████████████████████████████████████| 20/20 [00:35<00:00,  1.76s/it]\n"
     ]
    },
    {
     "name": "stdout",
     "output_type": "stream",
     "text": [
      "Negative trainning sample size: 587 \n",
      "\n"
     ]
    },
    {
     "name": "stderr",
     "output_type": "stream",
     "text": [
      "\r",
      "  0%|                                                    | 0/8 [00:00<?, ?it/s]"
     ]
    },
    {
     "name": "stdout",
     "output_type": "stream",
     "text": [
      "KNN , Precision: 0.635135135135\n"
     ]
    },
    {
     "name": "stderr",
     "output_type": "stream",
     "text": [
      "\r",
      " 12%|█████▌                                      | 1/8 [00:01<00:07,  1.05s/it]"
     ]
    },
    {
     "name": "stdout",
     "output_type": "stream",
     "text": [
      "RF , Precision: 0.782608695652\n"
     ]
    },
    {
     "name": "stderr",
     "output_type": "stream",
     "text": [
      "\r",
      " 25%|███████████                                 | 2/8 [00:01<00:04,  1.21it/s]"
     ]
    },
    {
     "name": "stdout",
     "output_type": "stream",
     "text": [
      "GBDT , Precision: 0.811023622047\n"
     ]
    },
    {
     "name": "stderr",
     "output_type": "stream",
     "text": [
      "\r",
      " 38%|████████████████▌                           | 3/8 [00:04<00:08,  1.61s/it]"
     ]
    },
    {
     "name": "stdout",
     "output_type": "stream",
     "text": [
      "LR , Precision: 0.793650793651\n"
     ]
    },
    {
     "name": "stderr",
     "output_type": "stream",
     "text": [
      "\r",
      " 50%|██████████████████████                      | 4/8 [00:05<00:05,  1.29s/it]"
     ]
    },
    {
     "name": "stdout",
     "output_type": "stream",
     "text": [
      "Ada , Precision: 0.790322580645\n"
     ]
    },
    {
     "name": "stderr",
     "output_type": "stream",
     "text": [
      "\r",
      " 62%|███████████████████████████▌                | 5/8 [00:07<00:04,  1.45s/it]"
     ]
    },
    {
     "name": "stdout",
     "output_type": "stream",
     "text": [
      "NB , Precision: 0.598958333333\n",
      "XGB , Precision: 0.811475409836\n"
     ]
    },
    {
     "name": "stderr",
     "output_type": "stream",
     "text": [
      "\r",
      " 88%|██████████████████████████████████████▌     | 7/8 [00:08<00:01,  1.18s/it]"
     ]
    },
    {
     "name": "stdout",
     "output_type": "stream",
     "text": [
      "SVM , Precision: 0.753623188406\n"
     ]
    },
    {
     "name": "stderr",
     "output_type": "stream",
     "text": [
      "100%|████████████████████████████████████████████| 8/8 [00:10<00:00,  1.50s/it]\n"
     ]
    },
    {
     "name": "stdout",
     "output_type": "stream",
     "text": [
      "10\n"
     ]
    },
    {
     "name": "stderr",
     "output_type": "stream",
     "text": [
      "100%|██████████████████████████████████████████| 20/20 [03:41<00:00, 11.18s/it]\n"
     ]
    },
    {
     "name": "stdout",
     "output_type": "stream",
     "text": [
      "Positive trainning sample size: 587 \n",
      "\n",
      "Random Under Sampling\n"
     ]
    },
    {
     "name": "stderr",
     "output_type": "stream",
     "text": [
      "100%|██████████████████████████████████████████| 20/20 [00:35<00:00,  1.77s/it]\n"
     ]
    },
    {
     "name": "stdout",
     "output_type": "stream",
     "text": [
      "Negative trainning sample size: 587 \n",
      "\n"
     ]
    },
    {
     "name": "stderr",
     "output_type": "stream",
     "text": [
      "\r",
      "  0%|                                                    | 0/8 [00:00<?, ?it/s]"
     ]
    },
    {
     "name": "stdout",
     "output_type": "stream",
     "text": [
      "KNN , Precision: 0.687943262411\n"
     ]
    },
    {
     "name": "stderr",
     "output_type": "stream",
     "text": [
      "\r",
      " 12%|█████▌                                      | 1/8 [00:01<00:07,  1.06s/it]"
     ]
    },
    {
     "name": "stdout",
     "output_type": "stream",
     "text": [
      "RF , Precision: 0.822429906542\n"
     ]
    },
    {
     "name": "stderr",
     "output_type": "stream",
     "text": [
      "\r",
      " 25%|███████████                                 | 2/8 [00:01<00:05,  1.20it/s]"
     ]
    },
    {
     "name": "stdout",
     "output_type": "stream",
     "text": [
      "GBDT , Precision: 0.868421052632\n"
     ]
    },
    {
     "name": "stderr",
     "output_type": "stream",
     "text": [
      "\r",
      " 38%|████████████████▌                           | 3/8 [00:04<00:08,  1.63s/it]"
     ]
    },
    {
     "name": "stdout",
     "output_type": "stream",
     "text": [
      "LR , Precision: 0.834710743802\n"
     ]
    },
    {
     "name": "stderr",
     "output_type": "stream",
     "text": [
      "\r",
      " 50%|██████████████████████                      | 4/8 [00:05<00:05,  1.31s/it]"
     ]
    },
    {
     "name": "stdout",
     "output_type": "stream",
     "text": [
      "Ada , Precision: 0.869565217391\n"
     ]
    },
    {
     "name": "stderr",
     "output_type": "stream",
     "text": [
      "\r",
      " 62%|███████████████████████████▌                | 5/8 [00:07<00:04,  1.47s/it]"
     ]
    },
    {
     "name": "stdout",
     "output_type": "stream",
     "text": [
      "NB , Precision: 0.586734693878\n",
      "XGB , Precision: 0.869565217391\n"
     ]
    },
    {
     "name": "stderr",
     "output_type": "stream",
     "text": [
      "\r",
      " 88%|██████████████████████████████████████▌     | 7/8 [00:08<00:01,  1.20s/it]"
     ]
    },
    {
     "name": "stdout",
     "output_type": "stream",
     "text": [
      "SVM , Precision: 0.80303030303\n"
     ]
    },
    {
     "name": "stderr",
     "output_type": "stream",
     "text": [
      "100%|████████████████████████████████████████████| 8/8 [00:10<00:00,  1.52s/it]\n"
     ]
    },
    {
     "name": "stdout",
     "output_type": "stream",
     "text": [
      "11\n"
     ]
    },
    {
     "name": "stderr",
     "output_type": "stream",
     "text": [
      "100%|██████████████████████████████████████████| 20/20 [03:41<00:00, 11.15s/it]\n"
     ]
    },
    {
     "name": "stdout",
     "output_type": "stream",
     "text": [
      "Positive trainning sample size: 587 \n",
      "\n",
      "Random Under Sampling\n"
     ]
    },
    {
     "name": "stderr",
     "output_type": "stream",
     "text": [
      "100%|██████████████████████████████████████████| 20/20 [00:35<00:00,  1.77s/it]\n"
     ]
    },
    {
     "name": "stdout",
     "output_type": "stream",
     "text": [
      "Negative trainning sample size: 587 \n",
      "\n"
     ]
    },
    {
     "name": "stderr",
     "output_type": "stream",
     "text": [
      "\r",
      "  0%|                                                    | 0/8 [00:00<?, ?it/s]"
     ]
    },
    {
     "name": "stdout",
     "output_type": "stream",
     "text": [
      "KNN , Precision: 0.707142857143\n"
     ]
    },
    {
     "name": "stderr",
     "output_type": "stream",
     "text": [
      "\r",
      " 12%|█████▌                                      | 1/8 [00:01<00:07,  1.02s/it]"
     ]
    },
    {
     "name": "stdout",
     "output_type": "stream",
     "text": [
      "RF , Precision: 0.767857142857\n"
     ]
    },
    {
     "name": "stderr",
     "output_type": "stream",
     "text": [
      "\r",
      " 25%|███████████                                 | 2/8 [00:01<00:04,  1.25it/s]"
     ]
    },
    {
     "name": "stdout",
     "output_type": "stream",
     "text": [
      "GBDT , Precision: 0.806201550388\n"
     ]
    },
    {
     "name": "stderr",
     "output_type": "stream",
     "text": [
      "\r",
      " 38%|████████████████▌                           | 3/8 [00:04<00:07,  1.60s/it]"
     ]
    },
    {
     "name": "stdout",
     "output_type": "stream",
     "text": [
      "LR , Precision: 0.795275590551\n"
     ]
    },
    {
     "name": "stderr",
     "output_type": "stream",
     "text": [
      "\r",
      " 50%|██████████████████████                      | 4/8 [00:05<00:05,  1.26s/it]"
     ]
    },
    {
     "name": "stdout",
     "output_type": "stream",
     "text": [
      "Ada , Precision: 0.785714285714\n"
     ]
    },
    {
     "name": "stderr",
     "output_type": "stream",
     "text": [
      "\r",
      " 62%|███████████████████████████▌                | 5/8 [00:07<00:04,  1.43s/it]"
     ]
    },
    {
     "name": "stdout",
     "output_type": "stream",
     "text": [
      "NB , Precision: 0.583756345178\n",
      "XGB , Precision: 0.809160305344\n"
     ]
    },
    {
     "name": "stderr",
     "output_type": "stream",
     "text": [
      "\r",
      " 88%|██████████████████████████████████████▌     | 7/8 [00:08<00:01,  1.17s/it]"
     ]
    },
    {
     "name": "stdout",
     "output_type": "stream",
     "text": [
      "SVM , Precision: 0.728571428571\n"
     ]
    },
    {
     "name": "stderr",
     "output_type": "stream",
     "text": [
      "100%|████████████████████████████████████████████| 8/8 [00:10<00:00,  1.47s/it]\n"
     ]
    },
    {
     "name": "stdout",
     "output_type": "stream",
     "text": [
      "12\n"
     ]
    },
    {
     "name": "stderr",
     "output_type": "stream",
     "text": [
      "100%|██████████████████████████████████████████| 20/20 [03:41<00:00, 11.15s/it]\n"
     ]
    },
    {
     "name": "stdout",
     "output_type": "stream",
     "text": [
      "Positive trainning sample size: 587 \n",
      "\n",
      "Random Under Sampling\n"
     ]
    },
    {
     "name": "stderr",
     "output_type": "stream",
     "text": [
      "100%|██████████████████████████████████████████| 20/20 [00:35<00:00,  1.77s/it]\n"
     ]
    },
    {
     "name": "stdout",
     "output_type": "stream",
     "text": [
      "Negative trainning sample size: 587 \n",
      "\n"
     ]
    },
    {
     "name": "stderr",
     "output_type": "stream",
     "text": [
      "\r",
      "  0%|                                                    | 0/8 [00:00<?, ?it/s]"
     ]
    },
    {
     "name": "stdout",
     "output_type": "stream",
     "text": [
      "KNN , Precision: 0.678571428571\n"
     ]
    },
    {
     "name": "stderr",
     "output_type": "stream",
     "text": [
      "\r",
      " 12%|█████▌                                      | 1/8 [00:01<00:07,  1.07s/it]"
     ]
    },
    {
     "name": "stdout",
     "output_type": "stream",
     "text": [
      "RF , Precision: 0.8\n"
     ]
    },
    {
     "name": "stderr",
     "output_type": "stream",
     "text": [
      "\r",
      " 25%|███████████                                 | 2/8 [00:01<00:05,  1.19it/s]"
     ]
    },
    {
     "name": "stdout",
     "output_type": "stream",
     "text": [
      "GBDT , Precision: 0.852173913043\n"
     ]
    },
    {
     "name": "stderr",
     "output_type": "stream",
     "text": [
      "\r",
      " 38%|████████████████▌                           | 3/8 [00:04<00:07,  1.58s/it]"
     ]
    },
    {
     "name": "stdout",
     "output_type": "stream",
     "text": [
      "LR , Precision: 0.869565217391\n"
     ]
    },
    {
     "name": "stderr",
     "output_type": "stream",
     "text": [
      "\r",
      " 50%|██████████████████████                      | 4/8 [00:05<00:05,  1.27s/it]"
     ]
    },
    {
     "name": "stdout",
     "output_type": "stream",
     "text": [
      "Ada , Precision: 0.834782608696\n"
     ]
    },
    {
     "name": "stderr",
     "output_type": "stream",
     "text": [
      "\r",
      " 62%|███████████████████████████▌                | 5/8 [00:07<00:04,  1.43s/it]"
     ]
    },
    {
     "name": "stdout",
     "output_type": "stream",
     "text": [
      "NB , Precision: 0.605263157895\n",
      "XGB , Precision: 0.871794871795\n"
     ]
    },
    {
     "name": "stderr",
     "output_type": "stream",
     "text": [
      "\r",
      " 88%|██████████████████████████████████████▌     | 7/8 [00:08<00:01,  1.18s/it]"
     ]
    },
    {
     "name": "stdout",
     "output_type": "stream",
     "text": [
      "SVM , Precision: 0.803278688525\n"
     ]
    },
    {
     "name": "stderr",
     "output_type": "stream",
     "text": [
      "100%|████████████████████████████████████████████| 8/8 [00:10<00:00,  1.50s/it]\n"
     ]
    },
    {
     "name": "stdout",
     "output_type": "stream",
     "text": [
      "13\n"
     ]
    },
    {
     "name": "stderr",
     "output_type": "stream",
     "text": [
      "100%|██████████████████████████████████████████| 20/20 [03:41<00:00, 11.16s/it]\n"
     ]
    },
    {
     "name": "stdout",
     "output_type": "stream",
     "text": [
      "Positive trainning sample size: 587 \n",
      "\n",
      "Random Under Sampling\n"
     ]
    },
    {
     "name": "stderr",
     "output_type": "stream",
     "text": [
      "100%|██████████████████████████████████████████| 20/20 [00:35<00:00,  1.77s/it]\n"
     ]
    },
    {
     "name": "stdout",
     "output_type": "stream",
     "text": [
      "Negative trainning sample size: 587 \n",
      "\n"
     ]
    },
    {
     "name": "stderr",
     "output_type": "stream",
     "text": [
      "\r",
      "  0%|                                                    | 0/8 [00:00<?, ?it/s]"
     ]
    },
    {
     "name": "stdout",
     "output_type": "stream",
     "text": [
      "KNN , Precision: 0.711111111111\n"
     ]
    },
    {
     "name": "stderr",
     "output_type": "stream",
     "text": [
      "\r",
      " 12%|█████▌                                      | 1/8 [00:01<00:07,  1.06s/it]"
     ]
    },
    {
     "name": "stdout",
     "output_type": "stream",
     "text": [
      "RF , Precision: 0.75\n"
     ]
    },
    {
     "name": "stderr",
     "output_type": "stream",
     "text": [
      "\r",
      " 25%|███████████                                 | 2/8 [00:01<00:05,  1.20it/s]"
     ]
    },
    {
     "name": "stdout",
     "output_type": "stream",
     "text": [
      "GBDT , Precision: 0.821138211382\n"
     ]
    },
    {
     "name": "stderr",
     "output_type": "stream",
     "text": [
      "\r",
      " 38%|████████████████▌                           | 3/8 [00:04<00:08,  1.64s/it]"
     ]
    },
    {
     "name": "stdout",
     "output_type": "stream",
     "text": [
      "LR , Precision: 0.845528455285\n"
     ]
    },
    {
     "name": "stderr",
     "output_type": "stream",
     "text": [
      "\r",
      " 50%|██████████████████████                      | 4/8 [00:05<00:05,  1.31s/it]"
     ]
    },
    {
     "name": "stdout",
     "output_type": "stream",
     "text": [
      "Ada , Precision: 0.84347826087\n"
     ]
    },
    {
     "name": "stderr",
     "output_type": "stream",
     "text": [
      "\r",
      " 62%|███████████████████████████▌                | 5/8 [00:07<00:04,  1.47s/it]"
     ]
    },
    {
     "name": "stdout",
     "output_type": "stream",
     "text": [
      "NB , Precision: 0.563725490196\n",
      "XGB , Precision: 0.814516129032\n"
     ]
    },
    {
     "name": "stderr",
     "output_type": "stream",
     "text": [
      "\r",
      " 88%|██████████████████████████████████████▌     | 7/8 [00:08<00:01,  1.20s/it]"
     ]
    },
    {
     "name": "stdout",
     "output_type": "stream",
     "text": [
      "SVM , Precision: 0.761904761905\n"
     ]
    },
    {
     "name": "stderr",
     "output_type": "stream",
     "text": [
      "100%|████████████████████████████████████████████| 8/8 [00:10<00:00,  1.51s/it]\n"
     ]
    },
    {
     "name": "stdout",
     "output_type": "stream",
     "text": [
      "14\n"
     ]
    },
    {
     "name": "stderr",
     "output_type": "stream",
     "text": [
      "100%|██████████████████████████████████████████| 20/20 [03:41<00:00, 11.16s/it]\n"
     ]
    },
    {
     "name": "stdout",
     "output_type": "stream",
     "text": [
      "Positive trainning sample size: 587 \n",
      "\n",
      "Random Under Sampling\n"
     ]
    },
    {
     "name": "stderr",
     "output_type": "stream",
     "text": [
      "100%|██████████████████████████████████████████| 20/20 [00:35<00:00,  1.77s/it]\n"
     ]
    },
    {
     "name": "stdout",
     "output_type": "stream",
     "text": [
      "Negative trainning sample size: 587 \n",
      "\n"
     ]
    },
    {
     "name": "stderr",
     "output_type": "stream",
     "text": [
      "\r",
      "  0%|                                                    | 0/8 [00:00<?, ?it/s]"
     ]
    },
    {
     "name": "stdout",
     "output_type": "stream",
     "text": [
      "KNN , Precision: 0.681481481481\n"
     ]
    },
    {
     "name": "stderr",
     "output_type": "stream",
     "text": [
      "\r",
      " 12%|█████▌                                      | 1/8 [00:01<00:07,  1.08s/it]"
     ]
    },
    {
     "name": "stdout",
     "output_type": "stream",
     "text": [
      "RF , Precision: 0.790909090909\n"
     ]
    },
    {
     "name": "stderr",
     "output_type": "stream",
     "text": [
      "\r",
      " 25%|███████████                                 | 2/8 [00:01<00:05,  1.18it/s]"
     ]
    },
    {
     "name": "stdout",
     "output_type": "stream",
     "text": [
      "GBDT , Precision: 0.83064516129\n"
     ]
    },
    {
     "name": "stderr",
     "output_type": "stream",
     "text": [
      "\r",
      " 38%|████████████████▌                           | 3/8 [00:04<00:08,  1.62s/it]"
     ]
    },
    {
     "name": "stdout",
     "output_type": "stream",
     "text": [
      "LR , Precision: 0.857142857143\n"
     ]
    },
    {
     "name": "stderr",
     "output_type": "stream",
     "text": [
      "\r",
      " 50%|██████████████████████                      | 4/8 [00:05<00:05,  1.29s/it]"
     ]
    },
    {
     "name": "stdout",
     "output_type": "stream",
     "text": [
      "Ada , Precision: 0.854545454545\n"
     ]
    },
    {
     "name": "stderr",
     "output_type": "stream",
     "text": [
      "\r",
      " 62%|███████████████████████████▌                | 5/8 [00:07<00:04,  1.45s/it]"
     ]
    },
    {
     "name": "stdout",
     "output_type": "stream",
     "text": [
      "NB , Precision: 0.575\n",
      "XGB , Precision: 0.854700854701\n"
     ]
    },
    {
     "name": "stderr",
     "output_type": "stream",
     "text": [
      "\r",
      " 88%|██████████████████████████████████████▌     | 7/8 [00:08<00:01,  1.19s/it]"
     ]
    },
    {
     "name": "stdout",
     "output_type": "stream",
     "text": [
      "SVM , Precision: 0.776119402985\n"
     ]
    },
    {
     "name": "stderr",
     "output_type": "stream",
     "text": [
      "100%|████████████████████████████████████████████| 8/8 [00:10<00:00,  1.51s/it]\n"
     ]
    },
    {
     "name": "stdout",
     "output_type": "stream",
     "text": [
      "短外套 50011277\n",
      "0\n"
     ]
    },
    {
     "name": "stderr",
     "output_type": "stream",
     "text": [
      "100%|██████████████████████████████████████████| 17/17 [03:03<00:00, 10.74s/it]\n"
     ]
    },
    {
     "name": "stdout",
     "output_type": "stream",
     "text": [
      "Positive trainning sample size: 370 \n",
      "\n",
      "Random Under Sampling\n"
     ]
    },
    {
     "name": "stderr",
     "output_type": "stream",
     "text": [
      "100%|██████████████████████████████████████████| 18/18 [00:19<00:00,  1.10s/it]\n"
     ]
    },
    {
     "name": "stdout",
     "output_type": "stream",
     "text": [
      "Negative trainning sample size: 370 \n",
      "\n"
     ]
    },
    {
     "name": "stderr",
     "output_type": "stream",
     "text": [
      "\r",
      "  0%|                                                    | 0/8 [00:00<?, ?it/s]"
     ]
    },
    {
     "name": "stdout",
     "output_type": "stream",
     "text": [
      "KNN , Precision: 0.6\n"
     ]
    },
    {
     "name": "stderr",
     "output_type": "stream",
     "text": [
      "\r",
      " 12%|█████▌                                      | 1/8 [00:00<00:03,  2.05it/s]"
     ]
    },
    {
     "name": "stdout",
     "output_type": "stream",
     "text": [
      "RF , Precision: 0.763888888889\n"
     ]
    },
    {
     "name": "stderr",
     "output_type": "stream",
     "text": [
      "\r",
      " 25%|███████████                                 | 2/8 [00:00<00:02,  2.38it/s]"
     ]
    },
    {
     "name": "stdout",
     "output_type": "stream",
     "text": [
      "GBDT , Precision: 0.826086956522\n"
     ]
    },
    {
     "name": "stderr",
     "output_type": "stream",
     "text": [
      "\r",
      " 38%|████████████████▌                           | 3/8 [00:02<00:04,  1.10it/s]"
     ]
    },
    {
     "name": "stdout",
     "output_type": "stream",
     "text": [
      "LR , Precision: 0.816901408451\n"
     ]
    },
    {
     "name": "stderr",
     "output_type": "stream",
     "text": [
      "\r",
      " 50%|██████████████████████                      | 4/8 [00:03<00:03,  1.33it/s]"
     ]
    },
    {
     "name": "stdout",
     "output_type": "stream",
     "text": [
      "Ada , Precision: 0.794871794872\n"
     ]
    },
    {
     "name": "stderr",
     "output_type": "stream",
     "text": [
      "\r",
      " 62%|███████████████████████████▌                | 5/8 [00:04<00:02,  1.05it/s]"
     ]
    },
    {
     "name": "stdout",
     "output_type": "stream",
     "text": [
      "NB , Precision: 0.489655172414\n",
      "XGB , Precision: 0.813333333333\n"
     ]
    },
    {
     "name": "stderr",
     "output_type": "stream",
     "text": [
      "\r",
      " 88%|██████████████████████████████████████▌     | 7/8 [00:05<00:00,  1.23it/s]"
     ]
    },
    {
     "name": "stdout",
     "output_type": "stream",
     "text": [
      "SVM , Precision: 0.52\n"
     ]
    },
    {
     "name": "stderr",
     "output_type": "stream",
     "text": [
      "100%|████████████████████████████████████████████| 8/8 [00:06<00:00,  1.22it/s]\n"
     ]
    },
    {
     "name": "stdout",
     "output_type": "stream",
     "text": [
      "1\n"
     ]
    },
    {
     "name": "stderr",
     "output_type": "stream",
     "text": [
      "100%|██████████████████████████████████████████| 17/17 [03:03<00:00, 10.74s/it]\n"
     ]
    },
    {
     "name": "stdout",
     "output_type": "stream",
     "text": [
      "Positive trainning sample size: 370 \n",
      "\n",
      "Random Under Sampling\n"
     ]
    },
    {
     "name": "stderr",
     "output_type": "stream",
     "text": [
      "100%|██████████████████████████████████████████| 18/18 [00:19<00:00,  1.10s/it]\n"
     ]
    },
    {
     "name": "stdout",
     "output_type": "stream",
     "text": [
      "Negative trainning sample size: 370 \n",
      "\n"
     ]
    },
    {
     "name": "stderr",
     "output_type": "stream",
     "text": [
      "\r",
      "  0%|                                                    | 0/8 [00:00<?, ?it/s]"
     ]
    },
    {
     "name": "stdout",
     "output_type": "stream",
     "text": [
      "KNN , Precision: 0.573170731707\n"
     ]
    },
    {
     "name": "stderr",
     "output_type": "stream",
     "text": [
      "\r",
      " 12%|█████▌                                      | 1/8 [00:00<00:03,  2.12it/s]"
     ]
    },
    {
     "name": "stdout",
     "output_type": "stream",
     "text": [
      "RF , Precision: 0.783783783784\n"
     ]
    },
    {
     "name": "stderr",
     "output_type": "stream",
     "text": [
      "\r",
      " 25%|███████████                                 | 2/8 [00:00<00:02,  2.47it/s]"
     ]
    },
    {
     "name": "stdout",
     "output_type": "stream",
     "text": [
      "GBDT , Precision: 0.857142857143\n"
     ]
    },
    {
     "name": "stderr",
     "output_type": "stream",
     "text": [
      "\r",
      " 38%|████████████████▌                           | 3/8 [00:02<00:04,  1.10it/s]"
     ]
    },
    {
     "name": "stdout",
     "output_type": "stream",
     "text": [
      "LR , Precision: 0.855072463768\n"
     ]
    },
    {
     "name": "stderr",
     "output_type": "stream",
     "text": [
      "\r",
      " 50%|██████████████████████                      | 4/8 [00:03<00:02,  1.39it/s]"
     ]
    },
    {
     "name": "stdout",
     "output_type": "stream",
     "text": [
      "Ada , Precision: 0.825\n"
     ]
    },
    {
     "name": "stderr",
     "output_type": "stream",
     "text": [
      "\r",
      " 62%|███████████████████████████▌                | 5/8 [00:04<00:02,  1.09it/s]"
     ]
    },
    {
     "name": "stdout",
     "output_type": "stream",
     "text": [
      "NB , Precision: 0.503546099291\n",
      "XGB , Precision: 0.816901408451\n"
     ]
    },
    {
     "name": "stderr",
     "output_type": "stream",
     "text": [
      "\r",
      " 88%|██████████████████████████████████████▌     | 7/8 [00:05<00:00,  1.28it/s]"
     ]
    },
    {
     "name": "stdout",
     "output_type": "stream",
     "text": [
      "SVM , Precision: 0.714285714286\n"
     ]
    },
    {
     "name": "stderr",
     "output_type": "stream",
     "text": [
      "100%|████████████████████████████████████████████| 8/8 [00:06<00:00,  1.24it/s]\n"
     ]
    },
    {
     "name": "stdout",
     "output_type": "stream",
     "text": [
      "2\n"
     ]
    },
    {
     "name": "stderr",
     "output_type": "stream",
     "text": [
      "100%|██████████████████████████████████████████| 17/17 [03:04<00:00, 10.81s/it]\n"
     ]
    },
    {
     "name": "stdout",
     "output_type": "stream",
     "text": [
      "Positive trainning sample size: 370 \n",
      "\n",
      "Random Under Sampling\n"
     ]
    },
    {
     "name": "stderr",
     "output_type": "stream",
     "text": [
      "100%|██████████████████████████████████████████| 18/18 [00:19<00:00,  1.10s/it]\n"
     ]
    },
    {
     "name": "stdout",
     "output_type": "stream",
     "text": [
      "Negative trainning sample size: 370 \n",
      "\n"
     ]
    },
    {
     "name": "stderr",
     "output_type": "stream",
     "text": [
      "\r",
      "  0%|                                                    | 0/8 [00:00<?, ?it/s]"
     ]
    },
    {
     "name": "stdout",
     "output_type": "stream",
     "text": [
      "KNN , Precision: 0.636363636364\n"
     ]
    },
    {
     "name": "stderr",
     "output_type": "stream",
     "text": [
      "\r",
      " 12%|█████▌                                      | 1/8 [00:00<00:03,  2.13it/s]"
     ]
    },
    {
     "name": "stdout",
     "output_type": "stream",
     "text": [
      "RF , Precision: 0.730769230769\n"
     ]
    },
    {
     "name": "stderr",
     "output_type": "stream",
     "text": [
      "\r",
      " 25%|███████████                                 | 2/8 [00:00<00:02,  2.48it/s]"
     ]
    },
    {
     "name": "stdout",
     "output_type": "stream",
     "text": [
      "GBDT , Precision: 0.743902439024\n"
     ]
    },
    {
     "name": "stderr",
     "output_type": "stream",
     "text": [
      "\r",
      " 38%|████████████████▌                           | 3/8 [00:02<00:04,  1.11it/s]"
     ]
    },
    {
     "name": "stdout",
     "output_type": "stream",
     "text": [
      "LR , Precision: 0.741176470588\n"
     ]
    },
    {
     "name": "stderr",
     "output_type": "stream",
     "text": [
      "\r",
      " 50%|██████████████████████                      | 4/8 [00:03<00:02,  1.40it/s]"
     ]
    },
    {
     "name": "stdout",
     "output_type": "stream",
     "text": [
      "Ada , Precision: 0.73417721519\n"
     ]
    },
    {
     "name": "stderr",
     "output_type": "stream",
     "text": [
      "\r",
      " 62%|███████████████████████████▌                | 5/8 [00:04<00:02,  1.09it/s]"
     ]
    },
    {
     "name": "stdout",
     "output_type": "stream",
     "text": [
      "NB , Precision: 0.493055555556\n",
      "XGB , Precision: 0.738095238095\n"
     ]
    },
    {
     "name": "stderr",
     "output_type": "stream",
     "text": [
      "\r",
      " 88%|██████████████████████████████████████▌     | 7/8 [00:05<00:00,  1.31it/s]"
     ]
    },
    {
     "name": "stdout",
     "output_type": "stream",
     "text": [
      "SVM , Precision: 0.608695652174\n"
     ]
    },
    {
     "name": "stderr",
     "output_type": "stream",
     "text": [
      "100%|████████████████████████████████████████████| 8/8 [00:06<00:00,  1.26it/s]\n"
     ]
    },
    {
     "name": "stdout",
     "output_type": "stream",
     "text": [
      "3\n"
     ]
    },
    {
     "name": "stderr",
     "output_type": "stream",
     "text": [
      "100%|██████████████████████████████████████████| 17/17 [03:03<00:00, 10.75s/it]\n"
     ]
    },
    {
     "name": "stdout",
     "output_type": "stream",
     "text": [
      "Positive trainning sample size: 370 \n",
      "\n",
      "Random Under Sampling\n"
     ]
    },
    {
     "name": "stderr",
     "output_type": "stream",
     "text": [
      "100%|██████████████████████████████████████████| 18/18 [00:20<00:00,  1.11s/it]\n"
     ]
    },
    {
     "name": "stdout",
     "output_type": "stream",
     "text": [
      "Negative trainning sample size: 370 \n",
      "\n"
     ]
    },
    {
     "name": "stderr",
     "output_type": "stream",
     "text": [
      "\r",
      "  0%|                                                    | 0/8 [00:00<?, ?it/s]"
     ]
    },
    {
     "name": "stdout",
     "output_type": "stream",
     "text": [
      "KNN , Precision: 0.6\n"
     ]
    },
    {
     "name": "stderr",
     "output_type": "stream",
     "text": [
      "\r",
      " 12%|█████▌                                      | 1/8 [00:00<00:03,  2.04it/s]"
     ]
    },
    {
     "name": "stdout",
     "output_type": "stream",
     "text": [
      "RF , Precision: 0.75\n"
     ]
    },
    {
     "name": "stderr",
     "output_type": "stream",
     "text": [
      "\r",
      " 25%|███████████                                 | 2/8 [00:00<00:02,  2.39it/s]"
     ]
    },
    {
     "name": "stdout",
     "output_type": "stream",
     "text": [
      "GBDT , Precision: 0.77380952381\n"
     ]
    },
    {
     "name": "stderr",
     "output_type": "stream",
     "text": [
      "\r",
      " 38%|████████████████▌                           | 3/8 [00:02<00:04,  1.10it/s]"
     ]
    },
    {
     "name": "stdout",
     "output_type": "stream",
     "text": [
      "LR , Precision: 0.807692307692\n"
     ]
    },
    {
     "name": "stderr",
     "output_type": "stream",
     "text": [
      "\r",
      " 50%|██████████████████████                      | 4/8 [00:03<00:02,  1.40it/s]"
     ]
    },
    {
     "name": "stdout",
     "output_type": "stream",
     "text": [
      "Ada , Precision: 0.756097560976\n"
     ]
    },
    {
     "name": "stderr",
     "output_type": "stream",
     "text": [
      "\r",
      " 62%|███████████████████████████▌                | 5/8 [00:04<00:02,  1.10it/s]"
     ]
    },
    {
     "name": "stdout",
     "output_type": "stream",
     "text": [
      "NB , Precision: 0.489655172414\n",
      "XGB , Precision: 0.8\n"
     ]
    },
    {
     "name": "stderr",
     "output_type": "stream",
     "text": [
      "\r",
      " 88%|██████████████████████████████████████▌     | 7/8 [00:05<00:00,  1.31it/s]"
     ]
    },
    {
     "name": "stdout",
     "output_type": "stream",
     "text": [
      "SVM , Precision: 0.611111111111\n"
     ]
    },
    {
     "name": "stderr",
     "output_type": "stream",
     "text": [
      "100%|████████████████████████████████████████████| 8/8 [00:06<00:00,  1.26it/s]\n"
     ]
    },
    {
     "name": "stdout",
     "output_type": "stream",
     "text": [
      "4\n"
     ]
    },
    {
     "name": "stderr",
     "output_type": "stream",
     "text": [
      "100%|██████████████████████████████████████████| 17/17 [03:04<00:00, 10.80s/it]\n"
     ]
    },
    {
     "name": "stdout",
     "output_type": "stream",
     "text": [
      "Positive trainning sample size: 370 \n",
      "\n",
      "Random Under Sampling\n"
     ]
    },
    {
     "name": "stderr",
     "output_type": "stream",
     "text": [
      "100%|██████████████████████████████████████████| 18/18 [00:20<00:00,  1.10s/it]\n"
     ]
    },
    {
     "name": "stdout",
     "output_type": "stream",
     "text": [
      "Negative trainning sample size: 370 \n",
      "\n"
     ]
    },
    {
     "name": "stderr",
     "output_type": "stream",
     "text": [
      "\r",
      "  0%|                                                    | 0/8 [00:00<?, ?it/s]"
     ]
    },
    {
     "name": "stdout",
     "output_type": "stream",
     "text": [
      "KNN , Precision: 0.631578947368\n"
     ]
    },
    {
     "name": "stderr",
     "output_type": "stream",
     "text": [
      "\r",
      " 12%|█████▌                                      | 1/8 [00:00<00:03,  2.12it/s]"
     ]
    },
    {
     "name": "stdout",
     "output_type": "stream",
     "text": [
      "RF , Precision: 0.89552238806\n"
     ]
    },
    {
     "name": "stderr",
     "output_type": "stream",
     "text": [
      "\r",
      " 25%|███████████                                 | 2/8 [00:00<00:02,  2.50it/s]"
     ]
    },
    {
     "name": "stdout",
     "output_type": "stream",
     "text": [
      "GBDT , Precision: 0.845070422535\n"
     ]
    },
    {
     "name": "stderr",
     "output_type": "stream",
     "text": [
      "\r",
      " 38%|████████████████▌                           | 3/8 [00:02<00:04,  1.11it/s]"
     ]
    },
    {
     "name": "stdout",
     "output_type": "stream",
     "text": [
      "LR , Precision: 0.847222222222\n"
     ]
    },
    {
     "name": "stderr",
     "output_type": "stream",
     "text": [
      "\r",
      " 50%|██████████████████████                      | 4/8 [00:03<00:02,  1.40it/s]"
     ]
    },
    {
     "name": "stdout",
     "output_type": "stream",
     "text": [
      "Ada , Precision: 0.835616438356\n"
     ]
    },
    {
     "name": "stderr",
     "output_type": "stream",
     "text": [
      "\r",
      " 62%|███████████████████████████▌                | 5/8 [00:04<00:02,  1.10it/s]"
     ]
    },
    {
     "name": "stdout",
     "output_type": "stream",
     "text": [
      "NB , Precision: 0.496453900709\n",
      "XGB , Precision: 0.849315068493\n"
     ]
    },
    {
     "name": "stderr",
     "output_type": "stream",
     "text": [
      "\r",
      " 88%|██████████████████████████████████████▌     | 7/8 [00:05<00:00,  1.27it/s]"
     ]
    },
    {
     "name": "stdout",
     "output_type": "stream",
     "text": [
      "SVM , Precision: 0.761904761905\n"
     ]
    },
    {
     "name": "stderr",
     "output_type": "stream",
     "text": [
      "100%|████████████████████████████████████████████| 8/8 [00:06<00:00,  1.24it/s]\n"
     ]
    },
    {
     "name": "stdout",
     "output_type": "stream",
     "text": [
      "5\n"
     ]
    },
    {
     "name": "stderr",
     "output_type": "stream",
     "text": [
      "100%|██████████████████████████████████████████| 17/17 [03:03<00:00, 10.74s/it]\n"
     ]
    },
    {
     "name": "stdout",
     "output_type": "stream",
     "text": [
      "Positive trainning sample size: 370 \n",
      "\n",
      "Random Under Sampling\n"
     ]
    },
    {
     "name": "stderr",
     "output_type": "stream",
     "text": [
      "100%|██████████████████████████████████████████| 18/18 [00:20<00:00,  1.10s/it]\n"
     ]
    },
    {
     "name": "stdout",
     "output_type": "stream",
     "text": [
      "Negative trainning sample size: 370 \n",
      "\n"
     ]
    },
    {
     "name": "stderr",
     "output_type": "stream",
     "text": [
      "\r",
      "  0%|                                                    | 0/8 [00:00<?, ?it/s]"
     ]
    },
    {
     "name": "stdout",
     "output_type": "stream",
     "text": [
      "KNN , Precision: 0.636363636364\n"
     ]
    },
    {
     "name": "stderr",
     "output_type": "stream",
     "text": [
      "\r",
      " 12%|█████▌                                      | 1/8 [00:00<00:03,  2.19it/s]"
     ]
    },
    {
     "name": "stdout",
     "output_type": "stream",
     "text": [
      "RF , Precision: 0.818181818182\n"
     ]
    },
    {
     "name": "stderr",
     "output_type": "stream",
     "text": [
      "\r",
      " 25%|███████████                                 | 2/8 [00:00<00:02,  2.54it/s]"
     ]
    },
    {
     "name": "stdout",
     "output_type": "stream",
     "text": [
      "GBDT , Precision: 0.772151898734\n"
     ]
    },
    {
     "name": "stderr",
     "output_type": "stream",
     "text": [
      "\r",
      " 38%|████████████████▌                           | 3/8 [00:02<00:04,  1.14it/s]"
     ]
    },
    {
     "name": "stdout",
     "output_type": "stream",
     "text": [
      "LR , Precision: 0.784810126582\n"
     ]
    },
    {
     "name": "stderr",
     "output_type": "stream",
     "text": [
      "\r",
      " 50%|██████████████████████                      | 4/8 [00:03<00:02,  1.40it/s]"
     ]
    },
    {
     "name": "stdout",
     "output_type": "stream",
     "text": [
      "Ada , Precision: 0.759493670886\n"
     ]
    },
    {
     "name": "stderr",
     "output_type": "stream",
     "text": [
      "\r",
      " 62%|███████████████████████████▌                | 5/8 [00:04<00:02,  1.09it/s]"
     ]
    },
    {
     "name": "stdout",
     "output_type": "stream",
     "text": [
      "NB , Precision: 0.507142857143\n",
      "XGB , Precision: 0.78313253012\n"
     ]
    },
    {
     "name": "stderr",
     "output_type": "stream",
     "text": [
      "\r",
      " 88%|██████████████████████████████████████▌     | 7/8 [00:05<00:00,  1.24it/s]"
     ]
    },
    {
     "name": "stdout",
     "output_type": "stream",
     "text": [
      "SVM , Precision: 0.833333333333\n"
     ]
    },
    {
     "name": "stderr",
     "output_type": "stream",
     "text": [
      "100%|████████████████████████████████████████████| 8/8 [00:06<00:00,  1.22it/s]\n"
     ]
    },
    {
     "name": "stdout",
     "output_type": "stream",
     "text": [
      "6\n"
     ]
    },
    {
     "name": "stderr",
     "output_type": "stream",
     "text": [
      "100%|██████████████████████████████████████████| 17/17 [03:04<00:00, 10.80s/it]\n"
     ]
    },
    {
     "name": "stdout",
     "output_type": "stream",
     "text": [
      "Positive trainning sample size: 370 \n",
      "\n",
      "Random Under Sampling\n"
     ]
    },
    {
     "name": "stderr",
     "output_type": "stream",
     "text": [
      "100%|██████████████████████████████████████████| 18/18 [00:19<00:00,  1.10s/it]\n"
     ]
    },
    {
     "name": "stdout",
     "output_type": "stream",
     "text": [
      "Negative trainning sample size: 370 \n",
      "\n"
     ]
    },
    {
     "name": "stderr",
     "output_type": "stream",
     "text": [
      "\r",
      "  0%|                                                    | 0/8 [00:00<?, ?it/s]"
     ]
    },
    {
     "name": "stdout",
     "output_type": "stream",
     "text": [
      "KNN , Precision: 0.614285714286\n"
     ]
    },
    {
     "name": "stderr",
     "output_type": "stream",
     "text": [
      "\r",
      " 12%|█████▌                                      | 1/8 [00:00<00:03,  2.20it/s]"
     ]
    },
    {
     "name": "stdout",
     "output_type": "stream",
     "text": [
      "RF , Precision: 0.84126984127\n"
     ]
    },
    {
     "name": "stderr",
     "output_type": "stream",
     "text": [
      "\r",
      " 25%|███████████                                 | 2/8 [00:00<00:02,  2.54it/s]"
     ]
    },
    {
     "name": "stdout",
     "output_type": "stream",
     "text": [
      "GBDT , Precision: 0.824324324324\n"
     ]
    },
    {
     "name": "stderr",
     "output_type": "stream",
     "text": [
      "\r",
      " 38%|████████████████▌                           | 3/8 [00:02<00:04,  1.12it/s]"
     ]
    },
    {
     "name": "stdout",
     "output_type": "stream",
     "text": [
      "LR , Precision: 0.772151898734\n"
     ]
    },
    {
     "name": "stderr",
     "output_type": "stream",
     "text": [
      "\r",
      " 50%|██████████████████████                      | 4/8 [00:03<00:02,  1.41it/s]"
     ]
    },
    {
     "name": "stdout",
     "output_type": "stream",
     "text": [
      "Ada , Precision: 0.794871794872\n"
     ]
    },
    {
     "name": "stderr",
     "output_type": "stream",
     "text": [
      "\r",
      " 62%|███████████████████████████▌                | 5/8 [00:04<00:02,  1.10it/s]"
     ]
    },
    {
     "name": "stdout",
     "output_type": "stream",
     "text": [
      "NB , Precision: 0.486301369863\n",
      "XGB , Precision: 0.818181818182\n"
     ]
    },
    {
     "name": "stderr",
     "output_type": "stream",
     "text": [
      "\r",
      " 88%|██████████████████████████████████████▌     | 7/8 [00:05<00:00,  1.31it/s]"
     ]
    },
    {
     "name": "stdout",
     "output_type": "stream",
     "text": [
      "SVM , Precision: 0.7\n"
     ]
    },
    {
     "name": "stderr",
     "output_type": "stream",
     "text": [
      "100%|████████████████████████████████████████████| 8/8 [00:06<00:00,  1.27it/s]\n"
     ]
    },
    {
     "name": "stdout",
     "output_type": "stream",
     "text": [
      "7\n"
     ]
    },
    {
     "name": "stderr",
     "output_type": "stream",
     "text": [
      "100%|██████████████████████████████████████████| 17/17 [03:03<00:00, 10.75s/it]\n"
     ]
    },
    {
     "name": "stdout",
     "output_type": "stream",
     "text": [
      "Positive trainning sample size: 370 \n",
      "\n",
      "Random Under Sampling\n"
     ]
    },
    {
     "name": "stderr",
     "output_type": "stream",
     "text": [
      "100%|██████████████████████████████████████████| 18/18 [00:19<00:00,  1.10s/it]\n"
     ]
    },
    {
     "name": "stdout",
     "output_type": "stream",
     "text": [
      "Negative trainning sample size: 370 \n",
      "\n"
     ]
    },
    {
     "name": "stderr",
     "output_type": "stream",
     "text": [
      "\r",
      "  0%|                                                    | 0/8 [00:00<?, ?it/s]"
     ]
    },
    {
     "name": "stdout",
     "output_type": "stream",
     "text": [
      "KNN , Precision: 0.636363636364\n"
     ]
    },
    {
     "name": "stderr",
     "output_type": "stream",
     "text": [
      "\r",
      " 12%|█████▌                                      | 1/8 [00:00<00:03,  2.09it/s]"
     ]
    },
    {
     "name": "stdout",
     "output_type": "stream",
     "text": [
      "RF , Precision: 0.791044776119\n"
     ]
    },
    {
     "name": "stderr",
     "output_type": "stream",
     "text": [
      "\r",
      " 25%|███████████                                 | 2/8 [00:00<00:02,  2.44it/s]"
     ]
    },
    {
     "name": "stdout",
     "output_type": "stream",
     "text": [
      "GBDT , Precision: 0.835443037975\n"
     ]
    },
    {
     "name": "stderr",
     "output_type": "stream",
     "text": [
      "\r",
      " 38%|████████████████▌                           | 3/8 [00:02<00:04,  1.12it/s]"
     ]
    },
    {
     "name": "stdout",
     "output_type": "stream",
     "text": [
      "LR , Precision: 0.849315068493\n"
     ]
    },
    {
     "name": "stderr",
     "output_type": "stream",
     "text": [
      "\r",
      " 50%|██████████████████████                      | 4/8 [00:03<00:02,  1.38it/s]"
     ]
    },
    {
     "name": "stdout",
     "output_type": "stream",
     "text": [
      "Ada , Precision: 0.831168831169\n"
     ]
    },
    {
     "name": "stderr",
     "output_type": "stream",
     "text": [
      "\r",
      " 62%|███████████████████████████▌                | 5/8 [00:04<00:02,  1.09it/s]"
     ]
    },
    {
     "name": "stdout",
     "output_type": "stream",
     "text": [
      "NB , Precision: 0.47972972973\n",
      "XGB , Precision: 0.851351351351\n"
     ]
    },
    {
     "name": "stderr",
     "output_type": "stream",
     "text": [
      "\r",
      " 88%|██████████████████████████████████████▌     | 7/8 [00:05<00:00,  1.30it/s]"
     ]
    },
    {
     "name": "stdout",
     "output_type": "stream",
     "text": [
      "SVM , Precision: 0.652173913043\n"
     ]
    },
    {
     "name": "stderr",
     "output_type": "stream",
     "text": [
      "100%|████████████████████████████████████████████| 8/8 [00:06<00:00,  1.26it/s]\n"
     ]
    },
    {
     "name": "stdout",
     "output_type": "stream",
     "text": [
      "8\n"
     ]
    },
    {
     "name": "stderr",
     "output_type": "stream",
     "text": [
      "100%|██████████████████████████████████████████| 17/17 [03:04<00:00, 10.77s/it]\n"
     ]
    },
    {
     "name": "stdout",
     "output_type": "stream",
     "text": [
      "Positive trainning sample size: 370 \n",
      "\n",
      "Random Under Sampling\n"
     ]
    },
    {
     "name": "stderr",
     "output_type": "stream",
     "text": [
      "100%|██████████████████████████████████████████| 18/18 [00:19<00:00,  1.10s/it]\n"
     ]
    },
    {
     "name": "stdout",
     "output_type": "stream",
     "text": [
      "Negative trainning sample size: 370 \n",
      "\n"
     ]
    },
    {
     "name": "stderr",
     "output_type": "stream",
     "text": [
      "\r",
      "  0%|                                                    | 0/8 [00:00<?, ?it/s]"
     ]
    },
    {
     "name": "stdout",
     "output_type": "stream",
     "text": [
      "KNN , Precision: 0.594936708861\n"
     ]
    },
    {
     "name": "stderr",
     "output_type": "stream",
     "text": [
      "\r",
      " 12%|█████▌                                      | 1/8 [00:00<00:03,  2.20it/s]"
     ]
    },
    {
     "name": "stdout",
     "output_type": "stream",
     "text": [
      "RF , Precision: 0.714285714286\n"
     ]
    },
    {
     "name": "stderr",
     "output_type": "stream",
     "text": [
      "\r",
      " 25%|███████████                                 | 2/8 [00:00<00:02,  2.54it/s]"
     ]
    },
    {
     "name": "stdout",
     "output_type": "stream",
     "text": [
      "GBDT , Precision: 0.771084337349\n"
     ]
    },
    {
     "name": "stderr",
     "output_type": "stream",
     "text": [
      "\r",
      " 38%|████████████████▌                           | 3/8 [00:02<00:04,  1.15it/s]"
     ]
    },
    {
     "name": "stdout",
     "output_type": "stream",
     "text": [
      "LR , Precision: 0.75\n"
     ]
    },
    {
     "name": "stderr",
     "output_type": "stream",
     "text": [
      "\r",
      " 50%|██████████████████████                      | 4/8 [00:02<00:02,  1.42it/s]"
     ]
    },
    {
     "name": "stdout",
     "output_type": "stream",
     "text": [
      "Ada , Precision: 0.743902439024\n"
     ]
    },
    {
     "name": "stderr",
     "output_type": "stream",
     "text": [
      "\r",
      " 62%|███████████████████████████▌                | 5/8 [00:04<00:02,  1.11it/s]"
     ]
    },
    {
     "name": "stdout",
     "output_type": "stream",
     "text": [
      "NB , Precision: 0.48275862069\n",
      "XGB , Precision: 0.765432098765\n"
     ]
    },
    {
     "name": "stderr",
     "output_type": "stream",
     "text": [
      "\r",
      " 88%|██████████████████████████████████████▌     | 7/8 [00:05<00:00,  1.32it/s]"
     ]
    },
    {
     "name": "stdout",
     "output_type": "stream",
     "text": [
      "SVM , Precision: 0.555555555556\n"
     ]
    },
    {
     "name": "stderr",
     "output_type": "stream",
     "text": [
      "100%|████████████████████████████████████████████| 8/8 [00:06<00:00,  1.27it/s]\n"
     ]
    },
    {
     "name": "stdout",
     "output_type": "stream",
     "text": [
      "9\n"
     ]
    },
    {
     "name": "stderr",
     "output_type": "stream",
     "text": [
      "100%|██████████████████████████████████████████| 17/17 [03:03<00:00, 10.74s/it]\n"
     ]
    },
    {
     "name": "stdout",
     "output_type": "stream",
     "text": [
      "Positive trainning sample size: 370 \n",
      "\n",
      "Random Under Sampling\n"
     ]
    },
    {
     "name": "stderr",
     "output_type": "stream",
     "text": [
      "100%|██████████████████████████████████████████| 18/18 [00:19<00:00,  1.10s/it]\n"
     ]
    },
    {
     "name": "stdout",
     "output_type": "stream",
     "text": [
      "Negative trainning sample size: 370 \n",
      "\n"
     ]
    },
    {
     "name": "stderr",
     "output_type": "stream",
     "text": [
      "\r",
      "  0%|                                                    | 0/8 [00:00<?, ?it/s]"
     ]
    },
    {
     "name": "stdout",
     "output_type": "stream",
     "text": [
      "KNN , Precision: 0.571428571429\n"
     ]
    },
    {
     "name": "stderr",
     "output_type": "stream",
     "text": [
      "\r",
      " 12%|█████▌                                      | 1/8 [00:00<00:03,  2.06it/s]"
     ]
    },
    {
     "name": "stdout",
     "output_type": "stream",
     "text": [
      "RF , Precision: 0.776119402985\n"
     ]
    },
    {
     "name": "stderr",
     "output_type": "stream",
     "text": [
      "\r",
      " 25%|███████████                                 | 2/8 [00:00<00:02,  2.41it/s]"
     ]
    },
    {
     "name": "stdout",
     "output_type": "stream",
     "text": [
      "GBDT , Precision: 0.824324324324\n"
     ]
    },
    {
     "name": "stderr",
     "output_type": "stream",
     "text": [
      "\r",
      " 38%|████████████████▌                           | 3/8 [00:02<00:04,  1.12it/s]"
     ]
    },
    {
     "name": "stdout",
     "output_type": "stream",
     "text": [
      "LR , Precision: 0.756097560976\n"
     ]
    },
    {
     "name": "stderr",
     "output_type": "stream",
     "text": [
      "\r",
      " 50%|██████████████████████                      | 4/8 [00:02<00:02,  1.42it/s]"
     ]
    },
    {
     "name": "stdout",
     "output_type": "stream",
     "text": [
      "Ada , Precision: 0.775\n"
     ]
    },
    {
     "name": "stderr",
     "output_type": "stream",
     "text": [
      "\r",
      " 62%|███████████████████████████▌                | 5/8 [00:04<00:02,  1.11it/s]"
     ]
    },
    {
     "name": "stdout",
     "output_type": "stream",
     "text": [
      "NB , Precision: 0.492957746479\n",
      "XGB , Precision: 0.79012345679\n"
     ]
    },
    {
     "name": "stderr",
     "output_type": "stream",
     "text": [
      "\r",
      " 88%|██████████████████████████████████████▌     | 7/8 [00:05<00:00,  1.32it/s]"
     ]
    },
    {
     "name": "stdout",
     "output_type": "stream",
     "text": [
      "SVM , Precision: 0.590909090909\n"
     ]
    },
    {
     "name": "stderr",
     "output_type": "stream",
     "text": [
      "100%|████████████████████████████████████████████| 8/8 [00:06<00:00,  1.26it/s]\n"
     ]
    },
    {
     "name": "stdout",
     "output_type": "stream",
     "text": [
      "10\n"
     ]
    },
    {
     "name": "stderr",
     "output_type": "stream",
     "text": [
      "100%|██████████████████████████████████████████| 17/17 [03:04<00:00, 10.79s/it]\n"
     ]
    },
    {
     "name": "stdout",
     "output_type": "stream",
     "text": [
      "Positive trainning sample size: 370 \n",
      "\n",
      "Random Under Sampling\n"
     ]
    },
    {
     "name": "stderr",
     "output_type": "stream",
     "text": [
      "100%|██████████████████████████████████████████| 18/18 [00:19<00:00,  1.10s/it]\n"
     ]
    },
    {
     "name": "stdout",
     "output_type": "stream",
     "text": [
      "Negative trainning sample size: 370 \n",
      "\n"
     ]
    },
    {
     "name": "stderr",
     "output_type": "stream",
     "text": [
      "\r",
      "  0%|                                                    | 0/8 [00:00<?, ?it/s]"
     ]
    },
    {
     "name": "stdout",
     "output_type": "stream",
     "text": [
      "KNN , Precision: 0.55421686747\n"
     ]
    },
    {
     "name": "stderr",
     "output_type": "stream",
     "text": [
      "\r",
      " 12%|█████▌                                      | 1/8 [00:00<00:03,  2.24it/s]"
     ]
    },
    {
     "name": "stdout",
     "output_type": "stream",
     "text": [
      "RF , Precision: 0.753246753247\n"
     ]
    },
    {
     "name": "stderr",
     "output_type": "stream",
     "text": [
      "\r",
      " 25%|███████████                                 | 2/8 [00:00<00:02,  2.58it/s]"
     ]
    },
    {
     "name": "stdout",
     "output_type": "stream",
     "text": [
      "GBDT , Precision: 0.837837837838\n"
     ]
    },
    {
     "name": "stderr",
     "output_type": "stream",
     "text": [
      "\r",
      " 38%|████████████████▌                           | 3/8 [00:02<00:04,  1.12it/s]"
     ]
    },
    {
     "name": "stdout",
     "output_type": "stream",
     "text": [
      "LR , Precision: 0.792207792208\n"
     ]
    },
    {
     "name": "stderr",
     "output_type": "stream",
     "text": [
      "\r",
      " 50%|██████████████████████                      | 4/8 [00:03<00:02,  1.41it/s]"
     ]
    },
    {
     "name": "stdout",
     "output_type": "stream",
     "text": [
      "Ada , Precision: 0.802469135802\n"
     ]
    },
    {
     "name": "stderr",
     "output_type": "stream",
     "text": [
      "\r",
      " 62%|███████████████████████████▌                | 5/8 [00:04<00:02,  1.10it/s]"
     ]
    },
    {
     "name": "stdout",
     "output_type": "stream",
     "text": [
      "NB , Precision: 0.496503496503\n",
      "XGB , Precision: 0.831168831169\n"
     ]
    },
    {
     "name": "stderr",
     "output_type": "stream",
     "text": [
      "\r",
      " 88%|██████████████████████████████████████▌     | 7/8 [00:05<00:00,  1.31it/s]"
     ]
    },
    {
     "name": "stdout",
     "output_type": "stream",
     "text": [
      "SVM , Precision: 0.555555555556\n"
     ]
    },
    {
     "name": "stderr",
     "output_type": "stream",
     "text": [
      "100%|████████████████████████████████████████████| 8/8 [00:06<00:00,  1.27it/s]\n"
     ]
    },
    {
     "name": "stdout",
     "output_type": "stream",
     "text": [
      "11\n"
     ]
    },
    {
     "name": "stderr",
     "output_type": "stream",
     "text": [
      "100%|██████████████████████████████████████████| 17/17 [03:03<00:00, 10.75s/it]\n"
     ]
    },
    {
     "name": "stdout",
     "output_type": "stream",
     "text": [
      "Positive trainning sample size: 370 \n",
      "\n",
      "Random Under Sampling\n"
     ]
    },
    {
     "name": "stderr",
     "output_type": "stream",
     "text": [
      "100%|██████████████████████████████████████████| 18/18 [00:20<00:00,  1.11s/it]\n"
     ]
    },
    {
     "name": "stdout",
     "output_type": "stream",
     "text": [
      "Negative trainning sample size: 370 \n",
      "\n"
     ]
    },
    {
     "name": "stderr",
     "output_type": "stream",
     "text": [
      "\r",
      "  0%|                                                    | 0/8 [00:00<?, ?it/s]"
     ]
    },
    {
     "name": "stdout",
     "output_type": "stream",
     "text": [
      "KNN , Precision: 0.586206896552\n"
     ]
    },
    {
     "name": "stderr",
     "output_type": "stream",
     "text": [
      "\r",
      " 12%|█████▌                                      | 1/8 [00:00<00:03,  2.19it/s]"
     ]
    },
    {
     "name": "stdout",
     "output_type": "stream",
     "text": [
      "RF , Precision: 0.765625\n"
     ]
    },
    {
     "name": "stderr",
     "output_type": "stream",
     "text": [
      "\r",
      " 25%|███████████                                 | 2/8 [00:00<00:02,  2.53it/s]"
     ]
    },
    {
     "name": "stdout",
     "output_type": "stream",
     "text": [
      "GBDT , Precision: 0.756097560976\n"
     ]
    },
    {
     "name": "stderr",
     "output_type": "stream",
     "text": [
      "\r",
      " 38%|████████████████▌                           | 3/8 [00:02<00:04,  1.12it/s]"
     ]
    },
    {
     "name": "stdout",
     "output_type": "stream",
     "text": [
      "LR , Precision: 0.792207792208\n"
     ]
    },
    {
     "name": "stderr",
     "output_type": "stream",
     "text": [
      "\r",
      " 50%|██████████████████████                      | 4/8 [00:03<00:02,  1.40it/s]"
     ]
    },
    {
     "name": "stdout",
     "output_type": "stream",
     "text": [
      "Ada , Precision: 0.74025974026\n"
     ]
    },
    {
     "name": "stderr",
     "output_type": "stream",
     "text": [
      "\r",
      " 62%|███████████████████████████▌                | 5/8 [00:04<00:02,  1.09it/s]"
     ]
    },
    {
     "name": "stdout",
     "output_type": "stream",
     "text": [
      "NB , Precision: 0.496503496503\n",
      "XGB , Precision: 0.7625\n"
     ]
    },
    {
     "name": "stderr",
     "output_type": "stream",
     "text": [
      "\r",
      " 88%|██████████████████████████████████████▌     | 7/8 [00:05<00:00,  1.30it/s]"
     ]
    },
    {
     "name": "stdout",
     "output_type": "stream",
     "text": [
      "SVM , Precision: 0.5\n"
     ]
    },
    {
     "name": "stderr",
     "output_type": "stream",
     "text": [
      "100%|████████████████████████████████████████████| 8/8 [00:06<00:00,  1.26it/s]\n"
     ]
    },
    {
     "name": "stdout",
     "output_type": "stream",
     "text": [
      "12\n"
     ]
    },
    {
     "name": "stderr",
     "output_type": "stream",
     "text": [
      "100%|██████████████████████████████████████████| 17/17 [03:04<00:00, 10.79s/it]\n"
     ]
    },
    {
     "name": "stdout",
     "output_type": "stream",
     "text": [
      "Positive trainning sample size: 370 \n",
      "\n",
      "Random Under Sampling\n"
     ]
    },
    {
     "name": "stderr",
     "output_type": "stream",
     "text": [
      "100%|██████████████████████████████████████████| 18/18 [00:20<00:00,  1.10s/it]\n"
     ]
    },
    {
     "name": "stdout",
     "output_type": "stream",
     "text": [
      "Negative trainning sample size: 370 \n",
      "\n"
     ]
    },
    {
     "name": "stderr",
     "output_type": "stream",
     "text": [
      "\r",
      "  0%|                                                    | 0/8 [00:00<?, ?it/s]"
     ]
    },
    {
     "name": "stdout",
     "output_type": "stream",
     "text": [
      "KNN , Precision: 0.661971830986\n"
     ]
    },
    {
     "name": "stderr",
     "output_type": "stream",
     "text": [
      "\r",
      " 12%|█████▌                                      | 1/8 [00:00<00:03,  2.13it/s]"
     ]
    },
    {
     "name": "stdout",
     "output_type": "stream",
     "text": [
      "RF , Precision: 0.876923076923\n"
     ]
    },
    {
     "name": "stderr",
     "output_type": "stream",
     "text": [
      "\r",
      " 25%|███████████                                 | 2/8 [00:00<00:02,  2.45it/s]"
     ]
    },
    {
     "name": "stdout",
     "output_type": "stream",
     "text": [
      "GBDT , Precision: 0.833333333333\n"
     ]
    },
    {
     "name": "stderr",
     "output_type": "stream",
     "text": [
      "\r",
      " 38%|████████████████▌                           | 3/8 [00:02<00:04,  1.10it/s]"
     ]
    },
    {
     "name": "stdout",
     "output_type": "stream",
     "text": [
      "LR , Precision: 0.802631578947\n"
     ]
    },
    {
     "name": "stderr",
     "output_type": "stream",
     "text": [
      "\r",
      " 50%|██████████████████████                      | 4/8 [00:03<00:02,  1.34it/s]"
     ]
    },
    {
     "name": "stdout",
     "output_type": "stream",
     "text": [
      "Ada , Precision: 0.835616438356\n"
     ]
    },
    {
     "name": "stderr",
     "output_type": "stream",
     "text": [
      "\r",
      " 62%|███████████████████████████▌                | 5/8 [00:04<00:02,  1.07it/s]"
     ]
    },
    {
     "name": "stdout",
     "output_type": "stream",
     "text": [
      "NB , Precision: 0.489655172414\n",
      "XGB , Precision: 0.835616438356\n"
     ]
    },
    {
     "name": "stderr",
     "output_type": "stream",
     "text": [
      "\r",
      " 88%|██████████████████████████████████████▌     | 7/8 [00:05<00:00,  1.24it/s]"
     ]
    },
    {
     "name": "stdout",
     "output_type": "stream",
     "text": [
      "SVM , Precision: 0.652173913043\n"
     ]
    },
    {
     "name": "stderr",
     "output_type": "stream",
     "text": [
      "100%|████████████████████████████████████████████| 8/8 [00:06<00:00,  1.21it/s]\n"
     ]
    },
    {
     "name": "stdout",
     "output_type": "stream",
     "text": [
      "13\n"
     ]
    },
    {
     "name": "stderr",
     "output_type": "stream",
     "text": [
      "100%|██████████████████████████████████████████| 17/17 [03:03<00:00, 10.74s/it]\n"
     ]
    },
    {
     "name": "stdout",
     "output_type": "stream",
     "text": [
      "Positive trainning sample size: 370 \n",
      "\n",
      "Random Under Sampling\n"
     ]
    },
    {
     "name": "stderr",
     "output_type": "stream",
     "text": [
      "100%|██████████████████████████████████████████| 18/18 [00:19<00:00,  1.10s/it]\n"
     ]
    },
    {
     "name": "stdout",
     "output_type": "stream",
     "text": [
      "Negative trainning sample size: 370 \n",
      "\n"
     ]
    },
    {
     "name": "stderr",
     "output_type": "stream",
     "text": [
      "\r",
      "  0%|                                                    | 0/8 [00:00<?, ?it/s]"
     ]
    },
    {
     "name": "stdout",
     "output_type": "stream",
     "text": [
      "KNN , Precision: 0.602739726027\n"
     ]
    },
    {
     "name": "stderr",
     "output_type": "stream",
     "text": [
      "\r",
      " 12%|█████▌                                      | 1/8 [00:00<00:03,  2.20it/s]"
     ]
    },
    {
     "name": "stdout",
     "output_type": "stream",
     "text": [
      "RF , Precision: 0.786666666667\n"
     ]
    },
    {
     "name": "stderr",
     "output_type": "stream",
     "text": [
      "\r",
      " 25%|███████████                                 | 2/8 [00:00<00:02,  2.55it/s]"
     ]
    },
    {
     "name": "stdout",
     "output_type": "stream",
     "text": [
      "GBDT , Precision: 0.779220779221\n"
     ]
    },
    {
     "name": "stderr",
     "output_type": "stream",
     "text": [
      "\r",
      " 38%|████████████████▌                           | 3/8 [00:02<00:04,  1.11it/s]"
     ]
    },
    {
     "name": "stdout",
     "output_type": "stream",
     "text": [
      "LR , Precision: 0.689655172414\n"
     ]
    },
    {
     "name": "stderr",
     "output_type": "stream",
     "text": [
      "\r",
      " 50%|██████████████████████                      | 4/8 [00:03<00:03,  1.33it/s]"
     ]
    },
    {
     "name": "stdout",
     "output_type": "stream",
     "text": [
      "Ada , Precision: 0.772151898734\n"
     ]
    },
    {
     "name": "stderr",
     "output_type": "stream",
     "text": [
      "\r",
      " 62%|███████████████████████████▌                | 5/8 [00:04<00:02,  1.07it/s]"
     ]
    },
    {
     "name": "stdout",
     "output_type": "stream",
     "text": [
      "NB , Precision: 0.489655172414\n",
      "XGB , Precision: 0.794871794872\n"
     ]
    },
    {
     "name": "stderr",
     "output_type": "stream",
     "text": [
      "\r",
      " 88%|██████████████████████████████████████▌     | 7/8 [00:05<00:00,  1.29it/s]"
     ]
    },
    {
     "name": "stdout",
     "output_type": "stream",
     "text": [
      "SVM , Precision: 0.590909090909\n"
     ]
    },
    {
     "name": "stderr",
     "output_type": "stream",
     "text": [
      "100%|████████████████████████████████████████████| 8/8 [00:06<00:00,  1.24it/s]\n"
     ]
    },
    {
     "name": "stdout",
     "output_type": "stream",
     "text": [
      "14\n"
     ]
    },
    {
     "name": "stderr",
     "output_type": "stream",
     "text": [
      "100%|██████████████████████████████████████████| 17/17 [03:04<00:00, 10.79s/it]\n"
     ]
    },
    {
     "name": "stdout",
     "output_type": "stream",
     "text": [
      "Positive trainning sample size: 370 \n",
      "\n",
      "Random Under Sampling\n"
     ]
    },
    {
     "name": "stderr",
     "output_type": "stream",
     "text": [
      "100%|██████████████████████████████████████████| 18/18 [00:19<00:00,  1.10s/it]\n"
     ]
    },
    {
     "name": "stdout",
     "output_type": "stream",
     "text": [
      "Negative trainning sample size: 370 \n",
      "\n"
     ]
    },
    {
     "name": "stderr",
     "output_type": "stream",
     "text": [
      "\r",
      "  0%|                                                    | 0/8 [00:00<?, ?it/s]"
     ]
    },
    {
     "name": "stdout",
     "output_type": "stream",
     "text": [
      "KNN , Precision: 0.595238095238\n"
     ]
    },
    {
     "name": "stderr",
     "output_type": "stream",
     "text": [
      "\r",
      " 12%|█████▌                                      | 1/8 [00:00<00:03,  2.16it/s]"
     ]
    },
    {
     "name": "stdout",
     "output_type": "stream",
     "text": [
      "RF , Precision: 0.682926829268\n"
     ]
    },
    {
     "name": "stderr",
     "output_type": "stream",
     "text": [
      "\r",
      " 25%|███████████                                 | 2/8 [00:00<00:02,  2.54it/s]"
     ]
    },
    {
     "name": "stdout",
     "output_type": "stream",
     "text": [
      "GBDT , Precision: 0.717948717949\n"
     ]
    },
    {
     "name": "stderr",
     "output_type": "stream",
     "text": [
      "\r",
      " 38%|████████████████▌                           | 3/8 [00:02<00:04,  1.11it/s]"
     ]
    },
    {
     "name": "stdout",
     "output_type": "stream",
     "text": [
      "LR , Precision: 0.7375\n"
     ]
    },
    {
     "name": "stderr",
     "output_type": "stream",
     "text": [
      "\r",
      " 50%|██████████████████████                      | 4/8 [00:03<00:02,  1.38it/s]"
     ]
    },
    {
     "name": "stdout",
     "output_type": "stream",
     "text": [
      "Ada , Precision: 0.756097560976\n"
     ]
    },
    {
     "name": "stderr",
     "output_type": "stream",
     "text": [
      "\r",
      " 62%|███████████████████████████▌                | 5/8 [00:04<00:02,  1.09it/s]"
     ]
    },
    {
     "name": "stdout",
     "output_type": "stream",
     "text": [
      "NB , Precision: 0.493055555556\n",
      "XGB , Precision: 0.740740740741\n"
     ]
    },
    {
     "name": "stderr",
     "output_type": "stream",
     "text": [
      "\r",
      " 88%|██████████████████████████████████████▌     | 7/8 [00:05<00:00,  1.30it/s]"
     ]
    },
    {
     "name": "stdout",
     "output_type": "stream",
     "text": [
      "SVM , Precision: 0.466666666667\n"
     ]
    },
    {
     "name": "stderr",
     "output_type": "stream",
     "text": [
      "100%|████████████████████████████████████████████| 8/8 [00:06<00:00,  1.26it/s]\n"
     ]
    }
   ],
   "source": [
    "p_df, r_df, f_df = pd.DataFrame(), pd.DataFrame(), pd.DataFrame()\n",
    "p_list, r_list, f_list, index = [], [], [], []\n",
    "\n",
    "RATIO = 1.0\n",
    "is_classification = True\n",
    "is_random = True\n",
    "\n",
    "column_word_vector_dict = {}\n",
    "performance_dict = {}\n",
    "# prediction_dict, y_test_dict = {}, {}\n",
    "\n",
    "input_type = 3\n",
    "\n",
    "\n",
    "for category in categoryID_list:\n",
    "    prediction = pd.DataFrame()\n",
    "    print category_dict[category], category \n",
    "    \n",
    "    for iteration in range(15):\n",
    "        print iteration\n",
    "        #Construct training distance mectrics\n",
    "        attr, dummy, train = read_csv_data(is_training_set=True, is_full=True, category=category)\n",
    "        train_distance = generate_distance_df(category, attr, dummy, train, column_word_vector_dict, is_training_set=True)\n",
    "\n",
    "        # Define problem type\n",
    "        if is_classification:\n",
    "            threshold = 0.5\n",
    "        else:\n",
    "            threshold = 0.0\n",
    "\n",
    "        train_distance_positive, train_distance_negative = separate_positive_negative(train_distance, threshold)\n",
    "        train_positive, train_megative = separate_positive_negative(train, threshold)    \n",
    "        print 'Positive trainning sample size:', len(train_positive), '\\n'\n",
    "\n",
    "        #Construct testing distance mectrics\n",
    "        attr, dummy, test = read_csv_data(is_training_set=False, is_full=True, category=category)\n",
    "        sampled_test = down_sample_testset(train_distance_positive, test, RATIO, is_random)\n",
    "        test_distance = generate_distance_df(category, attr, dummy, sampled_test, column_word_vector_dict, is_training_set=False)\n",
    "        print 'Negative trainning sample size:', len(test_distance), '\\n'\n",
    "\n",
    "\n",
    "        if is_classification:\n",
    "            train_positive['Label'] = 1.0\n",
    "            train_distance_positive['Label'] = 1.0\n",
    "        test_distance['Label'] = 0.0\n",
    "\n",
    "        # Make sure that they split with the same random state!!!!\n",
    "        # Construct features\n",
    "        X_train, X_test, y_train, y_test = generate_model_input(\n",
    "            train_positive, sampled_test, train_distance_positive, test_distance, input_type=input_type, random_state=2015)\n",
    "\n",
    "\n",
    "        for key in tqdm.tqdm(model_dict.keys()):\n",
    "            model = model_dict[key]['model']\n",
    "            p_list, r_list, f_list, index = [], [], [], []\n",
    "\n",
    "            # Evaluation\n",
    "            if is_classification:\n",
    "                p, r, f =  clf_model_evaluation(model, X_train, y_train, X_test, y_test, iteration=10, verbose=False)\n",
    "            else:\n",
    "                mse, mae, r2, p, r, f =  reg_model_evaluation(model, X_train, y_train, X_test, y_test, iteration=20, threshold=0.50, verbose=False)\n",
    "\n",
    "            p_list.append(p)\n",
    "            r_list.append(r)\n",
    "            f_list.append(f)\n",
    "\n",
    "            model.fit(X_train, y_train)\n",
    "            p = pd.Series(model.predict(X_test))\n",
    "            print key, ', Precision:', precision_score(y_test, p)\n",
    "            prediction = pd.concat([prediction, pd.Series(model.predict(X_test))], axis=1)\n",
    "\n",
    "            p_df[key] = pd.Series(p_list)\n",
    "            r_df[key] = pd.Series(r_list)\n",
    "            f_df[key] = pd.Series(f_list)\n",
    "        \n",
    "\n",
    "    prediction_dict[category] = prediction\n",
    "    y_test_dict[category] = y_test\n"
   ]
  },
  {
   "cell_type": "code",
   "execution_count": 25,
   "metadata": {
    "scrolled": true
   },
   "outputs": [
    {
     "data": {
      "text/plain": [
       "{1623:        0    0    0    0    0    0    0    0    0    0 ...     0    0    0  \\\n",
       " 0    1.0  1.0  1.0  1.0  1.0  1.0  1.0  1.0  1.0  1.0 ...   1.0  1.0  1.0   \n",
       " 1    0.0  0.0  0.0  0.0  0.0  0.0  0.0  0.0  0.0  0.0 ...   0.0  1.0  0.0   \n",
       " 2    1.0  1.0  1.0  1.0  1.0  1.0  1.0  1.0  1.0  1.0 ...   1.0  1.0  1.0   \n",
       " 3    0.0  1.0  1.0  1.0  1.0  1.0  1.0  0.0  0.0  1.0 ...   1.0  0.0  0.0   \n",
       " 4    1.0  1.0  1.0  0.0  1.0  1.0  1.0  1.0  1.0  1.0 ...   1.0  1.0  1.0   \n",
       " 5    1.0  1.0  1.0  1.0  1.0  1.0  1.0  1.0  1.0  1.0 ...   1.0  1.0  1.0   \n",
       " 6    0.0  0.0  1.0  1.0  1.0  1.0  1.0  0.0  0.0  0.0 ...   1.0  0.0  0.0   \n",
       " 7    0.0  0.0  0.0  0.0  0.0  1.0  0.0  0.0  0.0  0.0 ...   0.0  1.0  0.0   \n",
       " 8    1.0  1.0  1.0  1.0  1.0  1.0  1.0  1.0  1.0  1.0 ...   1.0  1.0  1.0   \n",
       " 9    1.0  1.0  1.0  1.0  1.0  1.0  1.0  1.0  1.0  1.0 ...   1.0  1.0  1.0   \n",
       " 10   0.0  0.0  0.0  0.0  0.0  1.0  0.0  0.0  1.0  0.0 ...   0.0  0.0  1.0   \n",
       " 11   0.0  1.0  1.0  1.0  1.0  1.0  1.0  0.0  0.0  1.0 ...   1.0  0.0  0.0   \n",
       " 12   1.0  1.0  1.0  1.0  1.0  1.0  1.0  1.0  1.0  1.0 ...   1.0  1.0  1.0   \n",
       " 13   1.0  1.0  1.0  1.0  1.0  1.0  1.0  1.0  1.0  1.0 ...   1.0  1.0  1.0   \n",
       " 14   0.0  0.0  0.0  0.0  0.0  0.0  0.0  0.0  0.0  0.0 ...   0.0  0.0  0.0   \n",
       " 15   0.0  1.0  1.0  1.0  1.0  1.0  1.0  0.0  0.0  1.0 ...   1.0  0.0  1.0   \n",
       " 16   0.0  0.0  1.0  1.0  1.0  1.0  1.0  1.0  1.0  1.0 ...   1.0  1.0  1.0   \n",
       " 17   1.0  1.0  1.0  1.0  1.0  1.0  1.0  1.0  1.0  1.0 ...   1.0  1.0  1.0   \n",
       " 18   0.0  0.0  0.0  0.0  0.0  0.0  0.0  0.0  1.0  0.0 ...   0.0  0.0  1.0   \n",
       " 19   0.0  1.0  1.0  1.0  1.0  1.0  1.0  0.0  1.0  1.0 ...   1.0  1.0  1.0   \n",
       " 20   0.0  1.0  1.0  1.0  1.0  1.0  1.0  0.0  0.0  1.0 ...   1.0  0.0  0.0   \n",
       " 21   1.0  1.0  1.0  1.0  1.0  1.0  1.0  1.0  1.0  1.0 ...   1.0  1.0  1.0   \n",
       " 22   1.0  0.0  0.0  0.0  0.0  1.0  0.0  1.0  1.0  0.0 ...   0.0  0.0  0.0   \n",
       " 23   1.0  1.0  1.0  1.0  1.0  1.0  1.0  1.0  1.0  1.0 ...   1.0  1.0  1.0   \n",
       " 24   1.0  1.0  1.0  1.0  1.0  1.0  1.0  1.0  1.0  1.0 ...   1.0  1.0  1.0   \n",
       " 25   1.0  1.0  1.0  1.0  1.0  1.0  1.0  1.0  1.0  1.0 ...   1.0  1.0  1.0   \n",
       " 26   0.0  0.0  0.0  0.0  0.0  0.0  0.0  0.0  0.0  0.0 ...   0.0  1.0  0.0   \n",
       " 27   0.0  0.0  0.0  1.0  0.0  1.0  1.0  0.0  0.0  1.0 ...   1.0  0.0  0.0   \n",
       " 28   1.0  1.0  1.0  1.0  1.0  1.0  1.0  1.0  1.0  1.0 ...   1.0  1.0  1.0   \n",
       " 29   1.0  1.0  1.0  0.0  1.0  1.0  1.0  1.0  0.0  0.0 ...   0.0  1.0  1.0   \n",
       " ..   ...  ...  ...  ...  ...  ...  ...  ...  ...  ... ...   ...  ...  ...   \n",
       " 300  1.0  0.0  0.0  0.0  0.0  1.0  0.0  0.0  0.0  0.0 ...   0.0  1.0  0.0   \n",
       " 301  0.0  0.0  0.0  0.0  0.0  1.0  0.0  0.0  0.0  0.0 ...   0.0  1.0  1.0   \n",
       " 302  0.0  0.0  1.0  0.0  1.0  1.0  0.0  0.0  0.0  0.0 ...   0.0  1.0  0.0   \n",
       " 303  0.0  1.0  1.0  1.0  1.0  1.0  1.0  0.0  0.0  1.0 ...   1.0  0.0  0.0   \n",
       " 304  0.0  0.0  0.0  0.0  0.0  0.0  0.0  0.0  0.0  0.0 ...   0.0  0.0  0.0   \n",
       " 305  1.0  1.0  1.0  1.0  1.0  1.0  1.0  0.0  1.0  1.0 ...   1.0  0.0  1.0   \n",
       " 306  1.0  0.0  0.0  0.0  0.0  1.0  0.0  0.0  0.0  0.0 ...   0.0  1.0  0.0   \n",
       " 307  0.0  0.0  1.0  1.0  1.0  1.0  1.0  0.0  0.0  0.0 ...   1.0  0.0  0.0   \n",
       " 308  0.0  0.0  0.0  0.0  0.0  0.0  0.0  0.0  0.0  0.0 ...   1.0  0.0  0.0   \n",
       " 309  1.0  1.0  1.0  1.0  1.0  1.0  1.0  1.0  1.0  1.0 ...   1.0  1.0  1.0   \n",
       " 310  0.0  0.0  0.0  0.0  0.0  0.0  0.0  0.0  0.0  0.0 ...   0.0  1.0  1.0   \n",
       " 311  1.0  0.0  0.0  0.0  0.0  1.0  0.0  1.0  0.0  1.0 ...   0.0  0.0  0.0   \n",
       " 312  1.0  1.0  1.0  1.0  1.0  1.0  1.0  1.0  1.0  1.0 ...   1.0  1.0  1.0   \n",
       " 313  1.0  1.0  1.0  1.0  1.0  1.0  1.0  0.0  1.0  1.0 ...   1.0  0.0  1.0   \n",
       " 314  1.0  0.0  0.0  0.0  0.0  1.0  0.0  1.0  0.0  0.0 ...   0.0  0.0  1.0   \n",
       " 315  1.0  1.0  1.0  1.0  1.0  1.0  1.0  0.0  1.0  1.0 ...   1.0  0.0  1.0   \n",
       " 316  1.0  1.0  1.0  1.0  1.0  1.0  1.0  0.0  0.0  1.0 ...   1.0  0.0  1.0   \n",
       " 317  1.0  0.0  0.0  0.0  0.0  1.0  0.0  1.0  0.0  0.0 ...   0.0  1.0  0.0   \n",
       " 318  1.0  0.0  0.0  0.0  0.0  1.0  0.0  1.0  1.0  0.0 ...   0.0  0.0  1.0   \n",
       " 319  0.0  0.0  0.0  0.0  0.0  0.0  0.0  0.0  0.0  0.0 ...   0.0  0.0  1.0   \n",
       " 320  0.0  0.0  0.0  0.0  0.0  1.0  0.0  0.0  1.0  0.0 ...   0.0  0.0  1.0   \n",
       " 321  0.0  1.0  1.0  1.0  1.0  1.0  1.0  0.0  0.0  1.0 ...   1.0  0.0  0.0   \n",
       " 322  0.0  1.0  1.0  1.0  1.0  1.0  1.0  0.0  0.0  1.0 ...   1.0  0.0  1.0   \n",
       " 323  0.0  0.0  1.0  1.0  1.0  1.0  1.0  0.0  0.0  1.0 ...   1.0  0.0  0.0   \n",
       " 324  0.0  0.0  0.0  0.0  0.0  1.0  0.0  0.0  1.0  0.0 ...   0.0  0.0  0.0   \n",
       " 325  1.0  1.0  1.0  1.0  1.0  1.0  1.0  1.0  0.0  0.0 ...   0.0  0.0  0.0   \n",
       " 326  0.0  0.0  0.0  0.0  0.0  0.0  0.0  0.0  0.0  0.0 ...   0.0  0.0  0.0   \n",
       " 327  1.0  1.0  1.0  1.0  1.0  1.0  1.0  1.0  1.0  1.0 ...   1.0  1.0  1.0   \n",
       " 328  0.0  0.0  0.0  0.0  0.0  1.0  0.0  0.0  0.0  0.0 ...   0.0  0.0  1.0   \n",
       " 329  0.0  0.0  0.0  0.0  0.0  0.0  0.0  0.0  0.0  0.0 ...   0.0  0.0  0.0   \n",
       " \n",
       "        0    0    0    0    0    0    0  \n",
       " 0    1.0  1.0  1.0  1.0  1.0  1.0  0.0  \n",
       " 1    0.0  0.0  0.0  0.0  0.0  0.0  0.0  \n",
       " 2    0.0  1.0  1.0  1.0  1.0  1.0  1.0  \n",
       " 3    0.0  1.0  1.0  1.0  1.0  1.0  0.0  \n",
       " 4    0.0  1.0  1.0  1.0  1.0  1.0  0.0  \n",
       " 5    1.0  1.0  1.0  1.0  1.0  1.0  1.0  \n",
       " 6    1.0  1.0  1.0  1.0  1.0  1.0  0.0  \n",
       " 7    0.0  0.0  0.0  0.0  1.0  0.0  0.0  \n",
       " 8    1.0  1.0  1.0  1.0  1.0  1.0  1.0  \n",
       " 9    1.0  1.0  1.0  1.0  1.0  1.0  1.0  \n",
       " 10   0.0  0.0  0.0  0.0  1.0  0.0  0.0  \n",
       " 11   1.0  1.0  1.0  1.0  1.0  1.0  0.0  \n",
       " 12   1.0  1.0  1.0  1.0  1.0  1.0  1.0  \n",
       " 13   1.0  1.0  1.0  1.0  1.0  1.0  1.0  \n",
       " 14   0.0  0.0  0.0  0.0  1.0  0.0  0.0  \n",
       " 15   1.0  1.0  1.0  1.0  1.0  1.0  0.0  \n",
       " 16   0.0  1.0  1.0  1.0  1.0  1.0  1.0  \n",
       " 17   1.0  1.0  1.0  1.0  1.0  1.0  1.0  \n",
       " 18   0.0  0.0  0.0  0.0  1.0  0.0  1.0  \n",
       " 19   1.0  1.0  1.0  1.0  1.0  1.0  1.0  \n",
       " 20   1.0  1.0  1.0  1.0  1.0  1.0  0.0  \n",
       " 21   1.0  1.0  1.0  1.0  1.0  1.0  1.0  \n",
       " 22   0.0  0.0  0.0  0.0  1.0  0.0  0.0  \n",
       " 23   1.0  1.0  1.0  1.0  1.0  1.0  1.0  \n",
       " 24   1.0  1.0  1.0  1.0  1.0  1.0  1.0  \n",
       " 25   1.0  1.0  1.0  1.0  1.0  1.0  1.0  \n",
       " 26   0.0  0.0  0.0  0.0  0.0  0.0  0.0  \n",
       " 27   0.0  1.0  1.0  1.0  1.0  0.0  0.0  \n",
       " 28   1.0  1.0  1.0  1.0  1.0  1.0  1.0  \n",
       " 29   0.0  0.0  0.0  0.0  0.0  0.0  0.0  \n",
       " ..   ...  ...  ...  ...  ...  ...  ...  \n",
       " 300  0.0  1.0  1.0  0.0  1.0  0.0  0.0  \n",
       " 301  0.0  0.0  1.0  0.0  1.0  0.0  0.0  \n",
       " 302  0.0  0.0  0.0  0.0  0.0  0.0  0.0  \n",
       " 303  0.0  1.0  1.0  1.0  1.0  1.0  0.0  \n",
       " 304  0.0  0.0  0.0  0.0  0.0  0.0  0.0  \n",
       " 305  1.0  1.0  1.0  1.0  1.0  1.0  0.0  \n",
       " 306  0.0  0.0  0.0  0.0  1.0  0.0  0.0  \n",
       " 307  0.0  0.0  0.0  0.0  0.0  0.0  0.0  \n",
       " 308  0.0  0.0  0.0  1.0  1.0  0.0  0.0  \n",
       " 309  1.0  1.0  1.0  1.0  1.0  1.0  1.0  \n",
       " 310  0.0  0.0  0.0  0.0  0.0  0.0  0.0  \n",
       " 311  0.0  0.0  0.0  0.0  1.0  0.0  0.0  \n",
       " 312  1.0  1.0  1.0  1.0  1.0  1.0  1.0  \n",
       " 313  1.0  1.0  1.0  1.0  1.0  1.0  0.0  \n",
       " 314  0.0  0.0  0.0  0.0  1.0  0.0  0.0  \n",
       " 315  0.0  1.0  1.0  1.0  1.0  1.0  0.0  \n",
       " 316  1.0  1.0  1.0  1.0  1.0  1.0  0.0  \n",
       " 317  0.0  1.0  1.0  1.0  1.0  1.0  0.0  \n",
       " 318  0.0  0.0  0.0  0.0  1.0  0.0  0.0  \n",
       " 319  0.0  0.0  0.0  0.0  1.0  0.0  0.0  \n",
       " 320  1.0  0.0  1.0  0.0  1.0  1.0  0.0  \n",
       " 321  1.0  1.0  1.0  1.0  1.0  1.0  1.0  \n",
       " 322  1.0  1.0  1.0  1.0  1.0  1.0  1.0  \n",
       " 323  0.0  1.0  1.0  1.0  1.0  1.0  0.0  \n",
       " 324  0.0  0.0  0.0  0.0  0.0  0.0  0.0  \n",
       " 325  0.0  0.0  0.0  0.0  0.0  0.0  0.0  \n",
       " 326  0.0  0.0  0.0  0.0  0.0  0.0  0.0  \n",
       " 327  1.0  1.0  1.0  1.0  1.0  1.0  1.0  \n",
       " 328  1.0  1.0  0.0  1.0  1.0  1.0  0.0  \n",
       " 329  0.0  0.0  0.0  0.0  0.0  0.0  0.0  \n",
       " \n",
       " [330 rows x 120 columns],\n",
       " 162103:        0    0    0    0    0    0    0    0    0    0 ...     0    0    0  \\\n",
       " 0    1.0  0.0  1.0  1.0  1.0  1.0  1.0  0.0  1.0  1.0 ...   1.0  0.0  1.0   \n",
       " 1    0.0  0.0  0.0  0.0  0.0  0.0  0.0  0.0  1.0  0.0 ...   0.0  0.0  0.0   \n",
       " 2    1.0  1.0  1.0  1.0  1.0  1.0  1.0  1.0  1.0  1.0 ...   1.0  1.0  1.0   \n",
       " 3    0.0  0.0  0.0  0.0  0.0  0.0  0.0  0.0  0.0  0.0 ...   0.0  0.0  0.0   \n",
       " 4    1.0  1.0  1.0  1.0  1.0  1.0  1.0  1.0  1.0  1.0 ...   1.0  1.0  1.0   \n",
       " 5    0.0  0.0  0.0  0.0  0.0  0.0  0.0  0.0  0.0  0.0 ...   0.0  0.0  0.0   \n",
       " 6    1.0  0.0  0.0  0.0  0.0  1.0  0.0  1.0  1.0  1.0 ...   0.0  0.0  0.0   \n",
       " 7    1.0  0.0  0.0  0.0  0.0  0.0  0.0  0.0  0.0  0.0 ...   0.0  0.0  0.0   \n",
       " 8    1.0  1.0  1.0  1.0  1.0  0.0  1.0  0.0  1.0  1.0 ...   1.0  0.0  1.0   \n",
       " 9    1.0  0.0  0.0  0.0  0.0  0.0  0.0  0.0  0.0  0.0 ...   0.0  0.0  0.0   \n",
       " 10   1.0  1.0  1.0  1.0  1.0  1.0  1.0  1.0  1.0  1.0 ...   1.0  1.0  1.0   \n",
       " 11   1.0  0.0  1.0  1.0  1.0  1.0  1.0  1.0  1.0  1.0 ...   1.0  1.0  1.0   \n",
       " 12   0.0  0.0  1.0  1.0  1.0  0.0  1.0  0.0  0.0  0.0 ...   1.0  0.0  0.0   \n",
       " 13   0.0  0.0  0.0  0.0  0.0  0.0  0.0  0.0  1.0  0.0 ...   1.0  0.0  0.0   \n",
       " 14   1.0  1.0  1.0  1.0  1.0  0.0  1.0  0.0  1.0  1.0 ...   1.0  0.0  1.0   \n",
       " 15   1.0  0.0  0.0  0.0  0.0  0.0  0.0  0.0  0.0  0.0 ...   0.0  0.0  1.0   \n",
       " 16   0.0  0.0  0.0  0.0  0.0  0.0  0.0  0.0  0.0  0.0 ...   0.0  0.0  1.0   \n",
       " 17   1.0  1.0  1.0  1.0  1.0  1.0  1.0  1.0  1.0  1.0 ...   1.0  1.0  1.0   \n",
       " 18   1.0  1.0  1.0  1.0  0.0  1.0  1.0  1.0  1.0  1.0 ...   1.0  1.0  1.0   \n",
       " 19   1.0  1.0  1.0  1.0  1.0  1.0  1.0  1.0  1.0  1.0 ...   1.0  1.0  1.0   \n",
       " 20   0.0  0.0  0.0  0.0  0.0  0.0  0.0  0.0  1.0  0.0 ...   0.0  0.0  0.0   \n",
       " 21   0.0  0.0  0.0  0.0  0.0  0.0  0.0  0.0  0.0  0.0 ...   0.0  0.0  0.0   \n",
       " 22   1.0  1.0  1.0  1.0  1.0  1.0  1.0  1.0  1.0  1.0 ...   1.0  1.0  1.0   \n",
       " 23   1.0  0.0  0.0  0.0  0.0  0.0  0.0  0.0  0.0  0.0 ...   0.0  0.0  0.0   \n",
       " 24   1.0  1.0  1.0  1.0  1.0  1.0  1.0  0.0  1.0  1.0 ...   1.0  0.0  0.0   \n",
       " 25   0.0  0.0  0.0  0.0  0.0  0.0  0.0  0.0  0.0  0.0 ...   0.0  0.0  1.0   \n",
       " 26   1.0  1.0  1.0  1.0  1.0  1.0  1.0  1.0  1.0  1.0 ...   1.0  1.0  1.0   \n",
       " 27   1.0  1.0  1.0  1.0  1.0  1.0  1.0  1.0  1.0  1.0 ...   1.0  1.0  1.0   \n",
       " 28   1.0  1.0  1.0  1.0  1.0  0.0  1.0  1.0  1.0  1.0 ...   1.0  1.0  1.0   \n",
       " 29   1.0  1.0  1.0  1.0  1.0  0.0  1.0  0.0  1.0  1.0 ...   1.0  0.0  1.0   \n",
       " ..   ...  ...  ...  ...  ...  ...  ...  ...  ...  ... ...   ...  ...  ...   \n",
       " 116  1.0  1.0  1.0  1.0  1.0  1.0  1.0  1.0  1.0  1.0 ...   1.0  1.0  1.0   \n",
       " 117  1.0  1.0  1.0  1.0  1.0  1.0  1.0  0.0  1.0  1.0 ...   1.0  0.0  1.0   \n",
       " 118  1.0  0.0  0.0  0.0  0.0  0.0  0.0  1.0  0.0  0.0 ...   0.0  0.0  1.0   \n",
       " 119  0.0  0.0  0.0  0.0  0.0  0.0  0.0  0.0  0.0  0.0 ...   0.0  0.0  0.0   \n",
       " 120  1.0  1.0  0.0  1.0  0.0  1.0  1.0  0.0  1.0  0.0 ...   1.0  0.0  1.0   \n",
       " 121  0.0  0.0  0.0  0.0  0.0  0.0  0.0  0.0  0.0  0.0 ...   0.0  0.0  0.0   \n",
       " 122  1.0  0.0  0.0  0.0  0.0  0.0  0.0  0.0  0.0  0.0 ...   0.0  0.0  0.0   \n",
       " 123  0.0  0.0  0.0  0.0  0.0  0.0  0.0  0.0  0.0  0.0 ...   0.0  0.0  0.0   \n",
       " 124  1.0  1.0  1.0  1.0  1.0  0.0  1.0  0.0  1.0  1.0 ...   1.0  0.0  1.0   \n",
       " 125  1.0  1.0  1.0  1.0  1.0  1.0  1.0  1.0  1.0  1.0 ...   1.0  1.0  1.0   \n",
       " 126  0.0  0.0  0.0  0.0  0.0  0.0  0.0  0.0  0.0  0.0 ...   0.0  0.0  0.0   \n",
       " 127  0.0  1.0  1.0  1.0  1.0  1.0  1.0  0.0  0.0  1.0 ...   1.0  1.0  1.0   \n",
       " 128  0.0  0.0  0.0  1.0  0.0  1.0  0.0  0.0  0.0  0.0 ...   0.0  0.0  0.0   \n",
       " 129  0.0  0.0  0.0  0.0  0.0  0.0  0.0  0.0  0.0  0.0 ...   0.0  0.0  0.0   \n",
       " 130  0.0  0.0  0.0  0.0  0.0  0.0  0.0  0.0  0.0  0.0 ...   0.0  0.0  1.0   \n",
       " 131  0.0  0.0  0.0  0.0  0.0  0.0  0.0  0.0  0.0  0.0 ...   0.0  0.0  0.0   \n",
       " 132  0.0  0.0  0.0  0.0  0.0  0.0  0.0  0.0  0.0  0.0 ...   0.0  0.0  0.0   \n",
       " 133  0.0  0.0  0.0  0.0  0.0  0.0  0.0  0.0  0.0  0.0 ...   0.0  0.0  1.0   \n",
       " 134  1.0  1.0  1.0  1.0  1.0  1.0  1.0  0.0  1.0  1.0 ...   1.0  0.0  1.0   \n",
       " 135  1.0  1.0  1.0  1.0  1.0  1.0  1.0  0.0  1.0  1.0 ...   1.0  0.0  1.0   \n",
       " 136  0.0  0.0  0.0  0.0  0.0  0.0  0.0  0.0  1.0  0.0 ...   0.0  0.0  1.0   \n",
       " 137  0.0  0.0  0.0  0.0  0.0  0.0  0.0  0.0  0.0  0.0 ...   0.0  0.0  0.0   \n",
       " 138  1.0  0.0  1.0  1.0  1.0  1.0  1.0  0.0  1.0  1.0 ...   1.0  0.0  0.0   \n",
       " 139  1.0  1.0  1.0  1.0  1.0  1.0  1.0  1.0  1.0  1.0 ...   1.0  1.0  1.0   \n",
       " 140  0.0  0.0  0.0  0.0  0.0  0.0  0.0  0.0  0.0  0.0 ...   0.0  1.0  0.0   \n",
       " 141  0.0  0.0  0.0  0.0  1.0  0.0  0.0  0.0  0.0  0.0 ...   1.0  0.0  0.0   \n",
       " 142  0.0  0.0  0.0  0.0  0.0  0.0  0.0  0.0  0.0  0.0 ...   0.0  0.0  1.0   \n",
       " 143  0.0  0.0  0.0  0.0  0.0  0.0  0.0  0.0  0.0  0.0 ...   0.0  0.0  0.0   \n",
       " 144  1.0  1.0  1.0  1.0  1.0  1.0  1.0  1.0  1.0  1.0 ...   1.0  1.0  1.0   \n",
       " 145  0.0  0.0  0.0  0.0  0.0  0.0  0.0  0.0  0.0  0.0 ...   0.0  0.0  0.0   \n",
       " \n",
       "        0    0    0    0    0    0    0  \n",
       " 0    1.0  1.0  1.0  1.0  1.0  1.0  0.0  \n",
       " 1    0.0  0.0  0.0  0.0  0.0  0.0  0.0  \n",
       " 2    1.0  1.0  1.0  1.0  1.0  1.0  1.0  \n",
       " 3    0.0  0.0  0.0  0.0  0.0  0.0  0.0  \n",
       " 4    1.0  1.0  1.0  1.0  1.0  1.0  1.0  \n",
       " 5    0.0  0.0  0.0  0.0  0.0  0.0  0.0  \n",
       " 6    0.0  0.0  0.0  0.0  0.0  0.0  0.0  \n",
       " 7    0.0  0.0  0.0  0.0  0.0  0.0  0.0  \n",
       " 8    1.0  1.0  1.0  1.0  1.0  1.0  0.0  \n",
       " 9    0.0  0.0  0.0  0.0  0.0  0.0  0.0  \n",
       " 10   1.0  1.0  1.0  1.0  1.0  1.0  1.0  \n",
       " 11   1.0  1.0  1.0  1.0  1.0  1.0  1.0  \n",
       " 12   0.0  1.0  1.0  1.0  0.0  1.0  0.0  \n",
       " 13   1.0  0.0  0.0  0.0  1.0  0.0  0.0  \n",
       " 14   1.0  1.0  1.0  1.0  1.0  1.0  0.0  \n",
       " 15   0.0  0.0  0.0  0.0  0.0  0.0  0.0  \n",
       " 16   0.0  0.0  0.0  0.0  0.0  0.0  1.0  \n",
       " 17   1.0  1.0  1.0  1.0  1.0  1.0  1.0  \n",
       " 18   0.0  1.0  1.0  1.0  1.0  1.0  1.0  \n",
       " 19   1.0  1.0  1.0  1.0  1.0  1.0  1.0  \n",
       " 20   0.0  0.0  0.0  0.0  0.0  1.0  0.0  \n",
       " 21   0.0  0.0  0.0  0.0  0.0  0.0  0.0  \n",
       " 22   1.0  1.0  1.0  1.0  1.0  1.0  1.0  \n",
       " 23   0.0  0.0  0.0  0.0  0.0  0.0  0.0  \n",
       " 24   1.0  1.0  1.0  1.0  1.0  1.0  0.0  \n",
       " 25   0.0  0.0  0.0  0.0  0.0  0.0  0.0  \n",
       " 26   1.0  1.0  1.0  1.0  1.0  1.0  1.0  \n",
       " 27   1.0  1.0  1.0  1.0  1.0  1.0  1.0  \n",
       " 28   1.0  1.0  1.0  1.0  0.0  1.0  1.0  \n",
       " 29   1.0  1.0  1.0  1.0  1.0  1.0  0.0  \n",
       " ..   ...  ...  ...  ...  ...  ...  ...  \n",
       " 116  1.0  1.0  1.0  1.0  1.0  1.0  1.0  \n",
       " 117  1.0  1.0  1.0  1.0  1.0  1.0  0.0  \n",
       " 118  0.0  0.0  0.0  0.0  0.0  0.0  1.0  \n",
       " 119  0.0  0.0  0.0  0.0  0.0  0.0  0.0  \n",
       " 120  0.0  1.0  1.0  0.0  1.0  1.0  0.0  \n",
       " 121  0.0  0.0  0.0  0.0  0.0  0.0  0.0  \n",
       " 122  0.0  0.0  0.0  0.0  0.0  0.0  0.0  \n",
       " 123  0.0  0.0  0.0  0.0  0.0  0.0  0.0  \n",
       " 124  1.0  1.0  1.0  1.0  1.0  1.0  0.0  \n",
       " 125  1.0  1.0  1.0  1.0  1.0  1.0  1.0  \n",
       " 126  0.0  0.0  0.0  0.0  0.0  0.0  0.0  \n",
       " 127  0.0  1.0  1.0  1.0  1.0  1.0  1.0  \n",
       " 128  0.0  0.0  0.0  0.0  0.0  0.0  0.0  \n",
       " 129  0.0  0.0  0.0  0.0  0.0  0.0  0.0  \n",
       " 130  0.0  0.0  0.0  0.0  0.0  0.0  1.0  \n",
       " 131  0.0  0.0  0.0  0.0  0.0  0.0  0.0  \n",
       " 132  0.0  0.0  0.0  0.0  0.0  0.0  0.0  \n",
       " 133  0.0  0.0  0.0  0.0  1.0  0.0  0.0  \n",
       " 134  1.0  1.0  1.0  1.0  1.0  1.0  0.0  \n",
       " 135  1.0  1.0  1.0  1.0  1.0  1.0  0.0  \n",
       " 136  0.0  0.0  0.0  0.0  0.0  0.0  0.0  \n",
       " 137  0.0  0.0  0.0  0.0  0.0  0.0  0.0  \n",
       " 138  1.0  1.0  1.0  1.0  1.0  1.0  1.0  \n",
       " 139  1.0  1.0  1.0  1.0  1.0  1.0  1.0  \n",
       " 140  0.0  0.0  0.0  0.0  0.0  0.0  0.0  \n",
       " 141  0.0  0.0  0.0  0.0  0.0  0.0  0.0  \n",
       " 142  1.0  0.0  0.0  0.0  1.0  0.0  1.0  \n",
       " 143  0.0  0.0  0.0  0.0  0.0  0.0  0.0  \n",
       " 144  1.0  1.0  1.0  1.0  1.0  1.0  1.0  \n",
       " 145  0.0  0.0  0.0  0.0  0.0  0.0  0.0  \n",
       " \n",
       " [146 rows x 120 columns],\n",
       " 162104:        0    0    0    0    0    0    0    0    0    0 ...     0    0    0  \\\n",
       " 0    0.0  0.0  0.0  0.0  0.0  0.0  0.0  0.0  0.0  0.0 ...   0.0  0.0  1.0   \n",
       " 1    0.0  0.0  0.0  0.0  0.0  0.0  1.0  0.0  0.0  0.0 ...   1.0  0.0  0.0   \n",
       " 2    1.0  1.0  1.0  1.0  1.0  1.0  1.0  1.0  1.0  1.0 ...   1.0  1.0  1.0   \n",
       " 3    1.0  1.0  1.0  1.0  1.0  0.0  1.0  0.0  1.0  1.0 ...   1.0  0.0  1.0   \n",
       " 4    0.0  0.0  0.0  0.0  0.0  0.0  0.0  0.0  1.0  1.0 ...   0.0  0.0  0.0   \n",
       " 5    1.0  1.0  1.0  1.0  1.0  0.0  1.0  1.0  0.0  1.0 ...   0.0  0.0  0.0   \n",
       " 6    1.0  1.0  1.0  1.0  1.0  1.0  1.0  0.0  1.0  1.0 ...   1.0  0.0  1.0   \n",
       " 7    0.0  0.0  0.0  0.0  0.0  0.0  1.0  0.0  1.0  1.0 ...   0.0  0.0  0.0   \n",
       " 8    0.0  0.0  0.0  1.0  0.0  0.0  1.0  0.0  0.0  0.0 ...   1.0  0.0  0.0   \n",
       " 9    0.0  0.0  0.0  1.0  0.0  0.0  1.0  0.0  1.0  0.0 ...   0.0  1.0  0.0   \n",
       " 10   0.0  0.0  0.0  0.0  0.0  0.0  0.0  0.0  1.0  1.0 ...   0.0  0.0  1.0   \n",
       " 11   0.0  0.0  0.0  0.0  0.0  0.0  0.0  0.0  1.0  0.0 ...   0.0  0.0  0.0   \n",
       " 12   1.0  1.0  1.0  1.0  1.0  1.0  1.0  0.0  1.0  1.0 ...   1.0  0.0  1.0   \n",
       " 13   0.0  0.0  1.0  1.0  1.0  0.0  1.0  1.0  1.0  0.0 ...   1.0  0.0  1.0   \n",
       " 14   0.0  0.0  0.0  0.0  0.0  0.0  0.0  0.0  0.0  0.0 ...   0.0  0.0  1.0   \n",
       " 15   0.0  0.0  0.0  0.0  0.0  0.0  0.0  0.0  0.0  0.0 ...   1.0  1.0  0.0   \n",
       " 16   1.0  0.0  0.0  0.0  0.0  0.0  0.0  0.0  0.0  0.0 ...   0.0  0.0  0.0   \n",
       " 17   0.0  0.0  0.0  0.0  0.0  0.0  0.0  0.0  0.0  0.0 ...   0.0  0.0  0.0   \n",
       " 18   0.0  1.0  0.0  0.0  0.0  0.0  0.0  1.0  0.0  1.0 ...   1.0  1.0  1.0   \n",
       " 19   1.0  1.0  1.0  1.0  1.0  0.0  1.0  0.0  1.0  1.0 ...   1.0  0.0  1.0   \n",
       " 20   1.0  0.0  1.0  1.0  1.0  0.0  1.0  0.0  1.0  1.0 ...   0.0  0.0  0.0   \n",
       " 21   0.0  0.0  0.0  0.0  0.0  0.0  0.0  0.0  0.0  0.0 ...   1.0  0.0  1.0   \n",
       " 22   0.0  0.0  0.0  0.0  0.0  0.0  0.0  0.0  0.0  0.0 ...   0.0  0.0  0.0   \n",
       " 23   0.0  0.0  0.0  0.0  0.0  0.0  0.0  0.0  1.0  1.0 ...   0.0  0.0  0.0   \n",
       " 24   0.0  0.0  0.0  0.0  0.0  0.0  0.0  0.0  0.0  0.0 ...   0.0  0.0  0.0   \n",
       " 25   0.0  0.0  0.0  0.0  0.0  0.0  0.0  0.0  0.0  1.0 ...   0.0  0.0  0.0   \n",
       " 26   1.0  1.0  1.0  1.0  1.0  0.0  1.0  0.0  1.0  1.0 ...   1.0  0.0  1.0   \n",
       " 27   0.0  0.0  0.0  0.0  0.0  0.0  0.0  1.0  1.0  0.0 ...   0.0  1.0  1.0   \n",
       " 28   1.0  0.0  0.0  0.0  0.0  0.0  0.0  0.0  0.0  1.0 ...   1.0  1.0  0.0   \n",
       " 29   0.0  0.0  0.0  0.0  0.0  0.0  0.0  0.0  0.0  0.0 ...   0.0  0.0  0.0   \n",
       " ..   ...  ...  ...  ...  ...  ...  ...  ...  ...  ... ...   ...  ...  ...   \n",
       " 150  0.0  0.0  0.0  0.0  0.0  0.0  0.0  0.0  1.0  0.0 ...   0.0  0.0  0.0   \n",
       " 151  1.0  0.0  0.0  0.0  0.0  0.0  0.0  0.0  0.0  0.0 ...   0.0  1.0  0.0   \n",
       " 152  1.0  1.0  1.0  0.0  0.0  0.0  1.0  0.0  1.0  0.0 ...   1.0  0.0  1.0   \n",
       " 153  0.0  0.0  0.0  0.0  0.0  0.0  0.0  0.0  0.0  0.0 ...   0.0  0.0  0.0   \n",
       " 154  1.0  1.0  1.0  1.0  1.0  1.0  1.0  1.0  1.0  1.0 ...   1.0  1.0  1.0   \n",
       " 155  0.0  0.0  0.0  0.0  0.0  0.0  0.0  0.0  0.0  0.0 ...   0.0  0.0  1.0   \n",
       " 156  1.0  0.0  0.0  0.0  0.0  0.0  0.0  1.0  1.0  0.0 ...   0.0  0.0  0.0   \n",
       " 157  1.0  1.0  1.0  1.0  1.0  0.0  1.0  1.0  1.0  1.0 ...   1.0  1.0  1.0   \n",
       " 158  0.0  0.0  0.0  1.0  0.0  0.0  1.0  0.0  0.0  0.0 ...   0.0  0.0  0.0   \n",
       " 159  0.0  0.0  0.0  0.0  0.0  0.0  0.0  0.0  0.0  0.0 ...   0.0  0.0  0.0   \n",
       " 160  1.0  1.0  1.0  1.0  1.0  1.0  1.0  0.0  1.0  1.0 ...   1.0  0.0  1.0   \n",
       " 161  0.0  0.0  0.0  0.0  1.0  0.0  0.0  0.0  0.0  1.0 ...   0.0  0.0  0.0   \n",
       " 162  1.0  0.0  0.0  1.0  0.0  0.0  1.0  1.0  1.0  1.0 ...   0.0  0.0  1.0   \n",
       " 163  0.0  0.0  0.0  0.0  0.0  0.0  1.0  0.0  1.0  1.0 ...   0.0  0.0  0.0   \n",
       " 164  1.0  1.0  1.0  0.0  0.0  0.0  1.0  1.0  0.0  0.0 ...   1.0  0.0  0.0   \n",
       " 165  1.0  0.0  0.0  0.0  0.0  0.0  0.0  0.0  0.0  0.0 ...   0.0  0.0  1.0   \n",
       " 166  0.0  0.0  0.0  0.0  0.0  0.0  0.0  0.0  0.0  0.0 ...   0.0  0.0  0.0   \n",
       " 167  1.0  1.0  1.0  1.0  1.0  1.0  1.0  1.0  1.0  1.0 ...   1.0  1.0  1.0   \n",
       " 168  0.0  0.0  0.0  1.0  0.0  0.0  0.0  0.0  0.0  1.0 ...   0.0  0.0  0.0   \n",
       " 169  1.0  1.0  1.0  1.0  1.0  0.0  1.0  1.0  1.0  1.0 ...   1.0  1.0  1.0   \n",
       " 170  1.0  1.0  1.0  1.0  1.0  1.0  1.0  0.0  1.0  1.0 ...   1.0  0.0  1.0   \n",
       " 171  1.0  0.0  0.0  1.0  0.0  0.0  1.0  1.0  1.0  1.0 ...   1.0  1.0  1.0   \n",
       " 172  0.0  1.0  1.0  1.0  1.0  0.0  1.0  0.0  0.0  0.0 ...   1.0  1.0  1.0   \n",
       " 173  1.0  1.0  1.0  1.0  1.0  1.0  1.0  0.0  1.0  1.0 ...   1.0  0.0  1.0   \n",
       " 174  0.0  0.0  0.0  0.0  0.0  0.0  0.0  0.0  0.0  0.0 ...   0.0  0.0  1.0   \n",
       " 175  0.0  0.0  0.0  0.0  0.0  0.0  0.0  0.0  1.0  1.0 ...   0.0  0.0  0.0   \n",
       " 176  0.0  0.0  0.0  0.0  0.0  0.0  0.0  0.0  0.0  0.0 ...   0.0  0.0  0.0   \n",
       " 177  1.0  1.0  1.0  1.0  1.0  0.0  1.0  1.0  1.0  1.0 ...   1.0  0.0  1.0   \n",
       " 178  0.0  1.0  1.0  0.0  1.0  0.0  1.0  0.0  0.0  0.0 ...   0.0  0.0  0.0   \n",
       " 179  0.0  0.0  1.0  1.0  1.0  0.0  1.0  1.0  1.0  1.0 ...   1.0  1.0  1.0   \n",
       " \n",
       "        0    0    0    0    0    0    0  \n",
       " 0    1.0  1.0  0.0  1.0  1.0  1.0  0.0  \n",
       " 1    0.0  0.0  0.0  1.0  1.0  1.0  0.0  \n",
       " 2    1.0  1.0  1.0  1.0  1.0  1.0  1.0  \n",
       " 3    1.0  1.0  1.0  1.0  1.0  1.0  0.0  \n",
       " 4    0.0  0.0  0.0  0.0  0.0  0.0  0.0  \n",
       " 5    0.0  0.0  0.0  0.0  1.0  0.0  1.0  \n",
       " 6    1.0  1.0  1.0  1.0  1.0  1.0  0.0  \n",
       " 7    1.0  1.0  0.0  0.0  0.0  0.0  0.0  \n",
       " 8    0.0  0.0  0.0  0.0  0.0  1.0  0.0  \n",
       " 9    0.0  0.0  0.0  0.0  0.0  0.0  0.0  \n",
       " 10   0.0  0.0  0.0  0.0  0.0  0.0  0.0  \n",
       " 11   1.0  1.0  0.0  1.0  1.0  1.0  0.0  \n",
       " 12   1.0  1.0  1.0  1.0  1.0  1.0  0.0  \n",
       " 13   1.0  1.0  1.0  1.0  1.0  1.0  0.0  \n",
       " 14   1.0  1.0  1.0  1.0  1.0  1.0  0.0  \n",
       " 15   0.0  0.0  0.0  0.0  0.0  0.0  0.0  \n",
       " 16   0.0  0.0  0.0  0.0  0.0  0.0  0.0  \n",
       " 17   1.0  0.0  0.0  0.0  0.0  0.0  0.0  \n",
       " 18   1.0  1.0  0.0  1.0  0.0  1.0  1.0  \n",
       " 19   1.0  1.0  1.0  1.0  1.0  1.0  1.0  \n",
       " 20   0.0  1.0  1.0  1.0  0.0  1.0  0.0  \n",
       " 21   0.0  0.0  0.0  1.0  0.0  1.0  1.0  \n",
       " 22   0.0  0.0  0.0  0.0  0.0  0.0  0.0  \n",
       " 23   1.0  0.0  0.0  0.0  0.0  0.0  0.0  \n",
       " 24   1.0  1.0  0.0  1.0  0.0  1.0  0.0  \n",
       " 25   1.0  1.0  0.0  0.0  1.0  1.0  0.0  \n",
       " 26   1.0  1.0  1.0  1.0  1.0  1.0  0.0  \n",
       " 27   0.0  0.0  0.0  0.0  0.0  0.0  0.0  \n",
       " 28   0.0  0.0  0.0  0.0  0.0  0.0  0.0  \n",
       " 29   0.0  0.0  0.0  0.0  0.0  0.0  0.0  \n",
       " ..   ...  ...  ...  ...  ...  ...  ...  \n",
       " 150  0.0  1.0  0.0  1.0  1.0  1.0  0.0  \n",
       " 151  0.0  0.0  0.0  0.0  0.0  0.0  0.0  \n",
       " 152  1.0  1.0  0.0  1.0  1.0  1.0  0.0  \n",
       " 153  0.0  0.0  0.0  0.0  0.0  0.0  0.0  \n",
       " 154  1.0  1.0  1.0  1.0  1.0  1.0  1.0  \n",
       " 155  1.0  1.0  1.0  1.0  1.0  1.0  1.0  \n",
       " 156  0.0  0.0  0.0  0.0  0.0  0.0  0.0  \n",
       " 157  1.0  1.0  1.0  1.0  1.0  1.0  1.0  \n",
       " 158  0.0  0.0  0.0  0.0  0.0  1.0  0.0  \n",
       " 159  0.0  0.0  0.0  0.0  0.0  0.0  0.0  \n",
       " 160  1.0  1.0  1.0  1.0  1.0  1.0  0.0  \n",
       " 161  0.0  0.0  0.0  0.0  0.0  0.0  0.0  \n",
       " 162  0.0  1.0  1.0  1.0  1.0  1.0  1.0  \n",
       " 163  0.0  0.0  0.0  0.0  0.0  0.0  0.0  \n",
       " 164  0.0  0.0  0.0  0.0  0.0  0.0  0.0  \n",
       " 165  0.0  1.0  1.0  1.0  1.0  1.0  0.0  \n",
       " 166  0.0  0.0  0.0  0.0  0.0  0.0  0.0  \n",
       " 167  1.0  1.0  1.0  1.0  1.0  1.0  1.0  \n",
       " 168  0.0  0.0  0.0  0.0  0.0  0.0  0.0  \n",
       " 169  1.0  1.0  1.0  1.0  0.0  1.0  1.0  \n",
       " 170  1.0  1.0  1.0  1.0  1.0  1.0  0.0  \n",
       " 171  1.0  1.0  1.0  1.0  1.0  1.0  1.0  \n",
       " 172  1.0  1.0  1.0  1.0  1.0  1.0  0.0  \n",
       " 173  1.0  1.0  1.0  1.0  1.0  1.0  0.0  \n",
       " 174  0.0  0.0  0.0  0.0  0.0  0.0  0.0  \n",
       " 175  0.0  1.0  0.0  0.0  0.0  1.0  0.0  \n",
       " 176  1.0  1.0  1.0  1.0  1.0  1.0  0.0  \n",
       " 177  1.0  1.0  1.0  1.0  1.0  1.0  1.0  \n",
       " 178  0.0  0.0  0.0  0.0  0.0  0.0  0.0  \n",
       " 179  0.0  1.0  1.0  1.0  1.0  1.0  1.0  \n",
       " \n",
       " [180 rows x 120 columns],\n",
       " 162116:       0    0    0    0    0    0    0    0    0    0 ...     0    0    0    0  \\\n",
       " 0   0.0  0.0  1.0  0.0  0.0  0.0  0.0  1.0  0.0  0.0 ...   0.0  1.0  0.0  0.0   \n",
       " 1   1.0  1.0  1.0  1.0  1.0  1.0  1.0  1.0  1.0  1.0 ...   1.0  1.0  1.0  1.0   \n",
       " 2   0.0  0.0  0.0  0.0  0.0  0.0  0.0  1.0  0.0  0.0 ...   0.0  1.0  0.0  0.0   \n",
       " 3   1.0  1.0  1.0  1.0  1.0  1.0  1.0  1.0  1.0  1.0 ...   1.0  1.0  1.0  1.0   \n",
       " 4   1.0  1.0  1.0  1.0  1.0  1.0  1.0  1.0  1.0  1.0 ...   1.0  1.0  1.0  1.0   \n",
       " 5   1.0  1.0  1.0  1.0  1.0  1.0  1.0  1.0  1.0  1.0 ...   1.0  1.0  1.0  1.0   \n",
       " 6   0.0  0.0  0.0  0.0  0.0  0.0  0.0  1.0  0.0  0.0 ...   0.0  1.0  0.0  0.0   \n",
       " 7   1.0  0.0  0.0  1.0  0.0  0.0  1.0  1.0  1.0  1.0 ...   1.0  1.0  1.0  1.0   \n",
       " 8   1.0  0.0  0.0  1.0  0.0  1.0  1.0  1.0  0.0  0.0 ...   0.0  1.0  0.0  0.0   \n",
       " 9   1.0  1.0  0.0  1.0  0.0  1.0  1.0  1.0  1.0  0.0 ...   1.0  1.0  1.0  0.0   \n",
       " 10  1.0  1.0  1.0  1.0  1.0  1.0  1.0  1.0  1.0  1.0 ...   1.0  1.0  1.0  1.0   \n",
       " 11  0.0  0.0  0.0  0.0  0.0  0.0  0.0  1.0  0.0  0.0 ...   0.0  1.0  0.0  0.0   \n",
       " 12  0.0  0.0  0.0  0.0  0.0  0.0  0.0  0.0  1.0  0.0 ...   1.0  1.0  0.0  0.0   \n",
       " 13  1.0  1.0  1.0  1.0  1.0  1.0  1.0  1.0  1.0  1.0 ...   1.0  1.0  1.0  1.0   \n",
       " 14  0.0  0.0  0.0  0.0  0.0  0.0  0.0  0.0  0.0  0.0 ...   0.0  0.0  0.0  0.0   \n",
       " 15  0.0  0.0  0.0  0.0  0.0  0.0  0.0  1.0  0.0  0.0 ...   1.0  1.0  0.0  0.0   \n",
       " 16  1.0  0.0  0.0  1.0  0.0  1.0  0.0  1.0  0.0  0.0 ...   0.0  1.0  0.0  0.0   \n",
       " 17  0.0  0.0  0.0  0.0  0.0  0.0  0.0  1.0  0.0  0.0 ...   0.0  1.0  0.0  1.0   \n",
       " 18  1.0  1.0  1.0  1.0  1.0  1.0  1.0  1.0  1.0  1.0 ...   1.0  1.0  1.0  1.0   \n",
       " 19  1.0  1.0  1.0  1.0  1.0  1.0  1.0  1.0  1.0  1.0 ...   1.0  1.0  1.0  1.0   \n",
       " 20  1.0  1.0  1.0  1.0  1.0  1.0  1.0  1.0  1.0  1.0 ...   1.0  1.0  1.0  1.0   \n",
       " 21  0.0  0.0  0.0  0.0  0.0  0.0  0.0  0.0  1.0  0.0 ...   0.0  1.0  0.0  0.0   \n",
       " 22  0.0  0.0  0.0  0.0  0.0  0.0  0.0  0.0  0.0  0.0 ...   0.0  1.0  0.0  0.0   \n",
       " 23  1.0  1.0  1.0  1.0  1.0  1.0  1.0  1.0  1.0  1.0 ...   1.0  1.0  1.0  1.0   \n",
       " 24  1.0  1.0  1.0  1.0  1.0  1.0  1.0  1.0  1.0  1.0 ...   1.0  1.0  1.0  1.0   \n",
       " 25  0.0  0.0  0.0  0.0  0.0  0.0  0.0  0.0  0.0  0.0 ...   0.0  0.0  0.0  0.0   \n",
       " 26  0.0  0.0  0.0  0.0  0.0  0.0  0.0  1.0  0.0  0.0 ...   0.0  0.0  0.0  0.0   \n",
       " 27  1.0  1.0  1.0  1.0  1.0  1.0  1.0  1.0  1.0  1.0 ...   1.0  1.0  1.0  1.0   \n",
       " 28  1.0  1.0  1.0  1.0  1.0  1.0  1.0  1.0  1.0  1.0 ...   1.0  1.0  1.0  1.0   \n",
       " 29  0.0  0.0  0.0  0.0  0.0  0.0  0.0  0.0  1.0  0.0 ...   0.0  0.0  0.0  0.0   \n",
       " ..  ...  ...  ...  ...  ...  ...  ...  ...  ...  ... ...   ...  ...  ...  ...   \n",
       " 43  1.0  0.0  0.0  0.0  0.0  0.0  0.0  1.0  0.0  0.0 ...   0.0  1.0  0.0  0.0   \n",
       " 44  0.0  0.0  0.0  0.0  0.0  0.0  0.0  0.0  0.0  0.0 ...   0.0  1.0  0.0  0.0   \n",
       " 45  0.0  0.0  0.0  0.0  0.0  0.0  0.0  0.0  0.0  0.0 ...   0.0  0.0  0.0  0.0   \n",
       " 46  0.0  0.0  0.0  0.0  0.0  0.0  0.0  1.0  0.0  0.0 ...   0.0  1.0  0.0  0.0   \n",
       " 47  1.0  1.0  1.0  0.0  0.0  1.0  1.0  1.0  0.0  0.0 ...   0.0  1.0  0.0  0.0   \n",
       " 48  1.0  1.0  1.0  1.0  1.0  1.0  1.0  1.0  1.0  1.0 ...   1.0  1.0  1.0  1.0   \n",
       " 49  0.0  0.0  0.0  0.0  0.0  0.0  0.0  1.0  0.0  0.0 ...   0.0  0.0  0.0  0.0   \n",
       " 50  1.0  1.0  1.0  1.0  1.0  1.0  1.0  1.0  1.0  1.0 ...   1.0  1.0  1.0  1.0   \n",
       " 51  0.0  0.0  0.0  0.0  0.0  0.0  0.0  1.0  0.0  0.0 ...   0.0  0.0  0.0  0.0   \n",
       " 52  1.0  1.0  1.0  1.0  1.0  1.0  1.0  1.0  1.0  1.0 ...   1.0  1.0  1.0  1.0   \n",
       " 53  1.0  1.0  1.0  1.0  1.0  1.0  1.0  1.0  1.0  1.0 ...   1.0  1.0  1.0  1.0   \n",
       " 54  0.0  0.0  1.0  1.0  1.0  0.0  1.0  0.0  0.0  0.0 ...   1.0  0.0  0.0  1.0   \n",
       " 55  0.0  0.0  0.0  0.0  0.0  0.0  0.0  0.0  1.0  0.0 ...   0.0  1.0  0.0  0.0   \n",
       " 56  0.0  0.0  0.0  0.0  0.0  0.0  0.0  0.0  0.0  0.0 ...   0.0  1.0  0.0  0.0   \n",
       " 57  1.0  1.0  1.0  1.0  1.0  1.0  1.0  1.0  1.0  1.0 ...   1.0  1.0  1.0  1.0   \n",
       " 58  0.0  0.0  0.0  0.0  0.0  0.0  0.0  1.0  0.0  0.0 ...   0.0  1.0  0.0  0.0   \n",
       " 59  0.0  0.0  0.0  0.0  0.0  0.0  0.0  0.0  1.0  0.0 ...   0.0  1.0  0.0  0.0   \n",
       " 60  1.0  1.0  1.0  1.0  1.0  1.0  1.0  1.0  1.0  1.0 ...   1.0  1.0  1.0  1.0   \n",
       " 61  1.0  1.0  1.0  1.0  1.0  1.0  1.0  1.0  1.0  1.0 ...   1.0  1.0  1.0  1.0   \n",
       " 62  0.0  0.0  0.0  0.0  0.0  0.0  0.0  1.0  0.0  0.0 ...   0.0  0.0  0.0  1.0   \n",
       " 63  1.0  0.0  0.0  0.0  0.0  0.0  0.0  1.0  1.0  0.0 ...   0.0  1.0  0.0  0.0   \n",
       " 64  1.0  1.0  1.0  1.0  1.0  1.0  1.0  1.0  1.0  1.0 ...   1.0  1.0  1.0  1.0   \n",
       " 65  0.0  0.0  0.0  0.0  0.0  0.0  0.0  1.0  0.0  1.0 ...   0.0  1.0  1.0  0.0   \n",
       " 66  0.0  1.0  1.0  1.0  1.0  0.0  1.0  0.0  0.0  0.0 ...   1.0  0.0  0.0  1.0   \n",
       " 67  0.0  0.0  0.0  0.0  0.0  0.0  0.0  0.0  1.0  0.0 ...   0.0  1.0  1.0  0.0   \n",
       " 68  1.0  1.0  1.0  1.0  1.0  1.0  1.0  1.0  1.0  1.0 ...   1.0  1.0  1.0  1.0   \n",
       " 69  0.0  1.0  1.0  1.0  1.0  1.0  1.0  1.0  0.0  1.0 ...   1.0  1.0  0.0  1.0   \n",
       " 70  0.0  0.0  0.0  0.0  0.0  0.0  0.0  1.0  0.0  0.0 ...   0.0  0.0  1.0  0.0   \n",
       " 71  0.0  0.0  0.0  0.0  0.0  0.0  0.0  1.0  0.0  0.0 ...   0.0  1.0  0.0  0.0   \n",
       " 72  1.0  1.0  1.0  1.0  1.0  1.0  1.0  1.0  1.0  1.0 ...   1.0  1.0  1.0  1.0   \n",
       " \n",
       "       0    0    0    0    0    0  \n",
       " 0   0.0  0.0  0.0  0.0  0.0  0.0  \n",
       " 1   1.0  1.0  1.0  1.0  1.0  1.0  \n",
       " 2   0.0  0.0  0.0  0.0  0.0  0.0  \n",
       " 3   1.0  1.0  1.0  1.0  1.0  1.0  \n",
       " 4   1.0  1.0  1.0  1.0  1.0  1.0  \n",
       " 5   1.0  1.0  1.0  1.0  1.0  1.0  \n",
       " 6   0.0  0.0  0.0  0.0  0.0  0.0  \n",
       " 7   0.0  1.0  0.0  0.0  1.0  1.0  \n",
       " 8   0.0  0.0  0.0  0.0  0.0  1.0  \n",
       " 9   0.0  1.0  0.0  0.0  1.0  1.0  \n",
       " 10  1.0  1.0  1.0  0.0  1.0  1.0  \n",
       " 11  0.0  0.0  0.0  0.0  0.0  1.0  \n",
       " 12  0.0  0.0  0.0  0.0  0.0  1.0  \n",
       " 13  1.0  1.0  1.0  1.0  1.0  1.0  \n",
       " 14  0.0  0.0  0.0  0.0  0.0  0.0  \n",
       " 15  0.0  0.0  0.0  0.0  0.0  1.0  \n",
       " 16  0.0  0.0  0.0  0.0  0.0  1.0  \n",
       " 17  1.0  0.0  0.0  0.0  1.0  1.0  \n",
       " 18  1.0  1.0  1.0  1.0  1.0  1.0  \n",
       " 19  1.0  1.0  1.0  0.0  1.0  1.0  \n",
       " 20  1.0  1.0  1.0  1.0  1.0  1.0  \n",
       " 21  0.0  0.0  0.0  0.0  0.0  0.0  \n",
       " 22  0.0  0.0  0.0  0.0  0.0  1.0  \n",
       " 23  1.0  1.0  1.0  0.0  1.0  1.0  \n",
       " 24  1.0  1.0  1.0  1.0  1.0  1.0  \n",
       " 25  0.0  0.0  0.0  0.0  0.0  1.0  \n",
       " 26  0.0  0.0  0.0  0.0  0.0  0.0  \n",
       " 27  1.0  1.0  1.0  1.0  1.0  1.0  \n",
       " 28  1.0  1.0  1.0  1.0  1.0  1.0  \n",
       " 29  0.0  0.0  0.0  0.0  0.0  0.0  \n",
       " ..  ...  ...  ...  ...  ...  ...  \n",
       " 43  0.0  0.0  0.0  0.0  0.0  0.0  \n",
       " 44  0.0  0.0  0.0  0.0  0.0  1.0  \n",
       " 45  0.0  0.0  0.0  0.0  0.0  1.0  \n",
       " 46  0.0  0.0  0.0  0.0  0.0  1.0  \n",
       " 47  0.0  0.0  0.0  0.0  0.0  1.0  \n",
       " 48  1.0  1.0  1.0  1.0  1.0  1.0  \n",
       " 49  0.0  0.0  0.0  0.0  0.0  1.0  \n",
       " 50  1.0  1.0  1.0  0.0  0.0  1.0  \n",
       " 51  0.0  0.0  0.0  0.0  0.0  1.0  \n",
       " 52  1.0  1.0  1.0  1.0  1.0  1.0  \n",
       " 53  1.0  1.0  1.0  0.0  1.0  1.0  \n",
       " 54  1.0  0.0  1.0  0.0  1.0  0.0  \n",
       " 55  0.0  0.0  0.0  0.0  0.0  1.0  \n",
       " 56  0.0  0.0  0.0  0.0  0.0  0.0  \n",
       " 57  1.0  1.0  1.0  1.0  1.0  1.0  \n",
       " 58  0.0  0.0  0.0  0.0  0.0  1.0  \n",
       " 59  0.0  0.0  0.0  0.0  0.0  0.0  \n",
       " 60  1.0  1.0  1.0  0.0  1.0  1.0  \n",
       " 61  1.0  1.0  1.0  1.0  1.0  1.0  \n",
       " 62  1.0  0.0  1.0  0.0  0.0  0.0  \n",
       " 63  0.0  0.0  0.0  0.0  0.0  0.0  \n",
       " 64  1.0  1.0  1.0  1.0  1.0  1.0  \n",
       " 65  0.0  0.0  0.0  0.0  0.0  0.0  \n",
       " 66  1.0  1.0  0.0  0.0  1.0  0.0  \n",
       " 67  0.0  0.0  0.0  0.0  0.0  1.0  \n",
       " 68  1.0  1.0  1.0  1.0  0.0  1.0  \n",
       " 69  1.0  1.0  1.0  1.0  1.0  1.0  \n",
       " 70  0.0  0.0  0.0  0.0  0.0  0.0  \n",
       " 71  0.0  0.0  0.0  0.0  0.0  1.0  \n",
       " 72  1.0  1.0  1.0  1.0  1.0  1.0  \n",
       " \n",
       " [73 rows x 120 columns],\n",
       " 50000671:        0    0    0    0    0    0    0    0    0    0 ...     0    0    0  \\\n",
       " 0    1.0  1.0  1.0  1.0  1.0  0.0  1.0  0.0  1.0  1.0 ...   1.0  0.0  1.0   \n",
       " 1    1.0  1.0  1.0  0.0  1.0  0.0  1.0  1.0  1.0  0.0 ...   1.0  1.0  1.0   \n",
       " 2    1.0  1.0  1.0  1.0  1.0  0.0  1.0  1.0  1.0  1.0 ...   1.0  1.0  1.0   \n",
       " 3    1.0  1.0  1.0  1.0  1.0  0.0  1.0  0.0  1.0  1.0 ...   1.0  0.0  1.0   \n",
       " 4    0.0  0.0  0.0  0.0  0.0  0.0  0.0  0.0  1.0  0.0 ...   0.0  0.0  0.0   \n",
       " 5    1.0  1.0  1.0  1.0  1.0  0.0  1.0  1.0  1.0  1.0 ...   1.0  1.0  1.0   \n",
       " 6    0.0  0.0  0.0  0.0  0.0  0.0  0.0  0.0  1.0  0.0 ...   0.0  0.0  0.0   \n",
       " 7    0.0  0.0  0.0  0.0  0.0  0.0  0.0  0.0  0.0  0.0 ...   0.0  0.0  0.0   \n",
       " 8    1.0  1.0  1.0  1.0  1.0  0.0  1.0  1.0  1.0  1.0 ...   1.0  1.0  1.0   \n",
       " 9    1.0  0.0  0.0  0.0  0.0  0.0  1.0  1.0  1.0  0.0 ...   0.0  0.0  1.0   \n",
       " 10   0.0  0.0  0.0  0.0  0.0  0.0  0.0  0.0  0.0  0.0 ...   1.0  0.0  0.0   \n",
       " 11   0.0  0.0  1.0  1.0  1.0  0.0  1.0  0.0  0.0  0.0 ...   1.0  0.0  0.0   \n",
       " 12   1.0  1.0  1.0  1.0  1.0  0.0  1.0  1.0  1.0  1.0 ...   1.0  1.0  1.0   \n",
       " 13   0.0  1.0  1.0  1.0  1.0  0.0  1.0  0.0  0.0  1.0 ...   1.0  0.0  0.0   \n",
       " 14   1.0  1.0  1.0  1.0  1.0  0.0  1.0  1.0  1.0  1.0 ...   1.0  1.0  1.0   \n",
       " 15   1.0  1.0  1.0  1.0  1.0  0.0  1.0  1.0  1.0  1.0 ...   1.0  1.0  1.0   \n",
       " 16   1.0  1.0  1.0  1.0  1.0  0.0  1.0  1.0  1.0  1.0 ...   1.0  1.0  1.0   \n",
       " 17   0.0  0.0  1.0  1.0  1.0  0.0  1.0  0.0  0.0  0.0 ...   1.0  0.0  0.0   \n",
       " 18   0.0  0.0  0.0  0.0  0.0  0.0  0.0  0.0  0.0  0.0 ...   0.0  0.0  0.0   \n",
       " 19   0.0  0.0  0.0  0.0  0.0  0.0  0.0  0.0  1.0  0.0 ...   0.0  0.0  0.0   \n",
       " 20   0.0  0.0  0.0  0.0  0.0  0.0  0.0  0.0  0.0  0.0 ...   0.0  0.0  0.0   \n",
       " 21   1.0  1.0  1.0  1.0  1.0  0.0  0.0  1.0  0.0  0.0 ...   0.0  0.0  0.0   \n",
       " 22   1.0  1.0  1.0  1.0  1.0  0.0  1.0  0.0  1.0  1.0 ...   1.0  0.0  1.0   \n",
       " 23   1.0  1.0  1.0  1.0  1.0  0.0  1.0  1.0  1.0  1.0 ...   1.0  1.0  1.0   \n",
       " 24   1.0  1.0  1.0  1.0  1.0  0.0  1.0  1.0  1.0  1.0 ...   1.0  1.0  1.0   \n",
       " 25   1.0  1.0  1.0  1.0  1.0  0.0  1.0  0.0  1.0  1.0 ...   1.0  0.0  1.0   \n",
       " 26   0.0  1.0  1.0  1.0  1.0  0.0  1.0  0.0  0.0  1.0 ...   1.0  0.0  0.0   \n",
       " 27   0.0  0.0  0.0  0.0  0.0  0.0  0.0  0.0  0.0  1.0 ...   0.0  0.0  1.0   \n",
       " 28   0.0  1.0  0.0  0.0  0.0  0.0  0.0  0.0  1.0  1.0 ...   0.0  0.0  1.0   \n",
       " 29   0.0  0.0  1.0  0.0  1.0  0.0  1.0  0.0  0.0  1.0 ...   1.0  0.0  0.0   \n",
       " ..   ...  ...  ...  ...  ...  ...  ...  ...  ...  ... ...   ...  ...  ...   \n",
       " 372  0.0  0.0  0.0  0.0  0.0  0.0  0.0  0.0  0.0  0.0 ...   0.0  0.0  0.0   \n",
       " 373  0.0  0.0  0.0  0.0  0.0  0.0  0.0  0.0  0.0  0.0 ...   0.0  0.0  0.0   \n",
       " 374  0.0  0.0  0.0  0.0  0.0  0.0  0.0  0.0  0.0  0.0 ...   0.0  0.0  0.0   \n",
       " 375  0.0  0.0  0.0  0.0  0.0  0.0  0.0  0.0  0.0  0.0 ...   0.0  0.0  1.0   \n",
       " 376  0.0  1.0  1.0  1.0  1.0  0.0  1.0  0.0  0.0  1.0 ...   1.0  0.0  1.0   \n",
       " 377  1.0  1.0  1.0  1.0  1.0  0.0  1.0  1.0  1.0  1.0 ...   1.0  1.0  1.0   \n",
       " 378  1.0  1.0  0.0  0.0  0.0  0.0  0.0  1.0  0.0  0.0 ...   0.0  0.0  0.0   \n",
       " 379  1.0  1.0  1.0  1.0  1.0  0.0  1.0  0.0  1.0  1.0 ...   1.0  0.0  1.0   \n",
       " 380  1.0  1.0  1.0  1.0  1.0  0.0  1.0  1.0  1.0  1.0 ...   1.0  0.0  1.0   \n",
       " 381  0.0  0.0  0.0  0.0  0.0  0.0  0.0  0.0  1.0  1.0 ...   0.0  0.0  0.0   \n",
       " 382  1.0  1.0  1.0  1.0  1.0  0.0  1.0  0.0  1.0  0.0 ...   1.0  0.0  1.0   \n",
       " 383  1.0  1.0  1.0  1.0  1.0  0.0  1.0  1.0  1.0  0.0 ...   1.0  1.0  1.0   \n",
       " 384  1.0  0.0  0.0  0.0  0.0  0.0  0.0  0.0  0.0  0.0 ...   0.0  0.0  1.0   \n",
       " 385  1.0  1.0  1.0  1.0  1.0  0.0  0.0  1.0  0.0  0.0 ...   0.0  0.0  0.0   \n",
       " 386  1.0  1.0  1.0  1.0  1.0  0.0  0.0  1.0  1.0  0.0 ...   0.0  1.0  0.0   \n",
       " 387  1.0  1.0  1.0  1.0  1.0  0.0  1.0  1.0  1.0  1.0 ...   1.0  1.0  1.0   \n",
       " 388  0.0  0.0  0.0  0.0  0.0  0.0  0.0  0.0  1.0  0.0 ...   0.0  0.0  1.0   \n",
       " 389  0.0  0.0  0.0  0.0  0.0  0.0  0.0  0.0  0.0  0.0 ...   0.0  0.0  1.0   \n",
       " 390  0.0  1.0  0.0  1.0  1.0  0.0  0.0  0.0  0.0  0.0 ...   0.0  0.0  0.0   \n",
       " 391  0.0  0.0  0.0  0.0  1.0  0.0  0.0  0.0  0.0  0.0 ...   0.0  1.0  0.0   \n",
       " 392  0.0  0.0  0.0  0.0  0.0  0.0  0.0  0.0  0.0  0.0 ...   0.0  0.0  0.0   \n",
       " 393  1.0  1.0  1.0  1.0  0.0  0.0  0.0  0.0  0.0  0.0 ...   0.0  0.0  0.0   \n",
       " 394  0.0  0.0  0.0  0.0  0.0  0.0  0.0  0.0  0.0  1.0 ...   0.0  0.0  0.0   \n",
       " 395  1.0  1.0  1.0  1.0  1.0  0.0  1.0  1.0  1.0  1.0 ...   1.0  1.0  1.0   \n",
       " 396  0.0  0.0  0.0  0.0  0.0  0.0  0.0  0.0  0.0  1.0 ...   0.0  0.0  0.0   \n",
       " 397  1.0  1.0  1.0  1.0  1.0  0.0  1.0  1.0  1.0  1.0 ...   1.0  1.0  1.0   \n",
       " 398  1.0  1.0  1.0  1.0  1.0  0.0  1.0  1.0  1.0  1.0 ...   1.0  1.0  1.0   \n",
       " 399  1.0  1.0  1.0  1.0  1.0  0.0  1.0  1.0  1.0  1.0 ...   1.0  1.0  1.0   \n",
       " 400  0.0  0.0  0.0  0.0  0.0  0.0  0.0  0.0  0.0  0.0 ...   1.0  0.0  0.0   \n",
       " 401  1.0  1.0  1.0  1.0  1.0  0.0  1.0  1.0  1.0  1.0 ...   1.0  1.0  1.0   \n",
       " \n",
       "        0    0    0    0    0    0    0  \n",
       " 0    0.0  1.0  1.0  1.0  1.0  1.0  0.0  \n",
       " 1    1.0  1.0  0.0  1.0  0.0  1.0  1.0  \n",
       " 2    1.0  1.0  1.0  1.0  1.0  1.0  1.0  \n",
       " 3    1.0  0.0  1.0  1.0  0.0  1.0  0.0  \n",
       " 4    0.0  0.0  0.0  0.0  0.0  0.0  0.0  \n",
       " 5    1.0  1.0  1.0  1.0  0.0  1.0  1.0  \n",
       " 6    0.0  0.0  0.0  1.0  0.0  0.0  0.0  \n",
       " 7    0.0  0.0  1.0  0.0  0.0  0.0  0.0  \n",
       " 8    1.0  1.0  1.0  1.0  1.0  1.0  1.0  \n",
       " 9    0.0  0.0  0.0  0.0  0.0  0.0  0.0  \n",
       " 10   0.0  0.0  0.0  0.0  0.0  0.0  0.0  \n",
       " 11   0.0  1.0  1.0  1.0  0.0  1.0  0.0  \n",
       " 12   1.0  1.0  1.0  1.0  0.0  1.0  1.0  \n",
       " 13   1.0  1.0  1.0  1.0  0.0  1.0  0.0  \n",
       " 14   1.0  1.0  1.0  1.0  1.0  1.0  1.0  \n",
       " 15   1.0  1.0  1.0  1.0  1.0  1.0  1.0  \n",
       " 16   1.0  1.0  1.0  1.0  1.0  1.0  1.0  \n",
       " 17   0.0  1.0  1.0  1.0  0.0  1.0  0.0  \n",
       " 18   0.0  0.0  1.0  0.0  0.0  0.0  0.0  \n",
       " 19   0.0  0.0  0.0  0.0  0.0  0.0  0.0  \n",
       " 20   0.0  0.0  0.0  1.0  0.0  0.0  0.0  \n",
       " 21   0.0  0.0  0.0  0.0  0.0  0.0  0.0  \n",
       " 22   1.0  1.0  1.0  1.0  0.0  1.0  0.0  \n",
       " 23   1.0  1.0  1.0  1.0  1.0  1.0  1.0  \n",
       " 24   1.0  1.0  1.0  1.0  1.0  1.0  1.0  \n",
       " 25   1.0  1.0  1.0  1.0  0.0  1.0  0.0  \n",
       " 26   1.0  1.0  1.0  1.0  0.0  1.0  0.0  \n",
       " 27   0.0  0.0  0.0  0.0  0.0  0.0  0.0  \n",
       " 28   0.0  1.0  0.0  0.0  0.0  0.0  0.0  \n",
       " 29   0.0  0.0  1.0  1.0  0.0  1.0  0.0  \n",
       " ..   ...  ...  ...  ...  ...  ...  ...  \n",
       " 372  0.0  0.0  0.0  0.0  0.0  0.0  0.0  \n",
       " 373  1.0  0.0  0.0  0.0  0.0  1.0  0.0  \n",
       " 374  0.0  0.0  0.0  0.0  0.0  0.0  0.0  \n",
       " 375  0.0  0.0  0.0  0.0  0.0  0.0  0.0  \n",
       " 376  1.0  1.0  1.0  1.0  1.0  1.0  0.0  \n",
       " 377  1.0  1.0  1.0  1.0  1.0  1.0  1.0  \n",
       " 378  1.0  0.0  0.0  1.0  0.0  0.0  0.0  \n",
       " 379  1.0  1.0  1.0  1.0  1.0  1.0  0.0  \n",
       " 380  1.0  1.0  1.0  1.0  1.0  1.0  1.0  \n",
       " 381  1.0  0.0  0.0  0.0  0.0  0.0  0.0  \n",
       " 382  1.0  1.0  1.0  1.0  1.0  1.0  0.0  \n",
       " 383  1.0  1.0  1.0  0.0  1.0  1.0  1.0  \n",
       " 384  0.0  0.0  0.0  0.0  0.0  0.0  0.0  \n",
       " 385  0.0  0.0  0.0  0.0  0.0  0.0  0.0  \n",
       " 386  0.0  1.0  0.0  0.0  0.0  0.0  0.0  \n",
       " 387  1.0  1.0  1.0  1.0  1.0  1.0  1.0  \n",
       " 388  0.0  0.0  0.0  0.0  0.0  0.0  0.0  \n",
       " 389  0.0  0.0  0.0  0.0  0.0  0.0  0.0  \n",
       " 390  1.0  1.0  1.0  0.0  0.0  0.0  0.0  \n",
       " 391  0.0  0.0  0.0  0.0  0.0  0.0  0.0  \n",
       " 392  0.0  0.0  0.0  0.0  0.0  0.0  0.0  \n",
       " 393  0.0  0.0  0.0  0.0  0.0  0.0  0.0  \n",
       " 394  0.0  0.0  0.0  0.0  0.0  0.0  0.0  \n",
       " 395  1.0  1.0  1.0  1.0  1.0  1.0  1.0  \n",
       " 396  0.0  0.0  0.0  0.0  0.0  0.0  0.0  \n",
       " 397  1.0  1.0  1.0  1.0  1.0  1.0  1.0  \n",
       " 398  1.0  1.0  1.0  1.0  1.0  1.0  1.0  \n",
       " 399  1.0  1.0  1.0  1.0  1.0  1.0  1.0  \n",
       " 400  0.0  0.0  0.0  0.0  0.0  0.0  0.0  \n",
       " 401  1.0  1.0  1.0  1.0  1.0  1.0  1.0  \n",
       " \n",
       " [402 rows x 120 columns],\n",
       " 50008901:        0    0    0    0    0    0    0    0    0    0 ...     0    0    0  \\\n",
       " 0    0.0  0.0  0.0  0.0  0.0  0.0  0.0  0.0  0.0  0.0 ...   0.0  0.0  1.0   \n",
       " 1    0.0  0.0  0.0  0.0  0.0  0.0  0.0  0.0  0.0  0.0 ...   0.0  0.0  0.0   \n",
       " 2    1.0  0.0  0.0  1.0  0.0  1.0  0.0  0.0  1.0  0.0 ...   0.0  0.0  1.0   \n",
       " 3    1.0  1.0  1.0  1.0  1.0  1.0  1.0  0.0  1.0  1.0 ...   1.0  0.0  0.0   \n",
       " 4    1.0  1.0  1.0  1.0  1.0  1.0  1.0  1.0  1.0  1.0 ...   1.0  1.0  1.0   \n",
       " 5    1.0  1.0  0.0  0.0  1.0  1.0  0.0  0.0  0.0  0.0 ...   0.0  0.0  0.0   \n",
       " 6    0.0  0.0  0.0  0.0  0.0  1.0  0.0  0.0  0.0  0.0 ...   1.0  1.0  0.0   \n",
       " 7    0.0  0.0  1.0  1.0  0.0  1.0  0.0  0.0  1.0  1.0 ...   1.0  0.0  0.0   \n",
       " 8    1.0  1.0  1.0  1.0  1.0  1.0  1.0  0.0  1.0  0.0 ...   1.0  0.0  1.0   \n",
       " 9    1.0  0.0  0.0  0.0  0.0  0.0  0.0  0.0  0.0  0.0 ...   0.0  0.0  0.0   \n",
       " 10   1.0  0.0  0.0  0.0  0.0  1.0  0.0  1.0  1.0  0.0 ...   0.0  0.0  0.0   \n",
       " 11   1.0  0.0  1.0  1.0  0.0  1.0  1.0  0.0  0.0  0.0 ...   0.0  0.0  0.0   \n",
       " 12   1.0  1.0  1.0  1.0  1.0  1.0  1.0  1.0  1.0  1.0 ...   1.0  1.0  0.0   \n",
       " 13   0.0  0.0  1.0  1.0  1.0  1.0  0.0  0.0  0.0  0.0 ...   0.0  0.0  0.0   \n",
       " 14   0.0  1.0  0.0  0.0  0.0  0.0  0.0  0.0  0.0  0.0 ...   0.0  0.0  1.0   \n",
       " 15   0.0  0.0  1.0  1.0  1.0  1.0  1.0  0.0  1.0  0.0 ...   0.0  0.0  1.0   \n",
       " 16   1.0  1.0  1.0  1.0  1.0  1.0  1.0  1.0  1.0  1.0 ...   1.0  1.0  1.0   \n",
       " 17   0.0  0.0  0.0  0.0  0.0  1.0  0.0  0.0  1.0  0.0 ...   0.0  0.0  0.0   \n",
       " 18   0.0  0.0  0.0  0.0  0.0  0.0  0.0  0.0  1.0  1.0 ...   1.0  1.0  0.0   \n",
       " 19   1.0  1.0  0.0  0.0  0.0  1.0  1.0  1.0  0.0  0.0 ...   0.0  0.0  1.0   \n",
       " 20   1.0  1.0  1.0  1.0  1.0  1.0  1.0  1.0  1.0  1.0 ...   1.0  1.0  1.0   \n",
       " 21   1.0  0.0  0.0  1.0  1.0  1.0  0.0  0.0  1.0  1.0 ...   0.0  0.0  0.0   \n",
       " 22   1.0  1.0  1.0  1.0  1.0  1.0  1.0  1.0  1.0  1.0 ...   1.0  1.0  1.0   \n",
       " 23   0.0  0.0  0.0  0.0  0.0  1.0  0.0  0.0  0.0  0.0 ...   0.0  0.0  0.0   \n",
       " 24   1.0  1.0  1.0  1.0  1.0  1.0  1.0  1.0  1.0  1.0 ...   0.0  0.0  0.0   \n",
       " 25   0.0  0.0  0.0  0.0  0.0  1.0  0.0  0.0  0.0  0.0 ...   0.0  1.0  0.0   \n",
       " 26   0.0  0.0  0.0  0.0  0.0  0.0  0.0  0.0  0.0  0.0 ...   0.0  0.0  1.0   \n",
       " 27   1.0  0.0  1.0  1.0  1.0  1.0  1.0  1.0  1.0  1.0 ...   1.0  1.0  1.0   \n",
       " 28   1.0  0.0  1.0  1.0  1.0  1.0  1.0  1.0  1.0  1.0 ...   1.0  0.0  1.0   \n",
       " 29   1.0  1.0  1.0  1.0  1.0  1.0  1.0  1.0  1.0  1.0 ...   1.0  0.0  1.0   \n",
       " ..   ...  ...  ...  ...  ...  ...  ...  ...  ...  ... ...   ...  ...  ...   \n",
       " 205  1.0  1.0  1.0  1.0  1.0  1.0  1.0  1.0  1.0  1.0 ...   1.0  1.0  1.0   \n",
       " 206  1.0  1.0  1.0  1.0  1.0  1.0  1.0  1.0  1.0  1.0 ...   1.0  1.0  1.0   \n",
       " 207  1.0  1.0  0.0  0.0  0.0  1.0  0.0  0.0  1.0  1.0 ...   1.0  0.0  1.0   \n",
       " 208  1.0  1.0  1.0  1.0  1.0  1.0  1.0  1.0  0.0  0.0 ...   0.0  0.0  1.0   \n",
       " 209  1.0  1.0  1.0  1.0  1.0  1.0  1.0  0.0  1.0  1.0 ...   1.0  0.0  1.0   \n",
       " 210  0.0  0.0  0.0  0.0  0.0  0.0  0.0  0.0  1.0  0.0 ...   0.0  0.0  1.0   \n",
       " 211  0.0  0.0  0.0  0.0  0.0  1.0  0.0  0.0  0.0  0.0 ...   0.0  0.0  1.0   \n",
       " 212  1.0  1.0  1.0  0.0  1.0  1.0  0.0  1.0  1.0  0.0 ...   0.0  1.0  1.0   \n",
       " 213  1.0  1.0  1.0  1.0  1.0  1.0  1.0  0.0  1.0  1.0 ...   1.0  0.0  1.0   \n",
       " 214  0.0  0.0  0.0  0.0  0.0  1.0  0.0  0.0  0.0  0.0 ...   0.0  0.0  0.0   \n",
       " 215  1.0  1.0  1.0  0.0  0.0  1.0  1.0  0.0  1.0  0.0 ...   0.0  0.0  1.0   \n",
       " 216  1.0  0.0  1.0  1.0  1.0  1.0  1.0  0.0  1.0  1.0 ...   1.0  0.0  1.0   \n",
       " 217  1.0  0.0  1.0  1.0  1.0  1.0  1.0  0.0  1.0  0.0 ...   1.0  0.0  1.0   \n",
       " 218  1.0  0.0  1.0  1.0  1.0  1.0  1.0  0.0  1.0  0.0 ...   1.0  0.0  1.0   \n",
       " 219  0.0  0.0  0.0  1.0  1.0  1.0  0.0  0.0  0.0  0.0 ...   0.0  0.0  0.0   \n",
       " 220  1.0  1.0  1.0  1.0  1.0  1.0  1.0  1.0  1.0  0.0 ...   1.0  1.0  1.0   \n",
       " 221  1.0  0.0  0.0  0.0  0.0  1.0  0.0  0.0  1.0  0.0 ...   0.0  0.0  0.0   \n",
       " 222  1.0  1.0  1.0  0.0  0.0  1.0  0.0  0.0  1.0  1.0 ...   0.0  0.0  1.0   \n",
       " 223  0.0  0.0  1.0  1.0  1.0  1.0  1.0  0.0  1.0  0.0 ...   0.0  1.0  0.0   \n",
       " 224  0.0  0.0  0.0  0.0  0.0  1.0  1.0  0.0  0.0  1.0 ...   1.0  0.0  0.0   \n",
       " 225  0.0  1.0  1.0  1.0  1.0  1.0  1.0  0.0  0.0  1.0 ...   1.0  0.0  0.0   \n",
       " 226  1.0  1.0  1.0  1.0  1.0  1.0  1.0  1.0  1.0  1.0 ...   1.0  1.0  1.0   \n",
       " 227  0.0  0.0  0.0  0.0  0.0  0.0  0.0  0.0  0.0  0.0 ...   0.0  0.0  0.0   \n",
       " 228  0.0  0.0  0.0  0.0  0.0  1.0  0.0  0.0  0.0  0.0 ...   0.0  0.0  0.0   \n",
       " 229  1.0  1.0  1.0  1.0  1.0  1.0  1.0  1.0  1.0  0.0 ...   1.0  1.0  1.0   \n",
       " 230  0.0  0.0  0.0  0.0  0.0  1.0  0.0  0.0  1.0  0.0 ...   0.0  0.0  0.0   \n",
       " 231  1.0  0.0  1.0  1.0  0.0  1.0  1.0  0.0  1.0  1.0 ...   0.0  0.0  1.0   \n",
       " 232  0.0  0.0  0.0  0.0  0.0  1.0  0.0  0.0  1.0  0.0 ...   0.0  0.0  1.0   \n",
       " 233  1.0  0.0  0.0  0.0  0.0  1.0  0.0  0.0  1.0  0.0 ...   1.0  1.0  0.0   \n",
       " 234  1.0  0.0  0.0  0.0  0.0  1.0  0.0  0.0  0.0  0.0 ...   0.0  0.0  0.0   \n",
       " \n",
       "        0    0    0    0    0    0    0  \n",
       " 0    1.0  1.0  0.0  0.0  1.0  0.0  0.0  \n",
       " 1    0.0  0.0  0.0  0.0  1.0  0.0  0.0  \n",
       " 2    1.0  0.0  0.0  0.0  1.0  0.0  0.0  \n",
       " 3    1.0  1.0  1.0  1.0  1.0  1.0  0.0  \n",
       " 4    1.0  1.0  1.0  1.0  1.0  1.0  1.0  \n",
       " 5    0.0  0.0  0.0  0.0  0.0  0.0  0.0  \n",
       " 6    0.0  0.0  0.0  0.0  1.0  0.0  0.0  \n",
       " 7    0.0  1.0  1.0  1.0  1.0  1.0  0.0  \n",
       " 8    1.0  1.0  1.0  1.0  1.0  1.0  0.0  \n",
       " 9    0.0  0.0  0.0  0.0  0.0  0.0  0.0  \n",
       " 10   0.0  0.0  0.0  0.0  1.0  0.0  0.0  \n",
       " 11   0.0  0.0  1.0  0.0  1.0  0.0  0.0  \n",
       " 12   1.0  1.0  1.0  0.0  1.0  1.0  1.0  \n",
       " 13   0.0  0.0  0.0  0.0  0.0  0.0  0.0  \n",
       " 14   0.0  0.0  0.0  0.0  0.0  0.0  0.0  \n",
       " 15   0.0  0.0  0.0  0.0  1.0  0.0  1.0  \n",
       " 16   1.0  1.0  1.0  1.0  1.0  1.0  1.0  \n",
       " 17   1.0  1.0  1.0  1.0  1.0  0.0  0.0  \n",
       " 18   0.0  0.0  0.0  0.0  0.0  0.0  0.0  \n",
       " 19   1.0  1.0  1.0  1.0  1.0  1.0  0.0  \n",
       " 20   1.0  1.0  1.0  1.0  1.0  1.0  1.0  \n",
       " 21   1.0  1.0  1.0  1.0  1.0  1.0  0.0  \n",
       " 22   1.0  1.0  1.0  1.0  1.0  1.0  1.0  \n",
       " 23   0.0  0.0  0.0  0.0  1.0  0.0  0.0  \n",
       " 24   0.0  0.0  0.0  0.0  1.0  0.0  0.0  \n",
       " 25   1.0  1.0  1.0  1.0  1.0  1.0  0.0  \n",
       " 26   1.0  0.0  0.0  0.0  1.0  0.0  0.0  \n",
       " 27   1.0  1.0  1.0  1.0  1.0  1.0  1.0  \n",
       " 28   0.0  1.0  1.0  1.0  1.0  1.0  1.0  \n",
       " 29   1.0  1.0  1.0  0.0  1.0  1.0  1.0  \n",
       " ..   ...  ...  ...  ...  ...  ...  ...  \n",
       " 205  1.0  1.0  1.0  1.0  1.0  1.0  1.0  \n",
       " 206  1.0  1.0  1.0  1.0  1.0  1.0  1.0  \n",
       " 207  0.0  0.0  1.0  0.0  1.0  0.0  0.0  \n",
       " 208  1.0  1.0  1.0  0.0  1.0  1.0  1.0  \n",
       " 209  1.0  1.0  1.0  0.0  1.0  1.0  0.0  \n",
       " 210  0.0  0.0  0.0  0.0  1.0  0.0  0.0  \n",
       " 211  1.0  0.0  0.0  0.0  1.0  0.0  1.0  \n",
       " 212  1.0  0.0  0.0  0.0  1.0  0.0  1.0  \n",
       " 213  1.0  1.0  1.0  1.0  1.0  1.0  0.0  \n",
       " 214  0.0  0.0  0.0  0.0  1.0  0.0  0.0  \n",
       " 215  0.0  0.0  0.0  0.0  1.0  0.0  1.0  \n",
       " 216  1.0  1.0  1.0  1.0  1.0  1.0  0.0  \n",
       " 217  0.0  1.0  1.0  1.0  1.0  1.0  0.0  \n",
       " 218  0.0  1.0  1.0  1.0  1.0  1.0  1.0  \n",
       " 219  0.0  0.0  0.0  0.0  0.0  0.0  0.0  \n",
       " 220  0.0  0.0  0.0  0.0  1.0  0.0  0.0  \n",
       " 221  0.0  0.0  0.0  0.0  0.0  0.0  0.0  \n",
       " 222  1.0  1.0  1.0  1.0  1.0  1.0  0.0  \n",
       " 223  0.0  0.0  0.0  1.0  1.0  0.0  0.0  \n",
       " 224  0.0  1.0  0.0  0.0  1.0  1.0  0.0  \n",
       " 225  1.0  1.0  0.0  1.0  1.0  1.0  0.0  \n",
       " 226  1.0  1.0  1.0  1.0  1.0  1.0  1.0  \n",
       " 227  0.0  1.0  0.0  0.0  1.0  0.0  0.0  \n",
       " 228  0.0  0.0  0.0  0.0  0.0  0.0  0.0  \n",
       " 229  1.0  1.0  1.0  1.0  1.0  0.0  1.0  \n",
       " 230  0.0  0.0  0.0  0.0  1.0  0.0  0.0  \n",
       " 231  0.0  0.0  0.0  0.0  1.0  0.0  1.0  \n",
       " 232  1.0  0.0  0.0  0.0  1.0  0.0  0.0  \n",
       " 233  0.0  0.0  0.0  0.0  0.0  0.0  0.0  \n",
       " 234  1.0  0.0  0.0  0.0  1.0  0.0  0.0  \n",
       " \n",
       " [235 rows x 120 columns],\n",
       " 50011277:        0    0    0    0    0    0    0    0    0    0 ...     0    0    0  \\\n",
       " 0    0.0  0.0  0.0  0.0  1.0  1.0  0.0  0.0  1.0  1.0 ...   0.0  0.0  1.0   \n",
       " 1    0.0  1.0  1.0  1.0  1.0  1.0  1.0  0.0  1.0  1.0 ...   1.0  0.0  1.0   \n",
       " 2    0.0  1.0  1.0  1.0  0.0  1.0  1.0  0.0  0.0  1.0 ...   1.0  0.0  0.0   \n",
       " 3    1.0  1.0  1.0  0.0  0.0  1.0  1.0  1.0  0.0  0.0 ...   0.0  0.0  0.0   \n",
       " 4    0.0  0.0  0.0  0.0  0.0  1.0  0.0  0.0  0.0  0.0 ...   0.0  0.0  0.0   \n",
       " 5    1.0  0.0  0.0  0.0  0.0  1.0  0.0  0.0  0.0  0.0 ...   1.0  0.0  1.0   \n",
       " 6    1.0  1.0  1.0  1.0  1.0  1.0  1.0  0.0  1.0  1.0 ...   1.0  0.0  1.0   \n",
       " 7    0.0  0.0  1.0  1.0  1.0  1.0  1.0  0.0  0.0  1.0 ...   1.0  0.0  0.0   \n",
       " 8    0.0  1.0  1.0  0.0  1.0  1.0  1.0  0.0  0.0  0.0 ...   1.0  0.0  0.0   \n",
       " 9    1.0  1.0  1.0  0.0  1.0  1.0  1.0  1.0  1.0  0.0 ...   0.0  1.0  1.0   \n",
       " 10   1.0  1.0  1.0  0.0  1.0  1.0  1.0  0.0  0.0  0.0 ...   1.0  0.0  0.0   \n",
       " 11   1.0  1.0  1.0  1.0  1.0  1.0  1.0  1.0  1.0  1.0 ...   1.0  1.0  1.0   \n",
       " 12   0.0  1.0  0.0  0.0  0.0  1.0  0.0  0.0  1.0  0.0 ...   0.0  0.0  1.0   \n",
       " 13   1.0  1.0  1.0  1.0  1.0  1.0  1.0  0.0  1.0  1.0 ...   1.0  0.0  1.0   \n",
       " 14   1.0  1.0  1.0  0.0  1.0  1.0  1.0  0.0  1.0  1.0 ...   1.0  0.0  1.0   \n",
       " 15   0.0  0.0  0.0  0.0  0.0  1.0  0.0  0.0  1.0  0.0 ...   1.0  0.0  0.0   \n",
       " 16   1.0  0.0  0.0  1.0  1.0  1.0  0.0  0.0  1.0  0.0 ...   0.0  0.0  0.0   \n",
       " 17   0.0  1.0  0.0  1.0  0.0  1.0  0.0  0.0  0.0  0.0 ...   1.0  1.0  0.0   \n",
       " 18   0.0  0.0  1.0  1.0  1.0  1.0  1.0  1.0  1.0  1.0 ...   1.0  1.0  1.0   \n",
       " 19   0.0  0.0  0.0  0.0  0.0  1.0  0.0  0.0  0.0  0.0 ...   0.0  0.0  0.0   \n",
       " 20   1.0  1.0  1.0  1.0  1.0  1.0  1.0  1.0  1.0  0.0 ...   1.0  1.0  1.0   \n",
       " 21   0.0  0.0  0.0  0.0  0.0  1.0  0.0  0.0  1.0  0.0 ...   1.0  1.0  0.0   \n",
       " 22   1.0  1.0  1.0  1.0  1.0  1.0  1.0  0.0  1.0  1.0 ...   1.0  0.0  1.0   \n",
       " 23   1.0  0.0  0.0  1.0  1.0  1.0  1.0  0.0  1.0  1.0 ...   1.0  0.0  1.0   \n",
       " 24   1.0  1.0  0.0  0.0  0.0  1.0  0.0  0.0  1.0  0.0 ...   0.0  0.0  0.0   \n",
       " 25   0.0  1.0  0.0  0.0  0.0  1.0  0.0  0.0  0.0  1.0 ...   0.0  0.0  0.0   \n",
       " 26   0.0  1.0  1.0  1.0  1.0  1.0  1.0  0.0  0.0  1.0 ...   1.0  0.0  0.0   \n",
       " 27   1.0  0.0  0.0  0.0  0.0  1.0  0.0  0.0  1.0  0.0 ...   0.0  0.0  0.0   \n",
       " 28   1.0  1.0  1.0  1.0  1.0  1.0  1.0  0.0  0.0  1.0 ...   1.0  0.0  1.0   \n",
       " 29   0.0  0.0  0.0  0.0  0.0  1.0  0.0  0.0  0.0  0.0 ...   0.0  0.0  1.0   \n",
       " ..   ...  ...  ...  ...  ...  ...  ...  ...  ...  ... ...   ...  ...  ...   \n",
       " 118  0.0  1.0  1.0  1.0  1.0  1.0  1.0  0.0  1.0  1.0 ...   1.0  0.0  1.0   \n",
       " 119  1.0  0.0  0.0  0.0  1.0  0.0  1.0  0.0  1.0  0.0 ...   0.0  0.0  0.0   \n",
       " 120  1.0  0.0  0.0  0.0  0.0  1.0  0.0  0.0  0.0  0.0 ...   1.0  0.0  0.0   \n",
       " 121  0.0  0.0  0.0  0.0  0.0  1.0  0.0  0.0  1.0  1.0 ...   0.0  0.0  1.0   \n",
       " 122  0.0  0.0  0.0  0.0  0.0  0.0  0.0  0.0  0.0  0.0 ...   0.0  0.0  0.0   \n",
       " 123  1.0  0.0  0.0  0.0  1.0  1.0  0.0  0.0  1.0  1.0 ...   0.0  0.0  1.0   \n",
       " 124  1.0  1.0  1.0  1.0  1.0  1.0  1.0  0.0  1.0  1.0 ...   1.0  0.0  1.0   \n",
       " 125  1.0  1.0  1.0  1.0  1.0  1.0  1.0  0.0  1.0  1.0 ...   1.0  0.0  1.0   \n",
       " 126  1.0  1.0  1.0  1.0  1.0  1.0  1.0  0.0  1.0  1.0 ...   1.0  0.0  1.0   \n",
       " 127  0.0  0.0  0.0  1.0  1.0  1.0  1.0  0.0  0.0  1.0 ...   1.0  0.0  0.0   \n",
       " 128  0.0  0.0  0.0  1.0  1.0  1.0  1.0  0.0  0.0  0.0 ...   1.0  0.0  0.0   \n",
       " 129  1.0  1.0  1.0  1.0  1.0  1.0  1.0  0.0  1.0  1.0 ...   1.0  0.0  1.0   \n",
       " 130  1.0  0.0  0.0  0.0  0.0  1.0  0.0  1.0  0.0  1.0 ...   0.0  0.0  1.0   \n",
       " 131  0.0  0.0  0.0  0.0  0.0  1.0  0.0  0.0  1.0  0.0 ...   1.0  0.0  1.0   \n",
       " 132  0.0  0.0  0.0  0.0  0.0  1.0  0.0  0.0  0.0  0.0 ...   0.0  0.0  1.0   \n",
       " 133  1.0  1.0  1.0  0.0  1.0  1.0  1.0  1.0  0.0  0.0 ...   0.0  0.0  1.0   \n",
       " 134  0.0  0.0  0.0  0.0  1.0  1.0  0.0  0.0  0.0  0.0 ...   0.0  0.0  0.0   \n",
       " 135  0.0  1.0  0.0  0.0  0.0  1.0  0.0  0.0  0.0  0.0 ...   0.0  0.0  1.0   \n",
       " 136  0.0  0.0  0.0  0.0  0.0  1.0  0.0  0.0  1.0  0.0 ...   0.0  0.0  0.0   \n",
       " 137  1.0  0.0  0.0  0.0  0.0  1.0  0.0  0.0  0.0  1.0 ...   1.0  1.0  1.0   \n",
       " 138  0.0  0.0  0.0  0.0  0.0  1.0  0.0  0.0  1.0  0.0 ...   0.0  0.0  0.0   \n",
       " 139  1.0  1.0  1.0  1.0  1.0  1.0  1.0  1.0  1.0  0.0 ...   0.0  0.0  1.0   \n",
       " 140  1.0  1.0  1.0  1.0  1.0  1.0  1.0  0.0  1.0  1.0 ...   1.0  0.0  0.0   \n",
       " 141  1.0  1.0  1.0  1.0  1.0  1.0  1.0  0.0  1.0  1.0 ...   1.0  0.0  1.0   \n",
       " 142  0.0  1.0  1.0  1.0  1.0  1.0  1.0  0.0  1.0  1.0 ...   1.0  0.0  0.0   \n",
       " 143  0.0  0.0  0.0  0.0  0.0  1.0  0.0  0.0  1.0  0.0 ...   0.0  0.0  1.0   \n",
       " 144  1.0  0.0  0.0  1.0  0.0  1.0  0.0  0.0  1.0  1.0 ...   0.0  0.0  0.0   \n",
       " 145  1.0  1.0  1.0  1.0  1.0  1.0  1.0  1.0  1.0  0.0 ...   0.0  0.0  1.0   \n",
       " 146  0.0  0.0  0.0  0.0  0.0  1.0  0.0  1.0  0.0  0.0 ...   0.0  0.0  1.0   \n",
       " 147  1.0  0.0  1.0  1.0  1.0  1.0  1.0  1.0  1.0  0.0 ...   1.0  1.0  1.0   \n",
       " \n",
       "        0    0    0    0    0    0    0  \n",
       " 0    0.0  0.0  0.0  0.0  1.0  0.0  0.0  \n",
       " 1    1.0  1.0  1.0  1.0  1.0  1.0  0.0  \n",
       " 2    1.0  1.0  1.0  1.0  1.0  1.0  0.0  \n",
       " 3    1.0  0.0  0.0  0.0  1.0  0.0  0.0  \n",
       " 4    0.0  0.0  0.0  0.0  1.0  0.0  0.0  \n",
       " 5    0.0  0.0  0.0  0.0  1.0  0.0  0.0  \n",
       " 6    1.0  1.0  1.0  1.0  1.0  1.0  0.0  \n",
       " 7    1.0  1.0  1.0  1.0  1.0  1.0  0.0  \n",
       " 8    0.0  1.0  0.0  0.0  1.0  1.0  0.0  \n",
       " 9    0.0  0.0  0.0  0.0  1.0  0.0  0.0  \n",
       " 10   1.0  0.0  1.0  0.0  1.0  0.0  1.0  \n",
       " 11   1.0  1.0  1.0  1.0  1.0  1.0  1.0  \n",
       " 12   0.0  1.0  1.0  0.0  1.0  1.0  1.0  \n",
       " 13   1.0  1.0  1.0  1.0  1.0  1.0  0.0  \n",
       " 14   1.0  1.0  0.0  0.0  1.0  1.0  0.0  \n",
       " 15   0.0  0.0  0.0  0.0  1.0  0.0  0.0  \n",
       " 16   0.0  0.0  0.0  0.0  1.0  0.0  0.0  \n",
       " 17   1.0  0.0  0.0  0.0  1.0  0.0  0.0  \n",
       " 18   1.0  1.0  1.0  1.0  1.0  1.0  1.0  \n",
       " 19   0.0  0.0  0.0  0.0  1.0  0.0  0.0  \n",
       " 20   1.0  1.0  1.0  1.0  1.0  1.0  1.0  \n",
       " 21   0.0  0.0  0.0  0.0  1.0  0.0  0.0  \n",
       " 22   1.0  1.0  1.0  1.0  1.0  1.0  0.0  \n",
       " 23   1.0  1.0  1.0  1.0  1.0  1.0  0.0  \n",
       " 24   0.0  0.0  0.0  0.0  1.0  0.0  0.0  \n",
       " 25   0.0  0.0  0.0  1.0  1.0  0.0  0.0  \n",
       " 26   1.0  1.0  1.0  1.0  1.0  1.0  0.0  \n",
       " 27   1.0  0.0  0.0  0.0  1.0  0.0  0.0  \n",
       " 28   1.0  1.0  1.0  1.0  1.0  1.0  0.0  \n",
       " 29   1.0  1.0  1.0  1.0  1.0  1.0  1.0  \n",
       " ..   ...  ...  ...  ...  ...  ...  ...  \n",
       " 118  1.0  1.0  1.0  1.0  1.0  1.0  0.0  \n",
       " 119  0.0  0.0  0.0  0.0  1.0  0.0  0.0  \n",
       " 120  0.0  0.0  1.0  1.0  1.0  0.0  0.0  \n",
       " 121  0.0  0.0  0.0  0.0  1.0  0.0  1.0  \n",
       " 122  0.0  0.0  0.0  0.0  0.0  0.0  0.0  \n",
       " 123  1.0  1.0  1.0  1.0  1.0  1.0  0.0  \n",
       " 124  1.0  1.0  1.0  1.0  1.0  1.0  0.0  \n",
       " 125  1.0  1.0  1.0  1.0  1.0  1.0  0.0  \n",
       " 126  1.0  1.0  1.0  1.0  1.0  1.0  0.0  \n",
       " 127  1.0  0.0  1.0  1.0  1.0  1.0  0.0  \n",
       " 128  0.0  0.0  0.0  0.0  1.0  0.0  0.0  \n",
       " 129  1.0  1.0  1.0  1.0  1.0  1.0  0.0  \n",
       " 130  1.0  1.0  0.0  1.0  1.0  1.0  1.0  \n",
       " 131  0.0  0.0  0.0  0.0  1.0  0.0  0.0  \n",
       " 132  0.0  0.0  0.0  0.0  1.0  0.0  0.0  \n",
       " 133  0.0  1.0  0.0  0.0  1.0  1.0  0.0  \n",
       " 134  1.0  0.0  0.0  0.0  1.0  0.0  0.0  \n",
       " 135  0.0  0.0  0.0  0.0  1.0  0.0  0.0  \n",
       " 136  0.0  0.0  0.0  0.0  1.0  0.0  0.0  \n",
       " 137  1.0  1.0  0.0  1.0  1.0  1.0  1.0  \n",
       " 138  0.0  0.0  0.0  0.0  1.0  0.0  0.0  \n",
       " 139  0.0  0.0  0.0  0.0  1.0  0.0  0.0  \n",
       " 140  1.0  1.0  1.0  1.0  1.0  1.0  0.0  \n",
       " 141  1.0  1.0  1.0  1.0  1.0  1.0  0.0  \n",
       " 142  1.0  0.0  1.0  1.0  1.0  0.0  0.0  \n",
       " 143  1.0  1.0  1.0  1.0  1.0  1.0  1.0  \n",
       " 144  0.0  0.0  0.0  0.0  1.0  0.0  0.0  \n",
       " 145  0.0  0.0  1.0  0.0  1.0  0.0  1.0  \n",
       " 146  1.0  1.0  1.0  1.0  1.0  1.0  1.0  \n",
       " 147  1.0  1.0  1.0  1.0  1.0  1.0  1.0  \n",
       " \n",
       " [148 rows x 120 columns],\n",
       " 121412004:        0    0    0    0    0    0    0    0    0    0 ...     0    0    0  \\\n",
       " 0    1.0  1.0  0.0  0.0  0.0  1.0  0.0  1.0  0.0  0.0 ...   0.0  0.0  1.0   \n",
       " 1    1.0  0.0  0.0  0.0  0.0  0.0  0.0  1.0  0.0  0.0 ...   0.0  0.0  0.0   \n",
       " 2    1.0  1.0  1.0  1.0  1.0  1.0  1.0  1.0  1.0  1.0 ...   1.0  1.0  1.0   \n",
       " 3    0.0  0.0  0.0  0.0  0.0  0.0  0.0  0.0  0.0  0.0 ...   0.0  0.0  0.0   \n",
       " 4    1.0  1.0  1.0  1.0  1.0  1.0  1.0  1.0  1.0  0.0 ...   1.0  1.0  1.0   \n",
       " 5    1.0  1.0  0.0  0.0  0.0  0.0  0.0  0.0  1.0  1.0 ...   0.0  0.0  0.0   \n",
       " 6    1.0  1.0  1.0  1.0  1.0  1.0  1.0  1.0  1.0  1.0 ...   1.0  1.0  1.0   \n",
       " 7    0.0  0.0  0.0  0.0  0.0  0.0  0.0  0.0  0.0  1.0 ...   0.0  0.0  1.0   \n",
       " 8    0.0  1.0  1.0  1.0  1.0  1.0  1.0  1.0  1.0  1.0 ...   0.0  1.0  0.0   \n",
       " 9    1.0  1.0  1.0  0.0  0.0  0.0  0.0  0.0  0.0  0.0 ...   1.0  1.0  0.0   \n",
       " 10   1.0  1.0  1.0  1.0  1.0  1.0  1.0  1.0  1.0  1.0 ...   1.0  1.0  1.0   \n",
       " 11   1.0  1.0  0.0  0.0  0.0  1.0  0.0  1.0  1.0  0.0 ...   0.0  1.0  1.0   \n",
       " 12   0.0  0.0  0.0  0.0  0.0  0.0  0.0  0.0  0.0  0.0 ...   0.0  0.0  0.0   \n",
       " 13   1.0  1.0  1.0  1.0  1.0  1.0  1.0  1.0  0.0  0.0 ...   1.0  1.0  1.0   \n",
       " 14   0.0  0.0  0.0  0.0  0.0  0.0  0.0  0.0  1.0  0.0 ...   0.0  1.0  0.0   \n",
       " 15   1.0  1.0  1.0  0.0  1.0  1.0  1.0  1.0  1.0  0.0 ...   1.0  1.0  1.0   \n",
       " 16   0.0  0.0  0.0  0.0  0.0  1.0  0.0  0.0  0.0  0.0 ...   0.0  1.0  0.0   \n",
       " 17   1.0  0.0  0.0  1.0  1.0  1.0  1.0  1.0  1.0  0.0 ...   1.0  0.0  0.0   \n",
       " 18   1.0  1.0  1.0  1.0  1.0  1.0  1.0  1.0  1.0  1.0 ...   1.0  1.0  1.0   \n",
       " 19   1.0  1.0  1.0  1.0  1.0  1.0  1.0  0.0  1.0  1.0 ...   1.0  0.0  0.0   \n",
       " 20   0.0  0.0  0.0  0.0  0.0  0.0  0.0  0.0  1.0  0.0 ...   0.0  0.0  0.0   \n",
       " 21   1.0  1.0  1.0  1.0  1.0  1.0  1.0  1.0  1.0  1.0 ...   1.0  1.0  1.0   \n",
       " 22   0.0  1.0  1.0  1.0  1.0  1.0  1.0  0.0  0.0  1.0 ...   1.0  0.0  0.0   \n",
       " 23   1.0  1.0  1.0  1.0  1.0  1.0  1.0  0.0  1.0  1.0 ...   1.0  1.0  1.0   \n",
       " 24   0.0  0.0  0.0  0.0  0.0  0.0  0.0  0.0  0.0  0.0 ...   0.0  0.0  0.0   \n",
       " 25   1.0  0.0  0.0  0.0  0.0  1.0  0.0  0.0  1.0  1.0 ...   0.0  0.0  0.0   \n",
       " 26   0.0  0.0  0.0  0.0  0.0  0.0  0.0  0.0  0.0  0.0 ...   0.0  0.0  0.0   \n",
       " 27   0.0  0.0  0.0  0.0  0.0  1.0  0.0  0.0  1.0  0.0 ...   0.0  1.0  0.0   \n",
       " 28   1.0  0.0  1.0  1.0  1.0  1.0  1.0  1.0  1.0  1.0 ...   1.0  1.0  1.0   \n",
       " 29   0.0  0.0  0.0  0.0  0.0  1.0  0.0  0.0  0.0  0.0 ...   0.0  0.0  0.0   \n",
       " ..   ...  ...  ...  ...  ...  ...  ...  ...  ...  ... ...   ...  ...  ...   \n",
       " 193  0.0  0.0  0.0  0.0  0.0  0.0  0.0  1.0  0.0  0.0 ...   0.0  0.0  0.0   \n",
       " 194  1.0  1.0  1.0  0.0  0.0  1.0  0.0  1.0  0.0  1.0 ...   1.0  1.0  1.0   \n",
       " 195  1.0  1.0  1.0  1.0  1.0  1.0  1.0  1.0  1.0  1.0 ...   1.0  1.0  1.0   \n",
       " 196  0.0  0.0  0.0  0.0  0.0  0.0  0.0  0.0  0.0  0.0 ...   0.0  0.0  0.0   \n",
       " 197  1.0  1.0  1.0  0.0  0.0  1.0  1.0  1.0  1.0  1.0 ...   1.0  1.0  1.0   \n",
       " 198  0.0  0.0  0.0  0.0  0.0  1.0  0.0  0.0  0.0  0.0 ...   0.0  0.0  1.0   \n",
       " 199  0.0  0.0  0.0  0.0  0.0  1.0  0.0  1.0  0.0  0.0 ...   0.0  0.0  0.0   \n",
       " 200  1.0  1.0  0.0  1.0  0.0  0.0  0.0  1.0  1.0  1.0 ...   0.0  1.0  1.0   \n",
       " 201  1.0  1.0  1.0  1.0  1.0  1.0  1.0  1.0  1.0  1.0 ...   1.0  1.0  1.0   \n",
       " 202  1.0  1.0  1.0  1.0  1.0  1.0  1.0  1.0  1.0  1.0 ...   1.0  1.0  0.0   \n",
       " 203  1.0  0.0  0.0  0.0  1.0  0.0  0.0  1.0  0.0  0.0 ...   0.0  0.0  1.0   \n",
       " 204  1.0  1.0  1.0  0.0  0.0  1.0  0.0  1.0  1.0  0.0 ...   0.0  0.0  0.0   \n",
       " 205  0.0  1.0  1.0  1.0  1.0  1.0  1.0  0.0  0.0  1.0 ...   1.0  0.0  0.0   \n",
       " 206  0.0  0.0  1.0  1.0  1.0  1.0  1.0  0.0  0.0  1.0 ...   1.0  0.0  1.0   \n",
       " 207  1.0  1.0  0.0  0.0  0.0  0.0  0.0  0.0  1.0  1.0 ...   0.0  0.0  1.0   \n",
       " 208  0.0  0.0  0.0  0.0  0.0  0.0  0.0  0.0  1.0  1.0 ...   0.0  0.0  0.0   \n",
       " 209  0.0  1.0  1.0  0.0  1.0  0.0  1.0  0.0  0.0  1.0 ...   1.0  0.0  0.0   \n",
       " 210  1.0  1.0  1.0  1.0  1.0  1.0  1.0  1.0  1.0  1.0 ...   1.0  1.0  1.0   \n",
       " 211  1.0  1.0  1.0  1.0  1.0  1.0  1.0  1.0  1.0  1.0 ...   1.0  1.0  1.0   \n",
       " 212  1.0  0.0  0.0  0.0  0.0  1.0  0.0  0.0  1.0  0.0 ...   1.0  1.0  1.0   \n",
       " 213  0.0  0.0  0.0  0.0  0.0  0.0  0.0  0.0  0.0  0.0 ...   1.0  1.0  0.0   \n",
       " 214  1.0  1.0  1.0  1.0  1.0  1.0  1.0  1.0  1.0  1.0 ...   1.0  1.0  1.0   \n",
       " 215  1.0  1.0  1.0  1.0  1.0  1.0  0.0  0.0  1.0  1.0 ...   1.0  0.0  1.0   \n",
       " 216  1.0  0.0  0.0  0.0  0.0  1.0  0.0  0.0  0.0  0.0 ...   1.0  1.0  1.0   \n",
       " 217  0.0  0.0  1.0  0.0  0.0  0.0  1.0  0.0  0.0  0.0 ...   0.0  0.0  1.0   \n",
       " 218  1.0  1.0  0.0  1.0  1.0  1.0  1.0  1.0  0.0  0.0 ...   0.0  0.0  1.0   \n",
       " 219  0.0  0.0  0.0  0.0  0.0  0.0  0.0  0.0  0.0  0.0 ...   0.0  0.0  0.0   \n",
       " 220  1.0  0.0  0.0  0.0  0.0  0.0  0.0  1.0  0.0  0.0 ...   0.0  0.0  1.0   \n",
       " 221  0.0  1.0  1.0  1.0  1.0  1.0  1.0  0.0  1.0  1.0 ...   1.0  0.0  1.0   \n",
       " 222  1.0  1.0  1.0  1.0  1.0  1.0  1.0  1.0  1.0  1.0 ...   1.0  1.0  1.0   \n",
       " \n",
       "        0    0    0    0    0    0    0  \n",
       " 0    1.0  1.0  1.0  1.0  1.0  1.0  1.0  \n",
       " 1    0.0  0.0  0.0  0.0  0.0  0.0  0.0  \n",
       " 2    1.0  1.0  1.0  1.0  1.0  1.0  1.0  \n",
       " 3    0.0  0.0  0.0  0.0  0.0  0.0  0.0  \n",
       " 4    1.0  1.0  1.0  1.0  1.0  1.0  1.0  \n",
       " 5    0.0  0.0  0.0  0.0  0.0  0.0  0.0  \n",
       " 6    1.0  1.0  1.0  1.0  1.0  1.0  1.0  \n",
       " 7    1.0  1.0  1.0  1.0  1.0  1.0  1.0  \n",
       " 8    0.0  0.0  1.0  0.0  1.0  0.0  1.0  \n",
       " 9    0.0  0.0  0.0  0.0  1.0  0.0  0.0  \n",
       " 10   1.0  1.0  1.0  1.0  1.0  1.0  1.0  \n",
       " 11   0.0  0.0  0.0  0.0  1.0  0.0  0.0  \n",
       " 12   0.0  0.0  0.0  0.0  0.0  0.0  0.0  \n",
       " 13   0.0  0.0  1.0  1.0  1.0  1.0  1.0  \n",
       " 14   0.0  0.0  0.0  0.0  0.0  0.0  0.0  \n",
       " 15   1.0  1.0  1.0  1.0  1.0  1.0  1.0  \n",
       " 16   0.0  0.0  0.0  0.0  1.0  0.0  0.0  \n",
       " 17   1.0  0.0  0.0  0.0  0.0  0.0  0.0  \n",
       " 18   1.0  1.0  1.0  1.0  1.0  1.0  1.0  \n",
       " 19   1.0  1.0  1.0  0.0  1.0  1.0  0.0  \n",
       " 20   0.0  0.0  0.0  0.0  0.0  0.0  0.0  \n",
       " 21   1.0  1.0  1.0  1.0  1.0  1.0  1.0  \n",
       " 22   1.0  1.0  1.0  1.0  1.0  1.0  0.0  \n",
       " 23   1.0  1.0  1.0  1.0  1.0  1.0  1.0  \n",
       " 24   0.0  0.0  0.0  0.0  0.0  0.0  0.0  \n",
       " 25   0.0  0.0  0.0  0.0  1.0  0.0  0.0  \n",
       " 26   0.0  0.0  0.0  0.0  0.0  0.0  0.0  \n",
       " 27   0.0  0.0  0.0  0.0  0.0  0.0  0.0  \n",
       " 28   1.0  1.0  1.0  1.0  1.0  1.0  1.0  \n",
       " 29   0.0  0.0  0.0  0.0  0.0  0.0  0.0  \n",
       " ..   ...  ...  ...  ...  ...  ...  ...  \n",
       " 193  0.0  0.0  0.0  0.0  0.0  0.0  0.0  \n",
       " 194  1.0  1.0  1.0  1.0  1.0  1.0  1.0  \n",
       " 195  1.0  1.0  1.0  1.0  1.0  1.0  1.0  \n",
       " 196  0.0  0.0  0.0  0.0  0.0  0.0  0.0  \n",
       " 197  1.0  1.0  0.0  1.0  1.0  1.0  1.0  \n",
       " 198  1.0  1.0  0.0  1.0  1.0  1.0  1.0  \n",
       " 199  0.0  0.0  1.0  1.0  1.0  0.0  0.0  \n",
       " 200  1.0  1.0  1.0  1.0  1.0  1.0  1.0  \n",
       " 201  1.0  1.0  1.0  1.0  1.0  1.0  1.0  \n",
       " 202  1.0  1.0  1.0  1.0  1.0  1.0  1.0  \n",
       " 203  1.0  1.0  1.0  1.0  0.0  1.0  0.0  \n",
       " 204  0.0  0.0  0.0  0.0  0.0  0.0  0.0  \n",
       " 205  1.0  1.0  1.0  1.0  1.0  1.0  0.0  \n",
       " 206  1.0  1.0  1.0  1.0  1.0  1.0  1.0  \n",
       " 207  0.0  1.0  0.0  1.0  0.0  0.0  1.0  \n",
       " 208  0.0  0.0  0.0  0.0  0.0  0.0  0.0  \n",
       " 209  1.0  1.0  0.0  1.0  0.0  1.0  0.0  \n",
       " 210  1.0  1.0  1.0  1.0  1.0  1.0  1.0  \n",
       " 211  1.0  1.0  1.0  1.0  1.0  1.0  1.0  \n",
       " 212  0.0  0.0  0.0  0.0  1.0  0.0  1.0  \n",
       " 213  0.0  0.0  0.0  0.0  0.0  0.0  0.0  \n",
       " 214  1.0  1.0  1.0  1.0  1.0  1.0  1.0  \n",
       " 215  0.0  1.0  1.0  1.0  1.0  0.0  0.0  \n",
       " 216  1.0  1.0  1.0  1.0  1.0  1.0  1.0  \n",
       " 217  1.0  1.0  1.0  1.0  1.0  1.0  1.0  \n",
       " 218  1.0  1.0  1.0  1.0  1.0  1.0  1.0  \n",
       " 219  1.0  0.0  0.0  0.0  1.0  0.0  0.0  \n",
       " 220  0.0  0.0  0.0  0.0  1.0  0.0  0.0  \n",
       " 221  0.0  1.0  1.0  0.0  1.0  1.0  0.0  \n",
       " 222  1.0  1.0  1.0  1.0  1.0  1.0  1.0  \n",
       " \n",
       " [223 rows x 120 columns]}"
      ]
     },
     "execution_count": 25,
     "metadata": {},
     "output_type": "execute_result"
    }
   ],
   "source": [
    "prediction_dict"
   ]
  },
  {
   "cell_type": "code",
   "execution_count": 27,
   "metadata": {},
   "outputs": [
    {
     "data": {
      "text/plain": [
       "{1623: 503     1.0\n",
       " 1240    0.0\n",
       " 802     1.0\n",
       " 395     1.0\n",
       " 27      1.0\n",
       " 21      1.0\n",
       " 500     1.0\n",
       " 1592    0.0\n",
       " 162     1.0\n",
       " 821     1.0\n",
       " 1506    0.0\n",
       " 109     1.0\n",
       " 631     1.0\n",
       " 378     1.0\n",
       " 1365    0.0\n",
       " 279     1.0\n",
       " 24      1.0\n",
       " 656     1.0\n",
       " 1294    0.0\n",
       " 319     1.0\n",
       " 236     1.0\n",
       " 712     1.0\n",
       " 824     0.0\n",
       " 516     1.0\n",
       " 633     1.0\n",
       " 193     1.0\n",
       " 845     0.0\n",
       " 442     1.0\n",
       " 546     1.0\n",
       " 1408    0.0\n",
       "        ... \n",
       " 1166    0.0\n",
       " 1095    0.0\n",
       " 1445    0.0\n",
       " 184     1.0\n",
       " 1333    0.0\n",
       " 614     1.0\n",
       " 1428    0.0\n",
       " 1534    0.0\n",
       " 1354    0.0\n",
       " 629     1.0\n",
       " 1024    0.0\n",
       " 1617    0.0\n",
       " 733     1.0\n",
       " 755     1.0\n",
       " 1279    0.0\n",
       " 277     1.0\n",
       " 271     1.0\n",
       " 1346    0.0\n",
       " 1144    0.0\n",
       " 1215    0.0\n",
       " 1209    0.0\n",
       " 286     1.0\n",
       " 123     1.0\n",
       " 810     1.0\n",
       " 1034    0.0\n",
       " 829     0.0\n",
       " 941     0.0\n",
       " 417     1.0\n",
       " 1058    0.0\n",
       " 1571    0.0\n",
       " Name: Label, dtype: float64, 162103: 247    1.0\n",
       " 458    0.0\n",
       " 79     1.0\n",
       " 640    0.0\n",
       " 231    1.0\n",
       " 627    0.0\n",
       " 506    0.0\n",
       " 377    0.0\n",
       " 37     1.0\n",
       " 609    0.0\n",
       " 251    1.0\n",
       " 267    1.0\n",
       " 148    1.0\n",
       " 447    0.0\n",
       " 152    1.0\n",
       " 635    0.0\n",
       " 657    0.0\n",
       " 319    1.0\n",
       " 156    1.0\n",
       " 108    1.0\n",
       " 718    0.0\n",
       " 725    0.0\n",
       " 339    1.0\n",
       " 662    0.0\n",
       " 272    1.0\n",
       " 639    0.0\n",
       " 142    1.0\n",
       " 102    1.0\n",
       " 180    1.0\n",
       " 301    1.0\n",
       "       ... \n",
       " 24     1.0\n",
       " 216    1.0\n",
       " 617    0.0\n",
       " 379    0.0\n",
       " 194    1.0\n",
       " 495    0.0\n",
       " 664    0.0\n",
       " 666    0.0\n",
       " 41     1.0\n",
       " 266    1.0\n",
       " 391    0.0\n",
       " 195    1.0\n",
       " 375    0.0\n",
       " 715    0.0\n",
       " 641    0.0\n",
       " 531    0.0\n",
       " 529    0.0\n",
       " 465    0.0\n",
       " 300    1.0\n",
       " 170    1.0\n",
       " 488    0.0\n",
       " 492    0.0\n",
       " 78     1.0\n",
       " 150    1.0\n",
       " 651    0.0\n",
       " 203    1.0\n",
       " 679    0.0\n",
       " 670    0.0\n",
       " 16     1.0\n",
       " 502    0.0\n",
       " Name: Label, dtype: float64, 162104: 664    0.0\n",
       " 325    1.0\n",
       " 447    1.0\n",
       " 129    1.0\n",
       " 752    0.0\n",
       " 489    0.0\n",
       " 34     1.0\n",
       " 899    0.0\n",
       " 318    1.0\n",
       " 479    0.0\n",
       " 462    0.0\n",
       " 637    0.0\n",
       " 203    1.0\n",
       " 385    1.0\n",
       " 706    0.0\n",
       " 774    0.0\n",
       " 791    0.0\n",
       " 228    1.0\n",
       " 123    1.0\n",
       " 427    1.0\n",
       " 868    0.0\n",
       " 656    0.0\n",
       " 499    0.0\n",
       " 776    0.0\n",
       " 857    0.0\n",
       " 893    0.0\n",
       " 180    1.0\n",
       " 528    0.0\n",
       " 593    0.0\n",
       " 599    0.0\n",
       "       ... \n",
       " 729    0.0\n",
       " 502    0.0\n",
       " 142    1.0\n",
       " 195    1.0\n",
       " 368    1.0\n",
       " 800    0.0\n",
       " 747    0.0\n",
       " 121    1.0\n",
       " 319    1.0\n",
       " 3      1.0\n",
       " 449    1.0\n",
       " 685    0.0\n",
       " 69     1.0\n",
       " 457    0.0\n",
       " 597    0.0\n",
       " 710    0.0\n",
       " 36     1.0\n",
       " 41     1.0\n",
       " 432    1.0\n",
       " 119    1.0\n",
       " 24     1.0\n",
       " 95     1.0\n",
       " 891    0.0\n",
       " 68     1.0\n",
       " 585    0.0\n",
       " 648    0.0\n",
       " 782    0.0\n",
       " 312    1.0\n",
       " 874    0.0\n",
       " 184    1.0\n",
       " Name: Label, dtype: float64, 162116: 291    0.0\n",
       " 32     1.0\n",
       " 300    0.0\n",
       " 136    1.0\n",
       " 2      1.0\n",
       " 105    1.0\n",
       " 323    0.0\n",
       " 1      0.0\n",
       " 199    0.0\n",
       " 54     1.0\n",
       " 125    1.0\n",
       " 262    0.0\n",
       " 345    0.0\n",
       " 178    1.0\n",
       " 296    0.0\n",
       " 232    0.0\n",
       " 327    0.0\n",
       " 211    0.0\n",
       " 68     1.0\n",
       " 96     1.0\n",
       " 82     1.0\n",
       " 247    0.0\n",
       " 197    0.0\n",
       " 71     1.0\n",
       " 27     1.0\n",
       " 246    0.0\n",
       " 287    0.0\n",
       " 129    1.0\n",
       " 142    1.0\n",
       " 231    0.0\n",
       "       ... \n",
       " 213    0.0\n",
       " 319    0.0\n",
       " 272    0.0\n",
       " 190    0.0\n",
       " 288    0.0\n",
       " 59     1.0\n",
       " 263    0.0\n",
       " 166    1.0\n",
       " 334    0.0\n",
       " 119    1.0\n",
       " 100    1.0\n",
       " 28     1.0\n",
       " 210    0.0\n",
       " 237    0.0\n",
       " 65     1.0\n",
       " 228    0.0\n",
       " 240    0.0\n",
       " 157    1.0\n",
       " 149    1.0\n",
       " 341    0.0\n",
       " 248    0.0\n",
       " 64     1.0\n",
       " 264    0.0\n",
       " 117    1.0\n",
       " 352    0.0\n",
       " 169    1.0\n",
       " 69     1.0\n",
       " 266    0.0\n",
       " 363    0.0\n",
       " 19     1.0\n",
       " Name: Label, dtype: float64, 50000671: 162     1.0\n",
       " 896     1.0\n",
       " 657     1.0\n",
       " 211     1.0\n",
       " 1144    0.0\n",
       " 667     1.0\n",
       " 1814    0.0\n",
       " 1120    0.0\n",
       " 438     1.0\n",
       " 1488    0.0\n",
       " 1327    0.0\n",
       " 816     1.0\n",
       " 413     1.0\n",
       " 793     1.0\n",
       " 105     1.0\n",
       " 96      1.0\n",
       " 391     1.0\n",
       " 884     1.0\n",
       " 2002    0.0\n",
       " 1444    0.0\n",
       " 966     1.0\n",
       " 1230    0.0\n",
       " 374     1.0\n",
       " 476     1.0\n",
       " 614     1.0\n",
       " 279     1.0\n",
       " 961     1.0\n",
       " 1601    0.0\n",
       " 1645    0.0\n",
       " 24      1.0\n",
       "        ... \n",
       " 1855    0.0\n",
       " 1441    0.0\n",
       " 1912    0.0\n",
       " 1271    0.0\n",
       " 181     1.0\n",
       " 477     1.0\n",
       " 1064    0.0\n",
       " 577     1.0\n",
       " 264     1.0\n",
       " 1119    0.0\n",
       " 707     1.0\n",
       " 226     1.0\n",
       " 1895    0.0\n",
       " 1225    0.0\n",
       " 1195    0.0\n",
       " 145     1.0\n",
       " 1615    0.0\n",
       " 1431    0.0\n",
       " 489     1.0\n",
       " 1641    0.0\n",
       " 1700    0.0\n",
       " 1383    0.0\n",
       " 1162    0.0\n",
       " 312     1.0\n",
       " 1496    0.0\n",
       " 79      1.0\n",
       " 449     1.0\n",
       " 153     1.0\n",
       " 1041    0.0\n",
       " 514     1.0\n",
       " Name: Label, dtype: float64, 50008901: 1041    0.0\n",
       " 1047    0.0\n",
       " 223     1.0\n",
       " 381     1.0\n",
       " 271     1.0\n",
       " 1160    0.0\n",
       " 1054    0.0\n",
       " 241     1.0\n",
       " 422     1.0\n",
       " 672     0.0\n",
       " 1154    0.0\n",
       " 372     1.0\n",
       " 128     1.0\n",
       " 677     0.0\n",
       " 1088    0.0\n",
       " 851     0.0\n",
       " 544     1.0\n",
       " 1161    0.0\n",
       " 694     0.0\n",
       " 960     0.0\n",
       " 331     1.0\n",
       " 395     1.0\n",
       " 196     1.0\n",
       " 1035    0.0\n",
       " 1116    0.0\n",
       " 602     0.0\n",
       " 815     0.0\n",
       " 383     1.0\n",
       " 167     1.0\n",
       " 343     1.0\n",
       "        ... \n",
       " 301     1.0\n",
       " 194     1.0\n",
       " 449     1.0\n",
       " 819     0.0\n",
       " 13      1.0\n",
       " 1104    0.0\n",
       " 1089    0.0\n",
       " 335     1.0\n",
       " 289     1.0\n",
       " 865     0.0\n",
       " 857     0.0\n",
       " 458     1.0\n",
       " 347     1.0\n",
       " 1142    0.0\n",
       " 795     0.0\n",
       " 1027    0.0\n",
       " 616     0.0\n",
       " 764     0.0\n",
       " 863     0.0\n",
       " 105     1.0\n",
       " 330     1.0\n",
       " 80      1.0\n",
       " 594     0.0\n",
       " 1147    0.0\n",
       " 340     1.0\n",
       " 820     0.0\n",
       " 1009    0.0\n",
       " 44      1.0\n",
       " 1139    0.0\n",
       " 1153    0.0\n",
       " Name: Label, dtype: float64, 50011277: 503    0.0\n",
       " 37     1.0\n",
       " 170    1.0\n",
       " 517    0.0\n",
       " 654    0.0\n",
       " 465    0.0\n",
       " 54     1.0\n",
       " 129    1.0\n",
       " 316    1.0\n",
       " 447    0.0\n",
       " 649    0.0\n",
       " 150    1.0\n",
       " 688    0.0\n",
       " 203    1.0\n",
       " 161    1.0\n",
       " 403    0.0\n",
       " 581    0.0\n",
       " 560    0.0\n",
       " 180    1.0\n",
       " 619    0.0\n",
       " 93     1.0\n",
       " 632    0.0\n",
       " 207    1.0\n",
       " 309    1.0\n",
       " 673    0.0\n",
       " 307    1.0\n",
       " 149    1.0\n",
       " 497    0.0\n",
       " 121    1.0\n",
       " 648    0.0\n",
       "       ... \n",
       " 251    1.0\n",
       " 534    0.0\n",
       " 385    0.0\n",
       " 711    0.0\n",
       " 539    0.0\n",
       " 312    1.0\n",
       " 239    1.0\n",
       " 242    1.0\n",
       " 257    1.0\n",
       " 55     1.0\n",
       " 405    0.0\n",
       " 17     1.0\n",
       " 445    0.0\n",
       " 491    0.0\n",
       " 680    0.0\n",
       " 509    0.0\n",
       " 355    1.0\n",
       " 378    0.0\n",
       " 496    0.0\n",
       " 540    0.0\n",
       " 638    0.0\n",
       " 495    0.0\n",
       " 308    1.0\n",
       " 166    1.0\n",
       " 181    1.0\n",
       " 488    0.0\n",
       " 700    0.0\n",
       " 464    0.0\n",
       " 415    0.0\n",
       " 78     1.0\n",
       " Name: Label, dtype: float64, 121412004: 650     0.0\n",
       " 1087    0.0\n",
       " 256     1.0\n",
       " 1093    0.0\n",
       " 32      1.0\n",
       " 552     1.0\n",
       " 108     1.0\n",
       " 690     0.0\n",
       " 148     1.0\n",
       " 1044    0.0\n",
       " 383     1.0\n",
       " 479     1.0\n",
       " 24      1.0\n",
       " 490     1.0\n",
       " 614     0.0\n",
       " 57      1.0\n",
       " 37      1.0\n",
       " 836     0.0\n",
       " 300     1.0\n",
       " 64      1.0\n",
       " 907     0.0\n",
       " 119     1.0\n",
       " 413     1.0\n",
       " 128     1.0\n",
       " 628     0.0\n",
       " 668     0.0\n",
       " 663     0.0\n",
       " 952     0.0\n",
       " 340     1.0\n",
       " 594     0.0\n",
       "        ... \n",
       " 577     0.0\n",
       " 531     1.0\n",
       " 403     1.0\n",
       " 478     1.0\n",
       " 296     1.0\n",
       " 1055    0.0\n",
       " 1104    0.0\n",
       " 198     1.0\n",
       " 289     1.0\n",
       " 319     1.0\n",
       " 812     0.0\n",
       " 990     0.0\n",
       " 266     1.0\n",
       " 79      1.0\n",
       " 28      1.0\n",
       " 620     0.0\n",
       " 329     1.0\n",
       " 457     1.0\n",
       " 446     1.0\n",
       " 603     0.0\n",
       " 777     0.0\n",
       " 261     1.0\n",
       " 194     1.0\n",
       " 860     0.0\n",
       " 758     0.0\n",
       " 1006    0.0\n",
       " 1064    0.0\n",
       " 783     0.0\n",
       " 477     1.0\n",
       " 212     1.0\n",
       " Name: Label, dtype: float64}"
      ]
     },
     "execution_count": 27,
     "metadata": {},
     "output_type": "execute_result"
    }
   ],
   "source": [
    "y_test_dict"
   ]
  },
  {
   "cell_type": "code",
   "execution_count": 66,
   "metadata": {
    "scrolled": false
   },
   "outputs": [
    {
     "name": "stdout",
     "output_type": "stream",
     "text": [
      "T恤 50000671\n",
      "              worst      best  improved\n",
      "iteration  0.000000  6.000000       NaN\n",
      "f1         0.905000  0.959596  0.054596\n",
      "recall     0.878641  0.922330  0.043689\n",
      "precision  0.932990  1.000000  0.067010\n"
     ]
    },
    {
     "data": {
      "image/png": "[encoded data removed]",
      "text/plain": [
       "<matplotlib.figure.Figure at 0xdfc9358>"
      ]
     },
     "metadata": {},
     "output_type": "display_data"
    },
    {
     "name": "stdout",
     "output_type": "stream",
     "text": [
      "________________________________________________________________________________________________________________\n",
      "蕾絲 162116\n",
      "              worst      best  improved\n",
      "iteration  0.000000  1.000000       NaN\n",
      "f1         0.956522  0.985507  0.028986\n",
      "recall     0.970588  1.000000  0.029412\n",
      "precision  0.942857  0.971429  0.028571\n"
     ]
    },
    {
     "data": {
      "image/png": "[encoded data removed]",
      "text/plain": [
       "<matplotlib.figure.Figure at 0xdd46400>"
      ]
     },
     "metadata": {},
     "output_type": "display_data"
    },
    {
     "name": "stdout",
     "output_type": "stream",
     "text": [
      "________________________________________________________________________________________________________________\n",
      "半身裙 1623\n",
      "              worst       best  improved\n",
      "iteration  0.000000  13.000000       NaN\n",
      "f1         0.917160   0.984802  0.067643\n",
      "recall     0.928144   0.970060  0.041916\n",
      "precision  0.906433   1.000000  0.093567\n"
     ]
    },
    {
     "data": {
      "image/png": "[encoded data removed]",
      "text/plain": [
       "<matplotlib.figure.Figure at 0xf4636d8>"
      ]
     },
     "metadata": {},
     "output_type": "display_data"
    },
    {
     "name": "stdout",
     "output_type": "stream",
     "text": [
      "________________________________________________________________________________________________________________\n",
      "背心吊帶 121412004\n",
      "              worst      best  improved\n",
      "iteration  0.000000  9.000000       NaN\n",
      "f1         0.833333  0.911628  0.078295\n",
      "recall     0.811966  0.837607  0.025641\n",
      "precision  0.855856  1.000000  0.144144\n"
     ]
    },
    {
     "data": {
      "image/png": "[encoded data removed]",
      "text/plain": [
       "<matplotlib.figure.Figure at 0xf28eef0>"
      ]
     },
     "metadata": {},
     "output_type": "display_data"
    },
    {
     "name": "stdout",
     "output_type": "stream",
     "text": [
      "________________________________________________________________________________________________________________\n",
      "村杉 162104\n",
      "              worst       best  improved\n",
      "iteration  0.000000  11.000000       NaN\n",
      "f1         0.738255   0.853333  0.115078\n",
      "recall     0.639535   0.744186  0.104651\n",
      "precision  0.873016   1.000000  0.126984\n"
     ]
    },
    {
     "data": {
      "image/png": "[encoded data removed]",
      "text/plain": [
       "<matplotlib.figure.Figure at 0xdfe4ef0>"
      ]
     },
     "metadata": {},
     "output_type": "display_data"
    },
    {
     "name": "stdout",
     "output_type": "stream",
     "text": [
      "________________________________________________________________________________________________________________\n",
      "毛衣 162103\n",
      "              worst      best  improved\n",
      "iteration  0.000000  2.000000       NaN\n",
      "f1         0.952381  0.979592  0.027211\n",
      "recall     0.933333  0.960000  0.026667\n",
      "precision  0.972222  1.000000  0.027778\n"
     ]
    },
    {
     "data": {
      "image/png": "[encoded data removed]",
      "text/plain": [
       "<matplotlib.figure.Figure at 0xf52efd0>"
      ]
     },
     "metadata": {},
     "output_type": "display_data"
    },
    {
     "name": "stdout",
     "output_type": "stream",
     "text": [
      "________________________________________________________________________________________________________________\n",
      "風衣 50008901\n",
      "              worst      best  improved\n",
      "iteration  0.000000  7.000000       NaN\n",
      "f1         0.838174  0.932127  0.093952\n",
      "recall     0.855932  0.872881  0.016949\n",
      "precision  0.821138  1.000000  0.178862\n"
     ]
    },
    {
     "data": {
      "image/png": "[encoded data removed]",
      "text/plain": [
       "<matplotlib.figure.Figure at 0xc6b9668>"
      ]
     },
     "metadata": {},
     "output_type": "display_data"
    },
    {
     "name": "stdout",
     "output_type": "stream",
     "text": [
      "________________________________________________________________________________________________________________\n",
      "短外套 50011277\n",
      "              worst       best  improved\n",
      "iteration  0.000000  10.000000       NaN\n",
      "f1         0.822695   0.955882  0.133187\n",
      "recall     0.816901   0.915493  0.098592\n",
      "precision  0.828571   1.000000  0.171429\n"
     ]
    },
    {
     "data": {
      "image/png": "[encoded data removed]",
      "text/plain": [
       "<matplotlib.figure.Figure at 0xf1c6320>"
      ]
     },
     "metadata": {},
     "output_type": "display_data"
    },
    {
     "name": "stdout",
     "output_type": "stream",
     "text": [
      "________________________________________________________________________________________________________________\n",
      "DONE\n"
     ]
    }
   ],
   "source": [
    "for category in categoryID_list[:]:\n",
    "    \n",
    "    print category_dict[category], category\n",
    "    \n",
    "    p = prediction_dict[category]\n",
    "    y = y_test_dict[category]\n",
    "\n",
    "    preci_list, recall_list, f1_list = [], [], []\n",
    "    \n",
    "    for number_of_models in range(8, len(p.columns), 8):\n",
    "        temp_pred = p.iloc[:, :number_of_models].median(axis=1)\n",
    "        temp_pred = [1 if x > 0.5 else 0 for x in temp_pred]\n",
    "        preci_list.append(precision_score(y, temp_pred))\n",
    "        recall_list.append(recall_score(y, temp_pred))\n",
    "        f1_list.append(f1_score(y, temp_pred))\n",
    "    \n",
    "    worst_i = f1_list.index(min(f1_list))\n",
    "    best_i = f1_list.index(max(f1_list))\n",
    "    \n",
    "    comparison = pd.DataFrame()\n",
    "    comparison = pd.concat([comparison, pd.Series([worst_i, f1_list[worst_i], recall_list[worst_i], preci_list[worst_i]])], axis=1)\n",
    "    comparison = pd.concat([comparison, pd.Series([best_i, f1_list[best_i], recall_list[best_i], preci_list[best_i]])], axis=1)\n",
    "    comparison = pd.concat([comparison, \n",
    "                            pd.Series([np.nan, f1_list[best_i] - f1_list[worst_i] ,\n",
    "                                       recall_list[best_i] - recall_list[worst_i],\n",
    "                                       preci_list[best_i] - preci_list[worst_i]])], axis=1)\n",
    "    comparison.index = ['iteration', 'f1', 'recall', 'precision']\n",
    "    comparison.columns = ['worst', 'best', 'improved']\n",
    "    print comparison\n",
    "    \n",
    "    \n",
    "    fig = plt.figure(figsize=(30, 8))\n",
    "    for i, score in zip(range(1, 4), [preci_list, recall_list, f1_list]):\n",
    "        ax = fig.add_subplot(1, 3, i)\n",
    "        ax.set_ylim([0.7, 1.0])\n",
    "#         ax.set_xlim([0, 88])\n",
    "        pred_df = pd.DataFrame(score)\n",
    "\n",
    "        plt.plot(pred_df)\n",
    "    plt.show()\n",
    "    \n",
    "    print '________________________________________________________________________________________________________________'\n",
    "print 'DONE'"
   ]
  },
  {
   "cell_type": "code",
   "execution_count": null,
   "metadata": {
    "collapsed": true
   },
   "outputs": [],
   "source": []
  }
 ],
 "metadata": {
  "kernelspec": {
   "display_name": "Python 2",
   "language": "python",
   "name": "python2"
  },
  "language_info": {
   "codemirror_mode": {
    "name": "ipython",
    "version": 2
   },
   "file_extension": ".py",
   "mimetype": "text/x-python",
   "name": "python",
   "nbconvert_exporter": "python",
   "pygments_lexer": "ipython2",
   "version": "2.7.13"
  }
 },
 "nbformat": 4,
 "nbformat_minor": 1
}
